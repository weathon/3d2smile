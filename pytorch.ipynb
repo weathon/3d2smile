{
  "nbformat": 4,
  "nbformat_minor": 0,
  "metadata": {
    "colab": {
      "provenance": [],
      "gpuType": "T4",
      "authorship_tag": "ABX9TyMabzuecrq4Y7pmzD2sqznx",
      "include_colab_link": true
    },
    "kernelspec": {
      "name": "python3",
      "display_name": "Python 3"
    },
    "language_info": {
      "name": "python"
    },
    "accelerator": "GPU"
  },
  "cells": [
    {
      "cell_type": "markdown",
      "metadata": {
        "id": "view-in-github",
        "colab_type": "text"
      },
      "source": [
        "<a href=\"https://colab.research.google.com/github/weathon/3d2smile/blob/main/pytorch.ipynb\" target=\"_parent\"><img src=\"https://colab.research.google.com/assets/colab-badge.svg\" alt=\"Open In Colab\"/></a>"
      ]
    },
    {
      "cell_type": "code",
      "execution_count": 1,
      "metadata": {
        "id": "jkPIR_JShzaq",
        "colab": {
          "base_uri": "https://localhost:8080/"
        },
        "outputId": "66f8e6c0-f1ca-4cc0-816e-3982b8621c55"
      },
      "outputs": [
        {
          "output_type": "stream",
          "name": "stdout",
          "text": [
            "fatal: destination path 'IUPAC2Struct' already exists and is not an empty directory.\n"
          ]
        }
      ],
      "source": [
        "!git clone https://github.com/sergsb/IUPAC2Struct.git"
      ]
    },
    {
      "cell_type": "code",
      "source": [
        "import sys\n",
        "import torch\n",
        "sys.path.append(\"/content/IUPAC2Struct\")\n",
        "M = torch.load(\"/content/IUPAC2Struct/models/iupac2smiles_model.pt\")"
      ],
      "metadata": {
        "id": "Er-Gkw06h9C3"
      },
      "execution_count": null,
      "outputs": []
    },
    {
      "cell_type": "code",
      "source": [
        "M.predict_single"
      ],
      "metadata": {
        "id": "umueOnYyiQDN",
        "colab": {
          "base_uri": "https://localhost:8080/"
        },
        "outputId": "a832860a-8346-4cb7-bf96-73865f4a3382"
      },
      "execution_count": 3,
      "outputs": [
        {
          "output_type": "execute_result",
          "data": {
            "text/plain": [
              "<bound method Model.predict_single of <model.Model object at 0x7a1825833550>>"
            ]
          },
          "metadata": {},
          "execution_count": 3
        }
      ]
    },
    {
      "cell_type": "code",
      "source": [
        "M.T.encoder"
      ],
      "metadata": {
        "colab": {
          "base_uri": "https://localhost:8080/"
        },
        "id": "X5royZX6KvqY",
        "outputId": "3ee36ce9-4291-4f56-a055-bc3b04c5c00d"
      },
      "execution_count": 4,
      "outputs": [
        {
          "output_type": "execute_result",
          "data": {
            "text/plain": [
              "Encoder(\n",
              "  (layers): ModuleList(\n",
              "    (0-5): 6 x EncoderLayer(\n",
              "      (self_attn): MultiHeadAttention(\n",
              "        (WQ): Linear(in_features=512, out_features=512, bias=True)\n",
              "        (WK): Linear(in_features=512, out_features=512, bias=True)\n",
              "        (WV): Linear(in_features=512, out_features=512, bias=True)\n",
              "        (WO): Linear(in_features=512, out_features=512, bias=True)\n",
              "      )\n",
              "      (resnorm1): ResidualNorm(\n",
              "        (norm): LayerNorm()\n",
              "        (dropout): Dropout(p=0.2, inplace=False)\n",
              "      )\n",
              "      (ff): MLP(\n",
              "        (w1): Linear(in_features=512, out_features=2048, bias=True)\n",
              "        (w2): Linear(in_features=2048, out_features=512, bias=True)\n",
              "        (dropout): Dropout(p=0.2, inplace=False)\n",
              "      )\n",
              "      (resnorm2): ResidualNorm(\n",
              "        (norm): LayerNorm()\n",
              "        (dropout): Dropout(p=0.2, inplace=False)\n",
              "      )\n",
              "    )\n",
              "  )\n",
              "  (lnorm): LayerNorm()\n",
              ")"
            ]
          },
          "metadata": {},
          "execution_count": 4
        }
      ]
    },
    {
      "cell_type": "code",
      "source": [
        "M.device = torch.device('cuda:0')"
      ],
      "metadata": {
        "id": "9bfZksz5QNFN"
      },
      "execution_count": 6,
      "outputs": []
    },
    {
      "cell_type": "code",
      "source": [
        "import numpy as np\n",
        "import pylab\n",
        "\n",
        "src = torch.tensor(np.random.randint(0,15, size=(512)), device=(M.device))\n",
        "M.T.src_embedder(src).shape"
      ],
      "metadata": {
        "colab": {
          "base_uri": "https://localhost:8080/"
        },
        "id": "L62uxzw6QCbn",
        "outputId": "6535f613-3595-4b0a-f71f-12beaf8dd143"
      },
      "execution_count": 7,
      "outputs": [
        {
          "output_type": "execute_result",
          "data": {
            "text/plain": [
              "torch.Size([1, 512, 512])"
            ]
          },
          "metadata": {},
          "execution_count": 7
        }
      ]
    },
    {
      "cell_type": "code",
      "source": [
        "def pad_pack(sequences):\n",
        "    maxlen = max(map(len, sequences))\n",
        "    batch = torch.LongTensor(len(sequences),maxlen).fill_(0)\n",
        "    for i,x in enumerate(sequences):\n",
        "        batch[i,:len(x)] = torch.LongTensor(x)\n",
        "    return batch\n",
        "\n",
        "pad_pack([\n",
        "    [1,2,3],\n",
        "    [1,2,3,4,5,6]\n",
        "])"
      ],
      "metadata": {
        "colab": {
          "base_uri": "https://localhost:8080/"
        },
        "id": "qkkSakYbCXhZ",
        "outputId": "34aeba99-6339-4ede-b0a7-9c7281408a55"
      },
      "execution_count": 89,
      "outputs": [
        {
          "output_type": "execute_result",
          "data": {
            "text/plain": [
              "tensor([[1, 2, 3, 0, 0, 0],\n",
              "        [1, 2, 3, 4, 5, 6]])"
            ]
          },
          "metadata": {},
          "execution_count": 89
        }
      ]
    },
    {
      "cell_type": "code",
      "source": [
        "#what? I can run the next block now and just now it says size error?"
      ],
      "metadata": {
        "id": "buTDakB3TNs9"
      },
      "execution_count": 7,
      "outputs": []
    },
    {
      "cell_type": "code",
      "source": [
        "inp = M.src_model.encode(\"N-(4-hydroxyphenyl)acetamide\")\n",
        "src = torch.tensor(pad_pack([inp]), device=(M.device))\n",
        "src_mask = (src != 0).unsqueeze(-2).to(M.device)#.shape\n",
        "latent = M.T.encoder(M.T.src_embedder(src), (src != 0).unsqueeze(-2).to(M.device))\n",
        "l = latent.to(torch.device(\"cpu\"))\n",
        "pylab.imshow(l.detach().numpy()[0])"
      ],
      "metadata": {
        "colab": {
          "base_uri": "https://localhost:8080/",
          "height": 147
        },
        "id": "tc9tV5KuTYMF",
        "outputId": "c5a0cc28-7238-4172-c547-aed3a9f06bfa"
      },
      "execution_count": 93,
      "outputs": [
        {
          "output_type": "stream",
          "name": "stderr",
          "text": [
            "<ipython-input-93-1cba059c6ccd>:2: UserWarning: To copy construct from a tensor, it is recommended to use sourceTensor.clone().detach() or sourceTensor.clone().detach().requires_grad_(True), rather than torch.tensor(sourceTensor).\n",
            "  src = torch.tensor(pad_pack([inp]), device=(M.device))\n"
          ]
        },
        {
          "output_type": "execute_result",
          "data": {
            "text/plain": [
              "<matplotlib.image.AxesImage at 0x7a16841742b0>"
            ]
          },
          "metadata": {},
          "execution_count": 93
        },
        {
          "output_type": "display_data",
          "data": {
            "text/plain": [
              "<Figure size 640x480 with 1 Axes>"
            ],
            "image/png": "[encoded data removed]"
          },
          "metadata": {}
        }
      ]
    },
    {
      "cell_type": "code",
      "source": [
        "def subsequent_mask(tgt_mask):\n",
        "    size = tgt_mask.size(-1)\n",
        "    return tgt_mask.to(torch.uint8) & torch.tril(torch.ones(1,size,size, dtype=torch.uint8)).to(tgt_mask.device)\n",
        "\n",
        "tgt = torch.tensor(np.array([2]*512), device=M.device)\n",
        "out = M.T.decoder(M.T.tgt_embedder(tgt), latent, src_mask, subsequent_mask((tgt != 0).unsqueeze(-2)))\n",
        "out = out[:,-1].view(1, 1, out.shape[-1]).mean(dim=1)\n",
        "pylab.hist(torch.sort(out, dim=1, descending=True)[0].cpu().detach().numpy()[0])"
      ],
      "metadata": {
        "id": "EuYWmh0nKzro",
        "colab": {
          "base_uri": "https://localhost:8080/",
          "height": 517
        },
        "outputId": "ddf26309-ff95-4753-ce49-ba83480f3a19"
      },
      "execution_count": 94,
      "outputs": [
        {
          "output_type": "execute_result",
          "data": {
            "text/plain": [
              "(array([  1.,  16.,  36.,  58., 106.,  62., 114.,  58.,  41.,  20.]),\n",
              " array([-0.17491306, -0.14353961, -0.11216614, -0.08079269, -0.04941923,\n",
              "        -0.01804577,  0.01332769,  0.04470115,  0.07607461,  0.10744807,\n",
              "         0.13882153]),\n",
              " <BarContainer object of 10 artists>)"
            ]
          },
          "metadata": {},
          "execution_count": 94
        },
        {
          "output_type": "display_data",
          "data": {
            "text/plain": [
              "<Figure size 640x480 with 1 Axes>"
            ],
            "image/png": "[encoded data removed]"
          },
          "metadata": {}
        }
      ]
    },
    {
      "cell_type": "code",
      "source": [
        "tgt = [[2]]\n",
        "\n",
        "def find_first_working(x):\n",
        "  for i in x:\n",
        "    if i<=71:\n",
        "      return i\n",
        "\n",
        "for i in range(300):\n",
        "  padded_tgt = pad_pack(tgt).to(M.device)\n",
        "  out = M.T.decoder(M.T.tgt_embedder(padded_tgt), latent, src_mask, subsequent_mask((padded_tgt != 0).unsqueeze(-2)))\n",
        "  out = M.T.generator(out) # I was reading the code and found that I forgot this\n",
        "  out = out[:,-1].view(1, 1, out.shape[-1]).mean(dim=1)\n",
        "  tgt[0].append(find_first_working(torch.sort(out, dim=1, descending=True)[1].cpu().detach().numpy()[0]))\n",
        "print(M.tgt_model.decode(tgt[0])) #WHAT? Run again and worked? oh i ran that first!"
      ],
      "metadata": {
        "colab": {
          "base_uri": "https://localhost:8080/"
        },
        "id": "QSCw3voyyjkP",
        "outputId": "947c085b-9cea-4367-fd0d-a770af0ac360"
      },
      "execution_count": 109,
      "outputs": [
        {
          "output_type": "stream",
          "name": "stdout",
          "text": [
            "CC(=O)Nc1ccc(O)cc1Cccc1C(C(O)C(C(C)c1c(C(C)cccc1)C(C(O)C(C(C)=C(C(C)c1ccc1)C(C(C(C)=O)c1cccccc(O)cc(C(O)C(C(C)C(C(C)c1ccc(O)CC(=O)C(C(O)C(C(C(C)C(C(C)C(C(=O)C(CC(C)C(C(C(C)c1ccccc1)CC(CC(C(C)=Occccc1)cc(O)C(C(C)C)CC(O)C(C(C)cccC(O)C(C(=O)C(C(C)c1ccccccccccccccccC(CCCCCC(C)C(C(=OCCCC(C)C(C(C)c1cCC(\n"
          ]
        }
      ]
    },
    {
      "cell_type": "code",
      "source": [],
      "metadata": {
        "colab": {
          "base_uri": "https://localhost:8080/"
        },
        "id": "sGiumvX5Gnth",
        "outputId": "0bc85a97-585d-483b-8eef-7e7ca9f03efb"
      },
      "execution_count": 108,
      "outputs": [
        {
          "output_type": "stream",
          "name": "stdout",
          "text": [
            "CC(=O)Nc1ccc(O)cc1Cccc1C(C(O)C(C(C)c1c(C(C)cccc1)C(C(O)C(C(C)=C(C(C)c1ccc1)C(C(C(C)=O)c1cccccc(O)cc(C(O)C(C(C)C(C(C)c1ccc(O)CC(=O)C(C(O)C(C(C(C)C(C(C)C(C(=O)C(CC(C)C(C(C(C)c1ccccc1)CC(CC(C(C)=Occccc1)cc(O)C(C(C)C)CC(O)C(C(C)cccC(O)C(C(=O)C(C(C)c1ccccccccccccccccC(CCCCCC(C)C(C(=OCCCC(C)C(C(C)c1cCC(\n"
          ]
        }
      ]
    },
    {
      "cell_type": "code",
      "source": [
        "M.predict_single(\"N-(4-hydroxyphenyl)acetamide\")"
      ],
      "metadata": {
        "colab": {
          "base_uri": "https://localhost:8080/"
        },
        "id": "8zdSa_z-EHpH",
        "outputId": "d0bc755f-22a8-4dc5-d8b2-260943b83ca9"
      },
      "execution_count": 74,
      "outputs": [
        {
          "output_type": "execute_result",
          "data": {
            "text/plain": [
              "(['CC(=O)Nc1ccc(O)cc1'], [0.9955432111912935])"
            ]
          },
          "metadata": {},
          "execution_count": 74
        }
      ]
    }
  ]
}