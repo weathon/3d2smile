{
  "nbformat": 4,
  "nbformat_minor": 0,
  "metadata": {
    "colab": {
      "provenance": [],
      "mount_file_id": "1UCIRVi_vKSRZf69Xa6ZqjaUo-_ryLvQP",
      "authorship_tag": "ABX9TyN2QAyMYs8q37xcgdItRrRZ",
      "include_colab_link": true
    },
    "kernelspec": {
      "name": "python3",
      "display_name": "Python 3"
    },
    "language_info": {
      "name": "python"
    }
  },
  "cells": [
    {
      "cell_type": "markdown",
      "metadata": {
        "id": "view-in-github",
        "colab_type": "text"
      },
      "source": [
        "<a href=\"https://colab.research.google.com/github/weathon/3d2smile/blob/main/with_pretrained.ipynb\" target=\"_parent\"><img src=\"https://colab.research.google.com/assets/colab-badge.svg\" alt=\"Open In Colab\"/></a>"
      ]
    },
    {
      "cell_type": "markdown",
      "source": [
        "# Libs"
      ],
      "metadata": {
        "id": "z5ITeA6EKkAF"
      }
    },
    {
      "cell_type": "code",
      "execution_count": 48,
      "metadata": {
        "id": "3ApJFGgEHvGr"
      },
      "outputs": [],
      "source": [
        "import torch\n",
        "import os\n",
        "import numpy as np\n",
        "import pylab\n",
        "import pandas\n",
        "import sys\n",
        "from PIL import Image"
      ]
    },
    {
      "cell_type": "code",
      "source": [
        "!git clone https://github.com/sergsb/IUPAC2Struct.git"
      ],
      "metadata": {
        "id": "pe8TwTacKnWt"
      },
      "execution_count": null,
      "outputs": []
    },
    {
      "cell_type": "code",
      "source": [
        "try:\n",
        "  import google.colab\n",
        "  IN_COLAB = True\n",
        "except:\n",
        "  IN_COLAB = False\n",
        "\n",
        "if IN_COLAB:\n",
        "  if not \"80k\" in \"\".join(os.listdir(\"/content\")):\n",
        "    HOME_DIR = \"/content\"\n",
        "else:\n",
        "  if not \"80k\" in \"\".join(os.listdir(\"/arc/project/st-dushan20-1/rendered\")):\n",
        "    HOME_DIR = \"/arc/project/st-dushan20-1/rendered\""
      ],
      "metadata": {
        "id": "CPm75AN7KwuT"
      },
      "execution_count": 10,
      "outputs": []
    },
    {
      "cell_type": "code",
      "source": [
        "sys.path.append(f\"{HOME_DIR}/IUPAC2Struct\")"
      ],
      "metadata": {
        "id": "9AZq2vcKKp1T"
      },
      "execution_count": 15,
      "outputs": []
    },
    {
      "cell_type": "code",
      "source": [
        "if torch.cuda.is_available():\n",
        "    device = torch.device('cuda:0')\n",
        "else:\n",
        "    device = torch.device('cpu')\n",
        "M = torch.load(f\"{HOME_DIR}/IUPAC2Struct/models/iupac2smiles_model.pt\", map_location=device)"
      ],
      "metadata": {
        "id": "7zTUvAf2LIvE"
      },
      "execution_count": null,
      "outputs": []
    },
    {
      "cell_type": "code",
      "source": [
        "M.tgt_model.encode(\"CC(=O)Nc1ccc(O)cc1\")"
      ],
      "metadata": {
        "colab": {
          "base_uri": "https://localhost:8080/"
        },
        "id": "2YEUiZAALMjD",
        "outputId": "286baacc-4de1-4d44-e040-1ceb4ef4ceee"
      },
      "execution_count": 22,
      "outputs": [
        {
          "output_type": "execute_result",
          "data": {
            "text/plain": [
              "[27, 27, 8, 23, 38, 9, 37, 54, 14, 54, 54, 54, 8, 38, 9, 54, 54, 14]"
            ]
          },
          "metadata": {},
          "execution_count": 22
        }
      ]
    },
    {
      "cell_type": "code",
      "source": [
        "smiles_tokenlizer = M.tgt_model.encode"
      ],
      "metadata": {
        "id": "kGBgp-IELV8T"
      },
      "execution_count": 24,
      "outputs": []
    },
    {
      "cell_type": "markdown",
      "source": [
        "# Data Processing"
      ],
      "metadata": {
        "id": "M6E20RUMJLFP"
      }
    },
    {
      "cell_type": "code",
      "source": [
        "\n",
        "if IN_COLAB:\n",
        "  if not \"80k\" in \"\".join(os.listdir(\"/content\")):\n",
        "    os.system(\"cp drive/MyDrive/80k.zip .\")\n",
        "    os.system(\"cp drive/MyDrive/80k.csv .\")\n",
        "    os.system(\"unzip 80k.zip\")\n",
        "    HOME_DIR = \"/content\"\n",
        "else:\n",
        "  if not \"80k\" in \"\".join(os.listdir(\"/arc/project/st-dushan20-1/rendered\")):\n",
        "    os.system(\"wget file.weasoft.com/80k.zip\")\n",
        "    os.system(\"wget http://file.weasoft.com/80k.csv\")\n",
        "    os.system(\"unzip 80k.zip\")\n",
        "    HOME_DIR = \"/arc/project/st-dushan20-1/rendered\"\n"
      ],
      "metadata": {
        "id": "O1oqSyv1JSBX"
      },
      "execution_count": 6,
      "outputs": []
    },
    {
      "cell_type": "code",
      "source": [],
      "metadata": {
        "colab": {
          "base_uri": "https://localhost:8080/"
        },
        "id": "B8Xqf0zcMG8S",
        "outputId": "4d75218f-b774-4de2-84e9-6aa68a34f43b"
      },
      "execution_count": 34,
      "outputs": [
        {
          "output_type": "execute_result",
          "data": {
            "text/plain": [
              "Index(['cid', 'cmpdname', 'cmpdsynonym', 'mw', 'mf', 'polararea', 'complexity',\n",
              "       'xlogp', 'heavycnt', 'hbonddonor', 'hbondacc', 'rotbonds', 'inchi',\n",
              "       'isosmiles', 'canonicalsmiles', 'inchikey', 'iupacname', 'exactmass',\n",
              "       'monoisotopicmass', 'charge', 'covalentunitcnt', 'isotopeatomcnt',\n",
              "       'totalatomstereocnt', 'definedatomstereocnt', 'undefinedatomstereocnt',\n",
              "       'totalbondstereocnt', 'definedbondstereocnt', 'undefinedbondstereocnt',\n",
              "       'pclidcnt', 'gpidcnt', 'gpfamilycnt', 'neighbortype', 'meshheadings',\n",
              "       'annothits', 'annothitcnt', 'aids', 'cidcdate', 'sidsrcname', 'depcatg',\n",
              "       'annotation'],\n",
              "      dtype='object')"
            ]
          },
          "metadata": {},
          "execution_count": 34
        }
      ]
    },
    {
      "cell_type": "code",
      "source": [
        "import os\n",
        "ids = [i.split(\"_\")[0] for i in os.listdir(f\"{HOME_DIR}/rendered\")]\n",
        "\n",
        "with open(\"ids.txt\", \"w\") as f:\n",
        "    f.write(\"\\n\".join(list(set(ids))))\n",
        "\n",
        "import pandas as pd\n",
        "csv = pd.read_csv(\"80k.csv\")\n",
        "cids = csv[\"cid\"]\n",
        "csv.columns"
      ],
      "metadata": {
        "colab": {
          "base_uri": "https://localhost:8080/"
        },
        "id": "rcmQxVtjJwA1",
        "outputId": "0ed8fad1-675f-46bb-e36f-9115c9f1378f"
      },
      "execution_count": 35,
      "outputs": [
        {
          "output_type": "execute_result",
          "data": {
            "text/plain": [
              "Index(['cid', 'cmpdname', 'cmpdsynonym', 'mw', 'mf', 'polararea', 'complexity',\n",
              "       'xlogp', 'heavycnt', 'hbonddonor', 'hbondacc', 'rotbonds', 'inchi',\n",
              "       'isosmiles', 'canonicalsmiles', 'inchikey', 'iupacname', 'exactmass',\n",
              "       'monoisotopicmass', 'charge', 'covalentunitcnt', 'isotopeatomcnt',\n",
              "       'totalatomstereocnt', 'definedatomstereocnt', 'undefinedatomstereocnt',\n",
              "       'totalbondstereocnt', 'definedbondstereocnt', 'undefinedbondstereocnt',\n",
              "       'pclidcnt', 'gpidcnt', 'gpfamilycnt', 'neighbortype', 'meshheadings',\n",
              "       'annothits', 'annothitcnt', 'aids', 'cidcdate', 'sidsrcname', 'depcatg',\n",
              "       'annotation'],\n",
              "      dtype='object')"
            ]
          },
          "metadata": {},
          "execution_count": 35
        }
      ]
    },
    {
      "cell_type": "code",
      "source": [
        "Ys = {}\n",
        "invalid_cids = []\n",
        "for i in cids.values:\n",
        "  try:\n",
        "    tmp = smiles_tokenlizer(csv[csv[\"cid\"] == i][\"canonicalsmiles\"].values[0])\n",
        "    if not tmp == None:\n",
        "      Ys[i] = tmp\n",
        "    else:\n",
        "      smiles_tokenlizer.append(i)\n",
        "\n",
        "  except:\n",
        "    invalid_cids.append(i)"
      ],
      "metadata": {
        "id": "rcv_YUPfMJup"
      },
      "execution_count": 36,
      "outputs": []
    },
    {
      "cell_type": "code",
      "source": [
        "if len(invalid_cids) == 0:\n",
        "  print(\"OOHH\")"
      ],
      "metadata": {
        "colab": {
          "base_uri": "https://localhost:8080/"
        },
        "id": "EY0Vb-37LmUL",
        "outputId": "67fdc50d-bed1-4d9c-81bb-59e9d55579fb"
      },
      "execution_count": 37,
      "outputs": [
        {
          "output_type": "stream",
          "name": "stdout",
          "text": [
            "OOHH\n"
          ]
        }
      ]
    },
    {
      "cell_type": "code",
      "source": [
        "example_in = Image.open(f\"{HOME_DIR}/rendered/6912034_0.jpg\")\n",
        "example_out = csv[csv[\"cid\"]==6912034][\"canonicalsmiles\"].values[0]"
      ],
      "metadata": {
        "id": "18OLQ2quPx4i"
      },
      "execution_count": 55,
      "outputs": []
    },
    {
      "cell_type": "code",
      "source": [
        "example_out"
      ],
      "metadata": {
        "colab": {
          "base_uri": "https://localhost:8080/",
          "height": 35
        },
        "id": "rMaoGQcqQE4x",
        "outputId": "65a41171-09a2-4e8d-a360-8ac6ae184fb9"
      },
      "execution_count": 56,
      "outputs": [
        {
          "output_type": "execute_result",
          "data": {
            "text/plain": [
              "'CC(=O)C'"
            ],
            "application/vnd.google.colaboratory.intrinsic+json": {
              "type": "string"
            }
          },
          "metadata": {},
          "execution_count": 56
        }
      ]
    },
    {
      "cell_type": "code",
      "source": [
        "M.tgt_model.decode(Ys[6912034])"
      ],
      "metadata": {
        "colab": {
          "base_uri": "https://localhost:8080/",
          "height": 35
        },
        "id": "LZMYTdkHL1M7",
        "outputId": "5b3a0ccd-7bd1-4829-c505-f0fad1527470"
      },
      "execution_count": 38,
      "outputs": [
        {
          "output_type": "execute_result",
          "data": {
            "text/plain": [
              "'CC(=O)C'"
            ],
            "application/vnd.google.colaboratory.intrinsic+json": {
              "type": "string"
            }
          },
          "metadata": {},
          "execution_count": 38
        }
      ]
    },
    {
      "cell_type": "markdown",
      "source": [
        "# Model\n"
      ],
      "metadata": {
        "id": "3ropUGNpMaWQ"
      }
    },
    {
      "cell_type": "code",
      "source": [
        "class ResNetBlock(torch.nn.Module):\n",
        "  def __init__(self, in_channels, out_channels):\n",
        "    super().__init__()\n",
        "    self.Conv2D = torch.nn.Sequential(\n",
        "        torch.nn.Conv2d(in_channels, out_channels//2, (3,3), stride=2, padding=3),\n",
        "        torch.nn.BatchNorm2d(out_channels//2),\n",
        "        torch.nn.ReLU(),\n",
        "        torch.nn.Conv2d(out_channels//2, out_channels, (3,3)),\n",
        "        torch.nn.BatchNorm2d(out_channels)\n",
        "    )\n",
        "    self.project = torch.nn.Conv2d(in_channels, out_channels, (1,1))\n",
        "    self.pooling = torch.nn.AvgPool2d((2,2))\n",
        "    self.relu = torch.nn.ReLU()\n",
        "\n",
        "  def forward(self, images):\n",
        "    x = self.Conv2D(images)\n",
        "    images = self.pooling(self.project(images))\n",
        "    return self.relu(x+images)\n",
        "resblock = ResNetBlock(3,12)\n",
        ""
      ],
      "metadata": {
        "id": "BAjiWuU_MboG"
      },
      "execution_count": 141,
      "outputs": []
    },
    {
      "cell_type": "code",
      "source": [
        "inp = torch.permute(torch.tensor(np.expand_dims(example_in, 0).astype(\"float32\")), (0,3,1,2))\n",
        "oup = resblock(inp)[:,-3:,:,:]\n",
        "pylab.imshow(torch.permute(oup, (0,2,3,1)).detach().numpy()[0])"
      ],
      "metadata": {
        "colab": {
          "base_uri": "https://localhost:8080/",
          "height": 469
        },
        "id": "nho95KXxPvKb",
        "outputId": "3c6a3871-c70a-483f-c74b-905ac93fdc76"
      },
      "execution_count": 152,
      "outputs": [
        {
          "output_type": "stream",
          "name": "stderr",
          "text": [
            "WARNING:matplotlib.image:Clipping input data to the valid range for imshow with RGB data ([0..1] for floats or [0..255] for integers).\n"
          ]
        },
        {
          "output_type": "execute_result",
          "data": {
            "text/plain": [
              "<matplotlib.image.AxesImage at 0x7be94b494e20>"
            ]
          },
          "metadata": {},
          "execution_count": 152
        },
        {
          "output_type": "display_data",
          "data": {
            "text/plain": [
              "<Figure size 640x480 with 1 Axes>"
            ],
            "image/png": "[encoded data removed]"
          },
          "metadata": {}
        }
      ]
    },
    {
      "cell_type": "code",
      "source": [
        "torch.permute(torch.tensor(np.expand_dims(example_in, 0).astype(\"float32\")), (0,3,1,2)).size()"
      ],
      "metadata": {
        "colab": {
          "base_uri": "https://localhost:8080/"
        },
        "id": "hfox5CWOR8aE",
        "outputId": "b499d283-2738-4e07-f0ce-064a4a5ca54b"
      },
      "execution_count": 107,
      "outputs": [
        {
          "output_type": "execute_result",
          "data": {
            "text/plain": [
              "torch.Size([1, 3, 400, 400])"
            ]
          },
          "metadata": {},
          "execution_count": 107
        }
      ]
    }
  ]
}