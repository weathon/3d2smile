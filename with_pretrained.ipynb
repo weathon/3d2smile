{
  "nbformat": 4,
  "nbformat_minor": 0,
  "metadata": {
    "colab": {
      "provenance": [],
      "mount_file_id": "1UCIRVi_vKSRZf69Xa6ZqjaUo-_ryLvQP",
      "authorship_tag": "ABX9TyMlmRnmEH2uO1stEh8c8Lw+",
      "include_colab_link": true
    },
    "kernelspec": {
      "name": "python3",
      "display_name": "Python 3"
    },
    "language_info": {
      "name": "python"
    }
  },
  "cells": [
    {
      "cell_type": "markdown",
      "metadata": {
        "id": "view-in-github",
        "colab_type": "text"
      },
      "source": [
        "<a href=\"https://colab.research.google.com/github/weathon/3d2smile/blob/main/with_pretrained.ipynb\" target=\"_parent\"><img src=\"https://colab.research.google.com/assets/colab-badge.svg\" alt=\"Open In Colab\"/></a>"
      ]
    },
    {
      "cell_type": "markdown",
      "source": [
        "# Libs"
      ],
      "metadata": {
        "id": "z5ITeA6EKkAF"
      }
    },
    {
      "cell_type": "code",
      "execution_count": 9,
      "metadata": {
        "id": "3ApJFGgEHvGr"
      },
      "outputs": [],
      "source": [
        "import torch\n",
        "import os\n",
        "import numpy as np\n",
        "import pylab\n",
        "import pandas\n",
        "import sys"
      ]
    },
    {
      "cell_type": "code",
      "source": [
        "!git clone https://github.com/sergsb/IUPAC2Struct.git"
      ],
      "metadata": {
        "id": "pe8TwTacKnWt"
      },
      "execution_count": null,
      "outputs": []
    },
    {
      "cell_type": "code",
      "source": [
        "try:\n",
        "  import google.colab\n",
        "  IN_COLAB = True\n",
        "except:\n",
        "  IN_COLAB = False\n",
        "\n",
        "if IN_COLAB:\n",
        "  if not \"80k\" in \"\".join(os.listdir(\"/content\")):\n",
        "    HOME_DIR = \"/content\"\n",
        "else:\n",
        "  if not \"80k\" in \"\".join(os.listdir(\"/arc/project/st-dushan20-1/rendered\")):\n",
        "    HOME_DIR = \"/arc/project/st-dushan20-1/rendered\""
      ],
      "metadata": {
        "id": "CPm75AN7KwuT"
      },
      "execution_count": 10,
      "outputs": []
    },
    {
      "cell_type": "code",
      "source": [
        "sys.path.append(f\"{HOME_DIR}/IUPAC2Struct\")"
      ],
      "metadata": {
        "id": "9AZq2vcKKp1T"
      },
      "execution_count": 15,
      "outputs": []
    },
    {
      "cell_type": "code",
      "source": [
        "if torch.cuda.is_available():\n",
        "    device = torch.device('cuda:0')\n",
        "else:\n",
        "    device = torch.device('cpu')\n",
        "M = torch.load(f\"{HOME_DIR}/IUPAC2Struct/models/iupac2smiles_model.pt\", map_location=device)"
      ],
      "metadata": {
        "id": "7zTUvAf2LIvE"
      },
      "execution_count": null,
      "outputs": []
    },
    {
      "cell_type": "code",
      "source": [
        "M.tgt_model.encode(\"CC(=O)Nc1ccc(O)cc1\")"
      ],
      "metadata": {
        "colab": {
          "base_uri": "https://localhost:8080/"
        },
        "id": "2YEUiZAALMjD",
        "outputId": "286baacc-4de1-4d44-e040-1ceb4ef4ceee"
      },
      "execution_count": 22,
      "outputs": [
        {
          "output_type": "execute_result",
          "data": {
            "text/plain": [
              "[27, 27, 8, 23, 38, 9, 37, 54, 14, 54, 54, 54, 8, 38, 9, 54, 54, 14]"
            ]
          },
          "metadata": {},
          "execution_count": 22
        }
      ]
    },
    {
      "cell_type": "code",
      "source": [
        "smiles_tokenlizer = M.tgt_model.encode"
      ],
      "metadata": {
        "id": "kGBgp-IELV8T"
      },
      "execution_count": 24,
      "outputs": []
    },
    {
      "cell_type": "markdown",
      "source": [
        "# Data Processing"
      ],
      "metadata": {
        "id": "M6E20RUMJLFP"
      }
    },
    {
      "cell_type": "code",
      "source": [
        "\n",
        "if IN_COLAB:\n",
        "  if not \"80k\" in \"\".join(os.listdir(\"/content\")):\n",
        "    os.system(\"cp drive/MyDrive/80k.zip .\")\n",
        "    os.system(\"cp drive/MyDrive/80k.csv .\")\n",
        "    os.system(\"unzip 80k.zip\")\n",
        "    HOME_DIR = \"/content\"\n",
        "else:\n",
        "  if not \"80k\" in \"\".join(os.listdir(\"/arc/project/st-dushan20-1/rendered\")):\n",
        "    os.system(\"wget file.weasoft.com/80k.zip\")\n",
        "    os.system(\"wget http://file.weasoft.com/80k.csv\")\n",
        "    os.system(\"unzip 80k.zip\")\n",
        "    HOME_DIR = \"/arc/project/st-dushan20-1/rendered\"\n"
      ],
      "metadata": {
        "id": "O1oqSyv1JSBX"
      },
      "execution_count": 6,
      "outputs": []
    },
    {
      "cell_type": "code",
      "source": [
        "import os\n",
        "ids = [i.split(\"_\")[0] for i in os.listdir(f\"{HOME_DIR}/rendered\")]\n",
        "\n",
        "with open(\"ids.txt\", \"w\") as f:\n",
        "    f.write(\"\\n\".join(list(set(ids))))\n",
        "\n",
        "import pandas as pd\n",
        "csv = pd.read_csv(\"80k.csv\")\n",
        "cids = csv[\"cid\"]\n",
        "\n",
        "Ys = {}\n",
        "invalid_cids = []\n",
        "for i in cids.values:\n",
        "  try:\n",
        "    tmp = smiles_tokenlizer(csv[csv[\"cid\"] == i][\"iupacname\"].values[0])\n",
        "    if not tmp == None:\n",
        "      Ys[i] = tmp\n",
        "    else:\n",
        "      smiles_tokenlizer.append(i)\n",
        "\n",
        "  except:\n",
        "    invalid_cids.append(i)"
      ],
      "metadata": {
        "id": "rcmQxVtjJwA1"
      },
      "execution_count": 26,
      "outputs": []
    },
    {
      "cell_type": "code",
      "source": [
        "if len(invalid_cids) == 0:\n",
        "  print(\"OOHH\")"
      ],
      "metadata": {
        "id": "EY0Vb-37LmUL"
      },
      "execution_count": 27,
      "outputs": []
    },
    {
      "cell_type": "code",
      "source": [
        "M.tgt_model.decode(Ys[6912034])"
      ],
      "metadata": {
        "colab": {
          "base_uri": "https://localhost:8080/",
          "height": 35
        },
        "id": "LZMYTdkHL1M7",
        "outputId": "a99fec8f-95f6-42a0-caf1-5b233a19d504"
      },
      "execution_count": 33,
      "outputs": [
        {
          "output_type": "execute_result",
          "data": {
            "text/plain": [
              "'1-deuteriopropan-2-one'"
            ],
            "application/vnd.google.colaboratory.intrinsic+json": {
              "type": "string"
            }
          },
          "metadata": {},
          "execution_count": 33
        }
      ]
    }
  ]
}