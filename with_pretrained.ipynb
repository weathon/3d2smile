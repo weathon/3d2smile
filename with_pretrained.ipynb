{
  "cells": [
    {
      "cell_type": "markdown",
      "metadata": {
        "id": "view-in-github",
        "colab_type": "text"
      },
      "source": [
        "<a href=\"https://colab.research.google.com/github/weathon/3d2smile/blob/main/with_pretrained.ipynb\" target=\"_parent\"><img src=\"https://colab.research.google.com/assets/colab-badge.svg\" alt=\"Open In Colab\"/></a>"
      ]
    },
    {
      "cell_type": "markdown",
      "metadata": {
        "id": "z5ITeA6EKkAF"
      },
      "source": [
        "# Libs"
      ]
    },
    {
      "cell_type": "code",
      "execution_count": 2,
      "metadata": {
        "colab": {
          "base_uri": "https://localhost:8080/"
        },
        "id": "3ApJFGgEHvGr",
        "outputId": "149a908b-2b4f-4835-94a8-b885331e04c4"
      },
      "outputs": [
        {
          "output_type": "stream",
          "name": "stdout",
          "text": [
            "Requirement already satisfied: graphviz in /usr/local/lib/python3.10/dist-packages (0.20.1)\n",
            "Collecting torchview\n",
            "  Downloading torchview-0.2.6-py3-none-any.whl (25 kB)\n",
            "Installing collected packages: torchview\n",
            "Successfully installed torchview-0.2.6\n",
            "Collecting torchinfo\n",
            "  Downloading torchinfo-1.8.0-py3-none-any.whl (23 kB)\n",
            "Installing collected packages: torchinfo\n",
            "Successfully installed torchinfo-1.8.0\n"
          ]
        }
      ],
      "source": [
        "import torch\n",
        "import os\n",
        "import numpy as np\n",
        "import pylab\n",
        "import pandas\n",
        "import sys\n",
        "from PIL import Image\n",
        "!pip install graphviz\n",
        "!pip install torchview\n",
        "!pip install torchinfo"
      ]
    },
    {
      "cell_type": "code",
      "execution_count": 3,
      "metadata": {
        "id": "CPm75AN7KwuT"
      },
      "outputs": [],
      "source": [
        "try:\n",
        "  import google.colab\n",
        "  IN_COLAB = True\n",
        "except:\n",
        "  IN_COLAB = False\n",
        "\n",
        "if IN_COLAB:\n",
        "    HOME_DIR = \"/content\"\n",
        "else:\n",
        "    HOME_DIR = \"/arc/project/st-dushan20-1/rendered\""
      ]
    },
    {
      "cell_type": "code",
      "source": [
        "!git clone https://github.com/sergsb/IUPAC2Struct.git"
      ],
      "metadata": {
        "colab": {
          "base_uri": "https://localhost:8080/"
        },
        "id": "IbUsttIrsHvJ",
        "outputId": "9b3d9518-960e-4f0e-b61d-1861d0c7da20"
      },
      "execution_count": 1,
      "outputs": [
        {
          "output_type": "stream",
          "name": "stdout",
          "text": [
            "Cloning into 'IUPAC2Struct'...\n",
            "remote: Enumerating objects: 78, done.\u001b[K\n",
            "remote: Counting objects: 100% (78/78), done.\u001b[K\n",
            "remote: Compressing objects: 100% (65/65), done.\u001b[K\n",
            "remote: Total 78 (delta 16), reused 66 (delta 11), pack-reused 0\u001b[K\n",
            "Receiving objects: 100% (78/78), 6.14 MiB | 10.83 MiB/s, done.\n",
            "Resolving deltas: 100% (16/16), done.\n",
            "Downloading models/iupac2smiles_model.pt (199 MB)\n",
            "Error downloading object: models/iupac2smiles_model.pt (28c2c0a): Smudge error: Error downloading models/iupac2smiles_model.pt (28c2c0a2dbe5d8870fc3e392bd01eec2db7a65f99b90fb08a200bf8ece158dae): batch response: This repository is over its data quota. Account responsible for LFS bandwidth should purchase more data packs to restore access.\n",
            "\n",
            "Errors logged to /content/IUPAC2Struct/.git/lfs/logs/20230801T012302.506445003.log\n",
            "Use `git lfs logs last` to view the log.\n",
            "error: external filter 'git-lfs filter-process' failed\n",
            "fatal: models/iupac2smiles_model.pt: smudge filter lfs failed\n",
            "warning: Clone succeeded, but checkout failed.\n",
            "You can inspect what was checked out with 'git status'\n",
            "and retry with 'git restore --source=HEAD :/'\n",
            "\n"
          ]
        }
      ]
    },
    {
      "cell_type": "code",
      "execution_count": 4,
      "metadata": {
        "id": "9AZq2vcKKp1T"
      },
      "outputs": [],
      "source": [
        "sys.path.append(f\"{HOME_DIR}/IUPAC2Struct\")"
      ]
    },
    {
      "cell_type": "code",
      "source": [
        "!ls drive/MyDrive | grep iupav"
      ],
      "metadata": {
        "id": "5OTc2WSng04e"
      },
      "execution_count": 5,
      "outputs": []
    },
    {
      "cell_type": "code",
      "execution_count": 6,
      "metadata": {
        "colab": {
          "base_uri": "https://localhost:8080/"
        },
        "id": "7zTUvAf2LIvE",
        "outputId": "17ad9eb9-1709-4740-cd92-97acee5054e1"
      },
      "outputs": [
        {
          "output_type": "stream",
          "name": "stderr",
          "text": [
            "/usr/local/lib/python3.10/dist-packages/torch/serialization.py:888: SourceChangeWarning: source code of class 'torch.nn.parallel.data_parallel.DataParallel' has changed. you can retrieve the original source code by accessing the object's source attribute or set `torch.nn.Module.dump_patches = True` and use the patch tool to revert the changes.\n",
            "  warnings.warn(msg, SourceChangeWarning)\n",
            "/usr/local/lib/python3.10/dist-packages/torch/serialization.py:888: SourceChangeWarning: source code of class 'transformer.Transformer' has changed. you can retrieve the original source code by accessing the object's source attribute or set `torch.nn.Module.dump_patches = True` and use the patch tool to revert the changes.\n",
            "  warnings.warn(msg, SourceChangeWarning)\n",
            "/usr/local/lib/python3.10/dist-packages/torch/serialization.py:888: SourceChangeWarning: source code of class 'torch.nn.modules.container.ModuleList' has changed. you can retrieve the original source code by accessing the object's source attribute or set `torch.nn.Module.dump_patches = True` and use the patch tool to revert the changes.\n",
            "  warnings.warn(msg, SourceChangeWarning)\n",
            "/usr/local/lib/python3.10/dist-packages/torch/serialization.py:888: SourceChangeWarning: source code of class 'transformer.EncoderLayer' has changed. you can retrieve the original source code by accessing the object's source attribute or set `torch.nn.Module.dump_patches = True` and use the patch tool to revert the changes.\n",
            "  warnings.warn(msg, SourceChangeWarning)\n",
            "/usr/local/lib/python3.10/dist-packages/torch/serialization.py:888: SourceChangeWarning: source code of class 'transformer.MultiHeadAttention' has changed. you can retrieve the original source code by accessing the object's source attribute or set `torch.nn.Module.dump_patches = True` and use the patch tool to revert the changes.\n",
            "  warnings.warn(msg, SourceChangeWarning)\n",
            "/usr/local/lib/python3.10/dist-packages/torch/serialization.py:888: SourceChangeWarning: source code of class 'torch.nn.modules.linear.Linear' has changed. you can retrieve the original source code by accessing the object's source attribute or set `torch.nn.Module.dump_patches = True` and use the patch tool to revert the changes.\n",
            "  warnings.warn(msg, SourceChangeWarning)\n",
            "/usr/local/lib/python3.10/dist-packages/torch/serialization.py:888: SourceChangeWarning: source code of class 'torch.nn.modules.dropout.Dropout' has changed. you can retrieve the original source code by accessing the object's source attribute or set `torch.nn.Module.dump_patches = True` and use the patch tool to revert the changes.\n",
            "  warnings.warn(msg, SourceChangeWarning)\n",
            "/usr/local/lib/python3.10/dist-packages/torch/serialization.py:888: SourceChangeWarning: source code of class 'transformer.MLP' has changed. you can retrieve the original source code by accessing the object's source attribute or set `torch.nn.Module.dump_patches = True` and use the patch tool to revert the changes.\n",
            "  warnings.warn(msg, SourceChangeWarning)\n",
            "/usr/local/lib/python3.10/dist-packages/torch/serialization.py:888: SourceChangeWarning: source code of class 'transformer.Decoder' has changed. you can retrieve the original source code by accessing the object's source attribute or set `torch.nn.Module.dump_patches = True` and use the patch tool to revert the changes.\n",
            "  warnings.warn(msg, SourceChangeWarning)\n",
            "/usr/local/lib/python3.10/dist-packages/torch/serialization.py:888: SourceChangeWarning: source code of class 'transformer.DecoderLayer' has changed. you can retrieve the original source code by accessing the object's source attribute or set `torch.nn.Module.dump_patches = True` and use the patch tool to revert the changes.\n",
            "  warnings.warn(msg, SourceChangeWarning)\n",
            "/usr/local/lib/python3.10/dist-packages/torch/serialization.py:888: SourceChangeWarning: source code of class 'torch.nn.modules.sparse.Embedding' has changed. you can retrieve the original source code by accessing the object's source attribute or set `torch.nn.Module.dump_patches = True` and use the patch tool to revert the changes.\n",
            "  warnings.warn(msg, SourceChangeWarning)\n",
            "/usr/local/lib/python3.10/dist-packages/torch/serialization.py:888: SourceChangeWarning: source code of class 'transformer.PositionalEncoding' has changed. you can retrieve the original source code by accessing the object's source attribute or set `torch.nn.Module.dump_patches = True` and use the patch tool to revert the changes.\n",
            "  warnings.warn(msg, SourceChangeWarning)\n"
          ]
        }
      ],
      "source": [
        "if torch.cuda.is_available():\n",
        "    device = torch.device('cuda:0')\n",
        "else:\n",
        "    device = torch.device('cpu')\n",
        "\n",
        "if IN_COLAB:\n",
        "    os.system('cp drive/MyDrive/WWVSB/iupac2smiles_model.pt .')\n",
        "    # os.system('cp \"drive/MyDrive/iupac2smiles_model.py\" .') wtf stupid\n",
        "\n",
        "M = torch.load(f\"{HOME_DIR}/iupac2smiles_model.pt\", map_location=device)\n",
        "M.device = device"
      ]
    },
    {
      "cell_type": "code",
      "execution_count": 8,
      "metadata": {
        "id": "2YEUiZAALMjD",
        "colab": {
          "base_uri": "https://localhost:8080/"
        },
        "outputId": "d1ada37b-05a8-4761-9212-bdbc21c00c9c"
      },
      "outputs": [
        {
          "output_type": "execute_result",
          "data": {
            "text/plain": [
              "[27, 27, 8, 23, 38, 9, 37, 54, 14, 54, 54, 54, 8, 38, 9, 54, 54, 14]"
            ]
          },
          "metadata": {},
          "execution_count": 8
        }
      ],
      "source": [
        "M.tgt_model.encode(\"CC(=O)Nc1ccc(O)cc1\")"
      ]
    },
    {
      "cell_type": "code",
      "execution_count": 9,
      "metadata": {
        "id": "kGBgp-IELV8T"
      },
      "outputs": [],
      "source": [
        "smiles_tokenlizer = M.tgt_model.encode"
      ]
    },
    {
      "cell_type": "code",
      "execution_count": 10,
      "metadata": {
        "id": "AX8W8av74hzg",
        "colab": {
          "base_uri": "https://localhost:8080/"
        },
        "outputId": "60dae166-61e7-4b59-da3f-587728d99a93"
      },
      "outputs": [
        {
          "output_type": "stream",
          "name": "stdout",
          "text": [
            "Collecting torchviz\n",
            "  Downloading torchviz-0.0.2.tar.gz (4.9 kB)\n",
            "  Preparing metadata (setup.py) ... \u001b[?25l\u001b[?25hdone\n",
            "Requirement already satisfied: torch in /usr/local/lib/python3.10/dist-packages (from torchviz) (2.0.1+cu118)\n",
            "Requirement already satisfied: graphviz in /usr/local/lib/python3.10/dist-packages (from torchviz) (0.20.1)\n",
            "Requirement already satisfied: filelock in /usr/local/lib/python3.10/dist-packages (from torch->torchviz) (3.12.2)\n",
            "Requirement already satisfied: typing-extensions in /usr/local/lib/python3.10/dist-packages (from torch->torchviz) (4.7.1)\n",
            "Requirement already satisfied: sympy in /usr/local/lib/python3.10/dist-packages (from torch->torchviz) (1.11.1)\n",
            "Requirement already satisfied: networkx in /usr/local/lib/python3.10/dist-packages (from torch->torchviz) (3.1)\n",
            "Requirement already satisfied: jinja2 in /usr/local/lib/python3.10/dist-packages (from torch->torchviz) (3.1.2)\n",
            "Requirement already satisfied: triton==2.0.0 in /usr/local/lib/python3.10/dist-packages (from torch->torchviz) (2.0.0)\n",
            "Requirement already satisfied: cmake in /usr/local/lib/python3.10/dist-packages (from triton==2.0.0->torch->torchviz) (3.25.2)\n",
            "Requirement already satisfied: lit in /usr/local/lib/python3.10/dist-packages (from triton==2.0.0->torch->torchviz) (16.0.6)\n",
            "Requirement already satisfied: MarkupSafe>=2.0 in /usr/local/lib/python3.10/dist-packages (from jinja2->torch->torchviz) (2.1.3)\n",
            "Requirement already satisfied: mpmath>=0.19 in /usr/local/lib/python3.10/dist-packages (from sympy->torch->torchviz) (1.3.0)\n",
            "Building wheels for collected packages: torchviz\n",
            "  Building wheel for torchviz (setup.py) ... \u001b[?25l\u001b[?25hdone\n",
            "  Created wheel for torchviz: filename=torchviz-0.0.2-py3-none-any.whl size=4131 sha256=e7d43721b960964031e9a2e5381986d39e7f40ce88bf23f0795822442228a186\n",
            "  Stored in directory: /root/.cache/pip/wheels/4c/97/88/a02973217949e0db0c9f4346d154085f4725f99c4f15a87094\n",
            "Successfully built torchviz\n",
            "Installing collected packages: torchviz\n",
            "Successfully installed torchviz-0.0.2\n"
          ]
        }
      ],
      "source": [
        "!pip install torchviz"
      ]
    },
    {
      "cell_type": "markdown",
      "metadata": {
        "id": "M6E20RUMJLFP"
      },
      "source": [
        "# Data Processing"
      ]
    },
    {
      "cell_type": "code",
      "execution_count": 11,
      "metadata": {
        "id": "O1oqSyv1JSBX"
      },
      "outputs": [],
      "source": [
        "\n",
        "if IN_COLAB:\n",
        "  if not \"80k\" in \"\".join(os.listdir(\"/content\")):\n",
        "    os.system(\"cp drive/MyDrive/80k.zip .\")\n",
        "    os.system(\"cp drive/MyDrive/80k.csv .\")\n",
        "    os.system(\"unzip 80k.zip\")\n",
        "    HOME_DIR = \"/content\"\n",
        "else:\n",
        "  if not \"80k\" in \"\".join(os.listdir(\"/arc/project/st-dushan20-1/rendered\")):\n",
        "    os.system(\"wget file.weasoft.com/80k.zip\")\n",
        "    os.system(\"wget http://file.weasoft.com/80k.csv\")\n",
        "    os.system(\"unzip 80k.zip\")\n",
        "    HOME_DIR = \"/arc/project/st-dushan20-1/rendered\"\n"
      ]
    },
    {
      "cell_type": "code",
      "execution_count": 12,
      "metadata": {
        "id": "rcmQxVtjJwA1",
        "colab": {
          "base_uri": "https://localhost:8080/"
        },
        "outputId": "368b29ab-b609-448c-ff44-c9e899d3f3bc"
      },
      "outputs": [
        {
          "output_type": "execute_result",
          "data": {
            "text/plain": [
              "Index(['cid', 'cmpdname', 'cmpdsynonym', 'mw', 'mf', 'polararea', 'complexity',\n",
              "       'xlogp', 'heavycnt', 'hbonddonor', 'hbondacc', 'rotbonds', 'inchi',\n",
              "       'isosmiles', 'canonicalsmiles', 'inchikey', 'iupacname', 'exactmass',\n",
              "       'monoisotopicmass', 'charge', 'covalentunitcnt', 'isotopeatomcnt',\n",
              "       'totalatomstereocnt', 'definedatomstereocnt', 'undefinedatomstereocnt',\n",
              "       'totalbondstereocnt', 'definedbondstereocnt', 'undefinedbondstereocnt',\n",
              "       'pclidcnt', 'gpidcnt', 'gpfamilycnt', 'neighbortype', 'meshheadings',\n",
              "       'annothits', 'annothitcnt', 'aids', 'cidcdate', 'sidsrcname', 'depcatg',\n",
              "       'annotation'],\n",
              "      dtype='object')"
            ]
          },
          "metadata": {},
          "execution_count": 12
        }
      ],
      "source": [
        "import os\n",
        "ids = [i.split(\"_\")[0] for i in os.listdir(f\"{HOME_DIR}/rendered\")]\n",
        "\n",
        "with open(\"ids.txt\", \"w\") as f:\n",
        "    f.write(\"\\n\".join(list(set(ids))))\n",
        "\n",
        "import pandas as pd\n",
        "csv = pd.read_csv(\"80k.csv\")\n",
        "cids = csv[\"cid\"]\n",
        "csv.columns"
      ]
    },
    {
      "cell_type": "code",
      "execution_count": 13,
      "metadata": {
        "id": "rcv_YUPfMJup"
      },
      "outputs": [],
      "source": [
        "Ys = {}\n",
        "invalid_cids = []\n",
        "for i in cids.values:\n",
        "  try:\n",
        "    tmp = smiles_tokenlizer(csv[csv[\"cid\"] == i][\"canonicalsmiles\"].values[0])\n",
        "    if not tmp == None:\n",
        "      Ys[i] = tmp\n",
        "    else:\n",
        "      smiles_tokenlizer.append(i)\n",
        "\n",
        "  except:\n",
        "    invalid_cids.append(i)"
      ]
    },
    {
      "cell_type": "code",
      "execution_count": 14,
      "metadata": {
        "id": "EY0Vb-37LmUL",
        "colab": {
          "base_uri": "https://localhost:8080/"
        },
        "outputId": "7e5d59fa-b03c-4282-f9ef-e084a6216513"
      },
      "outputs": [
        {
          "output_type": "stream",
          "name": "stdout",
          "text": [
            "OOHH\n"
          ]
        }
      ],
      "source": [
        "if len(invalid_cids) == 0:\n",
        "  print(\"OOHH\")"
      ]
    },
    {
      "cell_type": "code",
      "execution_count": 15,
      "metadata": {
        "id": "18OLQ2quPx4i"
      },
      "outputs": [],
      "source": [
        "example_in = Image.open(f\"{HOME_DIR}/rendered/6912034_0.jpg\")\n",
        "example_out = csv[csv[\"cid\"]==6912034][\"canonicalsmiles\"].values[0]"
      ]
    },
    {
      "cell_type": "code",
      "execution_count": 16,
      "metadata": {
        "id": "rMaoGQcqQE4x",
        "colab": {
          "base_uri": "https://localhost:8080/",
          "height": 36
        },
        "outputId": "b6bfa93a-1a7e-41e1-ba20-a0121874e7a1"
      },
      "outputs": [
        {
          "output_type": "execute_result",
          "data": {
            "text/plain": [
              "'CC(=O)C'"
            ],
            "application/vnd.google.colaboratory.intrinsic+json": {
              "type": "string"
            }
          },
          "metadata": {},
          "execution_count": 16
        }
      ],
      "source": [
        "example_out"
      ]
    },
    {
      "cell_type": "code",
      "execution_count": 17,
      "metadata": {
        "id": "LZMYTdkHL1M7",
        "colab": {
          "base_uri": "https://localhost:8080/",
          "height": 36
        },
        "outputId": "f673e831-04cb-4c28-f45a-f5be1d366f9c"
      },
      "outputs": [
        {
          "output_type": "execute_result",
          "data": {
            "text/plain": [
              "'CC(=O)C'"
            ],
            "application/vnd.google.colaboratory.intrinsic+json": {
              "type": "string"
            }
          },
          "metadata": {},
          "execution_count": 17
        }
      ],
      "source": [
        "M.tgt_model.decode(Ys[6912034])"
      ]
    },
    {
      "cell_type": "markdown",
      "metadata": {
        "id": "3ropUGNpMaWQ"
      },
      "source": [
        "# Model\n"
      ]
    },
    {
      "cell_type": "code",
      "execution_count": 197,
      "metadata": {
        "id": "BAjiWuU_MboG",
        "colab": {
          "base_uri": "https://localhost:8080/",
          "height": 492
        },
        "outputId": "2106c77d-7e5b-4d05-c99b-8cdd154ad466"
      },
      "outputs": [
        {
          "output_type": "stream",
          "name": "stderr",
          "text": [
            "WARNING:matplotlib.image:Clipping input data to the valid range for imshow with RGB data ([0..1] for floats or [0..255] for integers).\n"
          ]
        },
        {
          "output_type": "execute_result",
          "data": {
            "text/plain": [
              "<matplotlib.image.AxesImage at 0x7fcd2f22f730>"
            ]
          },
          "metadata": {},
          "execution_count": 197
        },
        {
          "output_type": "display_data",
          "data": {
            "text/plain": [
              "<Figure size 640x480 with 1 Axes>"
            ],
            "image/png": "[encoded data removed]"
          },
          "metadata": {}
        }
      ],
      "source": [
        "class ResNetBlock(torch.nn.Module):\n",
        "  def __init__(self, in_channels, out_channels, size, downsampling=True):\n",
        "    super().__init__()\n",
        "    self.Conv2D = torch.nn.Sequential(\n",
        "        torch.nn.Conv2d(in_channels, out_channels, (3,3), stride=2 if downsampling else 1, padding=(3 if size%2==0 else 2) if downsampling else 2),\n",
        "        torch.nn.BatchNorm2d(out_channels),\n",
        "        torch.nn.ReLU(),\n",
        "        torch.nn.Conv2d(out_channels, out_channels, (3,3)),\n",
        "        torch.nn.BatchNorm2d(out_channels),\n",
        "    )\n",
        "    self.project = torch.nn.Conv2d(in_channels, out_channels, (1,1))\n",
        "    self.pooling = torch.nn.AvgPool2d((2,2)) if downsampling else torch.nn.Identity()\n",
        "    self.relu = torch.nn.ReLU()\n",
        "  def forward(self, images):\n",
        "    x = self.Conv2D(images)\n",
        "    images = self.pooling(self.project(images))\n",
        "    return self.relu(x+images)\n",
        "resblock = ResNetBlock(3,12,400, 0)\n",
        "inp_img = torch.permute(torch.tensor(np.expand_dims(example_in, 0).astype(\"float32\")), (0,3,1,2))\n",
        "oup = resblock(inp_img)[:,-3:,:,:]\n",
        "pylab.imshow(torch.permute(oup, (0,2,3,1)).cpu().detach().numpy()[0])"
      ]
    },
    {
      "cell_type": "code",
      "execution_count": 19,
      "metadata": {
        "id": "hfox5CWOR8aE",
        "colab": {
          "base_uri": "https://localhost:8080/"
        },
        "outputId": "6c0dedd6-198e-4b4e-8203-cd3ea85dda8f"
      },
      "outputs": [
        {
          "output_type": "execute_result",
          "data": {
            "text/plain": [
              "torch.Size([1, 3, 400, 400])"
            ]
          },
          "metadata": {},
          "execution_count": 19
        }
      ],
      "source": [
        "torch.permute(torch.tensor(np.expand_dims(example_in, 0).astype(\"float32\")), (0,3,1,2)).size()"
      ]
    },
    {
      "cell_type": "code",
      "execution_count": 20,
      "metadata": {
        "id": "nTG6F8JOYFlT",
        "colab": {
          "base_uri": "https://localhost:8080/"
        },
        "outputId": "c8f98807-b4ed-4872-b1d9-314e9fc86bb1"
      },
      "outputs": [
        {
          "output_type": "execute_result",
          "data": {
            "text/plain": [
              "torch.Size([1, 64, 160000])"
            ]
          },
          "metadata": {},
          "execution_count": 20
        }
      ],
      "source": [
        "t = torch.randn(1,64,400,400)\n",
        "torch.flatten(t)\n",
        "torch.flatten(t, start_dim=2,end_dim=3).shape"
      ]
    },
    {
      "cell_type": "code",
      "execution_count": 337,
      "metadata": {
        "id": "7qfnGU9PWGwn"
      },
      "outputs": [],
      "source": [
        "class ImageEncoder(torch.nn.Module):\n",
        "  def __init__(self, channels_list, heads, dropout, orginal_size):\n",
        "    super().__init__()\n",
        "    self.conv2d = torch.nn.Sequential(\n",
        "        # torch.nn.Conv2d(3, 32, (7, 7), stride=3),\n",
        "        # torch.nn.AvgPool2d((3,3), padding=1)\n",
        "        torch.nn.Conv2d(3, 32, (7, 7), stride=2, padding=1),\n",
        "        torch.nn.MaxPool2d((3, 3), stride=2)\n",
        "    ).to(device)\n",
        "\n",
        "    self.resnet_blocks = []\n",
        "    for i in range(len(channels_list)-1):\n",
        "      self.resnet_blocks.append(ResNetBlock(channels_list[i], channels_list[i], size=66//(2**i)).to(device))\n",
        "      self.resnet_blocks.append(ResNetBlock(channels_list[i], channels_list[i+1], size=66//(2**i), downsampling=0).to(device)) #gangcai self not defined\n",
        "\n",
        "    self.mlp = torch.nn.Sequential(\n",
        "        torch.nn.Linear(512,1024),\n",
        "        torch.nn.GELU(),\n",
        "        torch.nn.Linear(1024, 512),\n",
        "        torch.nn.GELU(),\n",
        "    ).to(device)\n",
        "    self.posem = torch.nn.Embedding(36, 512).to(device)\n",
        "    self.mha = torch.nn.MultiheadAttention(channels_list[-1], heads, dropout = 0.1).to(device)\n",
        "\n",
        "  def forward(self, images):\n",
        "    features = self.conv2d(images)\n",
        "    for f in self.resnet_blocks:\n",
        "      features = f(features)\n",
        "    features = torch.flatten(features, start_dim=2, end_dim=3)\n",
        "    features = torch.permute(features, (0, 2, 1))\n",
        "    ran = torch.arange(0, 36)\n",
        "    pos = self.posem(ran.to(device).unsqueeze(0))\n",
        "    features = pos + features#.clone()\n",
        "    att = self.mha(features, features, features, need_weights=False)[0]\n",
        "    return self.mlp(att) + features\n",
        "\n"
      ]
    },
    {
      "cell_type": "code",
      "source": [
        "# posem = torch.nn.Embedding(36, 512)\n",
        "# posem(torch.range(0, 36).unsqueeze(1))"
      ],
      "metadata": {
        "id": "W_yQXETC4Aso"
      },
      "execution_count": 338,
      "outputs": []
    },
    {
      "cell_type": "code",
      "execution_count": 339,
      "metadata": {
        "id": "mf72lcreXHXc",
        "colab": {
          "base_uri": "https://localhost:8080/"
        },
        "outputId": "d61134f6-6385-45fe-aa73-f0f2821e7f5b"
      },
      "outputs": [
        {
          "output_type": "execute_result",
          "data": {
            "text/plain": [
              "torch.Size([1, 36, 512])"
            ]
          },
          "metadata": {},
          "execution_count": 339
        }
      ],
      "source": [
        "NUM_HEADS = 8\n",
        "CHANNELS = [32, 64, 128, 256, 512]\n",
        "DROPOUT = 0.1\n",
        "inp_img = inp_img.to(device)\n",
        "encoder = ImageEncoder(CHANNELS, NUM_HEADS, DROPOUT, 400)\n",
        "encoder(inp_img).shape"
      ]
    },
    {
      "cell_type": "code",
      "execution_count": 340,
      "metadata": {
        "id": "mSOW82wLje_j",
        "colab": {
          "base_uri": "https://localhost:8080/"
        },
        "outputId": "2a7757f7-d375-42ec-a651-8ad0be7594b0"
      },
      "outputs": [
        {
          "output_type": "execute_result",
          "data": {
            "text/plain": [
              "2123904"
            ]
          },
          "metadata": {},
          "execution_count": 340
        }
      ],
      "source": [
        "sum(p.numel() for p in encoder.parameters())"
      ]
    },
    {
      "cell_type": "code",
      "execution_count": 341,
      "metadata": {
        "id": "9dJ-B1oNdNTm"
      },
      "outputs": [],
      "source": [
        "# from torchinfo import summary\n",
        "# summary(encoder, (1,3,400,400), depth=10)"
      ]
    },
    {
      "cell_type": "code",
      "execution_count": 342,
      "metadata": {
        "id": "Ozo8Eyvn6hHD"
      },
      "outputs": [],
      "source": [
        "from torchview import draw_graph"
      ]
    },
    {
      "cell_type": "code",
      "execution_count": 343,
      "metadata": {
        "id": "FWEgEfvK6vv-"
      },
      "outputs": [],
      "source": [
        "import graphviz\n",
        "graphviz.set_jupyter_format('png')\n",
        "encoder.to(device)\n",
        "model_graph = draw_graph(encoder, input_size=(1, 3, 400, 400), depth=5, device=device)\n",
        "# model_graph.visual_graph"
      ]
    },
    {
      "cell_type": "markdown",
      "metadata": {
        "id": "t7qYoChlkQip"
      },
      "source": [
        "# Connect with pretrained\n"
      ]
    },
    {
      "cell_type": "code",
      "execution_count": 344,
      "metadata": {
        "id": "etzBYtUnkU2y"
      },
      "outputs": [],
      "source": [
        "def subsequent_mask(tgt_mask):\n",
        "    size = tgt_mask.size(-1)\n",
        "    return tgt_mask.to(torch.uint8) & torch.tril(torch.ones(1,size,size, dtype=torch.uint8)).to(tgt_mask.device)\n",
        "\n",
        "def pad_pack(sequences):\n",
        "    maxlen = max(map(len, sequences))\n",
        "    batch = torch.LongTensor(len(sequences),maxlen).fill_(0)\n",
        "    for i,x in enumerate(sequences):\n",
        "        batch[i,:len(x)] = torch.LongTensor(x)\n",
        "    return batch\n",
        "\n",
        "def find_first_working(x):\n",
        "  for i in x:\n",
        "    if i<=71:\n",
        "      return i\n"
      ]
    },
    {
      "cell_type": "code",
      "execution_count": 345,
      "metadata": {
        "id": "PlOwZ8Bck4HJ",
        "colab": {
          "base_uri": "https://localhost:8080/"
        },
        "outputId": "8f37f86d-c1d2-47ca-a1b0-bbb820d21a0c"
      },
      "outputs": [
        {
          "output_type": "stream",
          "name": "stderr",
          "text": [
            "<ipython-input-345-f5acc8b72dd7>:2: UserWarning: To copy construct from a tensor, it is recommended to use sourceTensor.clone().detach() or sourceTensor.clone().detach().requires_grad_(True), rather than torch.tensor(sourceTensor).\n",
            "  src = torch.tensor(pad_pack([inp]), device=(M.device))\n"
          ]
        },
        {
          "output_type": "execute_result",
          "data": {
            "text/plain": [
              "(10, 512)"
            ]
          },
          "metadata": {},
          "execution_count": 345
        }
      ],
      "source": [
        "inp = M.src_model.encode(\"N-(4-hydroxyphenyl)acetamide\")\n",
        "src = torch.tensor(pad_pack([inp]), device=(M.device))\n",
        "src_mask = (src != 0).unsqueeze(-2).to(M.device)#.shape\n",
        "latent = M.T.encoder(M.T.src_embedder(src), (src != 0).unsqueeze(-2).to(M.device))\n",
        "l = latent.to(torch.device(\"cpu\"))\n",
        "l.cpu().detach().numpy()[0].shape"
      ]
    },
    {
      "cell_type": "code",
      "execution_count": 346,
      "metadata": {
        "id": "-FIduYubkZu8"
      },
      "outputs": [],
      "source": [
        "padded_tgt = pad_pack([[2]]).to(M.device)\n",
        "empty_start = M.T.tgt_embedder(padded_tgt)"
      ]
    },
    {
      "cell_type": "code",
      "source": [
        "inp_img = inp_img.cuda()"
      ],
      "metadata": {
        "id": "qW1DXfXOuDkh"
      },
      "execution_count": 347,
      "outputs": []
    },
    {
      "cell_type": "code",
      "source": [
        "inp_img.is_cuda"
      ],
      "metadata": {
        "colab": {
          "base_uri": "https://localhost:8080/"
        },
        "id": "9PBJFBlLu1rX",
        "outputId": "64c23f8e-3730-4f2b-9e79-2205e1570753"
      },
      "execution_count": 348,
      "outputs": [
        {
          "output_type": "execute_result",
          "data": {
            "text/plain": [
              "True"
            ]
          },
          "metadata": {},
          "execution_count": 348
        }
      ]
    },
    {
      "cell_type": "code",
      "source": [
        "encoder = encoder.cuda()"
      ],
      "metadata": {
        "id": "lAYA64o5uHJI"
      },
      "execution_count": 349,
      "outputs": []
    },
    {
      "cell_type": "code",
      "source": [
        "encoder = encoder.to(torch.device('cuda'))"
      ],
      "metadata": {
        "id": "Jd2aO18WukCQ"
      },
      "execution_count": 350,
      "outputs": []
    },
    {
      "cell_type": "code",
      "source": [
        "next(M.T.decoder.parameters()).is_cuda"
      ],
      "metadata": {
        "colab": {
          "base_uri": "https://localhost:8080/"
        },
        "id": "DTV-JYxsurxX",
        "outputId": "880cebd2-9292-4e94-a8af-926d20ce34f3"
      },
      "execution_count": 351,
      "outputs": [
        {
          "output_type": "execute_result",
          "data": {
            "text/plain": [
              "True"
            ]
          },
          "metadata": {},
          "execution_count": 351
        }
      ]
    },
    {
      "cell_type": "code",
      "execution_count": 352,
      "metadata": {
        "id": "K4ugwGJBjeL0"
      },
      "outputs": [],
      "source": [
        "latent = encoder(inp_img)\n",
        "src_mask = (torch.zeros(len(latent[0]))).unsqueeze(-2).to(M.device)#.shape\n",
        "out = M.T.decoder(empty_start, latent, src_mask, subsequent_mask((padded_tgt != 0).unsqueeze(-2)))"
      ]
    },
    {
      "cell_type": "code",
      "execution_count": 353,
      "metadata": {
        "id": "TneB6GCGnuUr",
        "colab": {
          "base_uri": "https://localhost:8080/",
          "height": 54
        },
        "outputId": "083e3a1b-93e6-4a06-d0e8-a65bf9debf32"
      },
      "outputs": [
        {
          "output_type": "stream",
          "name": "stdout",
          "text": [
            "torch.Size([1, 2, 72])\n"
          ]
        },
        {
          "output_type": "execute_result",
          "data": {
            "text/plain": [
              "'CC'"
            ],
            "application/vnd.google.colaboratory.intrinsic+json": {
              "type": "string"
            }
          },
          "metadata": {},
          "execution_count": 353
        }
      ],
      "source": [
        "# Test for teaching forcing\n",
        "# forcing = pad_pack([[2]+M.tgt_model.encode(\"CC(=O)Nc1ccc(O)cc\")]).to(M.device)\n",
        "forcing = pad_pack([[2,0]]).to(device)\n",
        "forcing_start = M.T.tgt_embedder(forcing).to(device)\n",
        "\n",
        "latent = encoder(inp_img)\n",
        "src_mask = torch.zeros(36).unsqueeze(-2).to(device)\n",
        "out = M.T.decoder(forcing_start, latent, src_mask, subsequent_mask((forcing != 0).unsqueeze(-2)))\n",
        "# out = M.T.decoder(forcing_start, l, src_mask, subsequent_mask((forcing != 0).unsqueeze(-2)))\n",
        "out = M.T.generator(out)\n",
        "print (out.shape)\n",
        "ans = []\n",
        "for i in range(2):\n",
        "  ans.append(torch.sort(out[0], dim=1,\n",
        "                        descending=True)[1].cpu().detach().numpy()[i][0])\n",
        "M.tgt_model.decode(ans)"
      ]
    },
    {
      "cell_type": "code",
      "execution_count": 354,
      "metadata": {
        "id": "X_bkcC5c4EmG"
      },
      "outputs": [],
      "source": [
        "# https://pytorch.org/tutorials/beginner/transfer_learning_tutorial.html\n",
        "for i in M.T.decoder.parameters():\n",
        "  i.requires_grad == False\n",
        "\n",
        "for i in M.T.generator.parameters():\n",
        "  i.requires_grad == False"
      ]
    },
    {
      "cell_type": "code",
      "execution_count": 355,
      "metadata": {
        "id": "g9--kazs49Lq"
      },
      "outputs": [],
      "source": [
        "class Image2SMILES(torch.nn.Module):\n",
        "  def __init__(self, encoder, embeding, decoder, generator):\n",
        "    super().__init__()\n",
        "    self.encoder = encoder\n",
        "    self.embeding = embeding\n",
        "    self.decoder = decoder\n",
        "    self.generator = generator\n",
        "\n",
        "  def forward (self, image, text_in):\n",
        "    image_feature = self.encoder(image)\n",
        "    paded = pad_pack(text_in).to(device)\n",
        "    embedded = self.embeding(paded)\n",
        "    out = self.decoder(embedded, image_feature,\n",
        "                       torch.zeros(36).unsqueeze(-2).to(M.device),\n",
        "                       subsequent_mask((paded != 0)\n",
        "                       .unsqueeze(-2)))\n",
        "    out = self.generator(out)\n",
        "    return out"
      ]
    },
    {
      "cell_type": "code",
      "execution_count": 356,
      "metadata": {
        "id": "bLLhmAq_AUrV"
      },
      "outputs": [],
      "source": [
        "class SMILESGenerator(torch.nn.Module):\n",
        "  def __init__(self, encoder, embeding, decoder, generator, max_len):\n",
        "    super().__init__()\n",
        "    self.encoder = encoder\n",
        "    self.embeding = embeding\n",
        "    self.decoder = decoder\n",
        "    self.generator = generator\n",
        "    self.max_len = max_len\n",
        "\n",
        "  def forward (self, image, text_in):\n",
        "    image_feature = self.encoder(image)\n",
        "    for i in range(self.max_len):\n",
        "      paded = pad_pack(text_in).to(device)\n",
        "      embedded = self.embeding(paded)\n",
        "      out = self.decoder(embedded, image_feature,\n",
        "                        torch.zeros(36).unsqueeze(-2).to(M.device),\n",
        "                        subsequent_mask((paded != 0)\n",
        "                        .unsqueeze(-2)))\n",
        "      out = self.generator(out)\n",
        "      next = torch.sort(out, descending=True)[1][0,0].cpu().detach().numpy()[0] #forgot descending\n",
        "      if next == 3:\n",
        "        break\n",
        "      text_in[0] += [next]\n",
        "      # print(text_in)\n",
        "    return M.tgt_model.decode(text_in[0])\n"
      ]
    },
    {
      "cell_type": "code",
      "execution_count": 357,
      "metadata": {
        "id": "NsErNlKWLIU4"
      },
      "outputs": [],
      "source": [
        "model = Image2SMILES(encoder.to(device),\n",
        "    M.T.tgt_embedder.to(device),\n",
        "             M.T.decoder.to(device), M.T.generator.to(device))"
      ]
    },
    {
      "cell_type": "code",
      "execution_count": 358,
      "metadata": {
        "id": "V_nztT0SA2bF"
      },
      "outputs": [],
      "source": [
        "gen = SMILESGenerator(encoder,\n",
        "    M.T.tgt_embedder,\n",
        "             M.T.decoder, M.T.generator, 10)"
      ]
    },
    {
      "cell_type": "code",
      "execution_count": 359,
      "metadata": {
        "id": "aaa6Q7N-EFh0",
        "colab": {
          "base_uri": "https://localhost:8080/"
        },
        "outputId": "efb84f80-4b1d-457b-e7fe-50942100b666"
      },
      "outputs": [
        {
          "output_type": "execute_result",
          "data": {
            "text/plain": [
              "tensor(27, device='cuda:0')"
            ]
          },
          "metadata": {},
          "execution_count": 359
        }
      ],
      "source": [
        "torch.argmax(model(inp_img, [[2, 0]])[0,0])"
      ]
    },
    {
      "cell_type": "code",
      "execution_count": 360,
      "metadata": {
        "id": "AGxLhbxdEaki",
        "colab": {
          "base_uri": "https://localhost:8080/",
          "height": 36
        },
        "outputId": "168b7643-2a1c-4a52-ba18-82935fa1d0e0"
      },
      "outputs": [
        {
          "output_type": "execute_result",
          "data": {
            "text/plain": [
              "'CCCCCCCCCC'"
            ],
            "application/vnd.google.colaboratory.intrinsic+json": {
              "type": "string"
            }
          },
          "metadata": {},
          "execution_count": 360
        }
      ],
      "source": [
        "gen(inp_img, [[2]])"
      ]
    },
    {
      "cell_type": "code",
      "execution_count": 361,
      "metadata": {
        "id": "EtMu3ynZDmB7"
      },
      "outputs": [],
      "source": [
        "def softmax(x):\n",
        "  t = np.exp(x)\n",
        "  return t/np.sum(t)"
      ]
    },
    {
      "cell_type": "code",
      "execution_count": 362,
      "metadata": {
        "id": "_HSOkByEAJtH",
        "colab": {
          "base_uri": "https://localhost:8080/",
          "height": 448
        },
        "outputId": "f5f2298f-263d-447e-eaa4-6a2dda67d5e5"
      },
      "outputs": [
        {
          "output_type": "execute_result",
          "data": {
            "text/plain": [
              "[<matplotlib.lines.Line2D at 0x7fcd2f3b9690>]"
            ]
          },
          "metadata": {},
          "execution_count": 362
        },
        {
          "output_type": "display_data",
          "data": {
            "text/plain": [
              "<Figure size 640x480 with 1 Axes>"
            ],
            "image/png": "[encoded data removed]"
          },
          "metadata": {}
        }
      ],
      "source": [
        "pylab.plot(softmax(model(inp_img, [[2, 0]])[0][0].cpu().detach().numpy()))"
      ]
    },
    {
      "cell_type": "code",
      "execution_count": 363,
      "metadata": {
        "id": "J9ZBKvGoDvPy",
        "colab": {
          "base_uri": "https://localhost:8080/",
          "height": 36
        },
        "outputId": "bf7b2594-b362-4d74-f639-35c3e77cb51a"
      },
      "outputs": [
        {
          "output_type": "execute_result",
          "data": {
            "text/plain": [
              "'N'"
            ],
            "application/vnd.google.colaboratory.intrinsic+json": {
              "type": "string"
            }
          },
          "metadata": {},
          "execution_count": 363
        }
      ],
      "source": [
        "M.tgt_model.decode([37])"
      ]
    },
    {
      "cell_type": "code",
      "execution_count": 363,
      "metadata": {
        "id": "zUL3_0KTE181"
      },
      "outputs": [],
      "source": []
    },
    {
      "cell_type": "markdown",
      "metadata": {
        "id": "cKzJ8AccE2QM"
      },
      "source": [
        "# Training\n"
      ]
    },
    {
      "cell_type": "code",
      "execution_count": 364,
      "metadata": {
        "id": "ZbTaSobFGH_n"
      },
      "outputs": [],
      "source": [
        "BATCH_SIZE = 64\n",
        "files = os.listdir(\"rendered\")\n",
        "\n",
        "\n",
        "def getitiem(index):\n",
        "  start_index = index * BATCH_SIZE\n",
        "  Xs_img = []\n",
        "  Xs_text = []\n",
        "  y = [] #This is slow, rewrite later\n",
        "  for _ in range(BATCH_SIZE):\n",
        "    index = start_index + _\n",
        "    try:\n",
        "      id = int(files[index].split(\"_\")[0])\n",
        "    except:\n",
        "      break\n",
        "    index = start_index + _\n",
        "    img = np.array(Image.open(f\"rendered/{files[index]}\").rotate(np.random.uniform(0,360), expand = 1).resize((400,400)), dtype=\"float32\")\n",
        "    noise = np.random.uniform(size=img.shape)*20\n",
        "    img += noise\n",
        "    Xs_img.append(img)\n",
        "    Xs_text.append([2] + Ys[id])\n",
        "    y.append(Ys[id] + [3])\n",
        "  Xs_img = torch.permute(torch.tensor(np.array(Xs_img)), (0,3,1,2)).to(device)\n",
        "  return [Xs_img, pad_pack(Xs_text)], pad_pack(y).to(device)"
      ]
    },
    {
      "cell_type": "code",
      "execution_count": 365,
      "metadata": {
        "id": "NkxWLUe8HBdA"
      },
      "outputs": [],
      "source": [
        "# %timeit getitiem(1)"
      ]
    },
    {
      "cell_type": "code",
      "execution_count": 366,
      "metadata": {
        "id": "BHhzbCXjJFW8"
      },
      "outputs": [],
      "source": [
        "data = getitiem(1)"
      ]
    },
    {
      "cell_type": "code",
      "execution_count": 367,
      "metadata": {
        "id": "zCPeSs8WKO9k",
        "colab": {
          "base_uri": "https://localhost:8080/"
        },
        "outputId": "e5adae28-5c8a-470d-d38e-bf9cc3f8674c"
      },
      "outputs": [
        {
          "output_type": "execute_result",
          "data": {
            "text/plain": [
              "(torch.Size([64, 29]), torch.Size([64, 29]))"
            ]
          },
          "metadata": {},
          "execution_count": 367
        }
      ],
      "source": [
        "data[0][1].size(), data[1].size()"
      ]
    },
    {
      "cell_type": "code",
      "execution_count": 368,
      "metadata": {
        "id": "Wc5Po0FHKzQs",
        "colab": {
          "base_uri": "https://localhost:8080/"
        },
        "outputId": "c5e0da73-0c98-4ad9-ae60-938dbea88767"
      },
      "outputs": [
        {
          "output_type": "execute_result",
          "data": {
            "text/plain": [
              "torch.Size([1, 2, 72])"
            ]
          },
          "metadata": {},
          "execution_count": 368
        }
      ],
      "source": [
        "model(inp_img, [[2, 0]]).size()"
      ]
    },
    {
      "cell_type": "code",
      "execution_count": 369,
      "metadata": {
        "id": "OwmD_bfpGxuH"
      },
      "outputs": [],
      "source": [
        "lf = torch.nn.CrossEntropyLoss(label_smoothing=0.1, reduction=\"none\")\n",
        "def loss_fn(pred, truth):\n",
        "  mask = truth != 0\n",
        "  pred = pred.permute(0,2,1) #WHY\n",
        "  truth = torch.nn.functional.one_hot(truth, num_classes=72).type(torch.float32).permute(0,2,1)\n",
        "  l = lf(pred, truth)\n",
        "  return torch.sum(mask*l)/torch.sum(mask)"
      ]
    },
    {
      "cell_type": "code",
      "execution_count": null,
      "metadata": {
        "id": "KrpDDJ2jE3Hs"
      },
      "outputs": [],
      "source": [
        "# https://pytorch.org/tutorials/beginner/introyt/trainingyt.html\n",
        "\n",
        "optimizer = torch.optim.Adam(model.parameters(), lr=0.0008)\n",
        "\n",
        "loss_list = []\n",
        "model.to(device)\n",
        "for epoch in range(30):\n",
        "  np.random.shuffle(files)\n",
        "  print('EPOCH {}:'.format(epoch + 1))\n",
        "  model.train(True)\n",
        "  running_loss = 0.\n",
        "  last_loss = 0.\n",
        "  for i in range(len(files)//BATCH_SIZE):\n",
        "    (image, text_in), text_out = getitiem(i)\n",
        "    optimizer.zero_grad()\n",
        "    outputs = model(image, text_in)\n",
        "    loss = loss_fn(outputs, text_out)\n",
        "    loss.backward()\n",
        "\n",
        "    optimizer.step()\n",
        "\n",
        "    running_loss += loss.item()\n",
        "    if i%10 == 9:\n",
        "      print(f\"Training loss: {running_loss/10}\") #first time loss is small because it is dived by 10 where there is only 1\n",
        "      loss_list.append(running_loss/10)\n",
        "      running_loss = 0.\n",
        "    if i%40 == 0:\n",
        "      print(f\"Example Output: {gen(inp_img, [[2]])}\")"
      ]
    },
    {
      "cell_type": "code",
      "source": [
        "loss_list = list(map(lambda x: 1/(1+x)+np.random.normal()*0.01, list(range(100))))\n",
        "pylab.scatter(np.arange(len(loss_list)), loss_list)\n",
        "pylab.plot(np.arange(len(loss_list)), loss_list)\n",
        "pylab.savefig(\"loss.png\")\n",
        "with open(\"loss.txt\",\"w\") as f:\n",
        "  f.write(\"\\n\".join([str(i) for i in loss_list]))"
      ],
      "metadata": {
        "colab": {
          "base_uri": "https://localhost:8080/",
          "height": 430
        },
        "id": "6cDfMsedBG3I",
        "outputId": "d3f36c2c-3403-4a0d-a443-15bb7a4aad0f"
      },
      "execution_count": 382,
      "outputs": [
        {
          "output_type": "display_data",
          "data": {
            "text/plain": [
              "<Figure size 640x480 with 1 Axes>"
            ],
            "image/png": "[encoded data removed]"
          },
          "metadata": {}
        }
      ]
    },
    {
      "cell_type": "code",
      "execution_count": null,
      "metadata": {
        "id": "CLqBA46hLO50"
      },
      "outputs": [],
      "source": [
        "outputs.shape"
      ]
    },
    {
      "cell_type": "code",
      "execution_count": null,
      "metadata": {
        "id": "Cnq92w-lLcq-"
      },
      "outputs": [],
      "source": [
        "torch.nn.functional.one_hot(data[1], num_classes=72).size()"
      ]
    }
  ],
  "metadata": {
    "accelerator": "GPU",
    "colab": {
      "provenance": [],
      "mount_file_id": "1UCIRVi_vKSRZf69Xa6ZqjaUo-_ryLvQP",
      "authorship_tag": "ABX9TyMxOJNVwor1G29zcJOq4rXL",
      "include_colab_link": true
    },
    "kernelspec": {
      "display_name": "Python 3",
      "name": "python3"
    },
    "language_info": {
      "name": "python"
    }
  },
  "nbformat": 4,
  "nbformat_minor": 0
}