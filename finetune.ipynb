{
  "cells": [
    {
      "cell_type": "markdown",
      "metadata": {
        "id": "view-in-github",
        "colab_type": "text"
      },
      "source": [
        "<a href=\"https://colab.research.google.com/github/weathon/3d2smile/blob/main/finetune.ipynb\" target=\"_parent\"><img src=\"https://colab.research.google.com/assets/colab-badge.svg\" alt=\"Open In Colab\"/></a>"
      ]
    },
    {
      "cell_type": "code",
      "execution_count": 1,
      "metadata": {
        "id": "5qquj2I2RlAm",
        "colab": {
          "base_uri": "https://localhost:8080/"
        },
        "outputId": "804c2640-6daf-41a4-fabc-c29d4998e977"
      },
      "outputs": [
        {
          "output_type": "stream",
          "name": "stdout",
          "text": [
            "--2024-01-26 08:58:08--  http://file.weasoft.com/images.zip\n",
            "Resolving file.weasoft.com (file.weasoft.com)... 149.28.13.194\n",
            "Connecting to file.weasoft.com (file.weasoft.com)|149.28.13.194|:80... connected.\n",
            "HTTP request sent, awaiting response... 200 OK\n",
            "Length: 233782812 (223M) [application/zip]\n",
            "Saving to: ‘images.zip’\n",
            "\n",
            "images.zip          100%[===================>] 222.95M  19.2MB/s    in 13s     \n",
            "\n",
            "2024-01-26 08:58:21 (17.5 MB/s) - ‘images.zip’ saved [233782812/233782812]\n",
            "\n",
            "--2024-01-26 08:58:21--  http://file.weasoft.com/summary.csv\n",
            "Resolving file.weasoft.com (file.weasoft.com)... 149.28.13.194\n",
            "Connecting to file.weasoft.com (file.weasoft.com)|149.28.13.194|:80... connected.\n",
            "HTTP request sent, awaiting response... 200 OK\n",
            "Length: 245681 (240K) [text/csv]\n",
            "Saving to: ‘summary.csv’\n",
            "\n",
            "summary.csv         100%[===================>] 239.92K   351KB/s    in 0.7s    \n",
            "\n",
            "2024-01-26 08:58:22 (351 KB/s) - ‘summary.csv’ saved [245681/245681]\n",
            "\n"
          ]
        }
      ],
      "source": [
        "!wget file.weasoft.com/images.zip\n",
        "!wget file.weasoft.com/summary.csv"
      ]
    },
    {
      "cell_type": "code",
      "execution_count": 2,
      "metadata": {
        "id": "7nIJVhnhTfXT",
        "colab": {
          "base_uri": "https://localhost:8080/"
        },
        "outputId": "c77b62f6-4279-4559-a621-af551f8e8bcb"
      },
      "outputs": [
        {
          "output_type": "stream",
          "name": "stdout",
          "text": [
            "Archive:  images.zip\n",
            "  inflating: images/10952_050583472155929066.png  \n",
            "  inflating: images/10952_06413864577904915.png  \n",
            "  inflating: images/10952_0987733374849662.png  \n",
            "  inflating: images/10952_10418284106334552.png  \n",
            "  inflating: images/10952_16580034422892975.png  \n",
            "  inflating: images/10952_23370361265754647.png  \n",
            "  inflating: images/10952_2592774190030849.png  \n",
            "  inflating: images/10952_46352491565819787.png  \n",
            "  inflating: images/10952_5437104182840758.png  \n",
            "  inflating: images/10952_7528510827860566.png  \n",
            "  inflating: images/10952_8472447206478343.png  \n",
            "  inflating: images/10952_9943772215519315.png  \n",
            "  inflating: images/11182_009797678782551.png  \n",
            "  inflating: images/11182_056521676103760465.png  \n",
            "  inflating: images/11182_06305573566312661.png  \n",
            "  inflating: images/11182_06673381672094503.png  \n",
            "  inflating: images/11182_09202768527861127.png  \n",
            "  inflating: images/11182_09932843308058081.png  \n",
            "  inflating: images/11182_10408978036627115.png  \n",
            "  inflating: images/11182_10983032013014726.png  \n",
            "  inflating: images/11182_1262978826120098.png  \n",
            "  inflating: images/11182_1314325210419437.png  \n",
            "  inflating: images/11182_17841757812291215.png  \n",
            "  inflating: images/11182_2066010426335394.png  \n",
            "  inflating: images/11182_21639197109084551.png  \n",
            "  inflating: images/11182_25782296379391056.png  \n",
            "  inflating: images/11182_2784000324732555.png  \n",
            "  inflating: images/11182_2789822391409016.png  \n",
            "  inflating: images/11182_2915945660652661.png  \n",
            "  inflating: images/11182_29842397757923433.png  \n",
            "  inflating: images/11182_3134908131380568.png  \n",
            "  inflating: images/11182_3196120424851935.png  \n",
            "  inflating: images/11182_3262013037672431.png  \n",
            "  inflating: images/11182_32809097634949513.png  \n",
            "  inflating: images/11182_35419298431388724.png  \n",
            "  inflating: images/11182_38339567077020753.png  \n",
            "  inflating: images/11182_44587066520833984.png  \n",
            "  inflating: images/11182_4578981769946231.png  \n",
            "  inflating: images/11182_4579213893760452.png  \n",
            "  inflating: images/11182_46116455878460005.png  \n",
            "  inflating: images/11182_4796001884252823.png  \n",
            "  inflating: images/11182_4929511639891727.png  \n",
            "  inflating: images/11182_49951767561177907.png  \n",
            "  inflating: images/11182_5146824155957034.png  \n",
            "  inflating: images/11182_5185189629008559.png  \n",
            "  inflating: images/11182_5264620080554947.png  \n",
            "  inflating: images/11182_575309099963811.png  \n",
            "  inflating: images/11182_5811041293126082.png  \n",
            "  inflating: images/11182_5908271576302537.png  \n",
            "  inflating: images/11182_6098803919678664.png  \n",
            "  inflating: images/11182_6548467536260383.png  \n",
            "  inflating: images/11182_663619432373363.png  \n",
            "  inflating: images/11182_6715749728387435.png  \n",
            "  inflating: images/11182_7032429433241688.png  \n",
            "  inflating: images/11182_7260223418544139.png  \n",
            "  inflating: images/11182_7407523895602676.png  \n",
            "  inflating: images/11182_7557297286747165.png  \n",
            "  inflating: images/11182_8145440058332057.png  \n",
            "  inflating: images/11182_8307074405113319.png  \n",
            "  inflating: images/11182_8611514923192556.png  \n",
            "  inflating: images/11182_865872925981562.png  \n",
            "  inflating: images/11182_9069567183939572.png  \n",
            "  inflating: images/11182_9211271406363026.png  \n",
            "  inflating: images/11182_9216824375274711.png  \n",
            "  inflating: images/11182_9580552286806346.png  \n",
            "  inflating: images/11182_9604982284115807.png  \n",
            "  inflating: images/11182_9606403913986119.png  \n",
            "  inflating: images/11182_9647420523470538.png  \n",
            "  inflating: images/11182_9648814880303292.png  \n",
            "  inflating: images/11182_9914227032184584.png  \n",
            "  inflating: images/11202_005062078926437175.png  \n",
            "  inflating: images/11202_18079281218461274.png  \n",
            "  inflating: images/11202_3265783767572329.png  \n",
            "  inflating: images/11202_3985349788130179.png  \n",
            "  inflating: images/11202_41416914339415656.png  \n",
            "  inflating: images/11202_4311606031804178.png  \n",
            "  inflating: images/11202_591917743303503.png  \n",
            "  inflating: images/11202_7277162159108669.png  \n",
            "  inflating: images/11203_1175814098553728.png  \n",
            "  inflating: images/11203_1477698582738537.png  \n",
            "  inflating: images/11203_17268988378056538.png  \n",
            "  inflating: images/11203_17738605966377952.png  \n",
            "  inflating: images/11203_19629768094049616.png  \n",
            "  inflating: images/11203_256811019107516.png  \n",
            "  inflating: images/11203_3089497649555627.png  \n",
            "  inflating: images/11203_3759536976055181.png  \n",
            "  inflating: images/11203_3863800231103781.png  \n",
            "  inflating: images/11203_39923797443460507.png  \n",
            "  inflating: images/11203_40124031959942785.png  \n",
            "  inflating: images/11203_40914391254168836.png  \n",
            "  inflating: images/11203_42934458739394465.png  \n",
            "  inflating: images/11203_44353469198508455.png  \n",
            "  inflating: images/11203_49446440380602785.png  \n",
            "  inflating: images/11203_5415503752249482.png  \n",
            "  inflating: images/11203_5421025599172121.png  \n",
            "  inflating: images/11203_5679871151685637.png  \n",
            "  inflating: images/11203_6494223596881935.png  \n",
            "  inflating: images/11203_718499091544464.png  \n",
            "  inflating: images/11203_7641844898752217.png  \n",
            "  inflating: images/11240_38327708255413073.png  \n",
            "  inflating: images/11240_6104733797049618.png  \n",
            "  inflating: images/11240_8246698517774641.png  \n",
            "  inflating: images/11240_9027252270468494.png  \n",
            "  inflating: images/11241_0033989849189359767.png  \n",
            "  inflating: images/11241_06856791521014016.png  \n",
            "  inflating: images/11241_16181169228109682.png  \n",
            "  inflating: images/11241_16438855137109343.png  \n",
            "  inflating: images/11241_24348174853006077.png  \n",
            "  inflating: images/11241_30530027572682317.png  \n",
            "  inflating: images/11241_36610610278113564.png  \n",
            "  inflating: images/11241_36775051811998005.png  \n",
            "  inflating: images/11241_3889289001930706.png  \n",
            "  inflating: images/11241_47552413869634214.png  \n",
            "  inflating: images/11241_4941188455622748.png  \n",
            "  inflating: images/11241_6100022481665183.png  \n",
            "  inflating: images/11241_6745682583264007.png  \n",
            "  inflating: images/11241_695229669843152.png  \n",
            "  inflating: images/11241_7495369541073328.png  \n",
            "  inflating: images/11241_7515961379252674.png  \n",
            "  inflating: images/11241_8175280659459055.png  \n",
            "  inflating: images/11241_831183193871419.png  \n",
            "  inflating: images/11241_8336199895144908.png  \n",
            "  inflating: images/11241_845668440113843.png  \n",
            "  inflating: images/11241_961081227773226.png  \n",
            "  inflating: images/11250_04232490527172428.png  \n",
            "  inflating: images/11250_06020273987567548.png  \n",
            "  inflating: images/11250_06919006140708361.png  \n",
            "  inflating: images/11250_1001588971911288.png  \n",
            "  inflating: images/11250_2109091600977291.png  \n",
            "  inflating: images/11250_26596291184736176.png  \n",
            "  inflating: images/11250_35725161960967433.png  \n",
            "  inflating: images/11250_39036125462083193.png  \n",
            "  inflating: images/11250_4413622092932198.png  \n",
            "  inflating: images/11250_5155476277972306.png  \n",
            "  inflating: images/11429_05862473200050122.png  \n",
            "  inflating: images/11429_08003046362696242.png  \n",
            "  inflating: images/11429_1387412148876076.png  \n",
            "  inflating: images/11429_16537555694163275.png  \n",
            "  inflating: images/11429_2907772148057485.png  \n",
            "  inflating: images/11429_32685462531415954.png  \n",
            "  inflating: images/11429_4101352672206139.png  \n",
            "  inflating: images/11429_4146870691894271.png  \n",
            "  inflating: images/11429_4222058199968931.png  \n",
            "  inflating: images/11429_4473795490768402.png  \n",
            "  inflating: images/11429_5017638925818463.png  \n",
            "  inflating: images/11429_510354576550755.png  \n",
            "  inflating: images/11429_5192047608669347.png  \n",
            "  inflating: images/11429_7142384877281958.png  \n",
            "  inflating: images/11429_8062236442968839.png  \n",
            "  inflating: images/11429_9594638744780247.png  \n",
            "  inflating: images/11429_9710736116636112.png  \n",
            "  inflating: images/11429_9859248563800641.png  \n",
            "  inflating: images/11508_03445872096492497.png  \n",
            "  inflating: images/11508_06783877230618096.png  \n",
            "  inflating: images/11508_08609305771736397.png  \n",
            "  inflating: images/11508_27605787469359644.png  \n",
            "  inflating: images/11508_4794634604001061.png  \n",
            "  inflating: images/11508_8777781036674072.png  \n",
            "  inflating: images/11523_18822570471938505.png  \n",
            "  inflating: images/11523_24313535094615946.png  \n",
            "  inflating: images/11523_3252735896556046.png  \n",
            "  inflating: images/11523_3540793040822655.png  \n",
            "  inflating: images/11523_4297135345256432.png  \n",
            "  inflating: images/11523_6576358014768395.png  \n",
            "  inflating: images/11523_6678795001058488.png  \n",
            "  inflating: images/11523_6690107548746813.png  \n",
            "  inflating: images/11523_7133785155936151.png  \n",
            "  inflating: images/11523_7943580392120516.png  \n",
            "  inflating: images/11523_9694822045056424.png  \n",
            "  inflating: images/11523_9954834372184812.png  \n",
            "  inflating: images/11536_058022626302908775.png  \n",
            "  inflating: images/11536_13766269264763453.png  \n",
            "  inflating: images/11536_1579664405864828.png  \n",
            "  inflating: images/11536_16908129154866414.png  \n",
            "  inflating: images/11536_4528293152110041.png  \n",
            "  inflating: images/11536_5688055653694352.png  \n",
            "  inflating: images/11536_6350292443945283.png  \n",
            "  inflating: images/11536_735494014665265.png  \n",
            "  inflating: images/11536_8512865804072328.png  \n",
            "  inflating: images/11536_8720241368372826.png  \n",
            "  inflating: images/11536_9461995480661516.png  \n",
            "  inflating: images/11536_9974640263795451.png  \n",
            "  inflating: images/11536_9998666044789899.png  \n",
            "  inflating: images/12250_036582128729349295.png  \n",
            "  inflating: images/12250_07395129809998813.png  \n",
            "  inflating: images/12250_10870724222260908.png  \n",
            "  inflating: images/12250_12660856291652156.png  \n",
            "  inflating: images/12250_13118060595310221.png  \n",
            "  inflating: images/12250_18419035872115952.png  \n",
            "  inflating: images/12250_2073843718595404.png  \n",
            "  inflating: images/12250_2083040812165704.png  \n",
            "  inflating: images/12250_22725320571461038.png  \n",
            "  inflating: images/12250_24862998691116056.png  \n",
            "  inflating: images/12250_258384905448116.png  \n",
            "  inflating: images/12250_33023711646731235.png  \n",
            "  inflating: images/12250_34423815449533457.png  \n",
            "  inflating: images/12250_3876068578558568.png  \n",
            "  inflating: images/12250_6062150627571234.png  \n",
            "  inflating: images/12250_6226289889285037.png  \n",
            "  inflating: images/12250_647568608210396.png  \n",
            "  inflating: images/12250_6967903580841697.png  \n",
            "  inflating: images/12250_7946522726841582.png  \n",
            "  inflating: images/12250_8675690642496159.png  \n",
            "  inflating: images/12250_9291946716415199.png  \n",
            "  inflating: images/12250_959912407741876.png  \n",
            "  inflating: images/12361_005156144595119372.png  \n",
            "  inflating: images/12361_03453571864283944.png  \n",
            "  inflating: images/12361_04163512879338116.png  \n",
            "  inflating: images/12361_0619413378081366.png  \n",
            "  inflating: images/12361_09624464900451735.png  \n",
            "  inflating: images/12361_15128361869329376.png  \n",
            "  inflating: images/12361_1709779932858968.png  \n",
            "  inflating: images/12361_2363658932084053.png  \n",
            "  inflating: images/12361_312909743853081.png  \n",
            "  inflating: images/12361_4056091726289942.png  \n",
            "  inflating: images/12361_5251810231382981.png  \n",
            "  inflating: images/12361_5859138201217112.png  \n",
            "  inflating: images/12361_6317157032669959.png  \n",
            "  inflating: images/12361_8926269174793892.png  \n",
            "  inflating: images/12361_9400998580100283.png  \n",
            "  inflating: images/12361_9839493656848463.png  \n",
            "  inflating: images/12361_9927026381963012.png  \n",
            "  inflating: images/12417_05802505450217965.png  \n",
            "  inflating: images/12417_19278610152916165.png  \n",
            "  inflating: images/12417_2113367431296237.png  \n",
            "  inflating: images/12417_2792172929924892.png  \n",
            "  inflating: images/12417_5018243844391835.png  \n",
            "  inflating: images/12417_5726635137353959.png  \n",
            "  inflating: images/12417_8678851890421231.png  \n",
            "  inflating: images/12417_8976533419767599.png  \n",
            "  inflating: images/12417_9450654651711997.png  \n",
            "  inflating: images/13202_1955216115937265.png  \n",
            "  inflating: images/13202_21477927576052325.png  \n",
            "  inflating: images/13202_24641515113543822.png  \n",
            "  inflating: images/13202_5302158097055251.png  \n",
            "  inflating: images/13202_6547056785291508.png  \n",
            "  inflating: images/13202_7922346494578366.png  \n",
            "  inflating: images/13556_0029657908269115074.png  \n",
            "  inflating: images/13556_039565308502600316.png  \n",
            "  inflating: images/13556_1293770556081817.png  \n",
            "  inflating: images/13556_15050890773875159.png  \n",
            "  inflating: images/13556_2037379202823224.png  \n",
            "  inflating: images/13556_23034460092152476.png  \n",
            "  inflating: images/13556_3347549563577089.png  \n",
            "  inflating: images/13556_3936232266733405.png  \n",
            "  inflating: images/13556_5125298502052589.png  \n",
            "  inflating: images/13556_6251635186825621.png  \n",
            "  inflating: images/13556_6500240165831547.png  \n",
            "  inflating: images/13556_7353305660685872.png  \n",
            "  inflating: images/13556_8090785915682573.png  \n",
            "  inflating: images/13556_8560713885038348.png  \n",
            "  inflating: images/13556_9411116365546401.png  \n",
            "  inflating: images/13556_9562696273167717.png  \n",
            "  inflating: images/13589_04240105002579597.png  \n",
            "  inflating: images/13589_05543257705692861.png  \n",
            "  inflating: images/13589_08332790608715379.png  \n",
            "  inflating: images/13589_09083597950136924.png  \n",
            "  inflating: images/13589_1944224908418999.png  \n",
            "  inflating: images/13589_20277630382989287.png  \n",
            "  inflating: images/13589_2419024810000593.png  \n",
            "  inflating: images/13589_2491135608436541.png  \n",
            "  inflating: images/13589_34187490898739814.png  \n",
            "  inflating: images/13589_36735035120618376.png  \n",
            "  inflating: images/13589_4695222773493192.png  \n",
            "  inflating: images/13589_5033553300684387.png  \n",
            "  inflating: images/13589_5594418584466513.png  \n",
            "  inflating: images/13589_6721093159499547.png  \n",
            "  inflating: images/13589_8789575544042091.png  \n",
            "  inflating: images/13589_894473934705239.png  \n",
            "  inflating: images/13589_9812776979039335.png  \n",
            "  inflating: images/13589_9816297125341061.png  \n",
            "  inflating: images/13855_08017716486670823.png  \n",
            "  inflating: images/13855_24355222139031696.png  \n",
            "  inflating: images/13855_353584988210226.png  \n",
            "  inflating: images/13855_37042167782187796.png  \n",
            "  inflating: images/13855_4577971194824372.png  \n",
            "  inflating: images/13855_4645367056994619.png  \n",
            "  inflating: images/13855_5387112783990541.png  \n",
            "  inflating: images/13855_6980071238130392.png  \n",
            "  inflating: images/13855_7654881967048557.png  \n",
            "  inflating: images/13855_8807605427801385.png  \n",
            "  inflating: images/13855_9415460163269872.png  \n",
            "  inflating: images/14480_0863800229768723.png  \n",
            "  inflating: images/14480_18891410410989362.png  \n",
            "  inflating: images/14480_21016823040582155.png  \n",
            "  inflating: images/14480_21590529657818336.png  \n",
            "  inflating: images/14480_22081799695008542.png  \n",
            "  inflating: images/14480_2507734322135763.png  \n",
            "  inflating: images/14480_2813713999086158.png  \n",
            "  inflating: images/14480_3413986864451316.png  \n",
            "  inflating: images/14480_34492826055498105.png  \n",
            "  inflating: images/14480_3449666492820198.png  \n",
            "  inflating: images/14480_408119879596777.png  \n",
            "  inflating: images/14480_47453356060224916.png  \n",
            "  inflating: images/14480_5351658443599191.png  \n",
            "  inflating: images/14480_6173571177894653.png  \n",
            "  inflating: images/14480_7950804883164754.png  \n",
            "  inflating: images/14480_8984606957753951.png  \n",
            "  inflating: images/14480_9683685367350805.png  \n",
            "  inflating: images/15274_04726903216938705.png  \n",
            "  inflating: images/15274_08604865848952192.png  \n",
            "  inflating: images/15274_20231405073373732.png  \n",
            "  inflating: images/15274_21264142701594513.png  \n",
            "  inflating: images/15274_2473105329758687.png  \n",
            "  inflating: images/15274_4638341807023926.png  \n",
            "  inflating: images/15274_5000944798885981.png  \n",
            "  inflating: images/15274_5679482157333191.png  \n",
            "  inflating: images/15274_5713747402153592.png  \n",
            "  inflating: images/15274_9863303214351178.png  \n",
            "  inflating: images/16565_03939276191994612.png  \n",
            "  inflating: images/16565_10766377752894629.png  \n",
            "  inflating: images/16565_269708248877615.png  \n",
            "  inflating: images/16565_32582113265686974.png  \n",
            "  inflating: images/16565_3507283808784506.png  \n",
            "  inflating: images/16565_4077240503662548.png  \n",
            "  inflating: images/16565_4298535858444491.png  \n",
            "  inflating: images/16565_5414164176444959.png  \n",
            "  inflating: images/16565_7234257863887016.png  \n",
            "  inflating: images/16565_8482204495191367.png  \n",
            "  inflating: images/16565_8984835532966602.png  \n",
            "  inflating: images/175854_05074501907214146.png  \n",
            "  inflating: images/175854_2641578458210082.png  \n",
            "  inflating: images/175854_2832964078966017.png  \n",
            "  inflating: images/175854_4215987404736318.png  \n",
            "  inflating: images/18150_06376385907987625.png  \n",
            "  inflating: images/18150_08026895659852495.png  \n",
            "  inflating: images/18150_3329258901143275.png  \n",
            "  inflating: images/18150_3636332884200748.png  \n",
            "  inflating: images/18150_4074911646033653.png  \n",
            "  inflating: images/18150_5140222581896227.png  \n",
            "  inflating: images/18150_5275458712634185.png  \n",
            "  inflating: images/18150_6009883067405076.png  \n",
            "  inflating: images/18150_780353848483372.png  \n",
            "  inflating: images/18150_9422858807652992.png  \n",
            "  inflating: images/18175_04861809482672019.png  \n",
            "  inflating: images/18175_17086936855791268.png  \n",
            "  inflating: images/18175_1854707905611186.png  \n",
            "  inflating: images/18175_36384091878491653.png  \n",
            "  inflating: images/18175_3697353184458054.png  \n",
            "  inflating: images/18175_47845835434556894.png  \n",
            "  inflating: images/18175_6001377537712964.png  \n",
            "  inflating: images/18175_6299426975134566.png  \n",
            "  inflating: images/18175_6379054233554157.png  \n",
            "  inflating: images/18175_6530311834180367.png  \n",
            "  inflating: images/18175_656939182493888.png  \n",
            "  inflating: images/18175_6923186711910166.png  \n",
            "  inflating: images/18175_7283198944259341.png  \n",
            "  inflating: images/18175_8487687442019222.png  \n",
            "  inflating: images/18175_9131221210334668.png  \n",
            "  inflating: images/18175_9574077073988841.png  \n",
            "  inflating: images/18302_05491425406030881.png  \n",
            "  inflating: images/18302_2746009000066567.png  \n",
            "  inflating: images/18302_4231545097272297.png  \n",
            "  inflating: images/18302_5944553381935421.png  \n",
            "  inflating: images/18302_6433845490455462.png  \n",
            "  inflating: images/18302_646286990261234.png  \n",
            "  inflating: images/18302_6751310296704346.png  \n",
            "  inflating: images/18302_6945381726675196.png  \n",
            "  inflating: images/18632_20995534180483943.png  \n",
            "  inflating: images/18632_2356434116326479.png  \n",
            "  inflating: images/18632_27029815291859705.png  \n",
            "  inflating: images/18632_42291860589129826.png  \n",
            "  inflating: images/18632_4410305708395522.png  \n",
            "  inflating: images/18632_48365517395647406.png  \n",
            "  inflating: images/18632_6184709438886392.png  \n",
            "  inflating: images/18632_6190281311038298.png  \n",
            "  inflating: images/18632_6493484364483708.png  \n",
            "  inflating: images/18632_7027118519182368.png  \n",
            "  inflating: images/18632_7649619635736681.png  \n",
            "  inflating: images/18632_7907938733861429.png  \n",
            "  inflating: images/18632_8489995232153437.png  \n",
            "  inflating: images/18632_9224158291489387.png  \n",
            "  inflating: images/18632_9474151432004296.png  \n",
            "  inflating: images/18632_9661495653460863.png  \n",
            "  inflating: images/19463_0764442820845348.png  \n",
            "  inflating: images/19463_23724182653184078.png  \n",
            "  inflating: images/19463_40439142692522767.png  \n",
            "  inflating: images/19463_43095874545288704.png  \n",
            "  inflating: images/19463_6939425543874388.png  \n",
            "  inflating: images/19463_9698114641393771.png  \n",
            "  inflating: images/21159_10045779692460122.png  \n",
            "  inflating: images/21159_12965351978486517.png  \n",
            "  inflating: images/21159_14357239511136166.png  \n",
            "  inflating: images/21159_17033849681640822.png  \n",
            "  inflating: images/21159_23586001361995768.png  \n",
            "  inflating: images/21159_24438820230458647.png  \n",
            "  inflating: images/21159_37608278386985516.png  \n",
            "  inflating: images/21159_3786584952549632.png  \n",
            "  inflating: images/21159_5633554637733006.png  \n",
            "  inflating: images/21159_6951509511051787.png  \n",
            "  inflating: images/21159_7434787577266899.png  \n",
            "  inflating: images/21159_8362944601184047.png  \n",
            "  inflating: images/220010_1077679274449943.png  \n",
            "  inflating: images/220010_43027800563152807.png  \n",
            "  inflating: images/220010_43891672900121415.png  \n",
            "  inflating: images/220010_47250929782841256.png  \n",
            "  inflating: images/220010_4755618749628502.png  \n",
            "  inflating: images/220010_670432616458623.png  \n",
            "  inflating: images/220010_8792972652010657.png  \n",
            "  inflating: images/220010_9171996284933339.png  \n",
            "  inflating: images/220010_9381666898521992.png  \n",
            "  inflating: images/220010_9774300248873315.png  \n",
            "  inflating: images/22497934_11262390549454238.png  \n",
            "  inflating: images/22497934_22004847764210878.png  \n",
            "  inflating: images/22497934_4082497524493067.png  \n",
            "  inflating: images/22497934_4737528400245645.png  \n",
            "  inflating: images/22497934_5102602048812754.png  \n",
            "  inflating: images/22497934_5538952283326654.png  \n",
            "  inflating: images/22497934_6160377541696094.png  \n",
            "  inflating: images/22497934_7842892879356296.png  \n",
            "  inflating: images/22497934_9612036353375477.png  \n",
            "  inflating: images/22497934_9763994237784829.png  \n",
            "  inflating: images/225936_0014717005469812028.png  \n",
            "  inflating: images/225936_0025508801042830598.png  \n",
            "  inflating: images/225936_006019309065149914.png  \n",
            "  inflating: images/225936_01683264320770561.png  \n",
            "  inflating: images/225936_0579339387228045.png  \n",
            "  inflating: images/225936_09588378264238695.png  \n",
            "  inflating: images/225936_1469479159891125.png  \n",
            "  inflating: images/225936_1652175182372223.png  \n",
            "  inflating: images/225936_18204580731271403.png  \n",
            "  inflating: images/225936_19358178283387584.png  \n",
            "  inflating: images/225936_22342822574193322.png  \n",
            "  inflating: images/225936_2313254113473251.png  \n",
            "  inflating: images/225936_3006784395517388.png  \n",
            "  inflating: images/225936_3026148147098957.png  \n",
            "  inflating: images/225936_31317458172519985.png  \n",
            "  inflating: images/225936_3571000320293076.png  \n",
            "  inflating: images/225936_43047319385186655.png  \n",
            "  inflating: images/225936_4367367464633417.png  \n",
            "  inflating: images/225936_4383737810862336.png  \n",
            "  inflating: images/225936_4572700062052144.png  \n",
            "  inflating: images/225936_4620466294072392.png  \n",
            "  inflating: images/225936_5593564844344313.png  \n",
            "  inflating: images/225936_5926560407748839.png  \n",
            "  inflating: images/225936_6187108219771726.png  \n",
            "  inflating: images/225936_6207031047051755.png  \n",
            "  inflating: images/225936_6213744046448682.png  \n",
            "  inflating: images/225936_650093823410644.png  \n",
            "  inflating: images/225936_6796025500284497.png  \n",
            "  inflating: images/225936_7086338646185276.png  \n",
            "  inflating: images/225936_8203421366129668.png  \n",
            "  inflating: images/225936_8742746452557436.png  \n",
            "  inflating: images/225936_8787843800274683.png  \n",
            "  inflating: images/225936_8835900048287082.png  \n",
            "  inflating: images/225936_9172348706731229.png  \n",
            "  inflating: images/24250_22208210203902556.png  \n",
            "  inflating: images/24250_5275155304854008.png  \n",
            "  inflating: images/24250_617744186546887.png  \n",
            "  inflating: images/24250_7897971111330441.png  \n",
            "  inflating: images/24250_8155423245995675.png  \n",
            "  inflating: images/25975_015836659287404853.png  \n",
            "  inflating: images/25975_029305623913404633.png  \n",
            "  inflating: images/25975_031719334834663604.png  \n",
            "  inflating: images/25975_032337450031500126.png  \n",
            "  inflating: images/25975_08166567049831852.png  \n",
            "  inflating: images/25975_10574876918278975.png  \n",
            "  inflating: images/25975_12071220246811787.png  \n",
            "  inflating: images/25975_21017916413997506.png  \n",
            "  inflating: images/25975_28833825052733963.png  \n",
            "  inflating: images/25975_3570894906236487.png  \n",
            "  inflating: images/25975_39660877239682113.png  \n",
            "  inflating: images/25975_4241001449422632.png  \n",
            "  inflating: images/25975_42714103200930453.png  \n",
            "  inflating: images/25975_5295386376765095.png  \n",
            "  inflating: images/25975_5426314814147519.png  \n",
            "  inflating: images/25975_607654531471038.png  \n",
            "  inflating: images/25975_6135247371486674.png  \n",
            "  inflating: images/25975_6171846682020259.png  \n",
            "  inflating: images/25975_6990851030927974.png  \n",
            "  inflating: images/25975_7194655239185351.png  \n",
            "  inflating: images/25975_7468209059890772.png  \n",
            "  inflating: images/25975_7951110623454398.png  \n",
            "  inflating: images/25975_8677313681366784.png  \n",
            "  inflating: images/25975_879492469978738.png  \n",
            "  inflating: images/25975_9568667895727483.png  \n",
            "  inflating: images/25975_9678838001393154.png  \n",
            "  inflating: images/25975_9910691086131231.png  \n",
            "  inflating: images/2724488_04671018790729331.png  \n",
            "  inflating: images/2724488_08682107568522401.png  \n",
            "  inflating: images/2724488_11629322249288643.png  \n",
            "  inflating: images/2724488_1340603905593104.png  \n",
            "  inflating: images/2724488_3072898870559696.png  \n",
            "  inflating: images/2724488_33293909828615165.png  \n",
            "  inflating: images/2724488_6080818874945539.png  \n",
            "  inflating: images/2724488_7639188870435715.png  \n",
            "  inflating: images/2724488_7669181259532545.png  \n",
            "  inflating: images/2724488_79145286622302.png  \n",
            "  inflating: images/2724488_8072726106621649.png  \n",
            "  inflating: images/2724488_8627637632787749.png  \n",
            "  inflating: images/2724488_9020310848915528.png  \n",
            "  inflating: images/2724488_9457722581093884.png  \n",
            "  inflating: images/286_059227563232289726.png  \n",
            "  inflating: images/286_1178357204822813.png  \n",
            "  inflating: images/286_13144353196490932.png  \n",
            "  inflating: images/286_14123141185338928.png  \n",
            "  inflating: images/286_26186591590584574.png  \n",
            "  inflating: images/286_291519054706887.png  \n",
            "  inflating: images/286_3448409759190625.png  \n",
            "  inflating: images/286_3849802650697731.png  \n",
            "  inflating: images/286_41006764947428587.png  \n",
            "  inflating: images/286_45263980661967973.png  \n",
            "  inflating: images/286_5760972837401569.png  \n",
            "  inflating: images/286_5832224334909873.png  \n",
            "  inflating: images/286_62776193878468.png  \n",
            "  inflating: images/286_6442431984647838.png  \n",
            "  inflating: images/286_6479478203003403.png  \n",
            "  inflating: images/286_6835455078191323.png  \n",
            "  inflating: images/286_6910048371489252.png  \n",
            "  inflating: images/286_7037578211027036.png  \n",
            "  inflating: images/286_8002224118613194.png  \n",
            "  inflating: images/286_8009949225635042.png  \n",
            "  inflating: images/286_8176025030280614.png  \n",
            "  inflating: images/286_841600412992074.png  \n",
            "  inflating: images/286_8650773050302389.png  \n",
            "  inflating: images/286_8879386141596759.png  \n",
            "  inflating: images/286_9340428295738961.png  \n",
            "  inflating: images/286_9823380938991615.png  \n",
            "  inflating: images/286_9876611480246069.png  \n",
            "  inflating: images/439846_707357795885312.png  \n",
            "  inflating: images/439846_7318479947441555.png  \n",
            "  inflating: images/439846_814154262855051.png  \n",
            "  inflating: images/439846_9710728662603555.png  \n",
            "  inflating: images/638066_007076753630370969.png  \n",
            "  inflating: images/638066_03235834041380237.png  \n",
            "  inflating: images/638066_034161093729831005.png  \n",
            "  inflating: images/638066_0519577179953965.png  \n",
            "  inflating: images/638066_05390404791433079.png  \n",
            "  inflating: images/638066_06240459288361844.png  \n",
            "  inflating: images/638066_06385025513124298.png  \n",
            "  inflating: images/638066_06638931674249593.png  \n",
            "  inflating: images/638066_07598405570728473.png  \n",
            "  inflating: images/638066_10700388705013686.png  \n",
            "  inflating: images/638066_11406434808044741.png  \n",
            "  inflating: images/638066_12403416204086526.png  \n",
            "  inflating: images/638066_14444163382173858.png  \n",
            "  inflating: images/638066_16106809795537735.png  \n",
            "  inflating: images/638066_16588933339386613.png  \n",
            "  inflating: images/638066_2313646280670869.png  \n",
            "  inflating: images/638066_24536301851102993.png  \n",
            "  inflating: images/638066_2650415764633156.png  \n",
            "  inflating: images/638066_26700966879265964.png  \n",
            "  inflating: images/638066_3195650376954122.png  \n",
            "  inflating: images/638066_3757242618504105.png  \n",
            "  inflating: images/638066_3863987567223922.png  \n",
            "  inflating: images/638066_43055970589713566.png  \n",
            "  inflating: images/638066_430673386054632.png  \n",
            "  inflating: images/638066_43118419471829716.png  \n",
            "  inflating: images/638066_436459978672751.png  \n",
            "  inflating: images/638066_4642238477244952.png  \n",
            "  inflating: images/638066_4684672445454977.png  \n",
            "  inflating: images/638066_4826370371268085.png  \n",
            "  inflating: images/638066_5607678737716016.png  \n",
            "  inflating: images/638066_5862036680966992.png  \n",
            "  inflating: images/638066_6499344169081486.png  \n",
            "  inflating: images/638066_6592699841077495.png  \n",
            "  inflating: images/638066_6757829998122296.png  \n",
            "  inflating: images/638066_6939770006544392.png  \n",
            "  inflating: images/638066_758979028387447.png  \n",
            "  inflating: images/638066_7920488895914105.png  \n",
            "  inflating: images/638066_7941145220747295.png  \n",
            "  inflating: images/638066_8005684160019879.png  \n",
            "  inflating: images/638066_8071673655436701.png  \n",
            "  inflating: images/638066_8568520388640769.png  \n",
            "  inflating: images/638066_8645836532347352.png  \n",
            "  inflating: images/638066_9513073142477927.png  \n",
            "  inflating: images/6562_0030350368978113718.png  \n",
            "  inflating: images/6562_018138224877599973.png  \n",
            "  inflating: images/6562_07793513711501032.png  \n",
            "  inflating: images/6562_17783470472693474.png  \n",
            "  inflating: images/6562_20801146171196017.png  \n",
            "  inflating: images/6562_2138605173649507.png  \n",
            "  inflating: images/6562_2780170070222012.png  \n",
            "  inflating: images/6562_4384296290567634.png  \n",
            "  inflating: images/6562_4661583590749264.png  \n",
            "  inflating: images/6562_5507274048413425.png  \n",
            "  inflating: images/6562_5602104178284777.png  \n",
            "  inflating: images/6562_7072017670512375.png  \n",
            "  inflating: images/6562_7373186323938302.png  \n",
            "  inflating: images/6562_7404403566148138.png  \n",
            "  inflating: images/6562_8024290353308917.png  \n",
            "  inflating: images/6562_8082822185368493.png  \n",
            "  inflating: images/6562_8506090864452234.png  \n",
            "  inflating: images/6562_915341502186021.png  \n",
            "  inflating: images/6587_12193701245505284.png  \n",
            "  inflating: images/6587_1635563220290519.png  \n",
            "  inflating: images/6587_20312848503080272.png  \n",
            "  inflating: images/6587_26572355888710253.png  \n",
            "  inflating: images/6587_3557316862334575.png  \n",
            "  inflating: images/6587_5325716391524075.png  \n",
            "  inflating: images/6587_5612631644997619.png  \n",
            "  inflating: images/6587_5904669511433789.png  \n",
            "  inflating: images/6587_6071079322495505.png  \n",
            "  inflating: images/6587_6180242235422889.png  \n",
            "  inflating: images/6587_6269349953024647.png  \n",
            "  inflating: images/6587_6693200888063354.png  \n",
            "  inflating: images/6587_6939267470221112.png  \n",
            "  inflating: images/6587_7476736213833685.png  \n",
            "  inflating: images/6587_7953693873515812.png  \n",
            "  inflating: images/6587_8376553487257712.png  \n",
            "  inflating: images/6587_8975024664040084.png  \n",
            "  inflating: images/68424_3534951004431175.png  \n",
            "  inflating: images/68424_3866321875016152.png  \n",
            "  inflating: images/68424_40243447695789114.png  \n",
            "  inflating: images/68424_4920356833598182.png  \n",
            "  inflating: images/68424_5043130560255364.png  \n",
            "  inflating: images/68424_571641517165968.png  \n",
            "  inflating: images/68424_5728355618846817.png  \n",
            "  inflating: images/68424_623084311694715.png  \n",
            "  inflating: images/68424_655385667795118.png  \n",
            "  inflating: images/68424_7601943173358257.png  \n",
            "  inflating: images/68424_7622244075274521.png  \n",
            "  inflating: images/71601_00800995109789493.png  \n",
            "  inflating: images/71601_05353309706926379.png  \n",
            "  inflating: images/71601_09698792074009666.png  \n",
            "  inflating: images/71601_23427160211773512.png  \n",
            "  inflating: images/71601_3847530550366789.png  \n",
            "  inflating: images/71601_45693334041114675.png  \n",
            "  inflating: images/71601_4729348955155056.png  \n",
            "  inflating: images/71601_49277655271446164.png  \n",
            "  inflating: images/71601_522508079373267.png  \n",
            "  inflating: images/71601_5371833271681227.png  \n",
            "  inflating: images/71601_5443356600648828.png  \n",
            "  inflating: images/71601_6256790827912861.png  \n",
            "  inflating: images/71601_7879335935007837.png  \n",
            "  inflating: images/71601_8128479405305983.png  \n",
            "  inflating: images/71601_8196345443266883.png  \n",
            "  inflating: images/71601_8468886633699854.png  \n",
            "  inflating: images/71601_8665728048764098.png  \n",
            "  inflating: images/71601_9096869166146375.png  \n",
            "  inflating: images/71601_9799086490542326.png  \n",
            "  inflating: images/751_07428564343985589.png  \n",
            "  inflating: images/751_1815339448810197.png  \n",
            "  inflating: images/751_19630314586370412.png  \n",
            "  inflating: images/751_3538429831958465.png  \n",
            "  inflating: images/751_3593762478701443.png  \n",
            "  inflating: images/751_4129540996254809.png  \n",
            "  inflating: images/751_5104874168414675.png  \n",
            "  inflating: images/751_643728149138414.png  \n",
            "  inflating: images/751_6690075151155743.png  \n",
            "  inflating: images/751_8925442728442182.png  \n",
            "  inflating: images/751_9289301105663369.png  \n",
            "  inflating: images/751_9416901235501396.png  \n",
            "  inflating: images/751_9671287779812398.png  \n",
            "  inflating: images/751_9971051922576657.png  \n",
            "  inflating: images/753_06449789365200354.png  \n",
            "  inflating: images/753_2215026109867051.png  \n",
            "  inflating: images/753_330414017786704.png  \n",
            "  inflating: images/753_47350476044213763.png  \n",
            "  inflating: images/753_4881816001494311.png  \n",
            "  inflating: images/753_5542426454937418.png  \n",
            "  inflating: images/753_5990976765931187.png  \n",
            "  inflating: images/753_8018416889532753.png  \n",
            "  inflating: images/753_8149652066026788.png  \n",
            "  inflating: images/757_3666371276695256.png  \n",
            "  inflating: images/757_5686992992547445.png  \n",
            "  inflating: images/757_709810013139491.png  \n",
            "  inflating: images/757_8366267880232956.png  \n",
            "  inflating: images/757_941235906591915.png  \n",
            "  inflating: images/7745_07881982078046235.png  \n",
            "  inflating: images/7745_5116628384062305.png  \n",
            "  inflating: images/7745_9439153646255601.png  \n",
            "  inflating: images/7745_9592354701840992.png  \n",
            "  inflating: images/78344_010332802106706285.png  \n",
            "  inflating: images/78344_015284215461570216.png  \n",
            "  inflating: images/78344_022850674204446864.png  \n",
            "  inflating: images/78344_1938945075009253.png  \n",
            "  inflating: images/78344_6750208347233633.png  \n",
            "  inflating: images/78344_7297553584923403.png  \n",
            "  inflating: images/78344_7831446803963499.png  \n",
            "  inflating: images/78344_9696407232802005.png  \n",
            "  inflating: images/78344_9724026369245179.png  \n",
            "  inflating: images/7851_15539441547324673.png  \n",
            "  inflating: images/7851_18921272282686652.png  \n",
            "  inflating: images/7851_23406391862412967.png  \n",
            "  inflating: images/7851_28008441950819685.png  \n",
            "  inflating: images/7851_34957431130625605.png  \n",
            "  inflating: images/7851_5186266282534773.png  \n",
            "  inflating: images/7851_6354080717906195.png  \n",
            "  inflating: images/7851_6615432250725395.png  \n",
            "  inflating: images/7851_7101457316094224.png  \n",
            "  inflating: images/7851_7512494138726595.png  \n",
            "  inflating: images/7851_7864403142313742.png  \n",
            "  inflating: images/7851_8040118529558907.png  \n",
            "  inflating: images/7851_8186867178708724.png  \n",
            "  inflating: images/7851_942719634089657.png  \n",
            "  inflating: images/7851_9660352996434196.png  \n",
            "  inflating: images/7851_9716778139460611.png  \n",
            "  inflating: images/7901_07215050206394769.png  \n",
            "  inflating: images/7901_07868940043444017.png  \n",
            "  inflating: images/7901_1147812925191749.png  \n",
            "  inflating: images/7901_15735009483045492.png  \n",
            "  inflating: images/7901_25590612749406594.png  \n",
            "  inflating: images/7901_3938769947644245.png  \n",
            "  inflating: images/7901_4061162436709649.png  \n",
            "  inflating: images/7901_4284940182868109.png  \n",
            "  inflating: images/7901_4439151205329409.png  \n",
            "  inflating: images/7901_5465724054240266.png  \n",
            "  inflating: images/7901_5523592265131223.png  \n",
            "  inflating: images/7901_6066879601038391.png  \n",
            "  inflating: images/7901_6409736203564693.png  \n",
            "  inflating: images/7901_6535202259283241.png  \n",
            "  inflating: images/7901_6783050934627038.png  \n",
            "  inflating: images/7901_7064628386668859.png  \n",
            "  inflating: images/7901_8676146896453593.png  \n",
            "  inflating: images/7901_8682975398585778.png  \n",
            "  inflating: images/7962_08018138386646212.png  \n",
            "  inflating: images/7962_1497955700958402.png  \n",
            "  inflating: images/7962_16131361961402002.png  \n",
            "  inflating: images/7962_22190279632107102.png  \n",
            "  inflating: images/7962_415232599384888.png  \n",
            "  inflating: images/7962_49016457403627445.png  \n",
            "  inflating: images/7962_6277697641988694.png  \n",
            "  inflating: images/7962_7265757878286809.png  \n",
            "  inflating: images/7962_8018848773760483.png  \n",
            "  inflating: images/7962_892901799770011.png  \n",
            "  inflating: images/7962_9008837079328699.png  \n",
            "  inflating: images/7962_9829640771763097.png  \n",
            "  inflating: images/7966_4241685624708257.png  \n",
            "  inflating: images/7966_5031387951089212.png  \n",
            "  inflating: images/7966_585202226479618.png  \n",
            "  inflating: images/7966_8294659999901896.png  \n",
            "  inflating: images/7977_14963014918122508.png  \n",
            "  inflating: images/7977_15606284309021734.png  \n",
            "  inflating: images/7977_18333193215838228.png  \n",
            "  inflating: images/7977_2836851533115262.png  \n",
            "  inflating: images/7977_40617176066794203.png  \n",
            "  inflating: images/7977_4373826609087633.png  \n",
            "  inflating: images/7977_5074095203736483.png  \n",
            "  inflating: images/7977_7315759217322618.png  \n",
            "  inflating: images/7977_7575593000313081.png  \n",
            "  inflating: images/7977_8414442482372084.png  \n",
            "  inflating: images/7977_913500881606432.png  \n",
            "  inflating: images/8072_2548062618814051.png  \n",
            "  inflating: images/8072_28484922657086287.png  \n",
            "  inflating: images/8072_304677471867529.png  \n",
            "  inflating: images/8072_39155673262465684.png  \n",
            "  inflating: images/8072_41056287171091765.png  \n",
            "  inflating: images/8072_6193778667818037.png  \n",
            "  inflating: images/8072_6312997967596023.png  \n",
            "  inflating: images/8072_6985633827557364.png  \n",
            "  inflating: images/8072_7524503664983787.png  \n",
            "  inflating: images/8072_8798517763873765.png  \n",
            "  inflating: images/8072_9269315845229883.png  \n",
            "  inflating: images/8072_9497071468069358.png  \n",
            "  inflating: images/8072_968714344563534.png  \n",
            "  inflating: images/8078_09802415224992223.png  \n",
            "  inflating: images/8078_24509758951863125.png  \n",
            "  inflating: images/8078_5238163474049952.png  \n",
            "  inflating: images/8078_5933153125060011.png  \n",
            "  inflating: images/8078_6936142427546074.png  \n",
            "  inflating: images/8078_7113056116742353.png  \n",
            "  inflating: images/8078_7333106177716723.png  \n",
            "  inflating: images/8100_14812902048814647.png  \n",
            "  inflating: images/8100_15187393585944542.png  \n",
            "  inflating: images/8100_1542899525989594.png  \n",
            "  inflating: images/8100_1930441576686306.png  \n",
            "  inflating: images/8100_2453427549743149.png  \n",
            "  inflating: images/8100_32948366410313323.png  \n",
            "  inflating: images/8100_46344618293450346.png  \n",
            "  inflating: images/8100_5080102873562249.png  \n",
            "  inflating: images/8100_5968023133930893.png  \n",
            "  inflating: images/8100_6186365319531638.png  \n",
            "  inflating: images/8100_7129179556627998.png  \n",
            "  inflating: images/8100_7260119228585772.png  \n",
            "  inflating: images/8100_7390931220321058.png  \n",
            "  inflating: images/8100_7475737605254866.png  \n",
            "  inflating: images/8100_7619849022853413.png  \n",
            "  inflating: images/8100_8582976952584056.png  \n",
            "  inflating: images/8100_8695039521382211.png  \n",
            "  inflating: images/8100_9884298929542522.png  \n",
            "  inflating: images/8148_04285327679471762.png  \n",
            "  inflating: images/8148_32761003822953016.png  \n",
            "  inflating: images/8148_6638558306211877.png  \n",
            "  inflating: images/8148_8060432203859575.png  \n",
            "  inflating: images/8902_19179276619366903.png  \n",
            "  inflating: images/8902_1982120834353801.png  \n",
            "  inflating: images/8902_39986125084675384.png  \n",
            "  inflating: images/8902_6377100111739457.png  \n",
            "  inflating: images/8902_9501130892987902.png  \n",
            "  inflating: images/91563_017434095913876235.png  \n",
            "  inflating: images/91563_023375278285891588.png  \n",
            "  inflating: images/91563_03679376020300107.png  \n",
            "  inflating: images/91563_061900392519375846.png  \n",
            "  inflating: images/91563_06858226000672474.png  \n",
            "  inflating: images/91563_07812526454130564.png  \n",
            "  inflating: images/91563_0893886561471473.png  \n",
            "  inflating: images/91563_15552293737975642.png  \n",
            "  inflating: images/91563_16886855903979947.png  \n",
            "  inflating: images/91563_18223153405672676.png  \n",
            "  inflating: images/91563_19887594278801846.png  \n",
            "  inflating: images/91563_23805527259093529.png  \n",
            "  inflating: images/91563_25016297419537004.png  \n",
            "  inflating: images/91563_33172240778924555.png  \n",
            "  inflating: images/91563_3579503383391851.png  \n",
            "  inflating: images/91563_3727507919679648.png  \n",
            "  inflating: images/91563_38432526569364267.png  \n",
            "  inflating: images/91563_42262951825116357.png  \n",
            "  inflating: images/91563_4816562689306988.png  \n",
            "  inflating: images/91563_5088725365953765.png  \n",
            "  inflating: images/91563_5294626932796809.png  \n",
            "  inflating: images/91563_548144851777876.png  \n",
            "  inflating: images/91563_5733287857053314.png  \n",
            "  inflating: images/91563_5966029070024266.png  \n",
            "  inflating: images/91563_653959405445311.png  \n",
            "  inflating: images/91563_7198598135118104.png  \n",
            "  inflating: images/91563_7221790186080652.png  \n",
            "  inflating: images/91563_7562645629064196.png  \n",
            "  inflating: images/91563_8714006959770103.png  \n",
            "  inflating: images/91563_9479569383169405.png  \n"
          ]
        }
      ],
      "source": [
        "!unzip images.zip"
      ]
    },
    {
      "cell_type": "code",
      "execution_count": 3,
      "metadata": {
        "id": "3XXkX-uNSepf",
        "colab": {
          "base_uri": "https://localhost:8080/"
        },
        "outputId": "6449061a-9d14-4521-c22d-a6a1084d808f"
      },
      "outputs": [
        {
          "output_type": "stream",
          "name": "stdout",
          "text": [
            "--2024-01-26 08:58:27--  http://file.weasoft.com/eff_s_3_19010.pt\n",
            "Resolving file.weasoft.com (file.weasoft.com)... 149.28.13.194\n",
            "Connecting to file.weasoft.com (file.weasoft.com)|149.28.13.194|:80... connected.\n",
            "HTTP request sent, awaiting response... 200 OK\n",
            "Length: 161487054 (154M) [application/vnd.snesdev-page-table]\n",
            "Saving to: ‘eff_s_1_8010.pt’\n",
            "\n",
            "eff_s_1_8010.pt     100%[===================>] 154.01M  19.2MB/s    in 9.2s    \n",
            "\n",
            "2024-01-26 08:58:36 (16.8 MB/s) - ‘eff_s_1_8010.pt’ saved [161487054/161487054]\n",
            "\n"
          ]
        }
      ],
      "source": [
        "!wget file.weasoft.com/eff_s_3_19010.pt -O eff_s_1_8010.pt"
      ]
    },
    {
      "cell_type": "code",
      "execution_count": 4,
      "metadata": {
        "id": "mDo6zTHeS4Om",
        "colab": {
          "base_uri": "https://localhost:8080/"
        },
        "outputId": "76789615-3d6f-456d-a1fa-95283bbb82ad"
      },
      "outputs": [
        {
          "output_type": "stream",
          "name": "stdout",
          "text": [
            "Cloning into 'SwinOCSR'...\n",
            "remote: Enumerating objects: 453, done.\u001b[K\n",
            "remote: Counting objects: 100% (174/174), done.\u001b[K\n",
            "remote: Compressing objects: 100% (132/132), done.\u001b[K\n",
            "remote: Total 453 (delta 104), reused 77 (delta 42), pack-reused 279\u001b[K\n",
            "Receiving objects: 100% (453/453), 220.65 MiB | 13.32 MiB/s, done.\n",
            "Resolving deltas: 100% (201/201), done.\n",
            "Collecting focal_loss_torch\n",
            "  Downloading focal_loss_torch-0.1.2-py3-none-any.whl (4.5 kB)\n",
            "Collecting wandb\n",
            "  Downloading wandb-0.16.2-py3-none-any.whl (2.2 MB)\n",
            "\u001b[2K     \u001b[90m━━━━━━━━━━━━━━━━━━━━━━━━━━━━━━━━━━━━━━━━\u001b[0m \u001b[32m2.2/2.2 MB\u001b[0m \u001b[31m15.0 MB/s\u001b[0m eta \u001b[36m0:00:00\u001b[0m\n",
            "\u001b[?25hRequirement already satisfied: torch in /usr/local/lib/python3.10/dist-packages (from focal_loss_torch) (2.1.0+cu121)\n",
            "Requirement already satisfied: numpy in /usr/local/lib/python3.10/dist-packages (from focal_loss_torch) (1.23.5)\n",
            "Requirement already satisfied: Click!=8.0.0,>=7.1 in /usr/local/lib/python3.10/dist-packages (from wandb) (8.1.7)\n",
            "Collecting GitPython!=3.1.29,>=1.0.0 (from wandb)\n",
            "  Downloading GitPython-3.1.41-py3-none-any.whl (196 kB)\n",
            "\u001b[2K     \u001b[90m━━━━━━━━━━━━━━━━━━━━━━━━━━━━━━━━━━━━━━━━\u001b[0m \u001b[32m196.4/196.4 kB\u001b[0m \u001b[31m17.5 MB/s\u001b[0m eta \u001b[36m0:00:00\u001b[0m\n",
            "\u001b[?25hRequirement already satisfied: requests<3,>=2.0.0 in /usr/local/lib/python3.10/dist-packages (from wandb) (2.31.0)\n",
            "Requirement already satisfied: psutil>=5.0.0 in /usr/local/lib/python3.10/dist-packages (from wandb) (5.9.5)\n",
            "Collecting sentry-sdk>=1.0.0 (from wandb)\n",
            "  Downloading sentry_sdk-1.39.2-py2.py3-none-any.whl (254 kB)\n",
            "\u001b[2K     \u001b[90m━━━━━━━━━━━━━━━━━━━━━━━━━━━━━━━━━━━━━━━━\u001b[0m \u001b[32m254.1/254.1 kB\u001b[0m \u001b[31m21.0 MB/s\u001b[0m eta \u001b[36m0:00:00\u001b[0m\n",
            "\u001b[?25hCollecting docker-pycreds>=0.4.0 (from wandb)\n",
            "  Downloading docker_pycreds-0.4.0-py2.py3-none-any.whl (9.0 kB)\n",
            "Requirement already satisfied: PyYAML in /usr/local/lib/python3.10/dist-packages (from wandb) (6.0.1)\n",
            "Collecting setproctitle (from wandb)\n",
            "  Downloading setproctitle-1.3.3-cp310-cp310-manylinux_2_5_x86_64.manylinux1_x86_64.manylinux_2_17_x86_64.manylinux2014_x86_64.whl (30 kB)\n",
            "Requirement already satisfied: setuptools in /usr/local/lib/python3.10/dist-packages (from wandb) (67.7.2)\n",
            "Requirement already satisfied: appdirs>=1.4.3 in /usr/local/lib/python3.10/dist-packages (from wandb) (1.4.4)\n",
            "Requirement already satisfied: protobuf!=4.21.0,<5,>=3.19.0 in /usr/local/lib/python3.10/dist-packages (from wandb) (3.20.3)\n",
            "Requirement already satisfied: six>=1.4.0 in /usr/local/lib/python3.10/dist-packages (from docker-pycreds>=0.4.0->wandb) (1.16.0)\n",
            "Collecting gitdb<5,>=4.0.1 (from GitPython!=3.1.29,>=1.0.0->wandb)\n",
            "  Downloading gitdb-4.0.11-py3-none-any.whl (62 kB)\n",
            "\u001b[2K     \u001b[90m━━━━━━━━━━━━━━━━━━━━━━━━━━━━━━━━━━━━━━━━\u001b[0m \u001b[32m62.7/62.7 kB\u001b[0m \u001b[31m9.4 MB/s\u001b[0m eta \u001b[36m0:00:00\u001b[0m\n",
            "\u001b[?25hRequirement already satisfied: charset-normalizer<4,>=2 in /usr/local/lib/python3.10/dist-packages (from requests<3,>=2.0.0->wandb) (3.3.2)\n",
            "Requirement already satisfied: idna<4,>=2.5 in /usr/local/lib/python3.10/dist-packages (from requests<3,>=2.0.0->wandb) (3.6)\n",
            "Requirement already satisfied: urllib3<3,>=1.21.1 in /usr/local/lib/python3.10/dist-packages (from requests<3,>=2.0.0->wandb) (2.0.7)\n",
            "Requirement already satisfied: certifi>=2017.4.17 in /usr/local/lib/python3.10/dist-packages (from requests<3,>=2.0.0->wandb) (2023.11.17)\n",
            "Requirement already satisfied: filelock in /usr/local/lib/python3.10/dist-packages (from torch->focal_loss_torch) (3.13.1)\n",
            "Requirement already satisfied: typing-extensions in /usr/local/lib/python3.10/dist-packages (from torch->focal_loss_torch) (4.5.0)\n",
            "Requirement already satisfied: sympy in /usr/local/lib/python3.10/dist-packages (from torch->focal_loss_torch) (1.12)\n",
            "Requirement already satisfied: networkx in /usr/local/lib/python3.10/dist-packages (from torch->focal_loss_torch) (3.2.1)\n",
            "Requirement already satisfied: jinja2 in /usr/local/lib/python3.10/dist-packages (from torch->focal_loss_torch) (3.1.3)\n",
            "Requirement already satisfied: fsspec in /usr/local/lib/python3.10/dist-packages (from torch->focal_loss_torch) (2023.6.0)\n",
            "Requirement already satisfied: triton==2.1.0 in /usr/local/lib/python3.10/dist-packages (from torch->focal_loss_torch) (2.1.0)\n",
            "Collecting smmap<6,>=3.0.1 (from gitdb<5,>=4.0.1->GitPython!=3.1.29,>=1.0.0->wandb)\n",
            "  Downloading smmap-5.0.1-py3-none-any.whl (24 kB)\n",
            "Requirement already satisfied: MarkupSafe>=2.0 in /usr/local/lib/python3.10/dist-packages (from jinja2->torch->focal_loss_torch) (2.1.4)\n",
            "Requirement already satisfied: mpmath>=0.19 in /usr/local/lib/python3.10/dist-packages (from sympy->torch->focal_loss_torch) (1.3.0)\n",
            "Installing collected packages: smmap, setproctitle, sentry-sdk, docker-pycreds, gitdb, GitPython, focal_loss_torch, wandb\n",
            "Successfully installed GitPython-3.1.41 docker-pycreds-0.4.0 focal_loss_torch-0.1.2 gitdb-4.0.11 sentry-sdk-1.39.2 setproctitle-1.3.3 smmap-5.0.1 wandb-0.16.2\n",
            "Collecting deepsmiles\n",
            "  Downloading deepsmiles-1.0.1-py2.py3-none-any.whl (12 kB)\n",
            "Collecting yacs\n",
            "  Downloading yacs-0.1.8-py3-none-any.whl (14 kB)\n",
            "Requirement already satisfied: tqdm in /usr/local/lib/python3.10/dist-packages (4.66.1)\n",
            "Requirement already satisfied: PyYAML in /usr/local/lib/python3.10/dist-packages (from yacs) (6.0.1)\n",
            "Installing collected packages: deepsmiles, yacs\n",
            "Successfully installed deepsmiles-1.0.1 yacs-0.1.8\n"
          ]
        }
      ],
      "source": [
        "!git clone https://github.com/suanfaxiaohuo/SwinOCSR.git\n",
        "!pip install focal_loss_torch wandb\n",
        "!pip3 install deepsmiles yacs tqdm"
      ]
    },
    {
      "cell_type": "code",
      "execution_count": 4,
      "metadata": {
        "id": "J8rc_IdNTb0x"
      },
      "outputs": [],
      "source": []
    },
    {
      "cell_type": "code",
      "execution_count": 5,
      "metadata": {
        "id": "nNBpujPhUwPj"
      },
      "outputs": [],
      "source": [
        "import sys\n",
        "import os\n",
        "import argparse\n",
        "from tqdm import tqdm\n",
        "import deepsmiles\n",
        "from typing import Any, cast, Callable, List, Tuple, Union\n",
        "from PIL import Image\n",
        "\n",
        "import torch\n",
        "import torchvision\n",
        "import torchvision.transforms as transforms\n",
        "\n",
        "import numpy as np"
      ]
    },
    {
      "cell_type": "code",
      "execution_count": 6,
      "metadata": {
        "id": "OdtFJ4TKjyIp"
      },
      "outputs": [],
      "source": [
        "import sys\n",
        "sys.path.append(\"./SwinOCSR/model/Swin-transformer-focalloss\")\n",
        "sys.path.append(\"./SwinOCSR/model/\")\n",
        "from pre_transformer import Transformer\n",
        "class FocalLossModelInference:\n",
        "    \"\"\"\n",
        "    Inference Class\n",
        "    \"\"\"\n",
        "    def __init__(self):\n",
        "        # Load dictionary that maps tokens to integers\n",
        "        word_map_path = './SwinOCSR/Data/500wan/500wan_shuffle_DeepSMILES_word_map'\n",
        "        self.word_map = torch.load(word_map_path)\n",
        "        self.inv_word_map = {v: k for k, v in self.word_map.items()}\n",
        "\n",
        "        # Define device, load models and weights\n",
        "        self.dev = \"cuda\" if torch.cuda.is_available() else \"cpu\"\n",
        "        # self.args, config = self.get_inference_config()\n",
        "        # self.encoder = build_model(config, tag=False)\n",
        "        self.decoder = self.build_decoder()\n",
        "        # self.load_checkpoint(\"./swin_transform_focalloss.pth\")\n",
        "        self.decoder = self.decoder.to(self.dev).eval()\n",
        "        # self.encoder = self.encoder.to(self.dev).eval()\n",
        "\n",
        "    def load_checkpoint(self, checkpoint_path):\n",
        "        \"\"\"\n",
        "        Load checkpoint and update encoder and decoder accordingly\n",
        "\n",
        "        Args:\n",
        "            checkpoint_path (str): path of checkpoint file\n",
        "        \"\"\"\n",
        "        print(f\"=====> {checkpoint_path} <=====\")\n",
        "        checkpoint = torch.load(checkpoint_path, map_location='cpu')\n",
        "        # encoder_msg = self.encoder.load_state_dict(checkpoint['encoder'],\n",
        "        #                                            strict=False)\n",
        "        decoder_msg = self.decoder.load_state_dict(checkpoint['decoder'],\n",
        "                                                   strict=False)\n",
        "        # print(f\"Encoder: {encoder_msg}\")\n",
        "        print(f\"Decoder: {decoder_msg}\")\n",
        "        del checkpoint\n",
        "        torch.cuda.empty_cache()\n",
        "\n",
        "    def build_decoder(self):\n",
        "        \"\"\"\n",
        "        This method builds the Transformer decoder and returns it\n",
        "        \"\"\"\n",
        "        self.decoder_dim = 256  # dimension of decoder RNN\n",
        "        self.ff_dim = 2048\n",
        "        self.num_head = 8\n",
        "        self.dropout = 0.1\n",
        "        self.encoder_num_layer = 6\n",
        "        self.decoder_num_layer = 6\n",
        "        self.max_len = 277\n",
        "        self.decoder_lr = 5e-4\n",
        "        self.best_acc = 0.\n",
        "        return Transformer(dim=self.decoder_dim,\n",
        "                           ff_dim=self.ff_dim,\n",
        "                           num_head=self.num_head,\n",
        "                           encoder_num_layer=self.encoder_num_layer,\n",
        "                           decoder_num_layer=self.decoder_num_layer,\n",
        "                           vocab_size=len(self.word_map),\n",
        "                           max_len=self.max_len,\n",
        "                           drop_rate=self.dropout,\n",
        "                           tag=False)\n",
        "transformer_ = FocalLossModelInference()"
      ]
    },
    {
      "cell_type": "code",
      "source": [
        "# transformer_.build_decoder().cuda()(torch.rand(1,20).to(torch.int).cuda(),torch.rand(1,169,1536).cuda())"
      ],
      "metadata": {
        "id": "-N2e2HKPjXJ1"
      },
      "execution_count": 7,
      "outputs": []
    },
    {
      "cell_type": "code",
      "execution_count": 8,
      "metadata": {
        "id": "nuWSq0NVS8Qn"
      },
      "outputs": [],
      "source": [
        "import base64\n",
        "import pandas as pd\n",
        "import os\n",
        "# df = pd.read_csv(\"images_rows.csv\")\n",
        "# os.makedirs(\"images\",exist_ok=1)\n",
        "# def save_img(id):\n",
        "#   row = df[df[\"id\"]==id]\n",
        "#   print(row[\"image\"])\n",
        "#   with open(f\"images/{id}.png\", \"wb\") as fh:\n",
        "#       fh.write(base64.decodebytes(bytes(row[\"image\"].item().replace(\"data:image/png;base64,\",\"\"), \"utf-8\")))\n",
        "# df[\"id\"].apply(save_img)"
      ]
    },
    {
      "cell_type": "code",
      "execution_count": 9,
      "metadata": {
        "id": "yPrlAJRlWum_"
      },
      "outputs": [],
      "source": [
        "import sys\n",
        "sys.path.append(\"./SwinOCSR/model/Swin-transformer-focalloss\")\n",
        "sys.path.append(\"./SwinOCSR/model/\")"
      ]
    },
    {
      "cell_type": "code",
      "execution_count": 10,
      "metadata": {
        "id": "T2jSXpDvXC-J"
      },
      "outputs": [],
      "source": [
        "if torch.cuda.is_available():\n",
        "    device = torch.device('cuda:0')\n",
        "else:\n",
        "    device = torch.device('cpu')"
      ]
    },
    {
      "cell_type": "code",
      "execution_count": 11,
      "metadata": {
        "id": "UBa_oqMlmBN-",
        "colab": {
          "base_uri": "https://localhost:8080/"
        },
        "outputId": "e7302701-d098-46ed-8952-bece87058bf5"
      },
      "outputs": [
        {
          "output_type": "stream",
          "name": "stderr",
          "text": [
            "Downloading: \"https://download.pytorch.org/models/efficientnet_v2_s-dd5fe13b.pth\" to /root/.cache/torch/hub/checkpoints/efficientnet_v2_s-dd5fe13b.pth\n",
            "100%|██████████| 82.7M/82.7M [00:00<00:00, 116MB/s]\n"
          ]
        }
      ],
      "source": [
        "eff = torchvision.models.efficientnet_v2_s(weights='DEFAULT')\n",
        "mynet = eff.features\n",
        "class ImageEncoder(torch.nn.Module):\n",
        "  def __init__(self):\n",
        "    super().__init__()\n",
        "    self.eff = mynet.to(device)\n",
        "    self.projection = torch.nn.Linear(768,256).to(device)\n",
        "  def forward(self, images):\n",
        "    features = self.eff(images)\n",
        "    features = torch.flatten(features, start_dim=2, end_dim=3)\n",
        "    features = torch.permute(features, (0, 2, 1))\n",
        "    return self.projection(features)\n",
        "class Image2SMILES(torch.nn.Module):\n",
        "  def __init__(self, encoder, decoder):\n",
        "    super().__init__()\n",
        "    self.encoder = encoder\n",
        "    self.decoder = decoder\n",
        "\n",
        "  def forward(self, image, text_in, xmask):\n",
        "    image_feature = self.encoder(image)\n",
        "    out = self.decoder(text_in, image_feature, x_mask=xmask)\n",
        "    return out"
      ]
    },
    {
      "cell_type": "code",
      "execution_count": 12,
      "metadata": {
        "id": "6dA6xdVGXVog"
      },
      "outputs": [],
      "source": [
        "mod = torch.load(\"eff_s_1_8010.pt\", map_location=device) #it is model not dict"
      ]
    },
    {
      "cell_type": "code",
      "execution_count": 13,
      "metadata": {
        "id": "oW55KrXRYvOe"
      },
      "outputs": [],
      "source": [
        "def pad_pack(sequences):\n",
        "    maxlen = max(map(len, sequences))\n",
        "    batch = torch.LongTensor(len(sequences),maxlen).fill_(0)\n",
        "    for i,x in enumerate(sequences):\n",
        "        batch[i,:len(x)] = torch.LongTensor(x)\n",
        "    return batch, maxlen"
      ]
    },
    {
      "cell_type": "code",
      "execution_count": 13,
      "metadata": {
        "id": "HDyCwVzvX1zZ"
      },
      "outputs": [],
      "source": []
    },
    {
      "cell_type": "code",
      "source": [
        "# gen = SMILESGenerator(mod.encoder, mod.decoder)\n",
        "# res = gen.forward(torch.tensor(np.array(Image.open(\"./b.jpg\").resize((400,400)))).unsqueeze(0).permute(0,3,1,2).to(device).to(torch.float32), [[77]], 100, 5)\n",
        "# for str_ in res:\n",
        "#   print(converter.decode(\"\".join([reversed_word_map_[i] for i in str_])))\n"
      ],
      "metadata": {
        "id": "n5zTdM5jrqE6"
      },
      "execution_count": 14,
      "outputs": []
    },
    {
      "cell_type": "code",
      "source": [
        "torch.topk(torch.tensor([1,2,3,4]),2)"
      ],
      "metadata": {
        "id": "judy6xpNrFdn",
        "colab": {
          "base_uri": "https://localhost:8080/"
        },
        "outputId": "d6a1442a-3628-496a-97b7-1beb6efc686c"
      },
      "execution_count": 15,
      "outputs": [
        {
          "output_type": "execute_result",
          "data": {
            "text/plain": [
              "torch.return_types.topk(\n",
              "values=tensor([4, 3]),\n",
              "indices=tensor([3, 2]))"
            ]
          },
          "metadata": {},
          "execution_count": 15
        }
      ]
    },
    {
      "cell_type": "code",
      "execution_count": 16,
      "metadata": {
        "id": "hHCjvssJYyzp",
        "colab": {
          "base_uri": "https://localhost:8080/",
          "height": 176
        },
        "outputId": "04425276-91af-4357-e959-7218842bdb9f"
      },
      "outputs": [
        {
          "output_type": "error",
          "ename": "NameError",
          "evalue": "name 'SMILESGenerator' is not defined",
          "traceback": [
            "\u001b[0;31m---------------------------------------------------------------------------\u001b[0m",
            "\u001b[0;31mNameError\u001b[0m                                 Traceback (most recent call last)",
            "\u001b[0;32m<ipython-input-16-851def5de000>\u001b[0m in \u001b[0;36m<cell line: 1>\u001b[0;34m()\u001b[0m\n\u001b[0;32m----> 1\u001b[0;31m \u001b[0mgen\u001b[0m \u001b[0;34m=\u001b[0m \u001b[0mSMILESGenerator\u001b[0m\u001b[0;34m(\u001b[0m\u001b[0mmod\u001b[0m\u001b[0;34m.\u001b[0m\u001b[0mencoder\u001b[0m\u001b[0;34m,\u001b[0m \u001b[0mmod\u001b[0m\u001b[0;34m.\u001b[0m\u001b[0mdecoder\u001b[0m\u001b[0;34m)\u001b[0m\u001b[0;34m\u001b[0m\u001b[0;34m\u001b[0m\u001b[0m\n\u001b[0m",
            "\u001b[0;31mNameError\u001b[0m: name 'SMILESGenerator' is not defined"
          ]
        }
      ],
      "source": [
        "# gen = SMILESGenerator(mod.encoder, mod.decoder)"
      ]
    },
    {
      "cell_type": "code",
      "execution_count": 17,
      "metadata": {
        "id": "lS-pBOLrZYAC"
      },
      "outputs": [],
      "source": [
        "def triangle_mask(size):\n",
        "    mask = 1- np.triu(np.ones((1, size, size)),k=1).astype('uint8')\n",
        "    mask = torch.autograd.Variable(torch.from_numpy(mask))\n",
        "    return mask"
      ]
    },
    {
      "cell_type": "code",
      "execution_count": 18,
      "metadata": {
        "id": "SyP6kq3BbP9j",
        "colab": {
          "base_uri": "https://localhost:8080/"
        },
        "outputId": "c3e37122-3b83-46f7-9523-0167d066b44f"
      },
      "outputs": [
        {
          "output_type": "stream",
          "name": "stdout",
          "text": [
            "--2024-01-26 08:59:40--  http://file.weasoft.com/reverse.map\n",
            "Resolving file.weasoft.com (file.weasoft.com)... 149.28.13.194\n",
            "Connecting to file.weasoft.com (file.weasoft.com)|149.28.13.194|:80... connected.\n",
            "HTTP request sent, awaiting response... 200 OK\n",
            "Length: 875\n",
            "Saving to: ‘reverse.map’\n",
            "\n",
            "reverse.map         100%[===================>]     875  --.-KB/s    in 0s      \n",
            "\n",
            "2024-01-26 08:59:41 (121 MB/s) - ‘reverse.map’ saved [875/875]\n",
            "\n"
          ]
        }
      ],
      "source": [
        "!wget file.weasoft.com/reverse.map"
      ]
    },
    {
      "cell_type": "code",
      "execution_count": 19,
      "metadata": {
        "id": "CF9p_SoUZkI0"
      },
      "outputs": [],
      "source": [
        "reversed_word_map = {}\n",
        "import json\n",
        "with open(\"reverse.map\",\"r\") as f:\n",
        "  reversed_word_map = json.loads(f.read())"
      ]
    },
    {
      "cell_type": "code",
      "execution_count": 20,
      "metadata": {
        "id": "rCtJABqeeSfd"
      },
      "outputs": [],
      "source": [
        "from focal_loss.focal_loss import FocalLoss\n",
        "m = torch.nn.Softmax(dim=-1)\n",
        "lf = FocalLoss(gamma=2, ignore_index=0)#torch.nn.CrossEntropyLoss(label_smoothing=0.1, reduction=\"none\")\n",
        "def loss_fn(pred, truth):\n",
        "  pred = m(pred)\n",
        "  l = lf(pred, truth)\n",
        "  return l"
      ]
    },
    {
      "cell_type": "code",
      "execution_count": 21,
      "metadata": {
        "id": "2le1E1LleajU"
      },
      "outputs": [],
      "source": [
        "def mask_acc(pred, truth):\n",
        "    pred = torch.argmax(pred, -1)\n",
        "    mask = truth != 0\n",
        "    match_case = truth == pred\n",
        "    return torch.sum(mask*match_case)/torch.sum(mask)"
      ]
    },
    {
      "cell_type": "code",
      "execution_count": 22,
      "metadata": {
        "id": "bMR9YqMKebx2"
      },
      "outputs": [],
      "source": [
        "BATCH_SIZE = 1"
      ]
    },
    {
      "cell_type": "code",
      "execution_count": 23,
      "metadata": {
        "id": "QXsYpnwnf00c"
      },
      "outputs": [],
      "source": [
        "import pandas as pd\n",
        "molecules_rows = pd.read_csv(\"summary.csv\")"
      ]
    },
    {
      "cell_type": "code",
      "execution_count": 24,
      "metadata": {
        "id": "oI76DYvd-XFR",
        "colab": {
          "base_uri": "https://localhost:8080/"
        },
        "outputId": "9e3f48bb-9720-4cec-a52b-a8092cef81a6"
      },
      "outputs": [
        {
          "output_type": "stream",
          "name": "stdout",
          "text": [
            "11203\n",
            "21159\n",
            "11202\n",
            "18175\n",
            "91563\n",
            "7977\n",
            "71601\n",
            "10952\n",
            "175854\n",
            "11241\n",
            "11508\n",
            "225936\n",
            "8072\n",
            "8100\n",
            "6587\n",
            "7966\n",
            "78344\n",
            "11240\n",
            "12361\n",
            "11250\n",
            "13589\n",
            "16565\n",
            "11523\n",
            "18302\n",
            "6562\n",
            "11536\n",
            "439846\n",
            "7745\n",
            "13202\n",
            "24250\n",
            "7962\n",
            "25975\n",
            "18150\n",
            "751\n",
            "13855\n",
            "8148\n",
            "8902\n",
            "2724488\n",
            "7901\n",
            "13556\n",
            "11429\n",
            "11182\n",
            "8078\n",
            "15274\n",
            "22497934\n",
            "14480\n",
            "12417\n",
            "286\n",
            "68424\n",
            "18632\n",
            "7851\n",
            "12250\n",
            "19463\n",
            "220010\n",
            "638066\n",
            "757\n",
            "753\n"
          ]
        }
      ],
      "source": [
        "print(\"\\n\".join(list(set([i.split(\"_\")[0] for i in os.listdir(\"images\")]))))"
      ]
    },
    {
      "cell_type": "code",
      "execution_count": 40,
      "metadata": {
        "id": "KOBdK4giehsf"
      },
      "outputs": [],
      "source": [
        "import random\n",
        "converter = deepsmiles.Converter(rings=True, branches=True)\n",
        "cids = list(molecules_rows[\"cid\"])\n",
        "train_cids = [i for i in cids if not i in [12361, 7962, 18632]]\n",
        "# val_cids = [\"a\"]\n",
        "val_cids = [i for i in cids if i in [12361, 7962, 18632]]\n",
        "from PIL import ImageOps\n",
        "\n",
        "def getitem(train=True):\n",
        "  ti = []\n",
        "  to = []\n",
        "  imgs = []\n",
        "  for i in range(18):\n",
        "    prefix = random.choice(train_cids if train else val_cids)\n",
        "    # if (train and name.startswith(\"638066\"))or (not train and not name.startswith(\"638066\")):\n",
        "    # if train == name.startswith(\"638066\"):\n",
        "    #   continue\n",
        "    name = random.choice([i for i in os.listdir(\"./images\") if i.startswith(str(prefix)+\"_\")])\n",
        "    # name = random.choice([i for i in os.listdir(\"./images\")])\n",
        "\n",
        "    img = Image.open(f\"images/{name}\").convert(\"RGB\")\n",
        "    if train:\n",
        "      img = img.rotate(random.choice([0,90,180,270]), expand=0).resize((400,400))\n",
        "      if random.random()>0.5:\n",
        "        img = ImageOps.flip(img)\n",
        "      if random.random()>0.5:\n",
        "        img = ImageOps.mirror(img)\n",
        "      img.crop((random.random()*40,random.random()*40,400-random.random()*40,400-random.random()*40))\n",
        "    img = np.array(img.resize((400,400)), dtype=\"float32\")\n",
        "    if train:\n",
        "      # img[:,:,0] *= random.random()*0.2+0.9\n",
        "      img[:,:,1] *= random.random()*0.2+0.9\n",
        "      img[:,:,2] *= random.random()*0.2+0.9\n",
        "      img[:,:,:] *= random.random()*0.3+0.8\n",
        "    img = torch.tensor(np.array(img)).permute(2, 0, 1).to(torch.float32).to(device)\n",
        "    if train:\n",
        "      # img+=torch.rand((3,400,400)).to(device)*50\n",
        "      for _ in range(20):\n",
        "        x,y = int(random.random()*380),int(random.random()*380)\n",
        "        img[:,x:x+20, y:y+20] = torch.rand((3,20,20))*250\n",
        "\n",
        "    # if train:\n",
        "      # img*=torch.round(torch.tanh(5*torch.rand((3,400,400)))).to(device)\n",
        "    # print(name)\n",
        "    # print(converte//r.encode(molecules_rows[molecules_rows[\"cid\"]==int(name.split(\"_\")[0])][\"canonicalsmiles\"].item()))\n",
        "    smiles = [transformer_.word_map[i] for i in converter.encode(molecules_rows[molecules_rows[\"cid\"]==int(name.split(\"_\")[0])][\"canonicalsmiles\"].item())]\n",
        "    ti.append([77] + smiles)\n",
        "    to.append(smiles + [78])\n",
        "    imgs.append(img)\n",
        "  return torch.stack(imgs), ti, to\n"
      ]
    },
    {
      "cell_type": "code",
      "execution_count": 25,
      "metadata": {
        "id": "rWbLYo7hqhrH"
      },
      "outputs": [],
      "source": []
    },
    {
      "cell_type": "code",
      "execution_count": 26,
      "metadata": {
        "id": "cTf4Es8m8bSg",
        "colab": {
          "base_uri": "https://localhost:8080/"
        },
        "outputId": "1d7c8602-5895-4306-ad15-601901476ffb"
      },
      "outputs": [
        {
          "output_type": "execute_result",
          "data": {
            "text/plain": [
              "tensor([[1, 2],\n",
              "        [1, 2],\n",
              "        [1, 2],\n",
              "        [1, 2],\n",
              "        [1, 2],\n",
              "        [1, 2],\n",
              "        [1, 2],\n",
              "        [1, 2],\n",
              "        [1, 2],\n",
              "        [1, 2]])"
            ]
          },
          "metadata": {},
          "execution_count": 26
        }
      ],
      "source": [
        "torch.stack([torch.tensor([1,2]) for i in range(10)])"
      ]
    },
    {
      "cell_type": "code",
      "execution_count": null,
      "metadata": {
        "id": "BZIs_57DUPLs"
      },
      "outputs": [],
      "source": [
        "import pylab\n",
        "batch = getitem(True)[0].cpu().permute(0, 2, 3, 1).numpy()\n",
        "for i in batch:\n",
        "  pylab.imshow(i/255)\n",
        "  pylab.show()"
      ]
    },
    {
      "cell_type": "code",
      "execution_count": 28,
      "metadata": {
        "id": "jWuHtPLbf2U4"
      },
      "outputs": [],
      "source": [
        "# print(\"\\n\".join([str(i) for i in df[\"cid\"].unique()]))"
      ]
    },
    {
      "cell_type": "code",
      "execution_count": 29,
      "metadata": {
        "id": "rRZ56CuPWl7z"
      },
      "outputs": [],
      "source": [
        "def val():\n",
        "  running_loss = 0\n",
        "  mod.train(False)\n",
        "  # ids = os.listdir(\"images\")[:10]\n",
        "\n",
        "  valacc = []\n",
        "  start_index = i\n",
        "  image, text_in, text_out = getitem(train=False)\n",
        "\n",
        "  image = image.to(device)\n",
        "  text_out = pad_pack(text_out)[0].to(device)\n",
        "  padded_x = pad_pack(text_in)\n",
        "\n",
        "  xmask = triangle_mask(padded_x[1]).to(device)\n",
        "  text_in = padded_x[0].to(device)\n",
        "\n",
        "  outputs = mod(image, text_in, xmask)\n",
        "  loss = loss_fn(outputs, text_out)\n",
        "\n",
        "\n",
        "\n",
        "  running_loss += loss.item()\n",
        "  valacc.append(mask_acc(outputs.detach(), text_out).item())\n",
        "  mod.train(True)\n",
        "  return running_loss, np.mean(valacc)\n"
      ]
    },
    {
      "cell_type": "code",
      "execution_count": 30,
      "metadata": {
        "id": "6qj0C3t-3xY-"
      },
      "outputs": [],
      "source": [
        "mod = torch.load(\"eff_s_1_8010.pt\", map_location=device) #it is model not dict"
      ]
    },
    {
      "cell_type": "code",
      "execution_count": 31,
      "metadata": {
        "id": "NzbIYm2OM-0y"
      },
      "outputs": [],
      "source": [
        "for i in mod.decoder.parameters():\n",
        "  i.require_grad = False\n",
        "\n",
        "# for layers in mod.encoder.eff[:4]:\n",
        "#   for i in layers.parameters():\n",
        "#     i.require_grad = False"
      ]
    },
    {
      "cell_type": "code",
      "execution_count": 32,
      "metadata": {
        "id": "jbWqOmWqsTL3",
        "colab": {
          "base_uri": "https://localhost:8080/"
        },
        "outputId": "594807db-9ce4-4308-8fba-43ed3fbee2a2"
      },
      "outputs": [
        {
          "output_type": "execute_result",
          "data": {
            "text/plain": [
              "<torch._C.Generator at 0x7b095c24b130>"
            ]
          },
          "metadata": {},
          "execution_count": 32
        }
      ],
      "source": [
        "torch.manual_seed(0)"
      ]
    },
    {
      "cell_type": "code",
      "execution_count": 33,
      "metadata": {
        "id": "34QAyxV4uPq1"
      },
      "outputs": [],
      "source": [
        "# 都改回来了还是一样好？ 没有，开始变差了，数据增强有用？还是冻结"
      ]
    },
    {
      "cell_type": "code",
      "execution_count": 41,
      "metadata": {
        "id": "0ywSwbOTtQFs"
      },
      "outputs": [],
      "source": [
        "def train(lr, T0, epoch, forzen, reload=False, split=4):\n",
        "  global mod\n",
        "  if reload:\n",
        "    mod = torch.load(\"eff_s_1_8010.pt\", map_location=device) #it is model not dict\n",
        "    if forzen:\n",
        "      for i in mod.decoder.parameters():\n",
        "        i.require_grad = False\n",
        "  losses = []\n",
        "  access = []\n",
        "  val_acc = []\n",
        "  optimizer = torch.optim.AdamW(\n",
        "    mod.parameters(),\n",
        "    lr=lr)\n",
        "  import pylab\n",
        "  scheduler = torch.optim.lr_scheduler.CosineAnnealingWarmRestarts(optimizer, T0)\n",
        "  running_loss = 0\n",
        "  for epoch in range(epoch):\n",
        "    mod.train(True)\n",
        "    # ids = [i for i in os.listdir(\"images\") if not i.startswith(\"638066\")]\n",
        "    # ids = os.listdir(\"images\")[10:]\n",
        "    # np.random.shuffle(ids)\n",
        "    for i in range(len(os.listdir(\"images\"))//(18*split)):#why set this and it be better or is it learning rate? it lower faster? hyper-parameter\n",
        "      if i==None:\n",
        "        continue\n",
        "      start_index = i\n",
        "      image, text_in, text_out = getitem(start_index)\n",
        "\n",
        "      image = image.to(device) #mutli process cannot use cuda so moved here\n",
        "      # image = torch.permute(image, (0, 3, 1, 2))\n",
        "      text_out = pad_pack(text_out)[0].to(device)\n",
        "      padded_x = pad_pack(text_in)\n",
        "\n",
        "      xmask = triangle_mask(padded_x[1]).to(device)\n",
        "      text_in = padded_x[0].to(device)\n",
        "\n",
        "      optimizer.zero_grad()\n",
        "      outputs = mod(image, text_in, xmask)\n",
        "      #loss = loss_fn(outputs, text_outi) guaibude yyixiazinamegao\n",
        "      loss = loss_fn(outputs, text_out)\n",
        "\n",
        "      loss.backward()\n",
        "\n",
        "      optimizer.step()\n",
        "\n",
        "      running_loss += loss.item()\n",
        "      losses.append(loss.item())\n",
        "      access.append(mask_acc(outputs.detach(), text_out))\n",
        "\n",
        "    val_acc.append(val()[1])\n",
        "    print(val_acc)\n",
        "    scheduler.step()\n",
        "    # print(optimizer.param_groups[0][\"lr\"])\n",
        "  pylab.plot([i.item() for i in access], label=\"Train\")\n",
        "  pylab.plot(np.arange(len(val_acc))*(len(access)/len(val_acc)),val_acc,label=\"Val\")\n",
        "  pylab.legend()\n",
        "  pylab.show()\n",
        "  pylab.savefig(f\"{lr}_{T0}_{epoch}.png\")"
      ]
    },
    {
      "cell_type": "code",
      "execution_count": 35,
      "metadata": {
        "id": "K4_QFowLIROf"
      },
      "outputs": [],
      "source": [
        "# # hui yi test GED zhegejianju ye shi hui yi a\n",
        "# for lr in [0.00001, 0.00002, 0.00004, 0.00008]:\n",
        "#   for gamma in [0.95,0.9,0.8,0.7,0.6]:\n",
        "#     train(lr, gamma, 6)"
      ]
    },
    {
      "cell_type": "code",
      "execution_count": 36,
      "metadata": {
        "id": "u05X9x96MlnD"
      },
      "outputs": [],
      "source": [
        "# #for and save aaa GED\n",
        "# train(0.00003, 5, 20, False, reload=True)"
      ]
    },
    {
      "cell_type": "code",
      "source": [
        "train(0.00003, 20, 50, True, reload=True)"
      ],
      "metadata": {
        "id": "PA8Seqiml7PI",
        "colab": {
          "base_uri": "https://localhost:8080/",
          "height": 1000
        },
        "outputId": "fc9107e0-f93e-420d-f7c6-45fd18a093be"
      },
      "execution_count": 42,
      "outputs": [
        {
          "output_type": "stream",
          "name": "stdout",
          "text": [
            "[0.5406976938247681]\n",
            "[0.5406976938247681, 0.47999998927116394]\n",
            "[0.5406976938247681, 0.47999998927116394, 0.567415714263916]\n",
            "[0.5406976938247681, 0.47999998927116394, 0.567415714263916, 0.48554912209510803]\n",
            "[0.5406976938247681, 0.47999998927116394, 0.567415714263916, 0.48554912209510803, 0.609375]\n",
            "[0.5406976938247681, 0.47999998927116394, 0.567415714263916, 0.48554912209510803, 0.609375, 0.699999988079071]\n",
            "[0.5406976938247681, 0.47999998927116394, 0.567415714263916, 0.48554912209510803, 0.609375, 0.699999988079071, 0.6818181872367859]\n",
            "[0.5406976938247681, 0.47999998927116394, 0.567415714263916, 0.48554912209510803, 0.609375, 0.699999988079071, 0.6818181872367859, 0.6377550959587097]\n",
            "[0.5406976938247681, 0.47999998927116394, 0.567415714263916, 0.48554912209510803, 0.609375, 0.699999988079071, 0.6818181872367859, 0.6377550959587097, 0.7457627058029175]\n",
            "[0.5406976938247681, 0.47999998927116394, 0.567415714263916, 0.48554912209510803, 0.609375, 0.699999988079071, 0.6818181872367859, 0.6377550959587097, 0.7457627058029175, 0.7016574740409851]\n",
            "[0.5406976938247681, 0.47999998927116394, 0.567415714263916, 0.48554912209510803, 0.609375, 0.699999988079071, 0.6818181872367859, 0.6377550959587097, 0.7457627058029175, 0.7016574740409851, 0.7185929417610168]\n",
            "[0.5406976938247681, 0.47999998927116394, 0.567415714263916, 0.48554912209510803, 0.609375, 0.699999988079071, 0.6818181872367859, 0.6377550959587097, 0.7457627058029175, 0.7016574740409851, 0.7185929417610168, 0.7447916865348816]\n",
            "[0.5406976938247681, 0.47999998927116394, 0.567415714263916, 0.48554912209510803, 0.609375, 0.699999988079071, 0.6818181872367859, 0.6377550959587097, 0.7457627058029175, 0.7016574740409851, 0.7185929417610168, 0.7447916865348816, 0.7382199168205261]\n",
            "[0.5406976938247681, 0.47999998927116394, 0.567415714263916, 0.48554912209510803, 0.609375, 0.699999988079071, 0.6818181872367859, 0.6377550959587097, 0.7457627058029175, 0.7016574740409851, 0.7185929417610168, 0.7447916865348816, 0.7382199168205261, 0.7765957713127136]\n",
            "[0.5406976938247681, 0.47999998927116394, 0.567415714263916, 0.48554912209510803, 0.609375, 0.699999988079071, 0.6818181872367859, 0.6377550959587097, 0.7457627058029175, 0.7016574740409851, 0.7185929417610168, 0.7447916865348816, 0.7382199168205261, 0.7765957713127136, 0.7237569093704224]\n",
            "[0.5406976938247681, 0.47999998927116394, 0.567415714263916, 0.48554912209510803, 0.609375, 0.699999988079071, 0.6818181872367859, 0.6377550959587097, 0.7457627058029175, 0.7016574740409851, 0.7185929417610168, 0.7447916865348816, 0.7382199168205261, 0.7765957713127136, 0.7237569093704224, 0.7359550595283508]\n",
            "[0.5406976938247681, 0.47999998927116394, 0.567415714263916, 0.48554912209510803, 0.609375, 0.699999988079071, 0.6818181872367859, 0.6377550959587097, 0.7457627058029175, 0.7016574740409851, 0.7185929417610168, 0.7447916865348816, 0.7382199168205261, 0.7765957713127136, 0.7237569093704224, 0.7359550595283508, 0.7096773982048035]\n",
            "[0.5406976938247681, 0.47999998927116394, 0.567415714263916, 0.48554912209510803, 0.609375, 0.699999988079071, 0.6818181872367859, 0.6377550959587097, 0.7457627058029175, 0.7016574740409851, 0.7185929417610168, 0.7447916865348816, 0.7382199168205261, 0.7765957713127136, 0.7237569093704224, 0.7359550595283508, 0.7096773982048035, 0.7528735399246216]\n",
            "[0.5406976938247681, 0.47999998927116394, 0.567415714263916, 0.48554912209510803, 0.609375, 0.699999988079071, 0.6818181872367859, 0.6377550959587097, 0.7457627058029175, 0.7016574740409851, 0.7185929417610168, 0.7447916865348816, 0.7382199168205261, 0.7765957713127136, 0.7237569093704224, 0.7359550595283508, 0.7096773982048035, 0.7528735399246216, 0.7183908224105835]\n",
            "[0.5406976938247681, 0.47999998927116394, 0.567415714263916, 0.48554912209510803, 0.609375, 0.699999988079071, 0.6818181872367859, 0.6377550959587097, 0.7457627058029175, 0.7016574740409851, 0.7185929417610168, 0.7447916865348816, 0.7382199168205261, 0.7765957713127136, 0.7237569093704224, 0.7359550595283508, 0.7096773982048035, 0.7528735399246216, 0.7183908224105835, 0.7877094745635986]\n",
            "[0.5406976938247681, 0.47999998927116394, 0.567415714263916, 0.48554912209510803, 0.609375, 0.699999988079071, 0.6818181872367859, 0.6377550959587097, 0.7457627058029175, 0.7016574740409851, 0.7185929417610168, 0.7447916865348816, 0.7382199168205261, 0.7765957713127136, 0.7237569093704224, 0.7359550595283508, 0.7096773982048035, 0.7528735399246216, 0.7183908224105835, 0.7877094745635986, 0.7435897588729858]\n",
            "[0.5406976938247681, 0.47999998927116394, 0.567415714263916, 0.48554912209510803, 0.609375, 0.699999988079071, 0.6818181872367859, 0.6377550959587097, 0.7457627058029175, 0.7016574740409851, 0.7185929417610168, 0.7447916865348816, 0.7382199168205261, 0.7765957713127136, 0.7237569093704224, 0.7359550595283508, 0.7096773982048035, 0.7528735399246216, 0.7183908224105835, 0.7877094745635986, 0.7435897588729858, 0.7322404384613037]\n",
            "[0.5406976938247681, 0.47999998927116394, 0.567415714263916, 0.48554912209510803, 0.609375, 0.699999988079071, 0.6818181872367859, 0.6377550959587097, 0.7457627058029175, 0.7016574740409851, 0.7185929417610168, 0.7447916865348816, 0.7382199168205261, 0.7765957713127136, 0.7237569093704224, 0.7359550595283508, 0.7096773982048035, 0.7528735399246216, 0.7183908224105835, 0.7877094745635986, 0.7435897588729858, 0.7322404384613037, 0.828125]\n",
            "[0.5406976938247681, 0.47999998927116394, 0.567415714263916, 0.48554912209510803, 0.609375, 0.699999988079071, 0.6818181872367859, 0.6377550959587097, 0.7457627058029175, 0.7016574740409851, 0.7185929417610168, 0.7447916865348816, 0.7382199168205261, 0.7765957713127136, 0.7237569093704224, 0.7359550595283508, 0.7096773982048035, 0.7528735399246216, 0.7183908224105835, 0.7877094745635986, 0.7435897588729858, 0.7322404384613037, 0.828125, 0.8154761791229248]\n",
            "[0.5406976938247681, 0.47999998927116394, 0.567415714263916, 0.48554912209510803, 0.609375, 0.699999988079071, 0.6818181872367859, 0.6377550959587097, 0.7457627058029175, 0.7016574740409851, 0.7185929417610168, 0.7447916865348816, 0.7382199168205261, 0.7765957713127136, 0.7237569093704224, 0.7359550595283508, 0.7096773982048035, 0.7528735399246216, 0.7183908224105835, 0.7877094745635986, 0.7435897588729858, 0.7322404384613037, 0.828125, 0.8154761791229248, 0.8070175647735596]\n",
            "[0.5406976938247681, 0.47999998927116394, 0.567415714263916, 0.48554912209510803, 0.609375, 0.699999988079071, 0.6818181872367859, 0.6377550959587097, 0.7457627058029175, 0.7016574740409851, 0.7185929417610168, 0.7447916865348816, 0.7382199168205261, 0.7765957713127136, 0.7237569093704224, 0.7359550595283508, 0.7096773982048035, 0.7528735399246216, 0.7183908224105835, 0.7877094745635986, 0.7435897588729858, 0.7322404384613037, 0.828125, 0.8154761791229248, 0.8070175647735596, 0.8500000238418579]\n",
            "[0.5406976938247681, 0.47999998927116394, 0.567415714263916, 0.48554912209510803, 0.609375, 0.699999988079071, 0.6818181872367859, 0.6377550959587097, 0.7457627058029175, 0.7016574740409851, 0.7185929417610168, 0.7447916865348816, 0.7382199168205261, 0.7765957713127136, 0.7237569093704224, 0.7359550595283508, 0.7096773982048035, 0.7528735399246216, 0.7183908224105835, 0.7877094745635986, 0.7435897588729858, 0.7322404384613037, 0.828125, 0.8154761791229248, 0.8070175647735596, 0.8500000238418579, 0.8409090638160706]\n",
            "[0.5406976938247681, 0.47999998927116394, 0.567415714263916, 0.48554912209510803, 0.609375, 0.699999988079071, 0.6818181872367859, 0.6377550959587097, 0.7457627058029175, 0.7016574740409851, 0.7185929417610168, 0.7447916865348816, 0.7382199168205261, 0.7765957713127136, 0.7237569093704224, 0.7359550595283508, 0.7096773982048035, 0.7528735399246216, 0.7183908224105835, 0.7877094745635986, 0.7435897588729858, 0.7322404384613037, 0.828125, 0.8154761791229248, 0.8070175647735596, 0.8500000238418579, 0.8409090638160706, 0.8390804529190063]\n",
            "[0.5406976938247681, 0.47999998927116394, 0.567415714263916, 0.48554912209510803, 0.609375, 0.699999988079071, 0.6818181872367859, 0.6377550959587097, 0.7457627058029175, 0.7016574740409851, 0.7185929417610168, 0.7447916865348816, 0.7382199168205261, 0.7765957713127136, 0.7237569093704224, 0.7359550595283508, 0.7096773982048035, 0.7528735399246216, 0.7183908224105835, 0.7877094745635986, 0.7435897588729858, 0.7322404384613037, 0.828125, 0.8154761791229248, 0.8070175647735596, 0.8500000238418579, 0.8409090638160706, 0.8390804529190063, 0.8323699235916138]\n",
            "[0.5406976938247681, 0.47999998927116394, 0.567415714263916, 0.48554912209510803, 0.609375, 0.699999988079071, 0.6818181872367859, 0.6377550959587097, 0.7457627058029175, 0.7016574740409851, 0.7185929417610168, 0.7447916865348816, 0.7382199168205261, 0.7765957713127136, 0.7237569093704224, 0.7359550595283508, 0.7096773982048035, 0.7528735399246216, 0.7183908224105835, 0.7877094745635986, 0.7435897588729858, 0.7322404384613037, 0.828125, 0.8154761791229248, 0.8070175647735596, 0.8500000238418579, 0.8409090638160706, 0.8390804529190063, 0.8323699235916138, 0.8787878751754761]\n",
            "[0.5406976938247681, 0.47999998927116394, 0.567415714263916, 0.48554912209510803, 0.609375, 0.699999988079071, 0.6818181872367859, 0.6377550959587097, 0.7457627058029175, 0.7016574740409851, 0.7185929417610168, 0.7447916865348816, 0.7382199168205261, 0.7765957713127136, 0.7237569093704224, 0.7359550595283508, 0.7096773982048035, 0.7528735399246216, 0.7183908224105835, 0.7877094745635986, 0.7435897588729858, 0.7322404384613037, 0.828125, 0.8154761791229248, 0.8070175647735596, 0.8500000238418579, 0.8409090638160706, 0.8390804529190063, 0.8323699235916138, 0.8787878751754761, 0.875]\n",
            "[0.5406976938247681, 0.47999998927116394, 0.567415714263916, 0.48554912209510803, 0.609375, 0.699999988079071, 0.6818181872367859, 0.6377550959587097, 0.7457627058029175, 0.7016574740409851, 0.7185929417610168, 0.7447916865348816, 0.7382199168205261, 0.7765957713127136, 0.7237569093704224, 0.7359550595283508, 0.7096773982048035, 0.7528735399246216, 0.7183908224105835, 0.7877094745635986, 0.7435897588729858, 0.7322404384613037, 0.828125, 0.8154761791229248, 0.8070175647735596, 0.8500000238418579, 0.8409090638160706, 0.8390804529190063, 0.8323699235916138, 0.8787878751754761, 0.875, 0.8191489577293396]\n",
            "[0.5406976938247681, 0.47999998927116394, 0.567415714263916, 0.48554912209510803, 0.609375, 0.699999988079071, 0.6818181872367859, 0.6377550959587097, 0.7457627058029175, 0.7016574740409851, 0.7185929417610168, 0.7447916865348816, 0.7382199168205261, 0.7765957713127136, 0.7237569093704224, 0.7359550595283508, 0.7096773982048035, 0.7528735399246216, 0.7183908224105835, 0.7877094745635986, 0.7435897588729858, 0.7322404384613037, 0.828125, 0.8154761791229248, 0.8070175647735596, 0.8500000238418579, 0.8409090638160706, 0.8390804529190063, 0.8323699235916138, 0.8787878751754761, 0.875, 0.8191489577293396, 0.8586387634277344]\n",
            "[0.5406976938247681, 0.47999998927116394, 0.567415714263916, 0.48554912209510803, 0.609375, 0.699999988079071, 0.6818181872367859, 0.6377550959587097, 0.7457627058029175, 0.7016574740409851, 0.7185929417610168, 0.7447916865348816, 0.7382199168205261, 0.7765957713127136, 0.7237569093704224, 0.7359550595283508, 0.7096773982048035, 0.7528735399246216, 0.7183908224105835, 0.7877094745635986, 0.7435897588729858, 0.7322404384613037, 0.828125, 0.8154761791229248, 0.8070175647735596, 0.8500000238418579, 0.8409090638160706, 0.8390804529190063, 0.8323699235916138, 0.8787878751754761, 0.875, 0.8191489577293396, 0.8586387634277344, 0.8622449040412903]\n",
            "[0.5406976938247681, 0.47999998927116394, 0.567415714263916, 0.48554912209510803, 0.609375, 0.699999988079071, 0.6818181872367859, 0.6377550959587097, 0.7457627058029175, 0.7016574740409851, 0.7185929417610168, 0.7447916865348816, 0.7382199168205261, 0.7765957713127136, 0.7237569093704224, 0.7359550595283508, 0.7096773982048035, 0.7528735399246216, 0.7183908224105835, 0.7877094745635986, 0.7435897588729858, 0.7322404384613037, 0.828125, 0.8154761791229248, 0.8070175647735596, 0.8500000238418579, 0.8409090638160706, 0.8390804529190063, 0.8323699235916138, 0.8787878751754761, 0.875, 0.8191489577293396, 0.8586387634277344, 0.8622449040412903, 0.8290155529975891]\n",
            "[0.5406976938247681, 0.47999998927116394, 0.567415714263916, 0.48554912209510803, 0.609375, 0.699999988079071, 0.6818181872367859, 0.6377550959587097, 0.7457627058029175, 0.7016574740409851, 0.7185929417610168, 0.7447916865348816, 0.7382199168205261, 0.7765957713127136, 0.7237569093704224, 0.7359550595283508, 0.7096773982048035, 0.7528735399246216, 0.7183908224105835, 0.7877094745635986, 0.7435897588729858, 0.7322404384613037, 0.828125, 0.8154761791229248, 0.8070175647735596, 0.8500000238418579, 0.8409090638160706, 0.8390804529190063, 0.8323699235916138, 0.8787878751754761, 0.875, 0.8191489577293396, 0.8586387634277344, 0.8622449040412903, 0.8290155529975891, 0.8333333134651184]\n",
            "[0.5406976938247681, 0.47999998927116394, 0.567415714263916, 0.48554912209510803, 0.609375, 0.699999988079071, 0.6818181872367859, 0.6377550959587097, 0.7457627058029175, 0.7016574740409851, 0.7185929417610168, 0.7447916865348816, 0.7382199168205261, 0.7765957713127136, 0.7237569093704224, 0.7359550595283508, 0.7096773982048035, 0.7528735399246216, 0.7183908224105835, 0.7877094745635986, 0.7435897588729858, 0.7322404384613037, 0.828125, 0.8154761791229248, 0.8070175647735596, 0.8500000238418579, 0.8409090638160706, 0.8390804529190063, 0.8323699235916138, 0.8787878751754761, 0.875, 0.8191489577293396, 0.8586387634277344, 0.8622449040412903, 0.8290155529975891, 0.8333333134651184, 0.8539325594902039]\n",
            "[0.5406976938247681, 0.47999998927116394, 0.567415714263916, 0.48554912209510803, 0.609375, 0.699999988079071, 0.6818181872367859, 0.6377550959587097, 0.7457627058029175, 0.7016574740409851, 0.7185929417610168, 0.7447916865348816, 0.7382199168205261, 0.7765957713127136, 0.7237569093704224, 0.7359550595283508, 0.7096773982048035, 0.7528735399246216, 0.7183908224105835, 0.7877094745635986, 0.7435897588729858, 0.7322404384613037, 0.828125, 0.8154761791229248, 0.8070175647735596, 0.8500000238418579, 0.8409090638160706, 0.8390804529190063, 0.8323699235916138, 0.8787878751754761, 0.875, 0.8191489577293396, 0.8586387634277344, 0.8622449040412903, 0.8290155529975891, 0.8333333134651184, 0.8539325594902039, 0.866310179233551]\n",
            "[0.5406976938247681, 0.47999998927116394, 0.567415714263916, 0.48554912209510803, 0.609375, 0.699999988079071, 0.6818181872367859, 0.6377550959587097, 0.7457627058029175, 0.7016574740409851, 0.7185929417610168, 0.7447916865348816, 0.7382199168205261, 0.7765957713127136, 0.7237569093704224, 0.7359550595283508, 0.7096773982048035, 0.7528735399246216, 0.7183908224105835, 0.7877094745635986, 0.7435897588729858, 0.7322404384613037, 0.828125, 0.8154761791229248, 0.8070175647735596, 0.8500000238418579, 0.8409090638160706, 0.8390804529190063, 0.8323699235916138, 0.8787878751754761, 0.875, 0.8191489577293396, 0.8586387634277344, 0.8622449040412903, 0.8290155529975891, 0.8333333134651184, 0.8539325594902039, 0.866310179233551, 0.8756476640701294]\n",
            "[0.5406976938247681, 0.47999998927116394, 0.567415714263916, 0.48554912209510803, 0.609375, 0.699999988079071, 0.6818181872367859, 0.6377550959587097, 0.7457627058029175, 0.7016574740409851, 0.7185929417610168, 0.7447916865348816, 0.7382199168205261, 0.7765957713127136, 0.7237569093704224, 0.7359550595283508, 0.7096773982048035, 0.7528735399246216, 0.7183908224105835, 0.7877094745635986, 0.7435897588729858, 0.7322404384613037, 0.828125, 0.8154761791229248, 0.8070175647735596, 0.8500000238418579, 0.8409090638160706, 0.8390804529190063, 0.8323699235916138, 0.8787878751754761, 0.875, 0.8191489577293396, 0.8586387634277344, 0.8622449040412903, 0.8290155529975891, 0.8333333134651184, 0.8539325594902039, 0.866310179233551, 0.8756476640701294, 0.9114583134651184]\n",
            "[0.5406976938247681, 0.47999998927116394, 0.567415714263916, 0.48554912209510803, 0.609375, 0.699999988079071, 0.6818181872367859, 0.6377550959587097, 0.7457627058029175, 0.7016574740409851, 0.7185929417610168, 0.7447916865348816, 0.7382199168205261, 0.7765957713127136, 0.7237569093704224, 0.7359550595283508, 0.7096773982048035, 0.7528735399246216, 0.7183908224105835, 0.7877094745635986, 0.7435897588729858, 0.7322404384613037, 0.828125, 0.8154761791229248, 0.8070175647735596, 0.8500000238418579, 0.8409090638160706, 0.8390804529190063, 0.8323699235916138, 0.8787878751754761, 0.875, 0.8191489577293396, 0.8586387634277344, 0.8622449040412903, 0.8290155529975891, 0.8333333134651184, 0.8539325594902039, 0.866310179233551, 0.8756476640701294, 0.9114583134651184, 0.8270270228385925]\n",
            "[0.5406976938247681, 0.47999998927116394, 0.567415714263916, 0.48554912209510803, 0.609375, 0.699999988079071, 0.6818181872367859, 0.6377550959587097, 0.7457627058029175, 0.7016574740409851, 0.7185929417610168, 0.7447916865348816, 0.7382199168205261, 0.7765957713127136, 0.7237569093704224, 0.7359550595283508, 0.7096773982048035, 0.7528735399246216, 0.7183908224105835, 0.7877094745635986, 0.7435897588729858, 0.7322404384613037, 0.828125, 0.8154761791229248, 0.8070175647735596, 0.8500000238418579, 0.8409090638160706, 0.8390804529190063, 0.8323699235916138, 0.8787878751754761, 0.875, 0.8191489577293396, 0.8586387634277344, 0.8622449040412903, 0.8290155529975891, 0.8333333134651184, 0.8539325594902039, 0.866310179233551, 0.8756476640701294, 0.9114583134651184, 0.8270270228385925, 0.8708133697509766]\n",
            "[0.5406976938247681, 0.47999998927116394, 0.567415714263916, 0.48554912209510803, 0.609375, 0.699999988079071, 0.6818181872367859, 0.6377550959587097, 0.7457627058029175, 0.7016574740409851, 0.7185929417610168, 0.7447916865348816, 0.7382199168205261, 0.7765957713127136, 0.7237569093704224, 0.7359550595283508, 0.7096773982048035, 0.7528735399246216, 0.7183908224105835, 0.7877094745635986, 0.7435897588729858, 0.7322404384613037, 0.828125, 0.8154761791229248, 0.8070175647735596, 0.8500000238418579, 0.8409090638160706, 0.8390804529190063, 0.8323699235916138, 0.8787878751754761, 0.875, 0.8191489577293396, 0.8586387634277344, 0.8622449040412903, 0.8290155529975891, 0.8333333134651184, 0.8539325594902039, 0.866310179233551, 0.8756476640701294, 0.9114583134651184, 0.8270270228385925, 0.8708133697509766, 0.8594594597816467]\n",
            "[0.5406976938247681, 0.47999998927116394, 0.567415714263916, 0.48554912209510803, 0.609375, 0.699999988079071, 0.6818181872367859, 0.6377550959587097, 0.7457627058029175, 0.7016574740409851, 0.7185929417610168, 0.7447916865348816, 0.7382199168205261, 0.7765957713127136, 0.7237569093704224, 0.7359550595283508, 0.7096773982048035, 0.7528735399246216, 0.7183908224105835, 0.7877094745635986, 0.7435897588729858, 0.7322404384613037, 0.828125, 0.8154761791229248, 0.8070175647735596, 0.8500000238418579, 0.8409090638160706, 0.8390804529190063, 0.8323699235916138, 0.8787878751754761, 0.875, 0.8191489577293396, 0.8586387634277344, 0.8622449040412903, 0.8290155529975891, 0.8333333134651184, 0.8539325594902039, 0.866310179233551, 0.8756476640701294, 0.9114583134651184, 0.8270270228385925, 0.8708133697509766, 0.8594594597816467, 0.8655914068222046]\n",
            "[0.5406976938247681, 0.47999998927116394, 0.567415714263916, 0.48554912209510803, 0.609375, 0.699999988079071, 0.6818181872367859, 0.6377550959587097, 0.7457627058029175, 0.7016574740409851, 0.7185929417610168, 0.7447916865348816, 0.7382199168205261, 0.7765957713127136, 0.7237569093704224, 0.7359550595283508, 0.7096773982048035, 0.7528735399246216, 0.7183908224105835, 0.7877094745635986, 0.7435897588729858, 0.7322404384613037, 0.828125, 0.8154761791229248, 0.8070175647735596, 0.8500000238418579, 0.8409090638160706, 0.8390804529190063, 0.8323699235916138, 0.8787878751754761, 0.875, 0.8191489577293396, 0.8586387634277344, 0.8622449040412903, 0.8290155529975891, 0.8333333134651184, 0.8539325594902039, 0.866310179233551, 0.8756476640701294, 0.9114583134651184, 0.8270270228385925, 0.8708133697509766, 0.8594594597816467, 0.8655914068222046, 0.8659217953681946]\n",
            "[0.5406976938247681, 0.47999998927116394, 0.567415714263916, 0.48554912209510803, 0.609375, 0.699999988079071, 0.6818181872367859, 0.6377550959587097, 0.7457627058029175, 0.7016574740409851, 0.7185929417610168, 0.7447916865348816, 0.7382199168205261, 0.7765957713127136, 0.7237569093704224, 0.7359550595283508, 0.7096773982048035, 0.7528735399246216, 0.7183908224105835, 0.7877094745635986, 0.7435897588729858, 0.7322404384613037, 0.828125, 0.8154761791229248, 0.8070175647735596, 0.8500000238418579, 0.8409090638160706, 0.8390804529190063, 0.8323699235916138, 0.8787878751754761, 0.875, 0.8191489577293396, 0.8586387634277344, 0.8622449040412903, 0.8290155529975891, 0.8333333134651184, 0.8539325594902039, 0.866310179233551, 0.8756476640701294, 0.9114583134651184, 0.8270270228385925, 0.8708133697509766, 0.8594594597816467, 0.8655914068222046, 0.8659217953681946, 0.8720378875732422]\n",
            "[0.5406976938247681, 0.47999998927116394, 0.567415714263916, 0.48554912209510803, 0.609375, 0.699999988079071, 0.6818181872367859, 0.6377550959587097, 0.7457627058029175, 0.7016574740409851, 0.7185929417610168, 0.7447916865348816, 0.7382199168205261, 0.7765957713127136, 0.7237569093704224, 0.7359550595283508, 0.7096773982048035, 0.7528735399246216, 0.7183908224105835, 0.7877094745635986, 0.7435897588729858, 0.7322404384613037, 0.828125, 0.8154761791229248, 0.8070175647735596, 0.8500000238418579, 0.8409090638160706, 0.8390804529190063, 0.8323699235916138, 0.8787878751754761, 0.875, 0.8191489577293396, 0.8586387634277344, 0.8622449040412903, 0.8290155529975891, 0.8333333134651184, 0.8539325594902039, 0.866310179233551, 0.8756476640701294, 0.9114583134651184, 0.8270270228385925, 0.8708133697509766, 0.8594594597816467, 0.8655914068222046, 0.8659217953681946, 0.8720378875732422, 0.8877005577087402]\n",
            "[0.5406976938247681, 0.47999998927116394, 0.567415714263916, 0.48554912209510803, 0.609375, 0.699999988079071, 0.6818181872367859, 0.6377550959587097, 0.7457627058029175, 0.7016574740409851, 0.7185929417610168, 0.7447916865348816, 0.7382199168205261, 0.7765957713127136, 0.7237569093704224, 0.7359550595283508, 0.7096773982048035, 0.7528735399246216, 0.7183908224105835, 0.7877094745635986, 0.7435897588729858, 0.7322404384613037, 0.828125, 0.8154761791229248, 0.8070175647735596, 0.8500000238418579, 0.8409090638160706, 0.8390804529190063, 0.8323699235916138, 0.8787878751754761, 0.875, 0.8191489577293396, 0.8586387634277344, 0.8622449040412903, 0.8290155529975891, 0.8333333134651184, 0.8539325594902039, 0.866310179233551, 0.8756476640701294, 0.9114583134651184, 0.8270270228385925, 0.8708133697509766, 0.8594594597816467, 0.8655914068222046, 0.8659217953681946, 0.8720378875732422, 0.8877005577087402, 0.9014778137207031]\n",
            "[0.5406976938247681, 0.47999998927116394, 0.567415714263916, 0.48554912209510803, 0.609375, 0.699999988079071, 0.6818181872367859, 0.6377550959587097, 0.7457627058029175, 0.7016574740409851, 0.7185929417610168, 0.7447916865348816, 0.7382199168205261, 0.7765957713127136, 0.7237569093704224, 0.7359550595283508, 0.7096773982048035, 0.7528735399246216, 0.7183908224105835, 0.7877094745635986, 0.7435897588729858, 0.7322404384613037, 0.828125, 0.8154761791229248, 0.8070175647735596, 0.8500000238418579, 0.8409090638160706, 0.8390804529190063, 0.8323699235916138, 0.8787878751754761, 0.875, 0.8191489577293396, 0.8586387634277344, 0.8622449040412903, 0.8290155529975891, 0.8333333134651184, 0.8539325594902039, 0.866310179233551, 0.8756476640701294, 0.9114583134651184, 0.8270270228385925, 0.8708133697509766, 0.8594594597816467, 0.8655914068222046, 0.8659217953681946, 0.8720378875732422, 0.8877005577087402, 0.9014778137207031, 0.9132652878761292]\n",
            "[0.5406976938247681, 0.47999998927116394, 0.567415714263916, 0.48554912209510803, 0.609375, 0.699999988079071, 0.6818181872367859, 0.6377550959587097, 0.7457627058029175, 0.7016574740409851, 0.7185929417610168, 0.7447916865348816, 0.7382199168205261, 0.7765957713127136, 0.7237569093704224, 0.7359550595283508, 0.7096773982048035, 0.7528735399246216, 0.7183908224105835, 0.7877094745635986, 0.7435897588729858, 0.7322404384613037, 0.828125, 0.8154761791229248, 0.8070175647735596, 0.8500000238418579, 0.8409090638160706, 0.8390804529190063, 0.8323699235916138, 0.8787878751754761, 0.875, 0.8191489577293396, 0.8586387634277344, 0.8622449040412903, 0.8290155529975891, 0.8333333134651184, 0.8539325594902039, 0.866310179233551, 0.8756476640701294, 0.9114583134651184, 0.8270270228385925, 0.8708133697509766, 0.8594594597816467, 0.8655914068222046, 0.8659217953681946, 0.8720378875732422, 0.8877005577087402, 0.9014778137207031, 0.9132652878761292, 0.9032257795333862]\n"
          ]
        },
        {
          "output_type": "display_data",
          "data": {
            "text/plain": [
              "<Figure size 640x480 with 1 Axes>"
            ],
            "image/png": "[encoded data removed]"
          },
          "metadata": {}
        },
        {
          "output_type": "display_data",
          "data": {
            "text/plain": [
              "<Figure size 640x480 with 0 Axes>"
            ]
          },
          "metadata": {}
        }
      ]
    },
    {
      "cell_type": "code",
      "source": [
        "train(0.00003, 20, 70, True, reload=True)"
      ],
      "metadata": {
        "colab": {
          "base_uri": "https://localhost:8080/",
          "height": 1000
        },
        "id": "UE8T0I5jEmse",
        "outputId": "a4b2a755-1b8d-479c-cecd-21ec59eb847f"
      },
      "execution_count": 50,
      "outputs": [
        {
          "output_type": "stream",
          "name": "stdout",
          "text": [
            "[0.42696627974510193]\n",
            "[0.42696627974510193, 0.49504950642585754]\n",
            "[0.42696627974510193, 0.49504950642585754, 0.5989847779273987]\n",
            "[0.42696627974510193, 0.49504950642585754, 0.5989847779273987, 0.5197740197181702]\n",
            "[0.42696627974510193, 0.49504950642585754, 0.5989847779273987, 0.5197740197181702, 0.621761679649353]\n",
            "[0.42696627974510193, 0.49504950642585754, 0.5989847779273987, 0.5197740197181702, 0.621761679649353, 0.6377550959587097]\n",
            "[0.42696627974510193, 0.49504950642585754, 0.5989847779273987, 0.5197740197181702, 0.621761679649353, 0.6377550959587097, 0.6526315808296204]\n",
            "[0.42696627974510193, 0.49504950642585754, 0.5989847779273987, 0.5197740197181702, 0.621761679649353, 0.6377550959587097, 0.6526315808296204, 0.6368715167045593]\n",
            "[0.42696627974510193, 0.49504950642585754, 0.5989847779273987, 0.5197740197181702, 0.621761679649353, 0.6377550959587097, 0.6526315808296204, 0.6368715167045593, 0.6890243887901306]\n",
            "[0.42696627974510193, 0.49504950642585754, 0.5989847779273987, 0.5197740197181702, 0.621761679649353, 0.6377550959587097, 0.6526315808296204, 0.6368715167045593, 0.6890243887901306, 0.7447916865348816]\n",
            "[0.42696627974510193, 0.49504950642585754, 0.5989847779273987, 0.5197740197181702, 0.621761679649353, 0.6377550959587097, 0.6526315808296204, 0.6368715167045593, 0.6890243887901306, 0.7447916865348816, 0.7351351380348206]\n",
            "[0.42696627974510193, 0.49504950642585754, 0.5989847779273987, 0.5197740197181702, 0.621761679649353, 0.6377550959587097, 0.6526315808296204, 0.6368715167045593, 0.6890243887901306, 0.7447916865348816, 0.7351351380348206, 0.8514285683631897]\n",
            "[0.42696627974510193, 0.49504950642585754, 0.5989847779273987, 0.5197740197181702, 0.621761679649353, 0.6377550959587097, 0.6526315808296204, 0.6368715167045593, 0.6890243887901306, 0.7447916865348816, 0.7351351380348206, 0.8514285683631897, 0.7835051417350769]\n",
            "[0.42696627974510193, 0.49504950642585754, 0.5989847779273987, 0.5197740197181702, 0.621761679649353, 0.6377550959587097, 0.6526315808296204, 0.6368715167045593, 0.6890243887901306, 0.7447916865348816, 0.7351351380348206, 0.8514285683631897, 0.7835051417350769, 0.7666666507720947]\n",
            "[0.42696627974510193, 0.49504950642585754, 0.5989847779273987, 0.5197740197181702, 0.621761679649353, 0.6377550959587097, 0.6526315808296204, 0.6368715167045593, 0.6890243887901306, 0.7447916865348816, 0.7351351380348206, 0.8514285683631897, 0.7835051417350769, 0.7666666507720947, 0.7486910820007324]\n",
            "[0.42696627974510193, 0.49504950642585754, 0.5989847779273987, 0.5197740197181702, 0.621761679649353, 0.6377550959587097, 0.6526315808296204, 0.6368715167045593, 0.6890243887901306, 0.7447916865348816, 0.7351351380348206, 0.8514285683631897, 0.7835051417350769, 0.7666666507720947, 0.7486910820007324, 0.7164179086685181]\n",
            "[0.42696627974510193, 0.49504950642585754, 0.5989847779273987, 0.5197740197181702, 0.621761679649353, 0.6377550959587097, 0.6526315808296204, 0.6368715167045593, 0.6890243887901306, 0.7447916865348816, 0.7351351380348206, 0.8514285683631897, 0.7835051417350769, 0.7666666507720947, 0.7486910820007324, 0.7164179086685181, 0.7939394116401672]\n",
            "[0.42696627974510193, 0.49504950642585754, 0.5989847779273987, 0.5197740197181702, 0.621761679649353, 0.6377550959587097, 0.6526315808296204, 0.6368715167045593, 0.6890243887901306, 0.7447916865348816, 0.7351351380348206, 0.8514285683631897, 0.7835051417350769, 0.7666666507720947, 0.7486910820007324, 0.7164179086685181, 0.7939394116401672, 0.765625]\n",
            "[0.42696627974510193, 0.49504950642585754, 0.5989847779273987, 0.5197740197181702, 0.621761679649353, 0.6377550959587097, 0.6526315808296204, 0.6368715167045593, 0.6890243887901306, 0.7447916865348816, 0.7351351380348206, 0.8514285683631897, 0.7835051417350769, 0.7666666507720947, 0.7486910820007324, 0.7164179086685181, 0.7939394116401672, 0.765625, 0.7821229100227356]\n",
            "[0.42696627974510193, 0.49504950642585754, 0.5989847779273987, 0.5197740197181702, 0.621761679649353, 0.6377550959587097, 0.6526315808296204, 0.6368715167045593, 0.6890243887901306, 0.7447916865348816, 0.7351351380348206, 0.8514285683631897, 0.7835051417350769, 0.7666666507720947, 0.7486910820007324, 0.7164179086685181, 0.7939394116401672, 0.765625, 0.7821229100227356, 0.7359550595283508]\n",
            "[0.42696627974510193, 0.49504950642585754, 0.5989847779273987, 0.5197740197181702, 0.621761679649353, 0.6377550959587097, 0.6526315808296204, 0.6368715167045593, 0.6890243887901306, 0.7447916865348816, 0.7351351380348206, 0.8514285683631897, 0.7835051417350769, 0.7666666507720947, 0.7486910820007324, 0.7164179086685181, 0.7939394116401672, 0.765625, 0.7821229100227356, 0.7359550595283508, 0.7157360315322876]\n",
            "[0.42696627974510193, 0.49504950642585754, 0.5989847779273987, 0.5197740197181702, 0.621761679649353, 0.6377550959587097, 0.6526315808296204, 0.6368715167045593, 0.6890243887901306, 0.7447916865348816, 0.7351351380348206, 0.8514285683631897, 0.7835051417350769, 0.7666666507720947, 0.7486910820007324, 0.7164179086685181, 0.7939394116401672, 0.765625, 0.7821229100227356, 0.7359550595283508, 0.7157360315322876, 0.7292817831039429]\n",
            "[0.42696627974510193, 0.49504950642585754, 0.5989847779273987, 0.5197740197181702, 0.621761679649353, 0.6377550959587097, 0.6526315808296204, 0.6368715167045593, 0.6890243887901306, 0.7447916865348816, 0.7351351380348206, 0.8514285683631897, 0.7835051417350769, 0.7666666507720947, 0.7486910820007324, 0.7164179086685181, 0.7939394116401672, 0.765625, 0.7821229100227356, 0.7359550595283508, 0.7157360315322876, 0.7292817831039429, 0.8011049628257751]\n",
            "[0.42696627974510193, 0.49504950642585754, 0.5989847779273987, 0.5197740197181702, 0.621761679649353, 0.6377550959587097, 0.6526315808296204, 0.6368715167045593, 0.6890243887901306, 0.7447916865348816, 0.7351351380348206, 0.8514285683631897, 0.7835051417350769, 0.7666666507720947, 0.7486910820007324, 0.7164179086685181, 0.7939394116401672, 0.765625, 0.7821229100227356, 0.7359550595283508, 0.7157360315322876, 0.7292817831039429, 0.8011049628257751, 0.7574257254600525]\n",
            "[0.42696627974510193, 0.49504950642585754, 0.5989847779273987, 0.5197740197181702, 0.621761679649353, 0.6377550959587097, 0.6526315808296204, 0.6368715167045593, 0.6890243887901306, 0.7447916865348816, 0.7351351380348206, 0.8514285683631897, 0.7835051417350769, 0.7666666507720947, 0.7486910820007324, 0.7164179086685181, 0.7939394116401672, 0.765625, 0.7821229100227356, 0.7359550595283508, 0.7157360315322876, 0.7292817831039429, 0.8011049628257751, 0.7574257254600525, 0.8208092451095581]\n",
            "[0.42696627974510193, 0.49504950642585754, 0.5989847779273987, 0.5197740197181702, 0.621761679649353, 0.6377550959587097, 0.6526315808296204, 0.6368715167045593, 0.6890243887901306, 0.7447916865348816, 0.7351351380348206, 0.8514285683631897, 0.7835051417350769, 0.7666666507720947, 0.7486910820007324, 0.7164179086685181, 0.7939394116401672, 0.765625, 0.7821229100227356, 0.7359550595283508, 0.7157360315322876, 0.7292817831039429, 0.8011049628257751, 0.7574257254600525, 0.8208092451095581, 0.8285714387893677]\n",
            "[0.42696627974510193, 0.49504950642585754, 0.5989847779273987, 0.5197740197181702, 0.621761679649353, 0.6377550959587097, 0.6526315808296204, 0.6368715167045593, 0.6890243887901306, 0.7447916865348816, 0.7351351380348206, 0.8514285683631897, 0.7835051417350769, 0.7666666507720947, 0.7486910820007324, 0.7164179086685181, 0.7939394116401672, 0.765625, 0.7821229100227356, 0.7359550595283508, 0.7157360315322876, 0.7292817831039429, 0.8011049628257751, 0.7574257254600525, 0.8208092451095581, 0.8285714387893677, 0.8181818127632141]\n",
            "[0.42696627974510193, 0.49504950642585754, 0.5989847779273987, 0.5197740197181702, 0.621761679649353, 0.6377550959587097, 0.6526315808296204, 0.6368715167045593, 0.6890243887901306, 0.7447916865348816, 0.7351351380348206, 0.8514285683631897, 0.7835051417350769, 0.7666666507720947, 0.7486910820007324, 0.7164179086685181, 0.7939394116401672, 0.765625, 0.7821229100227356, 0.7359550595283508, 0.7157360315322876, 0.7292817831039429, 0.8011049628257751, 0.7574257254600525, 0.8208092451095581, 0.8285714387893677, 0.8181818127632141, 0.8263157606124878]\n",
            "[0.42696627974510193, 0.49504950642585754, 0.5989847779273987, 0.5197740197181702, 0.621761679649353, 0.6377550959587097, 0.6526315808296204, 0.6368715167045593, 0.6890243887901306, 0.7447916865348816, 0.7351351380348206, 0.8514285683631897, 0.7835051417350769, 0.7666666507720947, 0.7486910820007324, 0.7164179086685181, 0.7939394116401672, 0.765625, 0.7821229100227356, 0.7359550595283508, 0.7157360315322876, 0.7292817831039429, 0.8011049628257751, 0.7574257254600525, 0.8208092451095581, 0.8285714387893677, 0.8181818127632141, 0.8263157606124878, 0.8202247023582458]\n",
            "[0.42696627974510193, 0.49504950642585754, 0.5989847779273987, 0.5197740197181702, 0.621761679649353, 0.6377550959587097, 0.6526315808296204, 0.6368715167045593, 0.6890243887901306, 0.7447916865348816, 0.7351351380348206, 0.8514285683631897, 0.7835051417350769, 0.7666666507720947, 0.7486910820007324, 0.7164179086685181, 0.7939394116401672, 0.765625, 0.7821229100227356, 0.7359550595283508, 0.7157360315322876, 0.7292817831039429, 0.8011049628257751, 0.7574257254600525, 0.8208092451095581, 0.8285714387893677, 0.8181818127632141, 0.8263157606124878, 0.8202247023582458, 0.8617021441459656]\n",
            "[0.42696627974510193, 0.49504950642585754, 0.5989847779273987, 0.5197740197181702, 0.621761679649353, 0.6377550959587097, 0.6526315808296204, 0.6368715167045593, 0.6890243887901306, 0.7447916865348816, 0.7351351380348206, 0.8514285683631897, 0.7835051417350769, 0.7666666507720947, 0.7486910820007324, 0.7164179086685181, 0.7939394116401672, 0.765625, 0.7821229100227356, 0.7359550595283508, 0.7157360315322876, 0.7292817831039429, 0.8011049628257751, 0.7574257254600525, 0.8208092451095581, 0.8285714387893677, 0.8181818127632141, 0.8263157606124878, 0.8202247023582458, 0.8617021441459656, 0.8571428656578064]\n",
            "[0.42696627974510193, 0.49504950642585754, 0.5989847779273987, 0.5197740197181702, 0.621761679649353, 0.6377550959587097, 0.6526315808296204, 0.6368715167045593, 0.6890243887901306, 0.7447916865348816, 0.7351351380348206, 0.8514285683631897, 0.7835051417350769, 0.7666666507720947, 0.7486910820007324, 0.7164179086685181, 0.7939394116401672, 0.765625, 0.7821229100227356, 0.7359550595283508, 0.7157360315322876, 0.7292817831039429, 0.8011049628257751, 0.7574257254600525, 0.8208092451095581, 0.8285714387893677, 0.8181818127632141, 0.8263157606124878, 0.8202247023582458, 0.8617021441459656, 0.8571428656578064, 0.8548387289047241]\n",
            "[0.42696627974510193, 0.49504950642585754, 0.5989847779273987, 0.5197740197181702, 0.621761679649353, 0.6377550959587097, 0.6526315808296204, 0.6368715167045593, 0.6890243887901306, 0.7447916865348816, 0.7351351380348206, 0.8514285683631897, 0.7835051417350769, 0.7666666507720947, 0.7486910820007324, 0.7164179086685181, 0.7939394116401672, 0.765625, 0.7821229100227356, 0.7359550595283508, 0.7157360315322876, 0.7292817831039429, 0.8011049628257751, 0.7574257254600525, 0.8208092451095581, 0.8285714387893677, 0.8181818127632141, 0.8263157606124878, 0.8202247023582458, 0.8617021441459656, 0.8571428656578064, 0.8548387289047241, 0.875]\n",
            "[0.42696627974510193, 0.49504950642585754, 0.5989847779273987, 0.5197740197181702, 0.621761679649353, 0.6377550959587097, 0.6526315808296204, 0.6368715167045593, 0.6890243887901306, 0.7447916865348816, 0.7351351380348206, 0.8514285683631897, 0.7835051417350769, 0.7666666507720947, 0.7486910820007324, 0.7164179086685181, 0.7939394116401672, 0.765625, 0.7821229100227356, 0.7359550595283508, 0.7157360315322876, 0.7292817831039429, 0.8011049628257751, 0.7574257254600525, 0.8208092451095581, 0.8285714387893677, 0.8181818127632141, 0.8263157606124878, 0.8202247023582458, 0.8617021441459656, 0.8571428656578064, 0.8548387289047241, 0.875, 0.826347291469574]\n",
            "[0.42696627974510193, 0.49504950642585754, 0.5989847779273987, 0.5197740197181702, 0.621761679649353, 0.6377550959587097, 0.6526315808296204, 0.6368715167045593, 0.6890243887901306, 0.7447916865348816, 0.7351351380348206, 0.8514285683631897, 0.7835051417350769, 0.7666666507720947, 0.7486910820007324, 0.7164179086685181, 0.7939394116401672, 0.765625, 0.7821229100227356, 0.7359550595283508, 0.7157360315322876, 0.7292817831039429, 0.8011049628257751, 0.7574257254600525, 0.8208092451095581, 0.8285714387893677, 0.8181818127632141, 0.8263157606124878, 0.8202247023582458, 0.8617021441459656, 0.8571428656578064, 0.8548387289047241, 0.875, 0.826347291469574, 0.792682945728302]\n",
            "[0.42696627974510193, 0.49504950642585754, 0.5989847779273987, 0.5197740197181702, 0.621761679649353, 0.6377550959587097, 0.6526315808296204, 0.6368715167045593, 0.6890243887901306, 0.7447916865348816, 0.7351351380348206, 0.8514285683631897, 0.7835051417350769, 0.7666666507720947, 0.7486910820007324, 0.7164179086685181, 0.7939394116401672, 0.765625, 0.7821229100227356, 0.7359550595283508, 0.7157360315322876, 0.7292817831039429, 0.8011049628257751, 0.7574257254600525, 0.8208092451095581, 0.8285714387893677, 0.8181818127632141, 0.8263157606124878, 0.8202247023582458, 0.8617021441459656, 0.8571428656578064, 0.8548387289047241, 0.875, 0.826347291469574, 0.792682945728302, 0.8333333134651184]\n",
            "[0.42696627974510193, 0.49504950642585754, 0.5989847779273987, 0.5197740197181702, 0.621761679649353, 0.6377550959587097, 0.6526315808296204, 0.6368715167045593, 0.6890243887901306, 0.7447916865348816, 0.7351351380348206, 0.8514285683631897, 0.7835051417350769, 0.7666666507720947, 0.7486910820007324, 0.7164179086685181, 0.7939394116401672, 0.765625, 0.7821229100227356, 0.7359550595283508, 0.7157360315322876, 0.7292817831039429, 0.8011049628257751, 0.7574257254600525, 0.8208092451095581, 0.8285714387893677, 0.8181818127632141, 0.8263157606124878, 0.8202247023582458, 0.8617021441459656, 0.8571428656578064, 0.8548387289047241, 0.875, 0.826347291469574, 0.792682945728302, 0.8333333134651184, 0.8432432413101196]\n",
            "[0.42696627974510193, 0.49504950642585754, 0.5989847779273987, 0.5197740197181702, 0.621761679649353, 0.6377550959587097, 0.6526315808296204, 0.6368715167045593, 0.6890243887901306, 0.7447916865348816, 0.7351351380348206, 0.8514285683631897, 0.7835051417350769, 0.7666666507720947, 0.7486910820007324, 0.7164179086685181, 0.7939394116401672, 0.765625, 0.7821229100227356, 0.7359550595283508, 0.7157360315322876, 0.7292817831039429, 0.8011049628257751, 0.7574257254600525, 0.8208092451095581, 0.8285714387893677, 0.8181818127632141, 0.8263157606124878, 0.8202247023582458, 0.8617021441459656, 0.8571428656578064, 0.8548387289047241, 0.875, 0.826347291469574, 0.792682945728302, 0.8333333134651184, 0.8432432413101196, 0.8427672982215881]\n",
            "[0.42696627974510193, 0.49504950642585754, 0.5989847779273987, 0.5197740197181702, 0.621761679649353, 0.6377550959587097, 0.6526315808296204, 0.6368715167045593, 0.6890243887901306, 0.7447916865348816, 0.7351351380348206, 0.8514285683631897, 0.7835051417350769, 0.7666666507720947, 0.7486910820007324, 0.7164179086685181, 0.7939394116401672, 0.765625, 0.7821229100227356, 0.7359550595283508, 0.7157360315322876, 0.7292817831039429, 0.8011049628257751, 0.7574257254600525, 0.8208092451095581, 0.8285714387893677, 0.8181818127632141, 0.8263157606124878, 0.8202247023582458, 0.8617021441459656, 0.8571428656578064, 0.8548387289047241, 0.875, 0.826347291469574, 0.792682945728302, 0.8333333134651184, 0.8432432413101196, 0.8427672982215881, 0.8693181872367859]\n",
            "[0.42696627974510193, 0.49504950642585754, 0.5989847779273987, 0.5197740197181702, 0.621761679649353, 0.6377550959587097, 0.6526315808296204, 0.6368715167045593, 0.6890243887901306, 0.7447916865348816, 0.7351351380348206, 0.8514285683631897, 0.7835051417350769, 0.7666666507720947, 0.7486910820007324, 0.7164179086685181, 0.7939394116401672, 0.765625, 0.7821229100227356, 0.7359550595283508, 0.7157360315322876, 0.7292817831039429, 0.8011049628257751, 0.7574257254600525, 0.8208092451095581, 0.8285714387893677, 0.8181818127632141, 0.8263157606124878, 0.8202247023582458, 0.8617021441459656, 0.8571428656578064, 0.8548387289047241, 0.875, 0.826347291469574, 0.792682945728302, 0.8333333134651184, 0.8432432413101196, 0.8427672982215881, 0.8693181872367859, 0.8486486673355103]\n",
            "[0.42696627974510193, 0.49504950642585754, 0.5989847779273987, 0.5197740197181702, 0.621761679649353, 0.6377550959587097, 0.6526315808296204, 0.6368715167045593, 0.6890243887901306, 0.7447916865348816, 0.7351351380348206, 0.8514285683631897, 0.7835051417350769, 0.7666666507720947, 0.7486910820007324, 0.7164179086685181, 0.7939394116401672, 0.765625, 0.7821229100227356, 0.7359550595283508, 0.7157360315322876, 0.7292817831039429, 0.8011049628257751, 0.7574257254600525, 0.8208092451095581, 0.8285714387893677, 0.8181818127632141, 0.8263157606124878, 0.8202247023582458, 0.8617021441459656, 0.8571428656578064, 0.8548387289047241, 0.875, 0.826347291469574, 0.792682945728302, 0.8333333134651184, 0.8432432413101196, 0.8427672982215881, 0.8693181872367859, 0.8486486673355103, 0.8550000190734863]\n",
            "[0.42696627974510193, 0.49504950642585754, 0.5989847779273987, 0.5197740197181702, 0.621761679649353, 0.6377550959587097, 0.6526315808296204, 0.6368715167045593, 0.6890243887901306, 0.7447916865348816, 0.7351351380348206, 0.8514285683631897, 0.7835051417350769, 0.7666666507720947, 0.7486910820007324, 0.7164179086685181, 0.7939394116401672, 0.765625, 0.7821229100227356, 0.7359550595283508, 0.7157360315322876, 0.7292817831039429, 0.8011049628257751, 0.7574257254600525, 0.8208092451095581, 0.8285714387893677, 0.8181818127632141, 0.8263157606124878, 0.8202247023582458, 0.8617021441459656, 0.8571428656578064, 0.8548387289047241, 0.875, 0.826347291469574, 0.792682945728302, 0.8333333134651184, 0.8432432413101196, 0.8427672982215881, 0.8693181872367859, 0.8486486673355103, 0.8550000190734863, 0.8729282021522522]\n",
            "[0.42696627974510193, 0.49504950642585754, 0.5989847779273987, 0.5197740197181702, 0.621761679649353, 0.6377550959587097, 0.6526315808296204, 0.6368715167045593, 0.6890243887901306, 0.7447916865348816, 0.7351351380348206, 0.8514285683631897, 0.7835051417350769, 0.7666666507720947, 0.7486910820007324, 0.7164179086685181, 0.7939394116401672, 0.765625, 0.7821229100227356, 0.7359550595283508, 0.7157360315322876, 0.7292817831039429, 0.8011049628257751, 0.7574257254600525, 0.8208092451095581, 0.8285714387893677, 0.8181818127632141, 0.8263157606124878, 0.8202247023582458, 0.8617021441459656, 0.8571428656578064, 0.8548387289047241, 0.875, 0.826347291469574, 0.792682945728302, 0.8333333134651184, 0.8432432413101196, 0.8427672982215881, 0.8693181872367859, 0.8486486673355103, 0.8550000190734863, 0.8729282021522522, 0.8296703100204468]\n",
            "[0.42696627974510193, 0.49504950642585754, 0.5989847779273987, 0.5197740197181702, 0.621761679649353, 0.6377550959587097, 0.6526315808296204, 0.6368715167045593, 0.6890243887901306, 0.7447916865348816, 0.7351351380348206, 0.8514285683631897, 0.7835051417350769, 0.7666666507720947, 0.7486910820007324, 0.7164179086685181, 0.7939394116401672, 0.765625, 0.7821229100227356, 0.7359550595283508, 0.7157360315322876, 0.7292817831039429, 0.8011049628257751, 0.7574257254600525, 0.8208092451095581, 0.8285714387893677, 0.8181818127632141, 0.8263157606124878, 0.8202247023582458, 0.8617021441459656, 0.8571428656578064, 0.8548387289047241, 0.875, 0.826347291469574, 0.792682945728302, 0.8333333134651184, 0.8432432413101196, 0.8427672982215881, 0.8693181872367859, 0.8486486673355103, 0.8550000190734863, 0.8729282021522522, 0.8296703100204468, 0.8670212626457214]\n",
            "[0.42696627974510193, 0.49504950642585754, 0.5989847779273987, 0.5197740197181702, 0.621761679649353, 0.6377550959587097, 0.6526315808296204, 0.6368715167045593, 0.6890243887901306, 0.7447916865348816, 0.7351351380348206, 0.8514285683631897, 0.7835051417350769, 0.7666666507720947, 0.7486910820007324, 0.7164179086685181, 0.7939394116401672, 0.765625, 0.7821229100227356, 0.7359550595283508, 0.7157360315322876, 0.7292817831039429, 0.8011049628257751, 0.7574257254600525, 0.8208092451095581, 0.8285714387893677, 0.8181818127632141, 0.8263157606124878, 0.8202247023582458, 0.8617021441459656, 0.8571428656578064, 0.8548387289047241, 0.875, 0.826347291469574, 0.792682945728302, 0.8333333134651184, 0.8432432413101196, 0.8427672982215881, 0.8693181872367859, 0.8486486673355103, 0.8550000190734863, 0.8729282021522522, 0.8296703100204468, 0.8670212626457214, 0.8950276374816895]\n",
            "[0.42696627974510193, 0.49504950642585754, 0.5989847779273987, 0.5197740197181702, 0.621761679649353, 0.6377550959587097, 0.6526315808296204, 0.6368715167045593, 0.6890243887901306, 0.7447916865348816, 0.7351351380348206, 0.8514285683631897, 0.7835051417350769, 0.7666666507720947, 0.7486910820007324, 0.7164179086685181, 0.7939394116401672, 0.765625, 0.7821229100227356, 0.7359550595283508, 0.7157360315322876, 0.7292817831039429, 0.8011049628257751, 0.7574257254600525, 0.8208092451095581, 0.8285714387893677, 0.8181818127632141, 0.8263157606124878, 0.8202247023582458, 0.8617021441459656, 0.8571428656578064, 0.8548387289047241, 0.875, 0.826347291469574, 0.792682945728302, 0.8333333134651184, 0.8432432413101196, 0.8427672982215881, 0.8693181872367859, 0.8486486673355103, 0.8550000190734863, 0.8729282021522522, 0.8296703100204468, 0.8670212626457214, 0.8950276374816895, 0.8522727489471436]\n",
            "[0.42696627974510193, 0.49504950642585754, 0.5989847779273987, 0.5197740197181702, 0.621761679649353, 0.6377550959587097, 0.6526315808296204, 0.6368715167045593, 0.6890243887901306, 0.7447916865348816, 0.7351351380348206, 0.8514285683631897, 0.7835051417350769, 0.7666666507720947, 0.7486910820007324, 0.7164179086685181, 0.7939394116401672, 0.765625, 0.7821229100227356, 0.7359550595283508, 0.7157360315322876, 0.7292817831039429, 0.8011049628257751, 0.7574257254600525, 0.8208092451095581, 0.8285714387893677, 0.8181818127632141, 0.8263157606124878, 0.8202247023582458, 0.8617021441459656, 0.8571428656578064, 0.8548387289047241, 0.875, 0.826347291469574, 0.792682945728302, 0.8333333134651184, 0.8432432413101196, 0.8427672982215881, 0.8693181872367859, 0.8486486673355103, 0.8550000190734863, 0.8729282021522522, 0.8296703100204468, 0.8670212626457214, 0.8950276374816895, 0.8522727489471436, 0.8882978558540344]\n",
            "[0.42696627974510193, 0.49504950642585754, 0.5989847779273987, 0.5197740197181702, 0.621761679649353, 0.6377550959587097, 0.6526315808296204, 0.6368715167045593, 0.6890243887901306, 0.7447916865348816, 0.7351351380348206, 0.8514285683631897, 0.7835051417350769, 0.7666666507720947, 0.7486910820007324, 0.7164179086685181, 0.7939394116401672, 0.765625, 0.7821229100227356, 0.7359550595283508, 0.7157360315322876, 0.7292817831039429, 0.8011049628257751, 0.7574257254600525, 0.8208092451095581, 0.8285714387893677, 0.8181818127632141, 0.8263157606124878, 0.8202247023582458, 0.8617021441459656, 0.8571428656578064, 0.8548387289047241, 0.875, 0.826347291469574, 0.792682945728302, 0.8333333134651184, 0.8432432413101196, 0.8427672982215881, 0.8693181872367859, 0.8486486673355103, 0.8550000190734863, 0.8729282021522522, 0.8296703100204468, 0.8670212626457214, 0.8950276374816895, 0.8522727489471436, 0.8882978558540344, 0.8613861203193665]\n",
            "[0.42696627974510193, 0.49504950642585754, 0.5989847779273987, 0.5197740197181702, 0.621761679649353, 0.6377550959587097, 0.6526315808296204, 0.6368715167045593, 0.6890243887901306, 0.7447916865348816, 0.7351351380348206, 0.8514285683631897, 0.7835051417350769, 0.7666666507720947, 0.7486910820007324, 0.7164179086685181, 0.7939394116401672, 0.765625, 0.7821229100227356, 0.7359550595283508, 0.7157360315322876, 0.7292817831039429, 0.8011049628257751, 0.7574257254600525, 0.8208092451095581, 0.8285714387893677, 0.8181818127632141, 0.8263157606124878, 0.8202247023582458, 0.8617021441459656, 0.8571428656578064, 0.8548387289047241, 0.875, 0.826347291469574, 0.792682945728302, 0.8333333134651184, 0.8432432413101196, 0.8427672982215881, 0.8693181872367859, 0.8486486673355103, 0.8550000190734863, 0.8729282021522522, 0.8296703100204468, 0.8670212626457214, 0.8950276374816895, 0.8522727489471436, 0.8882978558540344, 0.8613861203193665, 0.84375]\n",
            "[0.42696627974510193, 0.49504950642585754, 0.5989847779273987, 0.5197740197181702, 0.621761679649353, 0.6377550959587097, 0.6526315808296204, 0.6368715167045593, 0.6890243887901306, 0.7447916865348816, 0.7351351380348206, 0.8514285683631897, 0.7835051417350769, 0.7666666507720947, 0.7486910820007324, 0.7164179086685181, 0.7939394116401672, 0.765625, 0.7821229100227356, 0.7359550595283508, 0.7157360315322876, 0.7292817831039429, 0.8011049628257751, 0.7574257254600525, 0.8208092451095581, 0.8285714387893677, 0.8181818127632141, 0.8263157606124878, 0.8202247023582458, 0.8617021441459656, 0.8571428656578064, 0.8548387289047241, 0.875, 0.826347291469574, 0.792682945728302, 0.8333333134651184, 0.8432432413101196, 0.8427672982215881, 0.8693181872367859, 0.8486486673355103, 0.8550000190734863, 0.8729282021522522, 0.8296703100204468, 0.8670212626457214, 0.8950276374816895, 0.8522727489471436, 0.8882978558540344, 0.8613861203193665, 0.84375, 0.8763440847396851]\n",
            "[0.42696627974510193, 0.49504950642585754, 0.5989847779273987, 0.5197740197181702, 0.621761679649353, 0.6377550959587097, 0.6526315808296204, 0.6368715167045593, 0.6890243887901306, 0.7447916865348816, 0.7351351380348206, 0.8514285683631897, 0.7835051417350769, 0.7666666507720947, 0.7486910820007324, 0.7164179086685181, 0.7939394116401672, 0.765625, 0.7821229100227356, 0.7359550595283508, 0.7157360315322876, 0.7292817831039429, 0.8011049628257751, 0.7574257254600525, 0.8208092451095581, 0.8285714387893677, 0.8181818127632141, 0.8263157606124878, 0.8202247023582458, 0.8617021441459656, 0.8571428656578064, 0.8548387289047241, 0.875, 0.826347291469574, 0.792682945728302, 0.8333333134651184, 0.8432432413101196, 0.8427672982215881, 0.8693181872367859, 0.8486486673355103, 0.8550000190734863, 0.8729282021522522, 0.8296703100204468, 0.8670212626457214, 0.8950276374816895, 0.8522727489471436, 0.8882978558540344, 0.8613861203193665, 0.84375, 0.8763440847396851, 0.8730158805847168]\n",
            "[0.42696627974510193, 0.49504950642585754, 0.5989847779273987, 0.5197740197181702, 0.621761679649353, 0.6377550959587097, 0.6526315808296204, 0.6368715167045593, 0.6890243887901306, 0.7447916865348816, 0.7351351380348206, 0.8514285683631897, 0.7835051417350769, 0.7666666507720947, 0.7486910820007324, 0.7164179086685181, 0.7939394116401672, 0.765625, 0.7821229100227356, 0.7359550595283508, 0.7157360315322876, 0.7292817831039429, 0.8011049628257751, 0.7574257254600525, 0.8208092451095581, 0.8285714387893677, 0.8181818127632141, 0.8263157606124878, 0.8202247023582458, 0.8617021441459656, 0.8571428656578064, 0.8548387289047241, 0.875, 0.826347291469574, 0.792682945728302, 0.8333333134651184, 0.8432432413101196, 0.8427672982215881, 0.8693181872367859, 0.8486486673355103, 0.8550000190734863, 0.8729282021522522, 0.8296703100204468, 0.8670212626457214, 0.8950276374816895, 0.8522727489471436, 0.8882978558540344, 0.8613861203193665, 0.84375, 0.8763440847396851, 0.8730158805847168, 0.8848167657852173]\n",
            "[0.42696627974510193, 0.49504950642585754, 0.5989847779273987, 0.5197740197181702, 0.621761679649353, 0.6377550959587097, 0.6526315808296204, 0.6368715167045593, 0.6890243887901306, 0.7447916865348816, 0.7351351380348206, 0.8514285683631897, 0.7835051417350769, 0.7666666507720947, 0.7486910820007324, 0.7164179086685181, 0.7939394116401672, 0.765625, 0.7821229100227356, 0.7359550595283508, 0.7157360315322876, 0.7292817831039429, 0.8011049628257751, 0.7574257254600525, 0.8208092451095581, 0.8285714387893677, 0.8181818127632141, 0.8263157606124878, 0.8202247023582458, 0.8617021441459656, 0.8571428656578064, 0.8548387289047241, 0.875, 0.826347291469574, 0.792682945728302, 0.8333333134651184, 0.8432432413101196, 0.8427672982215881, 0.8693181872367859, 0.8486486673355103, 0.8550000190734863, 0.8729282021522522, 0.8296703100204468, 0.8670212626457214, 0.8950276374816895, 0.8522727489471436, 0.8882978558540344, 0.8613861203193665, 0.84375, 0.8763440847396851, 0.8730158805847168, 0.8848167657852173, 0.8901098966598511]\n",
            "[0.42696627974510193, 0.49504950642585754, 0.5989847779273987, 0.5197740197181702, 0.621761679649353, 0.6377550959587097, 0.6526315808296204, 0.6368715167045593, 0.6890243887901306, 0.7447916865348816, 0.7351351380348206, 0.8514285683631897, 0.7835051417350769, 0.7666666507720947, 0.7486910820007324, 0.7164179086685181, 0.7939394116401672, 0.765625, 0.7821229100227356, 0.7359550595283508, 0.7157360315322876, 0.7292817831039429, 0.8011049628257751, 0.7574257254600525, 0.8208092451095581, 0.8285714387893677, 0.8181818127632141, 0.8263157606124878, 0.8202247023582458, 0.8617021441459656, 0.8571428656578064, 0.8548387289047241, 0.875, 0.826347291469574, 0.792682945728302, 0.8333333134651184, 0.8432432413101196, 0.8427672982215881, 0.8693181872367859, 0.8486486673355103, 0.8550000190734863, 0.8729282021522522, 0.8296703100204468, 0.8670212626457214, 0.8950276374816895, 0.8522727489471436, 0.8882978558540344, 0.8613861203193665, 0.84375, 0.8763440847396851, 0.8730158805847168, 0.8848167657852173, 0.8901098966598511, 0.895348846912384]\n",
            "[0.42696627974510193, 0.49504950642585754, 0.5989847779273987, 0.5197740197181702, 0.621761679649353, 0.6377550959587097, 0.6526315808296204, 0.6368715167045593, 0.6890243887901306, 0.7447916865348816, 0.7351351380348206, 0.8514285683631897, 0.7835051417350769, 0.7666666507720947, 0.7486910820007324, 0.7164179086685181, 0.7939394116401672, 0.765625, 0.7821229100227356, 0.7359550595283508, 0.7157360315322876, 0.7292817831039429, 0.8011049628257751, 0.7574257254600525, 0.8208092451095581, 0.8285714387893677, 0.8181818127632141, 0.8263157606124878, 0.8202247023582458, 0.8617021441459656, 0.8571428656578064, 0.8548387289047241, 0.875, 0.826347291469574, 0.792682945728302, 0.8333333134651184, 0.8432432413101196, 0.8427672982215881, 0.8693181872367859, 0.8486486673355103, 0.8550000190734863, 0.8729282021522522, 0.8296703100204468, 0.8670212626457214, 0.8950276374816895, 0.8522727489471436, 0.8882978558540344, 0.8613861203193665, 0.84375, 0.8763440847396851, 0.8730158805847168, 0.8848167657852173, 0.8901098966598511, 0.895348846912384, 0.9064327478408813]\n",
            "[0.42696627974510193, 0.49504950642585754, 0.5989847779273987, 0.5197740197181702, 0.621761679649353, 0.6377550959587097, 0.6526315808296204, 0.6368715167045593, 0.6890243887901306, 0.7447916865348816, 0.7351351380348206, 0.8514285683631897, 0.7835051417350769, 0.7666666507720947, 0.7486910820007324, 0.7164179086685181, 0.7939394116401672, 0.765625, 0.7821229100227356, 0.7359550595283508, 0.7157360315322876, 0.7292817831039429, 0.8011049628257751, 0.7574257254600525, 0.8208092451095581, 0.8285714387893677, 0.8181818127632141, 0.8263157606124878, 0.8202247023582458, 0.8617021441459656, 0.8571428656578064, 0.8548387289047241, 0.875, 0.826347291469574, 0.792682945728302, 0.8333333134651184, 0.8432432413101196, 0.8427672982215881, 0.8693181872367859, 0.8486486673355103, 0.8550000190734863, 0.8729282021522522, 0.8296703100204468, 0.8670212626457214, 0.8950276374816895, 0.8522727489471436, 0.8882978558540344, 0.8613861203193665, 0.84375, 0.8763440847396851, 0.8730158805847168, 0.8848167657852173, 0.8901098966598511, 0.895348846912384, 0.9064327478408813, 0.8823529481887817]\n",
            "[0.42696627974510193, 0.49504950642585754, 0.5989847779273987, 0.5197740197181702, 0.621761679649353, 0.6377550959587097, 0.6526315808296204, 0.6368715167045593, 0.6890243887901306, 0.7447916865348816, 0.7351351380348206, 0.8514285683631897, 0.7835051417350769, 0.7666666507720947, 0.7486910820007324, 0.7164179086685181, 0.7939394116401672, 0.765625, 0.7821229100227356, 0.7359550595283508, 0.7157360315322876, 0.7292817831039429, 0.8011049628257751, 0.7574257254600525, 0.8208092451095581, 0.8285714387893677, 0.8181818127632141, 0.8263157606124878, 0.8202247023582458, 0.8617021441459656, 0.8571428656578064, 0.8548387289047241, 0.875, 0.826347291469574, 0.792682945728302, 0.8333333134651184, 0.8432432413101196, 0.8427672982215881, 0.8693181872367859, 0.8486486673355103, 0.8550000190734863, 0.8729282021522522, 0.8296703100204468, 0.8670212626457214, 0.8950276374816895, 0.8522727489471436, 0.8882978558540344, 0.8613861203193665, 0.84375, 0.8763440847396851, 0.8730158805847168, 0.8848167657852173, 0.8901098966598511, 0.895348846912384, 0.9064327478408813, 0.8823529481887817, 0.9090909361839294]\n",
            "[0.42696627974510193, 0.49504950642585754, 0.5989847779273987, 0.5197740197181702, 0.621761679649353, 0.6377550959587097, 0.6526315808296204, 0.6368715167045593, 0.6890243887901306, 0.7447916865348816, 0.7351351380348206, 0.8514285683631897, 0.7835051417350769, 0.7666666507720947, 0.7486910820007324, 0.7164179086685181, 0.7939394116401672, 0.765625, 0.7821229100227356, 0.7359550595283508, 0.7157360315322876, 0.7292817831039429, 0.8011049628257751, 0.7574257254600525, 0.8208092451095581, 0.8285714387893677, 0.8181818127632141, 0.8263157606124878, 0.8202247023582458, 0.8617021441459656, 0.8571428656578064, 0.8548387289047241, 0.875, 0.826347291469574, 0.792682945728302, 0.8333333134651184, 0.8432432413101196, 0.8427672982215881, 0.8693181872367859, 0.8486486673355103, 0.8550000190734863, 0.8729282021522522, 0.8296703100204468, 0.8670212626457214, 0.8950276374816895, 0.8522727489471436, 0.8882978558540344, 0.8613861203193665, 0.84375, 0.8763440847396851, 0.8730158805847168, 0.8848167657852173, 0.8901098966598511, 0.895348846912384, 0.9064327478408813, 0.8823529481887817, 0.9090909361839294, 0.9414893388748169]\n",
            "[0.42696627974510193, 0.49504950642585754, 0.5989847779273987, 0.5197740197181702, 0.621761679649353, 0.6377550959587097, 0.6526315808296204, 0.6368715167045593, 0.6890243887901306, 0.7447916865348816, 0.7351351380348206, 0.8514285683631897, 0.7835051417350769, 0.7666666507720947, 0.7486910820007324, 0.7164179086685181, 0.7939394116401672, 0.765625, 0.7821229100227356, 0.7359550595283508, 0.7157360315322876, 0.7292817831039429, 0.8011049628257751, 0.7574257254600525, 0.8208092451095581, 0.8285714387893677, 0.8181818127632141, 0.8263157606124878, 0.8202247023582458, 0.8617021441459656, 0.8571428656578064, 0.8548387289047241, 0.875, 0.826347291469574, 0.792682945728302, 0.8333333134651184, 0.8432432413101196, 0.8427672982215881, 0.8693181872367859, 0.8486486673355103, 0.8550000190734863, 0.8729282021522522, 0.8296703100204468, 0.8670212626457214, 0.8950276374816895, 0.8522727489471436, 0.8882978558540344, 0.8613861203193665, 0.84375, 0.8763440847396851, 0.8730158805847168, 0.8848167657852173, 0.8901098966598511, 0.895348846912384, 0.9064327478408813, 0.8823529481887817, 0.9090909361839294, 0.9414893388748169, 0.8883248567581177]\n",
            "[0.42696627974510193, 0.49504950642585754, 0.5989847779273987, 0.5197740197181702, 0.621761679649353, 0.6377550959587097, 0.6526315808296204, 0.6368715167045593, 0.6890243887901306, 0.7447916865348816, 0.7351351380348206, 0.8514285683631897, 0.7835051417350769, 0.7666666507720947, 0.7486910820007324, 0.7164179086685181, 0.7939394116401672, 0.765625, 0.7821229100227356, 0.7359550595283508, 0.7157360315322876, 0.7292817831039429, 0.8011049628257751, 0.7574257254600525, 0.8208092451095581, 0.8285714387893677, 0.8181818127632141, 0.8263157606124878, 0.8202247023582458, 0.8617021441459656, 0.8571428656578064, 0.8548387289047241, 0.875, 0.826347291469574, 0.792682945728302, 0.8333333134651184, 0.8432432413101196, 0.8427672982215881, 0.8693181872367859, 0.8486486673355103, 0.8550000190734863, 0.8729282021522522, 0.8296703100204468, 0.8670212626457214, 0.8950276374816895, 0.8522727489471436, 0.8882978558540344, 0.8613861203193665, 0.84375, 0.8763440847396851, 0.8730158805847168, 0.8848167657852173, 0.8901098966598511, 0.895348846912384, 0.9064327478408813, 0.8823529481887817, 0.9090909361839294, 0.9414893388748169, 0.8883248567581177, 0.8851674795150757]\n",
            "[0.42696627974510193, 0.49504950642585754, 0.5989847779273987, 0.5197740197181702, 0.621761679649353, 0.6377550959587097, 0.6526315808296204, 0.6368715167045593, 0.6890243887901306, 0.7447916865348816, 0.7351351380348206, 0.8514285683631897, 0.7835051417350769, 0.7666666507720947, 0.7486910820007324, 0.7164179086685181, 0.7939394116401672, 0.765625, 0.7821229100227356, 0.7359550595283508, 0.7157360315322876, 0.7292817831039429, 0.8011049628257751, 0.7574257254600525, 0.8208092451095581, 0.8285714387893677, 0.8181818127632141, 0.8263157606124878, 0.8202247023582458, 0.8617021441459656, 0.8571428656578064, 0.8548387289047241, 0.875, 0.826347291469574, 0.792682945728302, 0.8333333134651184, 0.8432432413101196, 0.8427672982215881, 0.8693181872367859, 0.8486486673355103, 0.8550000190734863, 0.8729282021522522, 0.8296703100204468, 0.8670212626457214, 0.8950276374816895, 0.8522727489471436, 0.8882978558540344, 0.8613861203193665, 0.84375, 0.8763440847396851, 0.8730158805847168, 0.8848167657852173, 0.8901098966598511, 0.895348846912384, 0.9064327478408813, 0.8823529481887817, 0.9090909361839294, 0.9414893388748169, 0.8883248567581177, 0.8851674795150757, 0.9021739363670349]\n",
            "[0.42696627974510193, 0.49504950642585754, 0.5989847779273987, 0.5197740197181702, 0.621761679649353, 0.6377550959587097, 0.6526315808296204, 0.6368715167045593, 0.6890243887901306, 0.7447916865348816, 0.7351351380348206, 0.8514285683631897, 0.7835051417350769, 0.7666666507720947, 0.7486910820007324, 0.7164179086685181, 0.7939394116401672, 0.765625, 0.7821229100227356, 0.7359550595283508, 0.7157360315322876, 0.7292817831039429, 0.8011049628257751, 0.7574257254600525, 0.8208092451095581, 0.8285714387893677, 0.8181818127632141, 0.8263157606124878, 0.8202247023582458, 0.8617021441459656, 0.8571428656578064, 0.8548387289047241, 0.875, 0.826347291469574, 0.792682945728302, 0.8333333134651184, 0.8432432413101196, 0.8427672982215881, 0.8693181872367859, 0.8486486673355103, 0.8550000190734863, 0.8729282021522522, 0.8296703100204468, 0.8670212626457214, 0.8950276374816895, 0.8522727489471436, 0.8882978558540344, 0.8613861203193665, 0.84375, 0.8763440847396851, 0.8730158805847168, 0.8848167657852173, 0.8901098966598511, 0.895348846912384, 0.9064327478408813, 0.8823529481887817, 0.9090909361839294, 0.9414893388748169, 0.8883248567581177, 0.8851674795150757, 0.9021739363670349, 0.9329897165298462]\n",
            "[0.42696627974510193, 0.49504950642585754, 0.5989847779273987, 0.5197740197181702, 0.621761679649353, 0.6377550959587097, 0.6526315808296204, 0.6368715167045593, 0.6890243887901306, 0.7447916865348816, 0.7351351380348206, 0.8514285683631897, 0.7835051417350769, 0.7666666507720947, 0.7486910820007324, 0.7164179086685181, 0.7939394116401672, 0.765625, 0.7821229100227356, 0.7359550595283508, 0.7157360315322876, 0.7292817831039429, 0.8011049628257751, 0.7574257254600525, 0.8208092451095581, 0.8285714387893677, 0.8181818127632141, 0.8263157606124878, 0.8202247023582458, 0.8617021441459656, 0.8571428656578064, 0.8548387289047241, 0.875, 0.826347291469574, 0.792682945728302, 0.8333333134651184, 0.8432432413101196, 0.8427672982215881, 0.8693181872367859, 0.8486486673355103, 0.8550000190734863, 0.8729282021522522, 0.8296703100204468, 0.8670212626457214, 0.8950276374816895, 0.8522727489471436, 0.8882978558540344, 0.8613861203193665, 0.84375, 0.8763440847396851, 0.8730158805847168, 0.8848167657852173, 0.8901098966598511, 0.895348846912384, 0.9064327478408813, 0.8823529481887817, 0.9090909361839294, 0.9414893388748169, 0.8883248567581177, 0.8851674795150757, 0.9021739363670349, 0.9329897165298462, 0.9351351261138916]\n",
            "[0.42696627974510193, 0.49504950642585754, 0.5989847779273987, 0.5197740197181702, 0.621761679649353, 0.6377550959587097, 0.6526315808296204, 0.6368715167045593, 0.6890243887901306, 0.7447916865348816, 0.7351351380348206, 0.8514285683631897, 0.7835051417350769, 0.7666666507720947, 0.7486910820007324, 0.7164179086685181, 0.7939394116401672, 0.765625, 0.7821229100227356, 0.7359550595283508, 0.7157360315322876, 0.7292817831039429, 0.8011049628257751, 0.7574257254600525, 0.8208092451095581, 0.8285714387893677, 0.8181818127632141, 0.8263157606124878, 0.8202247023582458, 0.8617021441459656, 0.8571428656578064, 0.8548387289047241, 0.875, 0.826347291469574, 0.792682945728302, 0.8333333134651184, 0.8432432413101196, 0.8427672982215881, 0.8693181872367859, 0.8486486673355103, 0.8550000190734863, 0.8729282021522522, 0.8296703100204468, 0.8670212626457214, 0.8950276374816895, 0.8522727489471436, 0.8882978558540344, 0.8613861203193665, 0.84375, 0.8763440847396851, 0.8730158805847168, 0.8848167657852173, 0.8901098966598511, 0.895348846912384, 0.9064327478408813, 0.8823529481887817, 0.9090909361839294, 0.9414893388748169, 0.8883248567581177, 0.8851674795150757, 0.9021739363670349, 0.9329897165298462, 0.9351351261138916, 0.9306930899620056]\n",
            "[0.42696627974510193, 0.49504950642585754, 0.5989847779273987, 0.5197740197181702, 0.621761679649353, 0.6377550959587097, 0.6526315808296204, 0.6368715167045593, 0.6890243887901306, 0.7447916865348816, 0.7351351380348206, 0.8514285683631897, 0.7835051417350769, 0.7666666507720947, 0.7486910820007324, 0.7164179086685181, 0.7939394116401672, 0.765625, 0.7821229100227356, 0.7359550595283508, 0.7157360315322876, 0.7292817831039429, 0.8011049628257751, 0.7574257254600525, 0.8208092451095581, 0.8285714387893677, 0.8181818127632141, 0.8263157606124878, 0.8202247023582458, 0.8617021441459656, 0.8571428656578064, 0.8548387289047241, 0.875, 0.826347291469574, 0.792682945728302, 0.8333333134651184, 0.8432432413101196, 0.8427672982215881, 0.8693181872367859, 0.8486486673355103, 0.8550000190734863, 0.8729282021522522, 0.8296703100204468, 0.8670212626457214, 0.8950276374816895, 0.8522727489471436, 0.8882978558540344, 0.8613861203193665, 0.84375, 0.8763440847396851, 0.8730158805847168, 0.8848167657852173, 0.8901098966598511, 0.895348846912384, 0.9064327478408813, 0.8823529481887817, 0.9090909361839294, 0.9414893388748169, 0.8883248567581177, 0.8851674795150757, 0.9021739363670349, 0.9329897165298462, 0.9351351261138916, 0.9306930899620056, 0.9269663095474243]\n",
            "[0.42696627974510193, 0.49504950642585754, 0.5989847779273987, 0.5197740197181702, 0.621761679649353, 0.6377550959587097, 0.6526315808296204, 0.6368715167045593, 0.6890243887901306, 0.7447916865348816, 0.7351351380348206, 0.8514285683631897, 0.7835051417350769, 0.7666666507720947, 0.7486910820007324, 0.7164179086685181, 0.7939394116401672, 0.765625, 0.7821229100227356, 0.7359550595283508, 0.7157360315322876, 0.7292817831039429, 0.8011049628257751, 0.7574257254600525, 0.8208092451095581, 0.8285714387893677, 0.8181818127632141, 0.8263157606124878, 0.8202247023582458, 0.8617021441459656, 0.8571428656578064, 0.8548387289047241, 0.875, 0.826347291469574, 0.792682945728302, 0.8333333134651184, 0.8432432413101196, 0.8427672982215881, 0.8693181872367859, 0.8486486673355103, 0.8550000190734863, 0.8729282021522522, 0.8296703100204468, 0.8670212626457214, 0.8950276374816895, 0.8522727489471436, 0.8882978558540344, 0.8613861203193665, 0.84375, 0.8763440847396851, 0.8730158805847168, 0.8848167657852173, 0.8901098966598511, 0.895348846912384, 0.9064327478408813, 0.8823529481887817, 0.9090909361839294, 0.9414893388748169, 0.8883248567581177, 0.8851674795150757, 0.9021739363670349, 0.9329897165298462, 0.9351351261138916, 0.9306930899620056, 0.9269663095474243, 0.969072163105011]\n",
            "[0.42696627974510193, 0.49504950642585754, 0.5989847779273987, 0.5197740197181702, 0.621761679649353, 0.6377550959587097, 0.6526315808296204, 0.6368715167045593, 0.6890243887901306, 0.7447916865348816, 0.7351351380348206, 0.8514285683631897, 0.7835051417350769, 0.7666666507720947, 0.7486910820007324, 0.7164179086685181, 0.7939394116401672, 0.765625, 0.7821229100227356, 0.7359550595283508, 0.7157360315322876, 0.7292817831039429, 0.8011049628257751, 0.7574257254600525, 0.8208092451095581, 0.8285714387893677, 0.8181818127632141, 0.8263157606124878, 0.8202247023582458, 0.8617021441459656, 0.8571428656578064, 0.8548387289047241, 0.875, 0.826347291469574, 0.792682945728302, 0.8333333134651184, 0.8432432413101196, 0.8427672982215881, 0.8693181872367859, 0.8486486673355103, 0.8550000190734863, 0.8729282021522522, 0.8296703100204468, 0.8670212626457214, 0.8950276374816895, 0.8522727489471436, 0.8882978558540344, 0.8613861203193665, 0.84375, 0.8763440847396851, 0.8730158805847168, 0.8848167657852173, 0.8901098966598511, 0.895348846912384, 0.9064327478408813, 0.8823529481887817, 0.9090909361839294, 0.9414893388748169, 0.8883248567581177, 0.8851674795150757, 0.9021739363670349, 0.9329897165298462, 0.9351351261138916, 0.9306930899620056, 0.9269663095474243, 0.969072163105011, 0.9235293865203857]\n",
            "[0.42696627974510193, 0.49504950642585754, 0.5989847779273987, 0.5197740197181702, 0.621761679649353, 0.6377550959587097, 0.6526315808296204, 0.6368715167045593, 0.6890243887901306, 0.7447916865348816, 0.7351351380348206, 0.8514285683631897, 0.7835051417350769, 0.7666666507720947, 0.7486910820007324, 0.7164179086685181, 0.7939394116401672, 0.765625, 0.7821229100227356, 0.7359550595283508, 0.7157360315322876, 0.7292817831039429, 0.8011049628257751, 0.7574257254600525, 0.8208092451095581, 0.8285714387893677, 0.8181818127632141, 0.8263157606124878, 0.8202247023582458, 0.8617021441459656, 0.8571428656578064, 0.8548387289047241, 0.875, 0.826347291469574, 0.792682945728302, 0.8333333134651184, 0.8432432413101196, 0.8427672982215881, 0.8693181872367859, 0.8486486673355103, 0.8550000190734863, 0.8729282021522522, 0.8296703100204468, 0.8670212626457214, 0.8950276374816895, 0.8522727489471436, 0.8882978558540344, 0.8613861203193665, 0.84375, 0.8763440847396851, 0.8730158805847168, 0.8848167657852173, 0.8901098966598511, 0.895348846912384, 0.9064327478408813, 0.8823529481887817, 0.9090909361839294, 0.9414893388748169, 0.8883248567581177, 0.8851674795150757, 0.9021739363670349, 0.9329897165298462, 0.9351351261138916, 0.9306930899620056, 0.9269663095474243, 0.969072163105011, 0.9235293865203857, 0.91847825050354]\n",
            "[0.42696627974510193, 0.49504950642585754, 0.5989847779273987, 0.5197740197181702, 0.621761679649353, 0.6377550959587097, 0.6526315808296204, 0.6368715167045593, 0.6890243887901306, 0.7447916865348816, 0.7351351380348206, 0.8514285683631897, 0.7835051417350769, 0.7666666507720947, 0.7486910820007324, 0.7164179086685181, 0.7939394116401672, 0.765625, 0.7821229100227356, 0.7359550595283508, 0.7157360315322876, 0.7292817831039429, 0.8011049628257751, 0.7574257254600525, 0.8208092451095581, 0.8285714387893677, 0.8181818127632141, 0.8263157606124878, 0.8202247023582458, 0.8617021441459656, 0.8571428656578064, 0.8548387289047241, 0.875, 0.826347291469574, 0.792682945728302, 0.8333333134651184, 0.8432432413101196, 0.8427672982215881, 0.8693181872367859, 0.8486486673355103, 0.8550000190734863, 0.8729282021522522, 0.8296703100204468, 0.8670212626457214, 0.8950276374816895, 0.8522727489471436, 0.8882978558540344, 0.8613861203193665, 0.84375, 0.8763440847396851, 0.8730158805847168, 0.8848167657852173, 0.8901098966598511, 0.895348846912384, 0.9064327478408813, 0.8823529481887817, 0.9090909361839294, 0.9414893388748169, 0.8883248567581177, 0.8851674795150757, 0.9021739363670349, 0.9329897165298462, 0.9351351261138916, 0.9306930899620056, 0.9269663095474243, 0.969072163105011, 0.9235293865203857, 0.91847825050354, 0.9353233575820923]\n",
            "[0.42696627974510193, 0.49504950642585754, 0.5989847779273987, 0.5197740197181702, 0.621761679649353, 0.6377550959587097, 0.6526315808296204, 0.6368715167045593, 0.6890243887901306, 0.7447916865348816, 0.7351351380348206, 0.8514285683631897, 0.7835051417350769, 0.7666666507720947, 0.7486910820007324, 0.7164179086685181, 0.7939394116401672, 0.765625, 0.7821229100227356, 0.7359550595283508, 0.7157360315322876, 0.7292817831039429, 0.8011049628257751, 0.7574257254600525, 0.8208092451095581, 0.8285714387893677, 0.8181818127632141, 0.8263157606124878, 0.8202247023582458, 0.8617021441459656, 0.8571428656578064, 0.8548387289047241, 0.875, 0.826347291469574, 0.792682945728302, 0.8333333134651184, 0.8432432413101196, 0.8427672982215881, 0.8693181872367859, 0.8486486673355103, 0.8550000190734863, 0.8729282021522522, 0.8296703100204468, 0.8670212626457214, 0.8950276374816895, 0.8522727489471436, 0.8882978558540344, 0.8613861203193665, 0.84375, 0.8763440847396851, 0.8730158805847168, 0.8848167657852173, 0.8901098966598511, 0.895348846912384, 0.9064327478408813, 0.8823529481887817, 0.9090909361839294, 0.9414893388748169, 0.8883248567581177, 0.8851674795150757, 0.9021739363670349, 0.9329897165298462, 0.9351351261138916, 0.9306930899620056, 0.9269663095474243, 0.969072163105011, 0.9235293865203857, 0.91847825050354, 0.9353233575820923, 0.9209039807319641]\n"
          ]
        },
        {
          "output_type": "display_data",
          "data": {
            "text/plain": [
              "<Figure size 640x480 with 1 Axes>"
            ],
            "image/png": "[encoded data removed]"
          },
          "metadata": {}
        },
        {
          "output_type": "display_data",
          "data": {
            "text/plain": [
              "<Figure size 640x480 with 0 Axes>"
            ]
          },
          "metadata": {}
        }
      ]
    },
    {
      "cell_type": "code",
      "source": [
        "def mutli_image(imgs):\n",
        "  pass"
      ],
      "metadata": {
        "id": "6XCBoFHFgU-P"
      },
      "execution_count": 38,
      "outputs": []
    },
    {
      "cell_type": "code",
      "source": [
        "train(0.00003, 20, 50, True, reload=True)"
      ],
      "metadata": {
        "colab": {
          "base_uri": "https://localhost:8080/",
          "height": 391
        },
        "id": "bvRqv09Lc1WZ",
        "outputId": "c5df23b3-6578-423d-a8d1-6f60a8e68222"
      },
      "execution_count": 39,
      "outputs": [
        {
          "output_type": "stream",
          "name": "stdout",
          "text": [
            "[0.42168673872947693]\n",
            "[0.42168673872947693, 0.5]\n"
          ]
        },
        {
          "output_type": "error",
          "ename": "KeyboardInterrupt",
          "evalue": "",
          "traceback": [
            "\u001b[0;31m---------------------------------------------------------------------------\u001b[0m",
            "\u001b[0;31mKeyboardInterrupt\u001b[0m                         Traceback (most recent call last)",
            "\u001b[0;32m<ipython-input-39-89f32e67d9b0>\u001b[0m in \u001b[0;36m<cell line: 1>\u001b[0;34m()\u001b[0m\n\u001b[0;32m----> 1\u001b[0;31m \u001b[0mtrain\u001b[0m\u001b[0;34m(\u001b[0m\u001b[0;36m0.00003\u001b[0m\u001b[0;34m,\u001b[0m \u001b[0;36m20\u001b[0m\u001b[0;34m,\u001b[0m \u001b[0;36m50\u001b[0m\u001b[0;34m,\u001b[0m \u001b[0;32mTrue\u001b[0m\u001b[0;34m,\u001b[0m \u001b[0mreload\u001b[0m\u001b[0;34m=\u001b[0m\u001b[0;32mTrue\u001b[0m\u001b[0;34m)\u001b[0m\u001b[0;34m\u001b[0m\u001b[0;34m\u001b[0m\u001b[0m\n\u001b[0m",
            "\u001b[0;32m<ipython-input-34-b6155dec1d2f>\u001b[0m in \u001b[0;36mtrain\u001b[0;34m(lr, T0, epoch, forzen, reload, split)\u001b[0m\n\u001b[1;32m     41\u001b[0m       \u001b[0mloss\u001b[0m\u001b[0;34m.\u001b[0m\u001b[0mbackward\u001b[0m\u001b[0;34m(\u001b[0m\u001b[0;34m)\u001b[0m\u001b[0;34m\u001b[0m\u001b[0;34m\u001b[0m\u001b[0m\n\u001b[1;32m     42\u001b[0m \u001b[0;34m\u001b[0m\u001b[0m\n\u001b[0;32m---> 43\u001b[0;31m       \u001b[0moptimizer\u001b[0m\u001b[0;34m.\u001b[0m\u001b[0mstep\u001b[0m\u001b[0;34m(\u001b[0m\u001b[0;34m)\u001b[0m\u001b[0;34m\u001b[0m\u001b[0;34m\u001b[0m\u001b[0m\n\u001b[0m\u001b[1;32m     44\u001b[0m \u001b[0;34m\u001b[0m\u001b[0m\n\u001b[1;32m     45\u001b[0m       \u001b[0mrunning_loss\u001b[0m \u001b[0;34m+=\u001b[0m \u001b[0mloss\u001b[0m\u001b[0;34m.\u001b[0m\u001b[0mitem\u001b[0m\u001b[0;34m(\u001b[0m\u001b[0;34m)\u001b[0m\u001b[0;34m\u001b[0m\u001b[0;34m\u001b[0m\u001b[0m\n",
            "\u001b[0;32m/usr/local/lib/python3.10/dist-packages/torch/optim/lr_scheduler.py\u001b[0m in \u001b[0;36mwrapper\u001b[0;34m(*args, **kwargs)\u001b[0m\n\u001b[1;32m     66\u001b[0m                 \u001b[0minstance\u001b[0m\u001b[0;34m.\u001b[0m\u001b[0m_step_count\u001b[0m \u001b[0;34m+=\u001b[0m \u001b[0;36m1\u001b[0m\u001b[0;34m\u001b[0m\u001b[0;34m\u001b[0m\u001b[0m\n\u001b[1;32m     67\u001b[0m                 \u001b[0mwrapped\u001b[0m \u001b[0;34m=\u001b[0m \u001b[0mfunc\u001b[0m\u001b[0;34m.\u001b[0m\u001b[0m__get__\u001b[0m\u001b[0;34m(\u001b[0m\u001b[0minstance\u001b[0m\u001b[0;34m,\u001b[0m \u001b[0mcls\u001b[0m\u001b[0;34m)\u001b[0m\u001b[0;34m\u001b[0m\u001b[0;34m\u001b[0m\u001b[0m\n\u001b[0;32m---> 68\u001b[0;31m                 \u001b[0;32mreturn\u001b[0m \u001b[0mwrapped\u001b[0m\u001b[0;34m(\u001b[0m\u001b[0;34m*\u001b[0m\u001b[0margs\u001b[0m\u001b[0;34m,\u001b[0m \u001b[0;34m**\u001b[0m\u001b[0mkwargs\u001b[0m\u001b[0;34m)\u001b[0m\u001b[0;34m\u001b[0m\u001b[0;34m\u001b[0m\u001b[0m\n\u001b[0m\u001b[1;32m     69\u001b[0m \u001b[0;34m\u001b[0m\u001b[0m\n\u001b[1;32m     70\u001b[0m             \u001b[0;31m# Note that the returned function here is no longer a bound method,\u001b[0m\u001b[0;34m\u001b[0m\u001b[0;34m\u001b[0m\u001b[0m\n",
            "\u001b[0;32m/usr/local/lib/python3.10/dist-packages/torch/optim/optimizer.py\u001b[0m in \u001b[0;36mwrapper\u001b[0;34m(*args, **kwargs)\u001b[0m\n\u001b[1;32m    371\u001b[0m                             )\n\u001b[1;32m    372\u001b[0m \u001b[0;34m\u001b[0m\u001b[0m\n\u001b[0;32m--> 373\u001b[0;31m                 \u001b[0mout\u001b[0m \u001b[0;34m=\u001b[0m \u001b[0mfunc\u001b[0m\u001b[0;34m(\u001b[0m\u001b[0;34m*\u001b[0m\u001b[0margs\u001b[0m\u001b[0;34m,\u001b[0m \u001b[0;34m**\u001b[0m\u001b[0mkwargs\u001b[0m\u001b[0;34m)\u001b[0m\u001b[0;34m\u001b[0m\u001b[0;34m\u001b[0m\u001b[0m\n\u001b[0m\u001b[1;32m    374\u001b[0m                 \u001b[0mself\u001b[0m\u001b[0;34m.\u001b[0m\u001b[0m_optimizer_step_code\u001b[0m\u001b[0;34m(\u001b[0m\u001b[0;34m)\u001b[0m\u001b[0;34m\u001b[0m\u001b[0;34m\u001b[0m\u001b[0m\n\u001b[1;32m    375\u001b[0m \u001b[0;34m\u001b[0m\u001b[0m\n",
            "\u001b[0;32m/usr/local/lib/python3.10/dist-packages/torch/optim/optimizer.py\u001b[0m in \u001b[0;36m_use_grad\u001b[0;34m(self, *args, **kwargs)\u001b[0m\n\u001b[1;32m     74\u001b[0m             \u001b[0mtorch\u001b[0m\u001b[0;34m.\u001b[0m\u001b[0mset_grad_enabled\u001b[0m\u001b[0;34m(\u001b[0m\u001b[0mself\u001b[0m\u001b[0;34m.\u001b[0m\u001b[0mdefaults\u001b[0m\u001b[0;34m[\u001b[0m\u001b[0;34m'differentiable'\u001b[0m\u001b[0;34m]\u001b[0m\u001b[0;34m)\u001b[0m\u001b[0;34m\u001b[0m\u001b[0;34m\u001b[0m\u001b[0m\n\u001b[1;32m     75\u001b[0m             \u001b[0mtorch\u001b[0m\u001b[0;34m.\u001b[0m\u001b[0m_dynamo\u001b[0m\u001b[0;34m.\u001b[0m\u001b[0mgraph_break\u001b[0m\u001b[0;34m(\u001b[0m\u001b[0;34m)\u001b[0m\u001b[0;34m\u001b[0m\u001b[0;34m\u001b[0m\u001b[0m\n\u001b[0;32m---> 76\u001b[0;31m             \u001b[0mret\u001b[0m \u001b[0;34m=\u001b[0m \u001b[0mfunc\u001b[0m\u001b[0;34m(\u001b[0m\u001b[0mself\u001b[0m\u001b[0;34m,\u001b[0m \u001b[0;34m*\u001b[0m\u001b[0margs\u001b[0m\u001b[0;34m,\u001b[0m \u001b[0;34m**\u001b[0m\u001b[0mkwargs\u001b[0m\u001b[0;34m)\u001b[0m\u001b[0;34m\u001b[0m\u001b[0;34m\u001b[0m\u001b[0m\n\u001b[0m\u001b[1;32m     77\u001b[0m         \u001b[0;32mfinally\u001b[0m\u001b[0;34m:\u001b[0m\u001b[0;34m\u001b[0m\u001b[0;34m\u001b[0m\u001b[0m\n\u001b[1;32m     78\u001b[0m             \u001b[0mtorch\u001b[0m\u001b[0;34m.\u001b[0m\u001b[0m_dynamo\u001b[0m\u001b[0;34m.\u001b[0m\u001b[0mgraph_break\u001b[0m\u001b[0;34m(\u001b[0m\u001b[0;34m)\u001b[0m\u001b[0;34m\u001b[0m\u001b[0;34m\u001b[0m\u001b[0m\n",
            "\u001b[0;32m/usr/local/lib/python3.10/dist-packages/torch/optim/adamw.py\u001b[0m in \u001b[0;36mstep\u001b[0;34m(self, closure)\u001b[0m\n\u001b[1;32m    182\u001b[0m             )\n\u001b[1;32m    183\u001b[0m \u001b[0;34m\u001b[0m\u001b[0m\n\u001b[0;32m--> 184\u001b[0;31m             adamw(\n\u001b[0m\u001b[1;32m    185\u001b[0m                 \u001b[0mparams_with_grad\u001b[0m\u001b[0;34m,\u001b[0m\u001b[0;34m\u001b[0m\u001b[0;34m\u001b[0m\u001b[0m\n\u001b[1;32m    186\u001b[0m                 \u001b[0mgrads\u001b[0m\u001b[0;34m,\u001b[0m\u001b[0;34m\u001b[0m\u001b[0;34m\u001b[0m\u001b[0m\n",
            "\u001b[0;32m/usr/local/lib/python3.10/dist-packages/torch/optim/adamw.py\u001b[0m in \u001b[0;36madamw\u001b[0;34m(params, grads, exp_avgs, exp_avg_sqs, max_exp_avg_sqs, state_steps, foreach, capturable, differentiable, fused, grad_scale, found_inf, amsgrad, beta1, beta2, lr, weight_decay, eps, maximize)\u001b[0m\n\u001b[1;32m    333\u001b[0m         \u001b[0mfunc\u001b[0m \u001b[0;34m=\u001b[0m \u001b[0m_single_tensor_adamw\u001b[0m\u001b[0;34m\u001b[0m\u001b[0;34m\u001b[0m\u001b[0m\n\u001b[1;32m    334\u001b[0m \u001b[0;34m\u001b[0m\u001b[0m\n\u001b[0;32m--> 335\u001b[0;31m     func(\n\u001b[0m\u001b[1;32m    336\u001b[0m         \u001b[0mparams\u001b[0m\u001b[0;34m,\u001b[0m\u001b[0;34m\u001b[0m\u001b[0;34m\u001b[0m\u001b[0m\n\u001b[1;32m    337\u001b[0m         \u001b[0mgrads\u001b[0m\u001b[0;34m,\u001b[0m\u001b[0;34m\u001b[0m\u001b[0;34m\u001b[0m\u001b[0m\n",
            "\u001b[0;32m/usr/local/lib/python3.10/dist-packages/torch/optim/adamw.py\u001b[0m in \u001b[0;36m_multi_tensor_adamw\u001b[0;34m(params, grads, exp_avgs, exp_avg_sqs, max_exp_avg_sqs, state_steps, grad_scale, found_inf, amsgrad, beta1, beta2, lr, weight_decay, eps, maximize, capturable, differentiable)\u001b[0m\n\u001b[1;32m    538\u001b[0m \u001b[0;34m\u001b[0m\u001b[0m\n\u001b[1;32m    539\u001b[0m         \u001b[0;31m# Decay the first and second moment running average coefficient\u001b[0m\u001b[0;34m\u001b[0m\u001b[0;34m\u001b[0m\u001b[0m\n\u001b[0;32m--> 540\u001b[0;31m         \u001b[0mtorch\u001b[0m\u001b[0;34m.\u001b[0m\u001b[0m_foreach_lerp_\u001b[0m\u001b[0;34m(\u001b[0m\u001b[0mdevice_exp_avgs\u001b[0m\u001b[0;34m,\u001b[0m \u001b[0mdevice_grads\u001b[0m\u001b[0;34m,\u001b[0m \u001b[0;36m1\u001b[0m \u001b[0;34m-\u001b[0m \u001b[0mbeta1\u001b[0m\u001b[0;34m)\u001b[0m\u001b[0;34m\u001b[0m\u001b[0;34m\u001b[0m\u001b[0m\n\u001b[0m\u001b[1;32m    541\u001b[0m \u001b[0;34m\u001b[0m\u001b[0m\n\u001b[1;32m    542\u001b[0m         \u001b[0mtorch\u001b[0m\u001b[0;34m.\u001b[0m\u001b[0m_foreach_mul_\u001b[0m\u001b[0;34m(\u001b[0m\u001b[0mdevice_exp_avg_sqs\u001b[0m\u001b[0;34m,\u001b[0m \u001b[0mbeta2\u001b[0m\u001b[0;34m)\u001b[0m\u001b[0;34m\u001b[0m\u001b[0;34m\u001b[0m\u001b[0m\n",
            "\u001b[0;31mKeyboardInterrupt\u001b[0m: "
          ]
        }
      ]
    },
    {
      "cell_type": "code",
      "source": [
        "#leng haishi buneng tiaojieliangduhe jiazaoying haiyou kuai unengtaida lengduzikunlenghlkun"
      ],
      "metadata": {
        "id": "3PK7ooATnFGv"
      },
      "execution_count": null,
      "outputs": []
    },
    {
      "cell_type": "code",
      "source": [
        "#ffalengduzisuankouke yiweibuxingle mian houmian zhijieshangqule"
      ],
      "metadata": {
        "id": "ftxn5eiVcDwV"
      },
      "execution_count": null,
      "outputs": []
    },
    {
      "cell_type": "code",
      "source": [
        "train(0.00003, 20, 30, True, reload=True)"
      ],
      "metadata": {
        "id": "-a7Ube5tSSpV"
      },
      "execution_count": null,
      "outputs": []
    },
    {
      "cell_type": "code",
      "source": [
        "#no blocking\n",
        "train(0.00003, 20, 30, True, reload=True)\n"
      ],
      "metadata": {
        "id": "T5Md_VmoiLvQ"
      },
      "execution_count": null,
      "outputs": []
    },
    {
      "cell_type": "code",
      "source": [
        "train(0.00003, 20, 40, True, reload=True)"
      ],
      "metadata": {
        "id": "8ELXJCpYb8Fw"
      },
      "execution_count": null,
      "outputs": []
    },
    {
      "cell_type": "code",
      "source": [
        "#mol iso weight\n",
        "train(0.00003, 20, 30, True, reload=True)"
      ],
      "metadata": {
        "id": "1WxBoXp5UjyA"
      },
      "execution_count": null,
      "outputs": []
    },
    {
      "cell_type": "code",
      "source": [
        "#image iso weight\n",
        "train(0.00003, 20, 30, True, reload=True)"
      ],
      "metadata": {
        "id": "jgnCH23CYITB"
      },
      "execution_count": null,
      "outputs": []
    },
    {
      "cell_type": "code",
      "source": [
        "#image iso weight without random blocks\n",
        "train(0.00003, 20, 30, True, reload=True)"
      ],
      "metadata": {
        "id": "6VKHo8bIZ41E"
      },
      "execution_count": null,
      "outputs": []
    },
    {
      "cell_type": "code",
      "source": [
        "train(0.00003, 10, 20, True, reload=True, split=2)"
      ],
      "metadata": {
        "id": "ioPCl3mPVakG"
      },
      "execution_count": null,
      "outputs": []
    },
    {
      "cell_type": "code",
      "source": [
        "train(0.00002, 0.7, 5)\n"
      ],
      "metadata": {
        "id": "xxyUFD6ibmhB"
      },
      "execution_count": null,
      "outputs": []
    },
    {
      "cell_type": "code",
      "source": [
        "train(0.00002, 0.7, 5)\n",
        "\n"
      ],
      "metadata": {
        "id": "PyplEYghcKZx"
      },
      "execution_count": null,
      "outputs": []
    },
    {
      "cell_type": "code",
      "source": [
        "class SMILESGenerator(torch.nn.Module):\n",
        "  def __init__(self, encoder, decoder):\n",
        "    super().__init__()\n",
        "    self.encoder = encoder\n",
        "    self.decoder = decoder\n",
        "\n",
        "  def forward(self, image, text_in_, max_len, beam): #just changed beam=1 and it runs so beam cannot be random number???  yeah it has to been factor of 676, which is 2 2 13 13 but original paper did not use beam search\n",
        "    image_feature = self.encoder(image)\n",
        "    top_n = list([list(i) for i in torch.tensor(text_in_).repeat(beam,1).detach().cpu().numpy()])\n",
        "    top_n_p = [1]*beam\n",
        "    # print(top_n)\n",
        "    image_feature = image_feature.repeat_interleave(beam, dim=0)#.repeat_interleave(beam)\n",
        "    for i in range(max_len):\n",
        "      if beam == 1:\n",
        "        padded_text, l = pad_pack(top_n)\n",
        "        padded_text = padded_text.to(device)\n",
        "        out = self.decoder(padded_text, image_feature, x_mask=triangle_mask(l).to(device))\n",
        "        out = out[0,-1,:]\n",
        "        next = torch.argmax(out)\n",
        "        top_n[0] += [next.detach().cpu().item()]\n",
        "        if next == 78:\n",
        "          return top_n\n",
        "        continue\n",
        "      padded_text, l = pad_pack(top_n)\n",
        "      padded_text = padded_text.to(device)\n",
        "      out = self.decoder(padded_text, image_feature, x_mask=triangle_mask(l).to(device))\n",
        "      out = out[:,-1,:]\n",
        "      next = torch.topk(torch.flatten(out), beam)\n",
        "      indices2d = np.array(np.unravel_index(next.indices.cpu().numpy(), out.shape)).T\n",
        "      print(next.indices)\n",
        "      new_top_n = []\n",
        "      count = 0\n",
        "      for j in indices2d:\n",
        "        beam_number = j[0]\n",
        "        char = j[1]\n",
        "        # top_n_p[beam_number]*=next.values[]\n",
        "        if char == 78:\n",
        "          count += 1\n",
        "          new_top_n.append(top_n[beam_number])\n",
        "        else:\n",
        "          new_top_n.append(top_n[beam_number] + [char])\n",
        "      if count == beam:\n",
        "        return new_top_n\n",
        "      top_n = new_top_n\n",
        "    return top_n\n",
        "gen = SMILESGenerator(mod.encoder, mod.decoder)\n"
      ],
      "metadata": {
        "id": "0JKvU_PQhVUX"
      },
      "execution_count": 43,
      "outputs": []
    },
    {
      "cell_type": "code",
      "source": [
        "reversed_word_map_={}\n",
        "for i in reversed_word_map.keys():\n",
        "  reversed_word_map_[int(i)] = reversed_word_map[i]"
      ],
      "metadata": {
        "id": "f28s93I8pi76"
      },
      "execution_count": 45,
      "outputs": []
    },
    {
      "cell_type": "code",
      "source": [
        "!ls images/12361*"
      ],
      "metadata": {
        "id": "fCjsJ_8ilDRK"
      },
      "execution_count": null,
      "outputs": []
    },
    {
      "cell_type": "code",
      "source": [
        "res = gen.forward(torch.tensor(np.array(Image.open(\"d.jpg\").convert(\"RGB\").resize((400,400)))).unsqueeze(0).permute(0,3,1,2).to(device).to(torch.float32), [[77]], 100, 1)\n",
        "for str_ in res:\n",
        "  print(converter.decode(\"\".join([reversed_word_map_[i] for i in str_])))\n"
      ],
      "metadata": {
        "colab": {
          "base_uri": "https://localhost:8080/"
        },
        "id": "-ex4_IiPn6iu",
        "outputId": "bb25e55a-bc92-49fa-ce60-03834efb1abb"
      },
      "execution_count": 49,
      "outputs": [
        {
          "output_type": "stream",
          "name": "stdout",
          "text": [
            "<start>CCOCCCO<end>\n"
          ]
        }
      ]
    },
    {
      "cell_type": "code",
      "source": [],
      "metadata": {
        "id": "PYkJx7ujliMM"
      },
      "execution_count": null,
      "outputs": []
    },
    {
      "cell_type": "code",
      "source": [
        "Image.open(\"d.jpg\")"
      ],
      "metadata": {
        "id": "r5ettgCsliQj"
      },
      "execution_count": null,
      "outputs": []
    },
    {
      "cell_type": "code",
      "source": [],
      "metadata": {
        "id": "wmu7KOJHpTDp"
      },
      "execution_count": null,
      "outputs": []
    },
    {
      "cell_type": "code",
      "source": [
        "Image.open(\"images/a.jpg\")"
      ],
      "metadata": {
        "id": "934LZSA1pBQF"
      },
      "execution_count": null,
      "outputs": []
    },
    {
      "cell_type": "code",
      "execution_count": null,
      "metadata": {
        "id": "Jd1qjT-1QIAq"
      },
      "outputs": [],
      "source": [
        "#for and save aaa GED\n",
        "train(0.00004, 0.95, 30, 6)\n"
      ]
    },
    {
      "cell_type": "code",
      "execution_count": null,
      "metadata": {
        "id": "8G4iUVDhUNHa"
      },
      "outputs": [],
      "source": [
        "image, text_in, text_out = getitem(train=False)\n",
        "\n",
        "image = image.to(device)\n",
        "text_out = pad_pack(text_out)[0].to(device)\n",
        "padded_x = pad_pack(text_in)\n",
        "\n",
        "xmask = triangle_mask(padded_x[1]).to(device)\n",
        "text_in = padded_x[0].to(device)\n",
        "\n",
        "outputs = mod(image, text_in, xmask)\n",
        "converter.decode(\"\".join([reversed_word_map[str(np.argmax(i))] for i in outputs[4].detach().cpu().numpy()]))"
      ]
    },
    {
      "cell_type": "code",
      "source": [
        "# 12361!! finallly works bieren kajnw o"
      ],
      "metadata": {
        "id": "TkWefNTXcvHT"
      },
      "execution_count": null,
      "outputs": []
    },
    {
      "cell_type": "code",
      "execution_count": null,
      "metadata": {
        "id": "NltJ4ypRV4V5"
      },
      "outputs": [],
      "source": [
        "text_in"
      ]
    },
    {
      "cell_type": "code",
      "execution_count": null,
      "metadata": {
        "id": "4rcHVFTYUkui"
      },
      "outputs": [],
      "source": [
        "pylab.imshow(image[5].permute(1,2,0).cpu()/255)"
      ]
    },
    {
      "cell_type": "code",
      "source": [
        "pylab.imshow(image[3].permute(1,2,0).cpu()/255)\n"
      ],
      "metadata": {
        "id": "ILFCucsXWhNY"
      },
      "execution_count": null,
      "outputs": []
    },
    {
      "cell_type": "code",
      "execution_count": null,
      "metadata": {
        "id": "sqs6Cw7NM16M"
      },
      "outputs": [],
      "source": [
        "train(0.00004, 0.7, 6)\n",
        "# No black out"
      ]
    },
    {
      "cell_type": "code",
      "execution_count": null,
      "metadata": {
        "id": "tMYqNnqur-Vn"
      },
      "outputs": [],
      "source": [
        "#This time very well how???????\n",
        "torch.seed()"
      ]
    },
    {
      "cell_type": "code",
      "execution_count": null,
      "metadata": {
        "id": "_4BiFGdkrYD-"
      },
      "outputs": [],
      "source": [
        "res = np.array([i.item() for i in access[350:]])"
      ]
    },
    {
      "cell_type": "code",
      "execution_count": null,
      "metadata": {
        "id": "Er5kDvoR3jXN"
      },
      "outputs": [],
      "source": [
        "np.sum(res==1)/len(res)"
      ]
    },
    {
      "cell_type": "code",
      "execution_count": null,
      "metadata": {
        "id": "E7voFa94afTq"
      },
      "outputs": [],
      "source": [
        "pylab.plot([i.item() for i in access], label=\"Train\")\n",
        "pylab.plot(np.arange(len(val_acc))*(len(access)/len(val_acc)),val_acc,label=\"Val\")\n",
        "pylab.legend()"
      ]
    },
    {
      "cell_type": "code",
      "execution_count": null,
      "metadata": {
        "id": "NyD6COrvJxyw"
      },
      "outputs": [],
      "source": [
        "image.requires_grad_()\n",
        "outputs = mod(image, text_in, xmask)\n",
        "loss = loss_fn(outputs, text_out)\n",
        "loss.backward()"
      ]
    },
    {
      "cell_type": "code",
      "execution_count": null,
      "metadata": {
        "id": "oP87C89GK049"
      },
      "outputs": [],
      "source": [
        "img = image[0].permute(1,2,0).detach().cpu()\n",
        "pylab.imshow(img/torch.max(img))"
      ]
    },
    {
      "cell_type": "code",
      "execution_count": null,
      "metadata": {
        "id": "I_b4lFzDKV33"
      },
      "outputs": [],
      "source": [
        "ans = image.grad[0].permute(1,2,0).cpu()\n",
        "ans = (ans-torch.mean(ans))/torch.std(ans)\n",
        "pylab.imshow(torch.sum(((ans)), dim=-1), cmap=\"gray\")"
      ]
    },
    {
      "cell_type": "code",
      "source": [
        "mod.decoder.layer[0].attn2"
      ],
      "metadata": {
        "id": "Bu6bP34PhREB"
      },
      "execution_count": null,
      "outputs": []
    }
  ],
  "metadata": {
    "accelerator": "GPU",
    "colab": {
      "provenance": [],
      "authorship_tag": "ABX9TyN+v7c72o35jk7Z0Wu/pB8n",
      "include_colab_link": true
    },
    "kernelspec": {
      "display_name": "Python 3",
      "name": "python3"
    },
    "language_info": {
      "name": "python"
    }
  },
  "nbformat": 4,
  "nbformat_minor": 0
}