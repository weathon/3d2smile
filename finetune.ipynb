{
  "cells": [
    {
      "cell_type": "markdown",
      "metadata": {
        "id": "view-in-github",
        "colab_type": "text"
      },
      "source": [
        "<a href=\"https://colab.research.google.com/github/weathon/3d2smile/blob/main/finetune.ipynb\" target=\"_parent\"><img src=\"https://colab.research.google.com/assets/colab-badge.svg\" alt=\"Open In Colab\"/></a>"
      ]
    },
    {
      "cell_type": "code",
      "execution_count": 1,
      "metadata": {
        "id": "5qquj2I2RlAm"
      },
      "outputs": [],
      "source": [
        "# !wget file.weasoft.com/images.zip\n",
        "# !wget file.weasoft.com/summary.csv\n",
        "# !unzip images.zip\n",
        "# !git clone https://github.com/suanfaxiaohuo/SwinOCSR.git\n",
        "# !pip install focal_loss_torch wandb\n",
        "# !pip3 install deepsmiles yacs tqdm"
      ]
    },
    {
      "cell_type": "code",
      "execution_count": 2,
      "metadata": {
        "id": "nNBpujPhUwPj"
      },
      "outputs": [],
      "source": [
        "import sys\n",
        "import os\n",
        "import argparse\n",
        "from tqdm import tqdm\n",
        "import deepsmiles\n",
        "from typing import Any, cast, Callable, List, Tuple, Union\n",
        "from PIL import Image\n",
        "\n",
        "import torch\n",
        "import torchvision\n",
        "import torchvision.transforms as transforms\n",
        "\n",
        "import numpy as np"
      ]
    },
    {
      "cell_type": "code",
      "execution_count": 3,
      "metadata": {
        "id": "OdtFJ4TKjyIp"
      },
      "outputs": [],
      "source": [
        "import sys\n",
        "sys.path.append(\"./SwinOCSR/model/Swin-transformer-focalloss\")\n",
        "sys.path.append(\"./SwinOCSR/model/\")\n",
        "from pre_transformer import Transformer\n",
        "class FocalLossModelInference:\n",
        "    \"\"\"\n",
        "    Inference Class\n",
        "    \"\"\"\n",
        "    def __init__(self):\n",
        "        # Load dictionary that maps tokens to integers\n",
        "        word_map_path = './SwinOCSR/Data/500wan/500wan_shuffle_DeepSMILES_word_map'\n",
        "        self.word_map = torch.load(word_map_path)\n",
        "        self.inv_word_map = {v: k for k, v in self.word_map.items()}\n",
        "\n",
        "        # Define device, load models and weights\n",
        "        self.dev = \"cuda\" if torch.cuda.is_available() else \"cpu\"\n",
        "        # self.args, config = self.get_inference_config()\n",
        "        # self.encoder = build_model(config, tag=False)\n",
        "        self.decoder = self.build_decoder()\n",
        "        # self.load_checkpoint(\"./swin_transform_focalloss.pth\")\n",
        "        self.decoder = self.decoder.to(self.dev).eval()\n",
        "        # self.encoder = self.encoder.to(self.dev).eval()\n",
        "\n",
        "    def load_checkpoint(self, checkpoint_path):\n",
        "        \"\"\"\n",
        "        Load checkpoint and update encoder and decoder accordingly\n",
        "\n",
        "        Args:\n",
        "            checkpoint_path (str): path of checkpoint file\n",
        "        \"\"\"\n",
        "        print(f\"=====> {checkpoint_path} <=====\")\n",
        "        checkpoint = torch.load(checkpoint_path, map_location='cpu')\n",
        "        # encoder_msg = self.encoder.load_state_dict(checkpoint['encoder'],\n",
        "        #                                            strict=False)\n",
        "        decoder_msg = self.decoder.load_state_dict(checkpoint['decoder'],\n",
        "                                                   strict=False)\n",
        "        # print(f\"Encoder: {encoder_msg}\")\n",
        "        print(f\"Decoder: {decoder_msg}\")\n",
        "        del checkpoint\n",
        "        torch.cuda.empty_cache()\n",
        "\n",
        "    def build_decoder(self):\n",
        "        \"\"\"\n",
        "        This method builds the Transformer decoder and returns it\n",
        "        \"\"\"\n",
        "        self.decoder_dim = 256  # dimension of decoder RNN\n",
        "        self.ff_dim = 2048\n",
        "        self.num_head = 8\n",
        "        self.dropout = 0.1\n",
        "        self.encoder_num_layer = 6\n",
        "        self.decoder_num_layer = 6\n",
        "        self.max_len = 277\n",
        "        self.decoder_lr = 5e-4\n",
        "        self.best_acc = 0.\n",
        "        return Transformer(dim=self.decoder_dim,\n",
        "                           ff_dim=self.ff_dim,\n",
        "                           num_head=self.num_head,\n",
        "                           encoder_num_layer=self.encoder_num_layer,\n",
        "                           decoder_num_layer=self.decoder_num_layer,\n",
        "                           vocab_size=len(self.word_map),\n",
        "                           max_len=self.max_len,\n",
        "                           drop_rate=self.dropout,\n",
        "                           tag=False)\n",
        "transformer_ = FocalLossModelInference()"
      ]
    },
    {
      "cell_type": "code",
      "execution_count": 4,
      "metadata": {
        "id": "dbRXmI18pj34"
      },
      "outputs": [],
      "source": [
        "# from google.colab import drive\n",
        "# drive.mount('/content/drive')"
      ]
    },
    {
      "cell_type": "code",
      "execution_count": 5,
      "metadata": {
        "id": "nuWSq0NVS8Qn"
      },
      "outputs": [],
      "source": [
        "import base64\n",
        "import pandas as pd\n",
        "import os"
      ]
    },
    {
      "cell_type": "code",
      "execution_count": 6,
      "metadata": {
        "id": "yPrlAJRlWum_"
      },
      "outputs": [],
      "source": [
        "import sys\n",
        "sys.path.append(\"./SwinOCSR/model/Swin-transformer-focalloss\")\n",
        "sys.path.append(\"./SwinOCSR/model/\")"
      ]
    },
    {
      "cell_type": "code",
      "execution_count": 7,
      "metadata": {
        "id": "T2jSXpDvXC-J"
      },
      "outputs": [],
      "source": [
        "if torch.cuda.is_available():\n",
        "    device = torch.device('cuda:0')\n",
        "else:\n",
        "    device = torch.device('cpu')"
      ]
    },
    {
      "cell_type": "code",
      "source": [
        "!wget file.weasoft.com/256.pt"
      ],
      "metadata": {
        "colab": {
          "base_uri": "https://localhost:8080/"
        },
        "id": "1vDh8R8_47xn",
        "outputId": "596f2001-820f-459b-b80f-141c243b319b"
      },
      "execution_count": 8,
      "outputs": [
        {
          "output_type": "stream",
          "name": "stdout",
          "text": [
            "--2024-02-07 06:24:19--  http://file.weasoft.com/256.pt\n",
            "Resolving file.weasoft.com (file.weasoft.com)... 149.28.13.194\n",
            "Connecting to file.weasoft.com (file.weasoft.com)|149.28.13.194|:80... connected.\n",
            "HTTP request sent, awaiting response... 200 OK\n",
            "Length: 153353860 (146M) [application/vnd.snesdev-page-table]\n",
            "Saving to: ‘256.pt.2’\n",
            "\n",
            "256.pt.2            100%[===================>] 146.25M  24.2MB/s    in 6.9s    \n",
            "\n",
            "2024-02-07 06:24:26 (21.2 MB/s) - ‘256.pt.2’ saved [153353860/153353860]\n",
            "\n"
          ]
        }
      ]
    },
    {
      "cell_type": "code",
      "execution_count": 9,
      "metadata": {
        "id": "UBa_oqMlmBN-"
      },
      "outputs": [],
      "source": [
        "# eff = torchvision.models.swin_s()\n",
        "# mynet = eff.features\n",
        "# class ImageEncoder(torch.nn.Module):\n",
        "#   def __init__(self):\n",
        "#     super().__init__()\n",
        "#     self.eff = mynet.to(device)\n",
        "#     self.projection = torch.nn.Linear(768,256).to(device)\n",
        "#   def forward(self, images):\n",
        "#     features = self.eff(images)\n",
        "#     print(features.shape)\n",
        "#     features = torch.flatten(features, start_dim=1, end_dim=2)\n",
        "#     # features = torch.permute(features, (0, 2, 1))\n",
        "#     return self.projection(features)\n",
        "\n",
        "# class Image2SMILES(torch.nn.Module):\n",
        "#   def __init__(self, encoder, decoder):\n",
        "#     super().__init__()\n",
        "#     self.encoder = encoder\n",
        "#     self.decoder = decoder\n",
        "\n",
        "#   def forward(self, image, text_in, xmask):\n",
        "#     image_feature = self.encoder(image)\n",
        "#     out = self.decoder(text_in, image_feature, x_mask=xmask)\n",
        "#     return out\n",
        "# ImageEncoder()(torch.rand((1,3,400,400)).to(device))\n"
      ]
    },
    {
      "cell_type": "code",
      "source": [
        "eff = torchvision.models.efficientnet_v2_s()\n",
        "mynet = eff.features\n",
        "class ImageEncoder(torch.nn.Module):\n",
        "  def __init__(self):\n",
        "    super().__init__()\n",
        "    self.eff = mynet.to(device)\n",
        "    self.projection = torch.nn.Linear(1280,256).to(device)\n",
        "  def forward(self, images):\n",
        "    features = self.eff(images)\n",
        "    # print(features.shape)\n",
        "    features = torch.flatten(features, start_dim=2, end_dim=3)\n",
        "    features = torch.permute(features, (0, 2, 1))\n",
        "    return self.projection(features)\n",
        "\n",
        "class Image2SMILES(torch.nn.Module):\n",
        "  def __init__(self, encoder, decoder):\n",
        "    super().__init__()\n",
        "    self.encoder = encoder\n",
        "    self.decoder = decoder\n",
        "\n",
        "  def forward(self, image, text_in, xmask):\n",
        "    image_feature = self.encoder(image)\n",
        "    out = self.decoder(text_in, image_feature, x_mask=xmask)\n",
        "    return out\n",
        "ImageEncoder()(torch.rand((1,3,400,400)).to(device))\n"
      ],
      "metadata": {
        "colab": {
          "base_uri": "https://localhost:8080/"
        },
        "id": "sQEkoU_UYlDk",
        "outputId": "e603e3b8-f185-4ff9-9507-d5f0a591fefc"
      },
      "execution_count": 10,
      "outputs": [
        {
          "output_type": "execute_result",
          "data": {
            "text/plain": [
              "tensor([[[-0.2021, -0.2931,  0.2659,  ..., -0.0136, -0.1526,  0.3706],\n",
              "         [-0.2650, -0.3253, -0.0102,  ...,  0.0562, -0.2283,  0.1151],\n",
              "         [ 0.2874, -0.0292, -0.0394,  ..., -0.1888, -0.2969, -0.2749],\n",
              "         ...,\n",
              "         [ 0.0598, -0.5947, -0.1216,  ...,  0.2904, -0.2376, -0.0863],\n",
              "         [-0.2265, -0.2489,  0.1922,  ...,  0.2710,  0.0649,  0.0940],\n",
              "         [ 0.0235, -0.3381,  0.1088,  ..., -0.0572,  0.1333,  0.0984]]],\n",
              "       device='cuda:0', grad_fn=<AddBackward0>)"
            ]
          },
          "metadata": {},
          "execution_count": 10
        }
      ]
    },
    {
      "cell_type": "code",
      "source": [],
      "metadata": {
        "id": "zOcE91RTa6qP"
      },
      "execution_count": 10,
      "outputs": []
    },
    {
      "cell_type": "code",
      "source": [
        "class Image2SMILES(torch.nn.Module):\n",
        "  def __init__(self, encoder, decoder):\n",
        "    super().__init__()\n",
        "    self.encoder = encoder\n",
        "    self.decoder = decoder\n",
        "    self.decoder.encoder_dim = torch.nn.Identity()\n",
        "  def forward(self, image, text_in, xmask):\n",
        "    image_feature = self.encoder(image)\n",
        "    out = self.decoder(text_in, image_feature, x_mask=xmask)\n",
        "    return out\n"
      ],
      "metadata": {
        "id": "FocNgXLWWKau"
      },
      "execution_count": 11,
      "outputs": []
    },
    {
      "cell_type": "code",
      "source": [
        "mod = Image2SMILES(ImageEncoder(), transformer_.decoder)"
      ],
      "metadata": {
        "id": "TyN0ynj3W3O3"
      },
      "execution_count": 12,
      "outputs": []
    },
    {
      "cell_type": "code",
      "execution_count": 13,
      "metadata": {
        "id": "6dA6xdVGXVog"
      },
      "outputs": [],
      "source": [
        "mod = torch.load(\"256.pt\", map_location=device)"
      ]
    },
    {
      "cell_type": "code",
      "execution_count": 14,
      "metadata": {
        "id": "oW55KrXRYvOe"
      },
      "outputs": [],
      "source": [
        "def pad_pack(sequences):\n",
        "    maxlen = max(map(len, sequences))\n",
        "    batch = torch.LongTensor(len(sequences),maxlen).fill_(0)\n",
        "    for i,x in enumerate(sequences):\n",
        "        batch[i,:len(x)] = torch.LongTensor(x)\n",
        "    return batch, maxlen"
      ]
    },
    {
      "cell_type": "code",
      "execution_count": 15,
      "metadata": {
        "id": "judy6xpNrFdn",
        "colab": {
          "base_uri": "https://localhost:8080/"
        },
        "outputId": "aa6b7816-7606-4f86-9629-087593d732e7"
      },
      "outputs": [
        {
          "output_type": "execute_result",
          "data": {
            "text/plain": [
              "torch.return_types.topk(\n",
              "values=tensor([4, 3]),\n",
              "indices=tensor([3, 2]))"
            ]
          },
          "metadata": {},
          "execution_count": 15
        }
      ],
      "source": [
        "torch.topk(torch.tensor([1,2,3,4]),2)"
      ]
    },
    {
      "cell_type": "code",
      "execution_count": 16,
      "metadata": {
        "id": "lS-pBOLrZYAC"
      },
      "outputs": [],
      "source": [
        "def triangle_mask(size):\n",
        "    mask = 1- np.triu(np.ones((1, size, size)),k=1).astype('uint8')\n",
        "    mask = torch.autograd.Variable(torch.from_numpy(mask))\n",
        "    return mask"
      ]
    },
    {
      "cell_type": "code",
      "execution_count": 17,
      "metadata": {
        "id": "SyP6kq3BbP9j",
        "colab": {
          "base_uri": "https://localhost:8080/"
        },
        "outputId": "e9524a4b-b848-4acc-a047-752444cd5902"
      },
      "outputs": [
        {
          "output_type": "stream",
          "name": "stdout",
          "text": [
            "--2024-02-07 06:24:29--  http://file.weasoft.com/reverse.map\n",
            "Resolving file.weasoft.com (file.weasoft.com)... 149.28.13.194\n",
            "Connecting to file.weasoft.com (file.weasoft.com)|149.28.13.194|:80... connected.\n",
            "HTTP request sent, awaiting response... 200 OK\n",
            "Length: 875\n",
            "Saving to: ‘reverse.map.2’\n",
            "\n",
            "reverse.map.2       100%[===================>]     875  --.-KB/s    in 0s      \n",
            "\n",
            "2024-02-07 06:24:29 (108 MB/s) - ‘reverse.map.2’ saved [875/875]\n",
            "\n"
          ]
        }
      ],
      "source": [
        "!wget file.weasoft.com/reverse.map"
      ]
    },
    {
      "cell_type": "code",
      "execution_count": 18,
      "metadata": {
        "id": "CF9p_SoUZkI0"
      },
      "outputs": [],
      "source": [
        "reversed_word_map = {}\n",
        "import json\n",
        "with open(\"reverse.map\",\"r\") as f:\n",
        "  reversed_word_map = json.loads(f.read())"
      ]
    },
    {
      "cell_type": "code",
      "execution_count": 19,
      "metadata": {
        "id": "rCtJABqeeSfd"
      },
      "outputs": [],
      "source": [
        "from focal_loss.focal_loss import FocalLoss\n",
        "m = torch.nn.Softmax(dim=-1)\n",
        "lf = FocalLoss(gamma=2, ignore_index=0)#torch.nn.CrossEntropyLoss(label_smoothing=0.1, reduction=\"none\")\n",
        "def loss_fn(pred, truth):\n",
        "  pred = m(pred)\n",
        "  l = lf(pred, truth)\n",
        "  return l"
      ]
    },
    {
      "cell_type": "code",
      "execution_count": 20,
      "metadata": {
        "id": "2le1E1LleajU"
      },
      "outputs": [],
      "source": [
        "def mask_acc(pred, truth):\n",
        "    pred = torch.argmax(pred, -1)\n",
        "    mask = truth != 0\n",
        "    match_case = truth == pred\n",
        "    return torch.sum(mask*match_case)/torch.sum(mask)"
      ]
    },
    {
      "cell_type": "code",
      "execution_count": 21,
      "metadata": {
        "id": "QXsYpnwnf00c"
      },
      "outputs": [],
      "source": [
        "import pandas as pd\n",
        "molecules_rows = pd.read_csv(\"summary.csv\")"
      ]
    },
    {
      "cell_type": "code",
      "execution_count": 22,
      "metadata": {
        "id": "oI76DYvd-XFR"
      },
      "outputs": [],
      "source": [
        "# print(\"\\n\".join(list(set([i.split(\"_\")[0] for i in os.listdir(\"images\")]))))"
      ]
    },
    {
      "cell_type": "code",
      "execution_count": 22,
      "metadata": {
        "id": "ONG3yHt9k2Lg"
      },
      "outputs": [],
      "source": []
    },
    {
      "cell_type": "code",
      "execution_count": 23,
      "metadata": {
        "id": "KOBdK4giehsf"
      },
      "outputs": [],
      "source": [
        "import random\n",
        "converter = deepsmiles.Converter(rings=True, branches=True)\n",
        "cids = list(molecules_rows[\"cid\"])\n",
        "train_cids = [i for i in cids if not i in [286, 6587, 6562, 11203]]\n",
        "# val_cids = [\"a\"]\n",
        "val_cids = [286, 6587, 6562, 11203]\n",
        "\n",
        "train_names = [i for i in os.listdir(\"./images\") if int(i.split(\"_\")[0]) in train_cids]\n",
        "val_names = [i for i in os.listdir(\"./images\") if int(i.split(\"_\")[0]) in val_cids]\n",
        "from PIL import ImageOps\n",
        "\n",
        "def getitem(index, train=True):\n",
        "  ti = []\n",
        "  to = []\n",
        "  imgs = []\n",
        "\n",
        "  # train=FalseTAMADE WEISM TRAIN = FALSE!!!guaibude bunengfanhua shouzhima ghuainbbude val namehao zuibakouke azhiqianweismkeyile? jiushiyingweimeiyouyongnamesle\n",
        "  names = train_names if train else val_names\n",
        "  start = index*16\n",
        "  end =  (index+1)*16\n",
        "  end = len(names) if end>len(names) else end\n",
        "  # print(start, end)\n",
        "  for i in range(start, end):\n",
        "\n",
        "\n",
        "    name = random.choice([i for i in names])\n",
        "    # name = random.choice([i for i in os.listdir(\"./images\")]) #shetoudzikunhzhegegebuhaishisuijidemaguaibude\n",
        "\n",
        "    img = Image.open(f\"images/{name}\").convert(\"RGB\")\n",
        "    if train:\n",
        "      img = img.rotate(random.choice([0,90,180,270]), expand=0).resize((400,400))\n",
        "      if random.random()>0.5:\n",
        "        img = ImageOps.flip(img)\n",
        "      if random.random()>0.5:\n",
        "        img = ImageOps.mirror(img)\n",
        "      img.crop((random.random()*30,random.random()*30,400-random.random()*30,400-random.random()*30))\n",
        "    img = np.array(img.resize((400,400)), dtype=\"float32\")\n",
        "    if train:\n",
        "      # img[:,:,0] *= random.random()*0.2+0.9\n",
        "      img[:,:,1] *= random.random()*0.1+0.9\n",
        "      img[:,:,2] *= random.random()*0.1+0.9\n",
        "      img[:,:,:] *= random.random()*0.1+0.8\n",
        "    img = torch.tensor(np.array(img)).permute(2, 0, 1).to(torch.float32).to(device)\n",
        "    # if train:\n",
        "    #   # img+=torch.rand((3,400,400)).to(device)*50\n",
        "    #   for _ in range(30):\n",
        "    #     x,y = int(random.random()*380),int(random.random()*380)\n",
        "    #     img[:,x:x+20, y:y+20] = torch.rand((3,20,20))*250\n",
        "#  guoranhaishiyaoqudizokunduzikoue\n",
        "    # if train:\n",
        "      # img*=torch.round(torch.tanh(5*torch.rand((3,400,400)))).to(device)\n",
        "    # print(name)\n",
        "    # print(converte//r.encode(molecules_rows[molecules_rows[\"cid\"]==int(name.split(\"_\")[0])][\"canonicalsmiles\"].item()))\n",
        "    smiles = [transformer_.word_map[i] for i in converter.encode(molecules_rows[molecules_rows[\"cid\"]==int(name.split(\"_\")[0])][\"canonicalsmiles\"].item())]\n",
        "    ti.append([77] + smiles)\n",
        "    to.append(smiles + [78])\n",
        "    imgs.append(img)\n",
        "  return torch.stack(imgs), ti, to\n"
      ]
    },
    {
      "cell_type": "code",
      "execution_count": 24,
      "metadata": {
        "id": "cTf4Es8m8bSg"
      },
      "outputs": [],
      "source": [
        "# torch.stack([torch.tensor([1,2]) for i in range(10)])"
      ]
    },
    {
      "cell_type": "code",
      "execution_count": 25,
      "metadata": {
        "id": "jWuHtPLbf2U4"
      },
      "outputs": [],
      "source": [
        "# print(\"\\n\".join([str(i) for i in df[\"cid\"].unique()])) duzishetoukk gc collect and empty czceh ramhaole\n"
      ]
    },
    {
      "cell_type": "code",
      "source": [
        "def sequence_acc(outputs, ans):\n",
        "  count = 0\n",
        "  for i in range(16):\n",
        "    seq = torch.argmax(outputs[i], dim=-1)\n",
        "    correct = ans[i]\n",
        "    seq = \"\".join([str(i) for i in seq.detach().cpu().numpy()]).replace(\"77\",\"\").replace(\"78\",\"\").replace(\"0\",\"\")\n",
        "    correct = \"\".join([str(i) for i in correct.detach().cpu().numpy()]).replace(\"77\",\"\").replace(\"78\",\"\").replace(\"0\",\"\")\n",
        "    # print(seq, correct)\n",
        "    if seq==correct:\n",
        "      count+=1\n",
        "  return count/16"
      ],
      "metadata": {
        "id": "guyXWjh8M6UL"
      },
      "execution_count": 55,
      "outputs": []
    },
    {
      "cell_type": "code",
      "source": [],
      "metadata": {
        "id": "zzvaeyJ4NdJc"
      },
      "execution_count": 26,
      "outputs": []
    },
    {
      "cell_type": "code",
      "execution_count": 68,
      "metadata": {
        "id": "rRZ56CuPWl7z"
      },
      "outputs": [],
      "source": [
        "def val():\n",
        "  global val_names\n",
        "  # global mod\n",
        "  np.random.shuffle(val_names)\n",
        "  running_loss = 0\n",
        "  eval_mod = mod.train(False).to(device)  #forget to use =\n",
        "  # ids = os.listdir(\"images\")[:10]\n",
        "\n",
        "  valacc = []\n",
        "  image, text_in, text_out = getitem(0, train=False)\n",
        "\n",
        "  image = image.to(device)\n",
        "  text_out = pad_pack(text_out)[0].to(device)\n",
        "  padded_x = pad_pack(text_in)\n",
        "\n",
        "  xmask = triangle_mask(padded_x[1]).to(device)\n",
        "  text_in = padded_x[0].to(device)\n",
        "\n",
        "  outputs = eval_mod(image, text_in, xmask)\n",
        "  loss = loss_fn(outputs, text_out)\n",
        "\n",
        "\n",
        "\n",
        "  running_loss += loss.item()\n",
        "  valacc.append(mask_acc(outputs.detach(), text_out).item())\n",
        "  # return outputs\n",
        "  return running_loss, np.mean(valacc)\n"
      ]
    },
    {
      "cell_type": "code",
      "source": [
        "val()"
      ],
      "metadata": {
        "colab": {
          "base_uri": "https://localhost:8080/"
        },
        "id": "yCcCRnEWOTZE",
        "outputId": "7a4dffce-c151-4fc0-9027-300aefefdf02"
      },
      "execution_count": 70,
      "outputs": [
        {
          "output_type": "execute_result",
          "data": {
            "text/plain": [
              "(0.1550552099943161, 0.9226190447807312)"
            ]
          },
          "metadata": {},
          "execution_count": 70
        }
      ]
    },
    {
      "cell_type": "code",
      "source": [
        "import gc\n",
        "mod.cpu()\n",
        "gc.collect()\n",
        "torch.cuda.empty_cache()"
      ],
      "metadata": {
        "id": "zYWXAAxvXnxC"
      },
      "execution_count": 71,
      "outputs": []
    },
    {
      "cell_type": "code",
      "execution_count": 30,
      "metadata": {
        "id": "6qj0C3t-3xY-"
      },
      "outputs": [],
      "source": [
        "mod = torch.load(\"256.pt\", map_location=device) #it is model not dict"
      ]
    },
    {
      "cell_type": "code",
      "execution_count": 31,
      "metadata": {
        "id": "NzbIYm2OM-0y"
      },
      "outputs": [],
      "source": [
        "for i in mod.decoder.parameters():\n",
        "  i.require_grad = False\n",
        "for i in mod.encoder.eff[6:].parameters():\n",
        "  i.require_grad = False\n",
        "\n",
        "# for layers in mod.encoder.eff[:4]:\n",
        "#   for i in layers.parameters():\n",
        "#     i.require_grad = False"
      ]
    },
    {
      "cell_type": "code",
      "execution_count": 32,
      "metadata": {
        "id": "jbWqOmWqsTL3",
        "colab": {
          "base_uri": "https://localhost:8080/"
        },
        "outputId": "8b3faa21-e59a-463f-b40f-c864b23d65ad"
      },
      "outputs": [
        {
          "output_type": "execute_result",
          "data": {
            "text/plain": [
              "<torch._C.Generator at 0x7fedb4311f90>"
            ]
          },
          "metadata": {},
          "execution_count": 32
        }
      ],
      "source": [
        "torch.manual_seed(0)"
      ]
    },
    {
      "cell_type": "code",
      "execution_count": 33,
      "metadata": {
        "id": "34QAyxV4uPq1"
      },
      "outputs": [],
      "source": [
        "# 都改回来了还是一样好？ 没有，开始变差了，数据增强有用？还是冻结 shetou mingbaileshizuihoudeyouzaid"
      ]
    },
    {
      "cell_type": "code",
      "execution_count": 72,
      "metadata": {
        "id": "0ywSwbOTtQFs"
      },
      "outputs": [],
      "source": [
        "def train(lr, gamma, epoch, forzen, reload=False, split=1):\n",
        "  global mod\n",
        "  # lr = lr*split #oh why learning rate*4 this is why it trains much better, still need nigher learning rate zuibagankouke zhege haizaizheli a a banbenwanquanluanle\n",
        "  if reload:\n",
        "    mod = torch.load(\"256.pt\", map_location=device) #it is model not dict\n",
        "    if forzen:\n",
        "      for i in mod.parameters():\n",
        "        i.require_grad = True\n",
        "      for i in mod.decoder.parameters():\n",
        "        i.require_grad = False\n",
        "      for i in mod.encoder.parameters():\n",
        "        i.require_grad = False\n",
        "      for i in mod.encoder.eff[-1:].parameters():\n",
        "        i.require_grad = True\n",
        "      for i in mod.encoder.projection.parameters(): #forgot about this forgrt to set oiit to false just checked history this is why\n",
        "        i.require_grad = True\n",
        "  losses = []\n",
        "  access = []\n",
        "  val_acc = []\n",
        "  optimizer = torch.optim.AdamW(\n",
        "    mod.parameters(),\n",
        "    lr=lr)\n",
        "  import pylab\n",
        "  scheduler = torch.optim.lr_scheduler.ExponentialLR(optimizer, gamma)\n",
        "  running_loss = 0\n",
        "  for epoch in range(epoch):\n",
        "    np.random.shuffle(train_names)\n",
        "    mod.train(True)\n",
        "    # ids = [i for i in os.listdir(\"images\") if not i.startswith(\"638066\")]\n",
        "    # ids = os.listdir(\"images\")[10:]\n",
        "    # np.random.shuffle(ids)\n",
        "    for i in range(len(train_names)//(16*split)):#why set this and it be better or is it learning rate? it lower faster? hyper-parameter kunduzikouke gaile lenoslistdir dao trainnames cjiuhuichaoguo100?wtfmeiyouyunxingduzikunk\n",
        "      if i==None:\n",
        "        continue\n",
        "      start_index = i\n",
        "      image, text_in, text_out = getitem(i, True)\n",
        "\n",
        "      image = image.to(device) #mutli process cannot use cuda so moved here\n",
        "      # image = torch.permute(image, (0, 3, 1, 2))\n",
        "      text_out = pad_pack(text_out)[0].to(device)\n",
        "      padded_x = pad_pack(text_in)\n",
        "\n",
        "      xmask = triangle_mask(padded_x[1]).to(device)\n",
        "      text_in = padded_x[0].to(device)\n",
        "\n",
        "      optimizer.zero_grad()\n",
        "      outputs = mod(image, text_in, xmask)\n",
        "      #loss = loss_fn(outputs, text_outi) guaibude yyixiazinamegao\n",
        "      loss = loss_fn(outputs, text_out)\n",
        "\n",
        "      loss.backward()\n",
        "\n",
        "      optimizer.step()\n",
        "\n",
        "      running_loss += loss.item()\n",
        "      losses.append(loss.item())\n",
        "      access.append(mask_acc(outputs.detach(), text_out))\n",
        "\n",
        "      if i%5==0:\n",
        "        val_acc.append(val()[1])\n",
        "        print(val_acc)\n",
        "        scheduler.step()\n",
        "    # print(optimizer.param_groups[0][\"lr\"])\n",
        "  pylab.plot([i.item() for i in access], label=\"Train\")\n",
        "  pylab.plot(np.arange(1, len(val_acc)+1)*(len(access)/len(val_acc)),val_acc,label=\"Val\")\n",
        "  pylab.legend()\n",
        "  pylab.show()\n",
        "  pylab.savefig(f\"{lr}_{gamma}_{epoch}.png\")\n",
        "  return mod"
      ]
    },
    {
      "cell_type": "code",
      "execution_count": 35,
      "metadata": {
        "id": "dmzz1ZUrLXco"
      },
      "outputs": [],
      "source": [
        "reversed_word_map_={}\n",
        "for i in reversed_word_map.keys():\n",
        "  reversed_word_map_[int(i)] = reversed_word_map[i]"
      ]
    },
    {
      "cell_type": "code",
      "execution_count": 36,
      "metadata": {
        "id": "3caY3NyAK8gi"
      },
      "outputs": [],
      "source": [
        "np_map = np.array(list(reversed_word_map_.values()))\n",
        "for i in reversed_word_map_.keys():\n",
        "  np_map[i] = reversed_word_map_[i]"
      ]
    },
    {
      "cell_type": "code",
      "execution_count": 37,
      "metadata": {
        "id": "oKW3Xwkwcitv"
      },
      "outputs": [],
      "source": [
        "def top_k_2d(m, k):\n",
        "  values, indices = torch.topk(m.flatten(), k)\n",
        "  return indices//m.shape[1], indices%m.shape[1]\n",
        "  # return indices//m.shape[0]-1, indices%m.shape[1]"
      ]
    },
    {
      "cell_type": "code",
      "execution_count": 38,
      "metadata": {
        "id": "9xAkB6nPczJ2",
        "colab": {
          "base_uri": "https://localhost:8080/"
        },
        "outputId": "875469d5-f8c3-4466-f251-b905737fd202"
      },
      "outputs": [
        {
          "output_type": "execute_result",
          "data": {
            "text/plain": [
              "(tensor([0, 1]), tensor([3, 1]))"
            ]
          },
          "metadata": {},
          "execution_count": 38
        }
      ],
      "source": [
        "top_k_2d(torch.tensor([[0,1,4,12],\n",
        "                       [0,10,0,0]]),2)"
      ]
    },
    {
      "cell_type": "code",
      "execution_count": 39,
      "metadata": {
        "id": "weogeFuCDrat"
      },
      "outputs": [],
      "source": [
        "#shetouexguaibudexianzaihaole xianzaishizhenggewenjianjiadounaquxunlianle  kunexhaishiyoufenkaide touuuyun    ce cshiox cxaid a  proint () for i in lio"
      ]
    },
    {
      "cell_type": "code",
      "source": [],
      "metadata": {
        "id": "v8B34880PPZa"
      },
      "execution_count": 39,
      "outputs": []
    },
    {
      "cell_type": "code",
      "execution_count": 75,
      "metadata": {
        "colab": {
          "base_uri": "https://localhost:8080/",
          "height": 961
        },
        "id": "CmxWJMUeV-Ip",
        "outputId": "63f2a746-ef37-4d22-f071-dbedc7ef8706"
      },
      "outputs": [
        {
          "output_type": "stream",
          "name": "stdout",
          "text": [
            "[0.6114285588264465]\n",
            "[0.6114285588264465, 0.6107784509658813]\n",
            "[0.6114285588264465, 0.6107784509658813, 0.699999988079071]\n",
            "[0.6114285588264465, 0.6107784509658813, 0.699999988079071, 0.7350993156433105]\n",
            "[0.6114285588264465, 0.6107784509658813, 0.699999988079071, 0.7350993156433105, 0.7413793206214905]\n",
            "[0.6114285588264465, 0.6107784509658813, 0.699999988079071, 0.7350993156433105, 0.7413793206214905, 0.7966101765632629]\n",
            "[0.6114285588264465, 0.6107784509658813, 0.699999988079071, 0.7350993156433105, 0.7413793206214905, 0.7966101765632629, 0.7961783409118652]\n",
            "[0.6114285588264465, 0.6107784509658813, 0.699999988079071, 0.7350993156433105, 0.7413793206214905, 0.7966101765632629, 0.7961783409118652, 0.8364779949188232]\n",
            "[0.6114285588264465, 0.6107784509658813, 0.699999988079071, 0.7350993156433105, 0.7413793206214905, 0.7966101765632629, 0.7961783409118652, 0.8364779949188232, 0.8496732115745544]\n",
            "[0.6114285588264465, 0.6107784509658813, 0.699999988079071, 0.7350993156433105, 0.7413793206214905, 0.7966101765632629, 0.7961783409118652, 0.8364779949188232, 0.8496732115745544, 0.8826815485954285]\n",
            "[0.6114285588264465, 0.6107784509658813, 0.699999988079071, 0.7350993156433105, 0.7413793206214905, 0.7966101765632629, 0.7961783409118652, 0.8364779949188232, 0.8496732115745544, 0.8826815485954285, 0.886904776096344]\n",
            "[0.6114285588264465, 0.6107784509658813, 0.699999988079071, 0.7350993156433105, 0.7413793206214905, 0.7966101765632629, 0.7961783409118652, 0.8364779949188232, 0.8496732115745544, 0.8826815485954285, 0.886904776096344, 0.8051947951316833]\n",
            "[0.6114285588264465, 0.6107784509658813, 0.699999988079071, 0.7350993156433105, 0.7413793206214905, 0.7966101765632629, 0.7961783409118652, 0.8364779949188232, 0.8496732115745544, 0.8826815485954285, 0.886904776096344, 0.8051947951316833, 0.8764705657958984]\n",
            "[0.6114285588264465, 0.6107784509658813, 0.699999988079071, 0.7350993156433105, 0.7413793206214905, 0.7966101765632629, 0.7961783409118652, 0.8364779949188232, 0.8496732115745544, 0.8826815485954285, 0.886904776096344, 0.8051947951316833, 0.8764705657958984, 0.9101123809814453]\n",
            "[0.6114285588264465, 0.6107784509658813, 0.699999988079071, 0.7350993156433105, 0.7413793206214905, 0.7966101765632629, 0.7961783409118652, 0.8364779949188232, 0.8496732115745544, 0.8826815485954285, 0.886904776096344, 0.8051947951316833, 0.8764705657958984, 0.9101123809814453, 0.8813559412956238]\n",
            "[0.6114285588264465, 0.6107784509658813, 0.699999988079071, 0.7350993156433105, 0.7413793206214905, 0.7966101765632629, 0.7961783409118652, 0.8364779949188232, 0.8496732115745544, 0.8826815485954285, 0.886904776096344, 0.8051947951316833, 0.8764705657958984, 0.9101123809814453, 0.8813559412956238, 0.891566276550293]\n",
            "[0.6114285588264465, 0.6107784509658813, 0.699999988079071, 0.7350993156433105, 0.7413793206214905, 0.7966101765632629, 0.7961783409118652, 0.8364779949188232, 0.8496732115745544, 0.8826815485954285, 0.886904776096344, 0.8051947951316833, 0.8764705657958984, 0.9101123809814453, 0.8813559412956238, 0.891566276550293, 0.8963414430618286]\n",
            "[0.6114285588264465, 0.6107784509658813, 0.699999988079071, 0.7350993156433105, 0.7413793206214905, 0.7966101765632629, 0.7961783409118652, 0.8364779949188232, 0.8496732115745544, 0.8826815485954285, 0.886904776096344, 0.8051947951316833, 0.8764705657958984, 0.9101123809814453, 0.8813559412956238, 0.891566276550293, 0.8963414430618286, 0.8917197585105896]\n",
            "[0.6114285588264465, 0.6107784509658813, 0.699999988079071, 0.7350993156433105, 0.7413793206214905, 0.7966101765632629, 0.7961783409118652, 0.8364779949188232, 0.8496732115745544, 0.8826815485954285, 0.886904776096344, 0.8051947951316833, 0.8764705657958984, 0.9101123809814453, 0.8813559412956238, 0.891566276550293, 0.8963414430618286, 0.8917197585105896, 0.9352940917015076]\n",
            "[0.6114285588264465, 0.6107784509658813, 0.699999988079071, 0.7350993156433105, 0.7413793206214905, 0.7966101765632629, 0.7961783409118652, 0.8364779949188232, 0.8496732115745544, 0.8826815485954285, 0.886904776096344, 0.8051947951316833, 0.8764705657958984, 0.9101123809814453, 0.8813559412956238, 0.891566276550293, 0.8963414430618286, 0.8917197585105896, 0.9352940917015076, 0.9117646813392639]\n",
            "[0.6114285588264465, 0.6107784509658813, 0.699999988079071, 0.7350993156433105, 0.7413793206214905, 0.7966101765632629, 0.7961783409118652, 0.8364779949188232, 0.8496732115745544, 0.8826815485954285, 0.886904776096344, 0.8051947951316833, 0.8764705657958984, 0.9101123809814453, 0.8813559412956238, 0.891566276550293, 0.8963414430618286, 0.8917197585105896, 0.9352940917015076, 0.9117646813392639, 0.9101123809814453]\n",
            "[0.6114285588264465, 0.6107784509658813, 0.699999988079071, 0.7350993156433105, 0.7413793206214905, 0.7966101765632629, 0.7961783409118652, 0.8364779949188232, 0.8496732115745544, 0.8826815485954285, 0.886904776096344, 0.8051947951316833, 0.8764705657958984, 0.9101123809814453, 0.8813559412956238, 0.891566276550293, 0.8963414430618286, 0.8917197585105896, 0.9352940917015076, 0.9117646813392639, 0.9101123809814453, 0.9221556782722473]\n",
            "[0.6114285588264465, 0.6107784509658813, 0.699999988079071, 0.7350993156433105, 0.7413793206214905, 0.7966101765632629, 0.7961783409118652, 0.8364779949188232, 0.8496732115745544, 0.8826815485954285, 0.886904776096344, 0.8051947951316833, 0.8764705657958984, 0.9101123809814453, 0.8813559412956238, 0.891566276550293, 0.8963414430618286, 0.8917197585105896, 0.9352940917015076, 0.9117646813392639, 0.9101123809814453, 0.9221556782722473, 0.9299362897872925]\n",
            "[0.6114285588264465, 0.6107784509658813, 0.699999988079071, 0.7350993156433105, 0.7413793206214905, 0.7966101765632629, 0.7961783409118652, 0.8364779949188232, 0.8496732115745544, 0.8826815485954285, 0.886904776096344, 0.8051947951316833, 0.8764705657958984, 0.9101123809814453, 0.8813559412956238, 0.891566276550293, 0.8963414430618286, 0.8917197585105896, 0.9352940917015076, 0.9117646813392639, 0.9101123809814453, 0.9221556782722473, 0.9299362897872925, 0.9055555462837219]\n",
            "[0.6114285588264465, 0.6107784509658813, 0.699999988079071, 0.7350993156433105, 0.7413793206214905, 0.7966101765632629, 0.7961783409118652, 0.8364779949188232, 0.8496732115745544, 0.8826815485954285, 0.886904776096344, 0.8051947951316833, 0.8764705657958984, 0.9101123809814453, 0.8813559412956238, 0.891566276550293, 0.8963414430618286, 0.8917197585105896, 0.9352940917015076, 0.9117646813392639, 0.9101123809814453, 0.9221556782722473, 0.9299362897872925, 0.9055555462837219, 0.9415204524993896]\n",
            "[0.6114285588264465, 0.6107784509658813, 0.699999988079071, 0.7350993156433105, 0.7413793206214905, 0.7966101765632629, 0.7961783409118652, 0.8364779949188232, 0.8496732115745544, 0.8826815485954285, 0.886904776096344, 0.8051947951316833, 0.8764705657958984, 0.9101123809814453, 0.8813559412956238, 0.891566276550293, 0.8963414430618286, 0.8917197585105896, 0.9352940917015076, 0.9117646813392639, 0.9101123809814453, 0.9221556782722473, 0.9299362897872925, 0.9055555462837219, 0.9415204524993896, 0.9428571462631226]\n",
            "[0.6114285588264465, 0.6107784509658813, 0.699999988079071, 0.7350993156433105, 0.7413793206214905, 0.7966101765632629, 0.7961783409118652, 0.8364779949188232, 0.8496732115745544, 0.8826815485954285, 0.886904776096344, 0.8051947951316833, 0.8764705657958984, 0.9101123809814453, 0.8813559412956238, 0.891566276550293, 0.8963414430618286, 0.8917197585105896, 0.9352940917015076, 0.9117646813392639, 0.9101123809814453, 0.9221556782722473, 0.9299362897872925, 0.9055555462837219, 0.9415204524993896, 0.9428571462631226, 0.9107142686843872]\n"
          ]
        },
        {
          "output_type": "display_data",
          "data": {
            "text/plain": [
              "<Figure size 640x480 with 1 Axes>"
            ],
            "image/png": "[encoded data removed]"
          },
          "metadata": {}
        },
        {
          "output_type": "display_data",
          "data": {
            "text/plain": [
              "<Figure size 640x480 with 0 Axes>"
            ]
          },
          "metadata": {}
        }
      ],
      "source": [
        "mod = train(0.0001, 0.98, 3,  True, reload=True)#duzikunhuxi xiaobatch size lianggejiuhaole chongxingtiaochaocanshushujuxieloukudnuzi"
      ]
    },
    {
      "cell_type": "code",
      "execution_count": null,
      "metadata": {
        "id": "wODBae6iirAY"
      },
      "outputs": [],
      "source": [
        "mod = torch.load(\"drive/MyDrive/CNO\", map_location=device)"
      ]
    },
    {
      "cell_type": "code",
      "execution_count": 77,
      "metadata": {
        "colab": {
          "base_uri": "https://localhost:8080/"
        },
        "id": "AzCea6KyjrDs",
        "outputId": "e1aa26d0-4b24-42be-fa9a-f98b461f40a8"
      },
      "outputs": [
        {
          "output_type": "stream",
          "name": "stdout",
          "text": [
            "\n",
            "<start>CC(C)C(=O)OC<end><end><end><end>\n",
            "<start>CC(=C)C(=O)OC<end><end><end>\n",
            "<start>CC(C(=O)OC)C<end><end>\n",
            "<start>CC(=O)OC<end><end><end><end><end><end><end>\n",
            "<start>CC(=C)OC<end><end><end><end><end><end><end>\n",
            "<start>CC(C)OC<end><end><end><end><end><end><end><end>\n",
            "<start>CCC(=O)OC<end><end><end><end><end><end>\n",
            "<start>C=C(C)C(=O)OC<end><end><end>\n",
            "<start>CC=C(C)C(=O)OC<end><end>\n",
            "<start>CC(COC)C(=O)C<end>\n",
            "tensor([0.3174, 0.1895, 0.0652, 0.0625, 0.0281, 0.0197, 0.0177, 0.0171, 0.0088,\n",
            "        0.0027], device='cuda:0')\n"
          ]
        }
      ],
      "source": [
        "t = 1\n",
        "\n",
        "class SMILESGenerator(torch.nn.Module):\n",
        "  def __init__(self, encoder, decoder):\n",
        "    super().__init__()\n",
        "    self.encoder = encoder\n",
        "    self.decoder = decoder\n",
        "\n",
        "  def forward(self, images, text_in_, max_len, beam): #just changed beam=1 and it runs so beam cannot be random number???  yeah it has to been factor of 676, which is 2 2 13 13 but original paper did not use beam search\n",
        "    with torch.no_grad():\n",
        "      image_feature = []\n",
        "      for i in images:\n",
        "        image_feature.append(self.encoder(i))\n",
        "      image_feature = torch.stack(image_feature)\n",
        "      # print(image_feature.shape)\n",
        "      image_feature = image_feature.squeeze(1)\n",
        "      mem = gen.decoder.encoder(gen.decoder.encoder_dim(image_feature))\n",
        "      mem = torch.mean(mem, dim=0)\n",
        "      mem = mem.unsqueeze(0).repeat_interleave(beam, dim=0)\n",
        "      # return mem\n",
        "      top_n = torch.tensor(text_in_)\n",
        "      top_n_p = torch.tensor([0]).to(device)\n",
        "      for i in range(max_len):\n",
        "        padded_text, l = pad_pack(top_n)\n",
        "        padded_text = padded_text.to(device)\n",
        "        # print(padded_text)\n",
        "        out = torch.nn.functional.softmax(self.decoder.decoder(padded_text, mem, x_mask=triangle_mask(l).to(device))[:,-1,:].squeeze(dim=1), dim=1)\n",
        "        # pylab.plot(out[0])\n",
        "        # pylab.show()\n",
        "        if i>1:\n",
        "          for j in range(beam):\n",
        "            if top_n[j][-1]==78:\n",
        "              out[j]=torch.zeros(79)\n",
        "              out[j][78]=1\n",
        "\n",
        "        tmp_n = top_n_p.repeat((79,1)).T+torch.log(out)#forgot softymax\n",
        "        x, y = top_k_2d(tmp_n, beam)\n",
        "        new_top_n = []\n",
        "        new_top_n_p = []\n",
        "        # print(tmp_n)\n",
        "        for j in range(beam):\n",
        "          new_top_n.append(torch.cat((top_n[x[j]], y[j].cpu().unsqueeze(-1))))\n",
        "          new_top_n_p += [tmp_n[x[j], y[j]]]\n",
        "        top_n = new_top_n\n",
        "        top_n_p = torch.tensor(new_top_n_p).to(device)\n",
        "        # print(new_top_n_p)\n",
        "        count = 0\n",
        "        for i in top_n:\n",
        "          if 78 in i:\n",
        "            count+=1\n",
        "        if count==beam:\n",
        "          return top_n, top_n_p\n",
        "      return top_n, top_n_p\n",
        "mod = mod.eval()\n",
        "gen = SMILESGenerator(mod.encoder, mod.decoder) #fucking yeah why when I test using val it is wrong did not refresh, I fucking said how is that possible, so all the tuning is not usful\n",
        "img1 = torch.tensor(np.array(Image.open(\"6658_9069281714151449.png\").convert(\"RGB\").resize((400,400)))).unsqueeze(0).permute(0,3,1,2).to(device).to(torch.float32)\n",
        "# img2 = torch.tensor(np.array(Image.open(\"w.jpg\").convert(\"RGB\").resize((400,400)))).unsqueeze(0).permute(0,3,1,2).to(device).to(torch.float32)\n",
        "# img3 = torch.tensor(np.array(Image.open(\"e.jpg\").convert(\"RGB\").resize((400,400)))).unsqueeze(0).permute(0,3,1,2).to(device).to(torch.float32)\n",
        "gen = gen.train(False) #forgot gen=\n",
        "res = gen.forward([img1], [[77]], 100, 10)# got the right answer without beam but with beam it is not correct\n",
        "print()#duzikouke xianzxai\n",
        "for i in res[0]:\n",
        "  print(converter.decode(\"\".join([reversed_word_map_[i] for i in i.numpy()])))\n",
        "print(torch.exp(res[1]))"
      ]
    },
    {
      "cell_type": "code",
      "execution_count": null,
      "metadata": {
        "id": "LvtkVpXZH1mW"
      },
      "outputs": [],
      "source": []
    },
    {
      "cell_type": "code",
      "execution_count": null,
      "metadata": {
        "id": "7wME0_wbHmpB"
      },
      "outputs": [],
      "source": [
        "#working again?wwtf"
      ]
    },
    {
      "cell_type": "code",
      "execution_count": null,
      "metadata": {
        "id": "jHZPN3p3Eh6u"
      },
      "outputs": [],
      "source": [
        "#zuibakunexxianzaiyoubuxingle?zhendeshixuanxue? kunwhyxianzaibuxshetouwhatthefuck weismyoubuxingle"
      ]
    },
    {
      "cell_type": "code",
      "execution_count": null,
      "metadata": {
        "id": "EqulfPvW_9Tq"
      },
      "outputs": [],
      "source": [
        "#wtf meiyoushuaxing cnashu daodishi zenmeggemeishuaxingfa xianzai doukeyi zuo a"
      ]
    },
    {
      "cell_type": "code",
      "execution_count": null,
      "metadata": {
        "id": "zBrA9jZ7gIWD"
      },
      "outputs": [],
      "source": [
        "res[0][0]"
      ]
    },
    {
      "cell_type": "code",
      "execution_count": 78,
      "metadata": {
        "id": "i0eJW0BkdCBN"
      },
      "outputs": [],
      "source": []
    },
    {
      "cell_type": "code",
      "execution_count": 80,
      "metadata": {
        "id": "vys4YljpdX10",
        "colab": {
          "base_uri": "https://localhost:8080/"
        },
        "outputId": "a872092b-f605-4ed0-fd95-45883ee3a23c"
      },
      "outputs": [
        {
          "output_type": "stream",
          "name": "stdout",
          "text": [
            "--2024-02-07 07:07:18--  http://file.weasoft.com/mytest.zip\n",
            "Resolving file.weasoft.com (file.weasoft.com)... 149.28.13.194\n",
            "Connecting to file.weasoft.com (file.weasoft.com)|149.28.13.194|:80... connected.\n",
            "HTTP request sent, awaiting response... 200 OK\n",
            "Length: 32094726 (31M) [application/zip]\n",
            "Saving to: ‘mytest.zip’\n",
            "\n",
            "mytest.zip          100%[===================>]  30.61M  14.4MB/s    in 2.1s    \n",
            "\n",
            "2024-02-07 07:07:21 (14.4 MB/s) - ‘mytest.zip’ saved [32094726/32094726]\n",
            "\n"
          ]
        }
      ],
      "source": [
        "!wget file.weasoft.com/mytest.zip"
      ]
    },
    {
      "cell_type": "code",
      "source": [
        "!wget file.weasoft.com/mytest_ans.csv"
      ],
      "metadata": {
        "colab": {
          "base_uri": "https://localhost:8080/"
        },
        "id": "4Y-W-m8PZIPn",
        "outputId": "bae3b2ec-c504-4def-eec6-c5b9254718be"
      },
      "execution_count": 81,
      "outputs": [
        {
          "output_type": "stream",
          "name": "stdout",
          "text": [
            "--2024-02-07 07:07:29--  http://file.weasoft.com/mytest_ans.csv\n",
            "Resolving file.weasoft.com (file.weasoft.com)... 149.28.13.194\n",
            "Connecting to file.weasoft.com (file.weasoft.com)|149.28.13.194|:80... connected.\n",
            "HTTP request sent, awaiting response... 200 OK\n",
            "Length: 81603 (80K) [text/csv]\n",
            "Saving to: ‘mytest_ans.csv’\n",
            "\n",
            "mytest_ans.csv      100%[===================>]  79.69K   232KB/s    in 0.3s    \n",
            "\n",
            "2024-02-07 07:07:30 (232 KB/s) - ‘mytest_ans.csv’ saved [81603/81603]\n",
            "\n"
          ]
        }
      ]
    },
    {
      "cell_type": "code",
      "execution_count": null,
      "metadata": {
        "id": "-oaYbYYAdd9F"
      },
      "outputs": [],
      "source": [
        "!unzip mytest.zip"
      ]
    },
    {
      "cell_type": "code",
      "source": [
        "mytest_ans = pd.read_csv(\"mytest_ans.csv\")"
      ],
      "metadata": {
        "id": "rnX_YmSBZMbH"
      },
      "execution_count": 84,
      "outputs": []
    },
    {
      "cell_type": "code",
      "execution_count": null,
      "metadata": {
        "id": "w4PiXe53dgcz"
      },
      "outputs": [],
      "source": [
        "print(\"\\n\".join(list(set([i.split(\"_\")[0] for i in os.listdir(\"test\")]))))"
      ]
    },
    {
      "cell_type": "code",
      "execution_count": null,
      "metadata": {
        "id": "_yPxp2PofO9F"
      },
      "outputs": [],
      "source": [
        "print(myeval(\"2.jpg\"))"
      ]
    },
    {
      "cell_type": "code",
      "execution_count": null,
      "metadata": {
        "id": "CT9Q3Atvlg3M"
      },
      "outputs": [],
      "source": [
        "ans = {11203:\"CC(=C)Cl\", 286:\"C(C(=O)O)ON\", 6562: \"CC(=C)C=O\", 6587:\"CC[N+](=O)[O-]\"}"
      ]
    },
    {
      "cell_type": "code",
      "source": [
        "def myeval(img_paths, beam):\n",
        "  global gen\n",
        "  if type(img_paths)!=list:\n",
        "    img_paths = [img_paths]\n",
        "  imgs = []\n",
        "  for img_path in img_paths:\n",
        "    imgs.append(torch.tensor(np.array(Image.open(img_path).convert(\"RGB\").resize((400,400)))).unsqueeze(0).permute(0,3,1,2).to(device).to(torch.float32))\n",
        "  gen = gen.train(False)\n",
        "  res = gen.forward(imgs, [[77]], 100, beam)\n",
        "  ans = \"\"\n",
        "  for i in range(beam):\n",
        "    ans+=converter.decode(\"\".join([reversed_word_map_[i.item()] for i in res[0][i]]))+\"\\n\"\n",
        "  return ans.replace(\"<start>\",\"\").replace(\"<end>\",\"\")"
      ],
      "metadata": {
        "id": "q7TJJLdKadx1"
      },
      "execution_count": 114,
      "outputs": []
    },
    {
      "cell_type": "code",
      "source": [
        "count = 0\n",
        "for i in os.listdir(\"mytest\"):\n",
        "  correct = mytest_ans[mytest_ans[\"cid\"]==int(i.split(\"_\")[0])][\"canonicalsmiles\"].item()\n",
        "  predicted = myeval(\"mytest/\"+i, 10)\n",
        "  count = count+1 if correct in predicted.split(\"\\n\") else count"
      ],
      "metadata": {
        "id": "tJWb8nldcgKv"
      },
      "execution_count": 107,
      "outputs": []
    },
    {
      "cell_type": "code",
      "execution_count": 98,
      "metadata": {
        "id": "vJMEL_xgeI4z"
      },
      "outputs": [],
      "source": [
        "beam_ans = []\n",
        "for beam in range(1, 11):\n",
        "  count = 0\n",
        "  for i in os.listdir(\"mytest\"):\n",
        "    correct = mytest_ans[mytest_ans[\"cid\"]==int(i.split(\"_\")[0])][\"canonicalsmiles\"].item()\n",
        "    predicted = myeval(\"mytest/\"+i, beam)\n",
        "    count = count+1 if correct in predicted.split(\"\\n\") else count\n",
        "  beam_ans.append(count)"
      ]
    },
    {
      "cell_type": "code",
      "source": [
        "import pylab\n",
        "pylab.style.use(\"ggplot\")\n",
        "pylab.plot(np.arange(1,11),np.array(beam_ans)/120)\n",
        "pylab.scatter(np.arange(1,11),np.array(beam_ans)/120)\n",
        "pylab.xlabel(\"Number of beams (k)\")\n",
        "pylab.ylabel(\"Top k seq accuracy\")\n",
        "print(beam_ans)"
      ],
      "metadata": {
        "colab": {
          "base_uri": "https://localhost:8080/",
          "height": 471
        },
        "id": "S3tMORZua08Z",
        "outputId": "d5fa4a6f-01ea-4c0e-dbc3-f748999e7c80"
      },
      "execution_count": 112,
      "outputs": [
        {
          "output_type": "stream",
          "name": "stdout",
          "text": [
            "[43, 70, 78, 85, 89, 92, 93, 93, 94, 98]\n"
          ]
        },
        {
          "output_type": "display_data",
          "data": {
            "text/plain": [
              "<Figure size 640x480 with 1 Axes>"
            ],
            "image/png": "[encoded data removed]"
          },
          "metadata": {}
        }
      ]
    },
    {
      "cell_type": "code",
      "source": [
        "beam_ans = []\n",
        "for beam in range(1, 11):\n",
        "  count = 0\n",
        "  for i in os.listdir(\"mytest\"):\n",
        "    correct = mytest_ans[mytest_ans[\"cid\"]==int(i.split(\"_\")[0])][\"canonicalsmiles\"].item()\n",
        "    predicted = myeval(\"mytest/\"+i, beam)\n",
        "    count = count+1 if correct == predicted.split(\"\\n\")[0] else count\n",
        "  beam_ans.append(count)\n",
        "\n",
        "pylab.style.use(\"ggplot\")\n",
        "pylab.plot(np.arange(1,11),np.array(beam_ans)/120)\n",
        "pylab.scatter(np.arange(1,11),np.array(beam_ans)/120)\n",
        "pylab.xlabel(\"Number of beams (k)\")\n",
        "pylab.ylabel(\"Top 1 seq accuracy\")\n",
        "print(beam_ans) #last time did not 98, 94 there is no random?  oh not 98 percent device by 120"
      ],
      "metadata": {
        "colab": {
          "base_uri": "https://localhost:8080/",
          "height": 471
        },
        "id": "ER7_QbIjdCNw",
        "outputId": "7d39f5c8-fe85-419c-dc5d-929963cd871f"
      },
      "execution_count": 113,
      "outputs": [
        {
          "output_type": "stream",
          "name": "stdout",
          "text": [
            "[43, 54, 52, 52, 51, 49, 49, 49, 49, 49]\n"
          ]
        },
        {
          "output_type": "display_data",
          "data": {
            "text/plain": [
              "<Figure size 640x480 with 1 Axes>"
            ],
            "image/png": "[encoded data removed]"
          },
          "metadata": {}
        }
      ]
    },
    {
      "cell_type": "code",
      "source": [
        "mutli_img_ans = []\n",
        "pids = list(set([i.split(\"_\")[0] for i in os.listdir(\"mytest\")]))\n",
        "for n_img in range(1, 5):\n",
        "  count = 0\n",
        "  for pid in pids:\n",
        "    correct = mytest_ans[mytest_ans[\"cid\"]==int(pid)][\"canonicalsmiles\"].item()\n",
        "    img_paths = random.choices([i for i in os.listdir(\"mytest\") if i.startswith(pid+\"_\")], k=n_img)\n",
        "    img_paths = [\"mytest/\"+i for i in img_paths]\n",
        "    predicted = myeval(img_paths, 10)\n",
        "    count = count+1 if correct in predicted.split(\"\\n\") else count\n",
        "  mutli_img_ans.append(count)"
      ],
      "metadata": {
        "id": "GRxckG5Se0je"
      },
      "execution_count": 125,
      "outputs": []
    },
    {
      "cell_type": "code",
      "source": [
        "mutli_img_ans"
      ],
      "metadata": {
        "colab": {
          "base_uri": "https://localhost:8080/"
        },
        "id": "GPUaEwJcgT9w",
        "outputId": "af620313-faac-4966-d3e8-d79309d95823"
      },
      "execution_count": 126,
      "outputs": [
        {
          "output_type": "execute_result",
          "data": {
            "text/plain": [
              "[9, 9, 7, 7]"
            ]
          },
          "metadata": {},
          "execution_count": 126
        }
      ]
    },
    {
      "cell_type": "code",
      "source": [
        "mutli_img_ans"
      ],
      "metadata": {
        "colab": {
          "base_uri": "https://localhost:8080/"
        },
        "id": "8RuSIkPVftRi",
        "outputId": "6f82c5d0-20cd-4977-8eea-64ef5e6831dd"
      },
      "execution_count": 117,
      "outputs": [
        {
          "output_type": "execute_result",
          "data": {
            "text/plain": [
              "[2, 1, 1, 1]"
            ]
          },
          "metadata": {},
          "execution_count": 117
        }
      ]
    },
    {
      "cell_type": "code",
      "source": [
        "count/len(os.listdir(\"mytest\"))"
      ],
      "metadata": {
        "colab": {
          "base_uri": "https://localhost:8080/"
        },
        "id": "FT9WxzlhZ16q",
        "outputId": "5a0675f5-d7db-48e0-caca-66c434db6b92"
      },
      "execution_count": 89,
      "outputs": [
        {
          "output_type": "execute_result",
          "data": {
            "text/plain": [
              "0.8166666666666667"
            ]
          },
          "metadata": {},
          "execution_count": 89
        }
      ]
    },
    {
      "cell_type": "markdown",
      "metadata": {
        "id": "27YVhJHgcVnv"
      },
      "source": [
        "\n",
        "\n",
        "```\n",
        "In [1]: import base64\n",
        "   ...: import pandas as pd\n",
        "   ...: import os\n",
        "   ...: import random\n",
        "   ...: df = pd.read_csv(\"test.csv\")\n",
        "   ...: os.makedirs(\"test\",exist_ok=1)\n",
        "   ...: def save_img(id):\n",
        "   ...:   row = df[df[\"id\"]==id]\n",
        "   ...:   print(row[\"image\"])\n",
        "   ...:   with open(f\"test/{row['cid'].item()}_{str(random.random()).split('.')[1]}.png\", \"wb\") as fh:\n",
        "   ...:       fh.write(base64.decodebytes(bytes(row[\"image\"].item().replace(\"data:image/png;base64,\",\"\"), \"utf-8\")))\n",
        "```\n",
        "\n"
      ]
    },
    {
      "cell_type": "code",
      "execution_count": null,
      "metadata": {
        "id": "F-02ExuLNdah"
      },
      "outputs": [],
      "source": [
        "# if i use res there is error, so the problem is at res"
      ]
    },
    {
      "cell_type": "code",
      "execution_count": null,
      "metadata": {
        "id": "1yCeclc_NjP0"
      },
      "outputs": [],
      "source": [
        "# res.shape, meiyou unsquezze"
      ]
    },
    {
      "cell_type": "code",
      "execution_count": null,
      "metadata": {
        "id": "IgB2SZEQveee"
      },
      "outputs": [],
      "source": [
        "mod = mod.eval()\n",
        "x = torch.tensor([[77,  4],\n",
        "        [77, 15]])\n",
        "padded_text, l = pad_pack(x)\n",
        "img_f = mod.encoder(img1)\n",
        "lat = mod.decoder.encoder(mod.decoder.encoder_dim(img_f))\n",
        "lat = lat.repeat_interleave(2, dim=0)\n",
        "pylab.plot(torch.nn.functional.softmax(mod.decoder.decoder(padded_text, res, x_mask=triangle_mask(l).to(device))[:,-1,:].squeeze(dim=1), dim=1)[0].detach().numpy())"
      ]
    },
    {
      "cell_type": "code",
      "execution_count": null,
      "metadata": {
        "id": "23wK6WbEL1DM"
      },
      "outputs": [],
      "source": [
        "mod = mod.eval()\n",
        "x = torch.tensor([[77,  4]])\n",
        "padded_text, l = pad_pack(x)\n",
        "img_f = mod.encoder(img1)\n",
        "lat = mod.decoder.encoder(mod.decoder.encoder_dim(img_f))\n",
        "lat = lat.repeat_interleave(1, dim=0)\n",
        "pylab.plot(torch.nn.functional.softmax(mod.decoder.decoder(padded_text, lat, triangle_mask(l).to(device))[0,-1,:]).detach().numpy())"
      ]
    },
    {
      "cell_type": "code",
      "execution_count": null,
      "metadata": {
        "id": "s1Sk3UpV5hEO"
      },
      "outputs": [],
      "source": [
        "mod = mod.eval()#same still diff means not batch\n",
        "\n",
        "x = torch.tensor([[77,5]])\n",
        "padded_text, l = pad_pack(x)\n",
        "pylab.plot(mod(img1, padded_text, triangle_mask(l).to(device))[0,-1,:].detach().numpy())"
      ]
    },
    {
      "cell_type": "code",
      "execution_count": null,
      "metadata": {
        "id": "XGMAlM0wnRTd"
      },
      "outputs": [],
      "source": [
        "#not everything combined and top k this way it will always pick all C"
      ]
    },
    {
      "cell_type": "code",
      "execution_count": null,
      "metadata": {
        "id": "PZG4_BCcmk6O"
      },
      "outputs": [],
      "source": []
    },
    {
      "cell_type": "code",
      "execution_count": null,
      "metadata": {
        "id": "-ex4_IiPn6iu"
      },
      "outputs": [],
      "source": [
        "# gen.train(False)#why train false jiu zhengquehenduo dengdenggaihuiquyeshia\n",
        "# kesouhlong zhijie load lai yucejiushi zheyang hlong yuanlai shi meiyou train hao? meiyou chongxingruan gen=? chouwei aaawhy henhuang meiyisi\n",
        "pylab.rcParams[\"figure.figsize\"] = (15,3)\n",
        "gen.train(False)\n",
        "res = gen.forward(torch.tensor(np.array(Image.open(\"2.jpg\").convert(\"RGB\").resize((400,400)))).unsqueeze(0).permute(0,3,1,2).to(device).to(torch.float32), [[77]], 100, 1)\n",
        "for str_ in res:\n",
        "  print(converter.decode(\"\".join([reversed_word_map_[i] for i in str_])\n",
        "  ))\n"
      ]
    },
    {
      "cell_type": "code",
      "execution_count": null,
      "metadata": {
        "id": "P0nrTc44NWmD"
      },
      "outputs": [],
      "source": [
        "converter.encode(\"C(N)O\")"
      ]
    },
    {
      "cell_type": "code",
      "execution_count": null,
      "metadata": {
        "id": "7uPbjREjRLt6"
      },
      "outputs": [],
      "source": [
        "torch.save(mod, \"drive/MyDrive/perfect\")"
      ]
    },
    {
      "cell_type": "code",
      "execution_count": null,
      "metadata": {
        "id": "Ysf3J98niPHL"
      },
      "outputs": [],
      "source": [
        "mod = torch.load(\"drive/MyDrive/CNO\")"
      ]
    },
    {
      "cell_type": "code",
      "execution_count": null,
      "metadata": {
        "id": "LODvLzwGkF31"
      },
      "outputs": [],
      "source": [
        "image = torch.tensor(np.array(Image.open(\"c.jpg\").convert(\"RGB\").resize((400,400)))).unsqueeze(0).permute(0,3,1,2).to(device).to(torch.float32)\n",
        "\n",
        "image = image.to(device)\n",
        "padded_x = pad_pack([[77]])\n",
        "\n",
        "xmask = triangle_mask(padded_x[1]).to(device)\n",
        "text_in = padded_x[0].to(device)\n",
        "\n",
        "outputs = mod(image, text_in, xmask)"
      ]
    },
    {
      "cell_type": "code",
      "execution_count": null,
      "metadata": {
        "id": "wwGP53EZldk3"
      },
      "outputs": [],
      "source": [
        "pylab.plot(torch.nn.Softmax()(outputs[0][0]).cpu().detach().numpy())"
      ]
    },
    {
      "cell_type": "code",
      "execution_count": null,
      "metadata": {
        "id": "PYkJx7ujliMM"
      },
      "outputs": [],
      "source": []
    },
    {
      "cell_type": "code",
      "execution_count": null,
      "metadata": {
        "id": "r5ettgCsliQj"
      },
      "outputs": [],
      "source": [
        "Image.open(\"d.jpg\")"
      ]
    },
    {
      "cell_type": "code",
      "execution_count": null,
      "metadata": {
        "id": "wmu7KOJHpTDp"
      },
      "outputs": [],
      "source": []
    },
    {
      "cell_type": "code",
      "execution_count": null,
      "metadata": {
        "id": "934LZSA1pBQF"
      },
      "outputs": [],
      "source": [
        "Image.open(\"images/a.jpg\")"
      ]
    },
    {
      "cell_type": "code",
      "execution_count": null,
      "metadata": {
        "id": "Jd1qjT-1QIAq"
      },
      "outputs": [],
      "source": [
        "#for and save aaa GED\n",
        "train(0.00004, 0.95, 30, 6)\n"
      ]
    },
    {
      "cell_type": "code",
      "execution_count": null,
      "metadata": {
        "id": "idywloeoXlAG"
      },
      "outputs": [],
      "source": [
        "mod = torch.load(\"good_one.pt\")"
      ]
    },
    {
      "cell_type": "code",
      "execution_count": null,
      "metadata": {
        "id": "70FXySsLXCIh"
      },
      "outputs": [],
      "source": [
        "torch.save(mod, \"good_one.pt\")"
      ]
    },
    {
      "cell_type": "code",
      "execution_count": null,
      "metadata": {
        "id": "20t4SXP-XSgI"
      },
      "outputs": [],
      "source": [
        "!cp good_one.pt drive/MyDrive/"
      ]
    },
    {
      "cell_type": "code",
      "execution_count": null,
      "metadata": {
        "id": "BG87eRUgXNUr"
      },
      "outputs": [],
      "source": [
        "!ls -l good_one* -h"
      ]
    },
    {
      "cell_type": "code",
      "execution_count": null,
      "metadata": {
        "id": "TkWefNTXcvHT"
      },
      "outputs": [],
      "source": [
        "# 12361!! finallly works bieren kajnw o"
      ]
    },
    {
      "cell_type": "code",
      "execution_count": null,
      "metadata": {
        "id": "NltJ4ypRV4V5"
      },
      "outputs": [],
      "source": [
        "text_in"
      ]
    },
    {
      "cell_type": "code",
      "execution_count": null,
      "metadata": {
        "id": "4rcHVFTYUkui"
      },
      "outputs": [],
      "source": [
        "pylab.imshow(image[5].permute(1,2,0).cpu()/255)"
      ]
    },
    {
      "cell_type": "code",
      "execution_count": null,
      "metadata": {
        "id": "ILFCucsXWhNY"
      },
      "outputs": [],
      "source": [
        "pylab.imshow(image[3].permute(1,2,0).cpu()/255)\n"
      ]
    },
    {
      "cell_type": "code",
      "execution_count": null,
      "metadata": {
        "id": "sqs6Cw7NM16M"
      },
      "outputs": [],
      "source": [
        "train(0.00004, 0.7, 6)\n",
        "# No black out"
      ]
    },
    {
      "cell_type": "code",
      "execution_count": null,
      "metadata": {
        "id": "tMYqNnqur-Vn"
      },
      "outputs": [],
      "source": [
        "#This time very well how???????\n",
        "torch.seed()"
      ]
    },
    {
      "cell_type": "code",
      "execution_count": null,
      "metadata": {
        "id": "_4BiFGdkrYD-"
      },
      "outputs": [],
      "source": [
        "res = np.array([i.item() for i in access[350:]])"
      ]
    },
    {
      "cell_type": "code",
      "execution_count": null,
      "metadata": {
        "id": "Er5kDvoR3jXN"
      },
      "outputs": [],
      "source": [
        "np.sum(res==1)/len(res)"
      ]
    },
    {
      "cell_type": "code",
      "execution_count": null,
      "metadata": {
        "id": "E7voFa94afTq"
      },
      "outputs": [],
      "source": [
        "pylab.plot([i.item() for i in access], label=\"Train\")\n",
        "pylab.plot(np.arange(len(val_acc))*(len(access)/len(val_acc)),val_acc,label=\"Val\")\n",
        "pylab.legend()"
      ]
    },
    {
      "cell_type": "code",
      "execution_count": null,
      "metadata": {
        "id": "NyD6COrvJxyw"
      },
      "outputs": [],
      "source": [
        "image.requires_grad_()\n",
        "outputs = mod(image, text_in, xmask)\n",
        "loss = loss_fn(outputs, text_out)\n",
        "loss.backward()"
      ]
    },
    {
      "cell_type": "code",
      "execution_count": null,
      "metadata": {
        "id": "oP87C89GK049"
      },
      "outputs": [],
      "source": [
        "img = image[0].permute(1,2,0).detach().cpu()\n",
        "pylab.imshow(img/torch.max(img))"
      ]
    },
    {
      "cell_type": "code",
      "execution_count": null,
      "metadata": {
        "id": "I_b4lFzDKV33"
      },
      "outputs": [],
      "source": [
        "ans = image.grad[0].permute(1,2,0).cpu()\n",
        "ans = (ans-torch.mean(ans))/torch.std(ans)\n",
        "pylab.imshow(torch.sum(((ans)), dim=-1), cmap=\"gray\")"
      ]
    },
    {
      "cell_type": "code",
      "execution_count": null,
      "metadata": {
        "id": "Bu6bP34PhREB"
      },
      "outputs": [],
      "source": [
        "mod.decoder.layer[0].attn2"
      ]
    }
  ],
  "metadata": {
    "accelerator": "GPU",
    "colab": {
      "provenance": [],
      "mount_file_id": "1ZKySVPazmI9T_1qaNKM5j4nhBMoENArm",
      "authorship_tag": "ABX9TyO7pIe6kiCYWGphzRJQLKt3",
      "include_colab_link": true
    },
    "kernelspec": {
      "display_name": "Python 3",
      "name": "python3"
    },
    "language_info": {
      "name": "python"
    }
  },
  "nbformat": 4,
  "nbformat_minor": 0
}