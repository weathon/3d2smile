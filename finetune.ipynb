{
  "cells": [
    {
      "cell_type": "markdown",
      "metadata": {
        "id": "view-in-github",
        "colab_type": "text"
      },
      "source": [
        "<a href=\"https://colab.research.google.com/github/weathon/3d2smile/blob/main/finetune.ipynb\" target=\"_parent\"><img src=\"https://colab.research.google.com/assets/colab-badge.svg\" alt=\"Open In Colab\"/></a>"
      ]
    },
    {
      "cell_type": "code",
      "execution_count": null,
      "metadata": {
        "id": "5qquj2I2RlAm"
      },
      "outputs": [],
      "source": [
        "# !wget file.weasoft.com/images.zip\n",
        "# !wget file.weasoft.com/summary.csv\n",
        "# !unzip images.zip\n",
        "# !wget file.weasoft.com/eff_s_3_19010.pt -O eff_s_1_8010.pt\n",
        "# !git clone https://github.com/suanfaxiaohuo/SwinOCSR.git\n",
        "# !pip install focal_loss_torch wandb\n",
        "# !pip3 install deepsmiles yacs tqdm"
      ]
    },
    {
      "cell_type": "code",
      "execution_count": null,
      "metadata": {
        "id": "nNBpujPhUwPj"
      },
      "outputs": [],
      "source": [
        "import sys\n",
        "import os\n",
        "import argparse\n",
        "from tqdm import tqdm\n",
        "import deepsmiles\n",
        "from typing import Any, cast, Callable, List, Tuple, Union\n",
        "from PIL import Image\n",
        "\n",
        "import torch\n",
        "import torchvision\n",
        "import torchvision.transforms as transforms\n",
        "\n",
        "import numpy as np"
      ]
    },
    {
      "cell_type": "code",
      "execution_count": null,
      "metadata": {
        "id": "OdtFJ4TKjyIp"
      },
      "outputs": [],
      "source": [
        "import sys\n",
        "sys.path.append(\"./SwinOCSR/model/Swin-transformer-focalloss\")\n",
        "sys.path.append(\"./SwinOCSR/model/\")\n",
        "from pre_transformer import Transformer\n",
        "class FocalLossModelInference:\n",
        "    \"\"\"\n",
        "    Inference Class\n",
        "    \"\"\"\n",
        "    def __init__(self):\n",
        "        # Load dictionary that maps tokens to integers\n",
        "        word_map_path = './SwinOCSR/Data/500wan/500wan_shuffle_DeepSMILES_word_map'\n",
        "        self.word_map = torch.load(word_map_path)\n",
        "        self.inv_word_map = {v: k for k, v in self.word_map.items()}\n",
        "\n",
        "        # Define device, load models and weights\n",
        "        self.dev = \"cuda\" if torch.cuda.is_available() else \"cpu\"\n",
        "        # self.args, config = self.get_inference_config()\n",
        "        # self.encoder = build_model(config, tag=False)\n",
        "        self.decoder = self.build_decoder()\n",
        "        # self.load_checkpoint(\"./swin_transform_focalloss.pth\")\n",
        "        self.decoder = self.decoder.to(self.dev).eval()\n",
        "        # self.encoder = self.encoder.to(self.dev).eval()\n",
        "\n",
        "    def load_checkpoint(self, checkpoint_path):\n",
        "        \"\"\"\n",
        "        Load checkpoint and update encoder and decoder accordingly\n",
        "\n",
        "        Args:\n",
        "            checkpoint_path (str): path of checkpoint file\n",
        "        \"\"\"\n",
        "        print(f\"=====> {checkpoint_path} <=====\")\n",
        "        checkpoint = torch.load(checkpoint_path, map_location='cpu')\n",
        "        # encoder_msg = self.encoder.load_state_dict(checkpoint['encoder'],\n",
        "        #                                            strict=False)\n",
        "        decoder_msg = self.decoder.load_state_dict(checkpoint['decoder'],\n",
        "                                                   strict=False)\n",
        "        # print(f\"Encoder: {encoder_msg}\")\n",
        "        print(f\"Decoder: {decoder_msg}\")\n",
        "        del checkpoint\n",
        "        torch.cuda.empty_cache()\n",
        "\n",
        "    def build_decoder(self):\n",
        "        \"\"\"\n",
        "        This method builds the Transformer decoder and returns it\n",
        "        \"\"\"\n",
        "        self.decoder_dim = 256  # dimension of decoder RNN\n",
        "        self.ff_dim = 2048\n",
        "        self.num_head = 8\n",
        "        self.dropout = 0.1\n",
        "        self.encoder_num_layer = 6\n",
        "        self.decoder_num_layer = 6\n",
        "        self.max_len = 277\n",
        "        self.decoder_lr = 5e-4\n",
        "        self.best_acc = 0.\n",
        "        return Transformer(dim=self.decoder_dim,\n",
        "                           ff_dim=self.ff_dim,\n",
        "                           num_head=self.num_head,\n",
        "                           encoder_num_layer=self.encoder_num_layer,\n",
        "                           decoder_num_layer=self.decoder_num_layer,\n",
        "                           vocab_size=len(self.word_map),\n",
        "                           max_len=self.max_len,\n",
        "                           drop_rate=self.dropout,\n",
        "                           tag=False)\n",
        "transformer_ = FocalLossModelInference()"
      ]
    },
    {
      "cell_type": "code",
      "execution_count": null,
      "metadata": {
        "id": "dbRXmI18pj34"
      },
      "outputs": [],
      "source": [
        "from google.colab import drive\n",
        "drive.mount('/content/drive')"
      ]
    },
    {
      "cell_type": "code",
      "execution_count": null,
      "metadata": {
        "id": "nuWSq0NVS8Qn"
      },
      "outputs": [],
      "source": [
        "import base64\n",
        "import pandas as pd\n",
        "import os"
      ]
    },
    {
      "cell_type": "code",
      "execution_count": null,
      "metadata": {
        "id": "yPrlAJRlWum_"
      },
      "outputs": [],
      "source": [
        "import sys\n",
        "sys.path.append(\"./SwinOCSR/model/Swin-transformer-focalloss\")\n",
        "sys.path.append(\"./SwinOCSR/model/\")"
      ]
    },
    {
      "cell_type": "code",
      "execution_count": null,
      "metadata": {
        "id": "T2jSXpDvXC-J"
      },
      "outputs": [],
      "source": [
        "if torch.cuda.is_available():\n",
        "    device = torch.device('cuda:0')\n",
        "else:\n",
        "    device = torch.device('cpu')"
      ]
    },
    {
      "cell_type": "code",
      "execution_count": null,
      "metadata": {
        "id": "UBa_oqMlmBN-"
      },
      "outputs": [],
      "source": [
        "eff = torchvision.models.efficientnet_v2_s(weights='DEFAULT')\n",
        "mynet = eff.features\n",
        "class ImageEncoder(torch.nn.Module):\n",
        "  def __init__(self):\n",
        "    super().__init__()\n",
        "    self.eff = mynet.to(device)\n",
        "    self.projection = torch.nn.Linear(768,256).to(device)\n",
        "  def forward(self, images):\n",
        "    features = self.eff(images)\n",
        "    features = torch.flatten(features, start_dim=2, end_dim=3)\n",
        "    features = torch.permute(features, (0, 2, 1))\n",
        "    return self.projection(features)\n",
        "class Image2SMILES(torch.nn.Module):\n",
        "  def __init__(self, encoder, decoder):\n",
        "    super().__init__()\n",
        "    self.encoder = encoder\n",
        "    self.decoder = decoder\n",
        "\n",
        "  def forward(self, image, text_in, xmask):\n",
        "    image_feature = self.encoder(image)\n",
        "    out = self.decoder(text_in, image_feature, x_mask=xmask)\n",
        "    return out"
      ]
    },
    {
      "cell_type": "code",
      "execution_count": null,
      "metadata": {
        "id": "6dA6xdVGXVog"
      },
      "outputs": [],
      "source": [
        "mod = torch.load(\"eff_s_1_8010.pt\", map_location=device) #it is model not dict"
      ]
    },
    {
      "cell_type": "code",
      "execution_count": null,
      "metadata": {
        "id": "oW55KrXRYvOe"
      },
      "outputs": [],
      "source": [
        "def pad_pack(sequences):\n",
        "    maxlen = max(map(len, sequences))\n",
        "    batch = torch.LongTensor(len(sequences),maxlen).fill_(0)\n",
        "    for i,x in enumerate(sequences):\n",
        "        batch[i,:len(x)] = torch.LongTensor(x)\n",
        "    return batch, maxlen"
      ]
    },
    {
      "cell_type": "code",
      "execution_count": null,
      "metadata": {
        "id": "judy6xpNrFdn"
      },
      "outputs": [],
      "source": [
        "torch.topk(torch.tensor([1,2,3,4]),2)"
      ]
    },
    {
      "cell_type": "code",
      "execution_count": null,
      "metadata": {
        "id": "lS-pBOLrZYAC"
      },
      "outputs": [],
      "source": [
        "def triangle_mask(size):\n",
        "    mask = 1- np.triu(np.ones((1, size, size)),k=1).astype('uint8')\n",
        "    mask = torch.autograd.Variable(torch.from_numpy(mask))\n",
        "    return mask"
      ]
    },
    {
      "cell_type": "code",
      "execution_count": null,
      "metadata": {
        "id": "SyP6kq3BbP9j"
      },
      "outputs": [],
      "source": [
        "!wget file.weasoft.com/reverse.map"
      ]
    },
    {
      "cell_type": "code",
      "execution_count": null,
      "metadata": {
        "id": "CF9p_SoUZkI0"
      },
      "outputs": [],
      "source": [
        "reversed_word_map = {}\n",
        "import json\n",
        "with open(\"reverse.map\",\"r\") as f:\n",
        "  reversed_word_map = json.loads(f.read())"
      ]
    },
    {
      "cell_type": "code",
      "execution_count": null,
      "metadata": {
        "id": "rCtJABqeeSfd"
      },
      "outputs": [],
      "source": [
        "from focal_loss.focal_loss import FocalLoss\n",
        "m = torch.nn.Softmax(dim=-1)\n",
        "lf = FocalLoss(gamma=2, ignore_index=0)#torch.nn.CrossEntropyLoss(label_smoothing=0.1, reduction=\"none\")\n",
        "def loss_fn(pred, truth):\n",
        "  pred = m(pred)\n",
        "  l = lf(pred, truth)\n",
        "  return l"
      ]
    },
    {
      "cell_type": "code",
      "execution_count": null,
      "metadata": {
        "id": "2le1E1LleajU"
      },
      "outputs": [],
      "source": [
        "def mask_acc(pred, truth):\n",
        "    pred = torch.argmax(pred, -1)\n",
        "    mask = truth != 0\n",
        "    match_case = truth == pred\n",
        "    return torch.sum(mask*match_case)/torch.sum(mask)"
      ]
    },
    {
      "cell_type": "code",
      "execution_count": null,
      "metadata": {
        "id": "bMR9YqMKebx2"
      },
      "outputs": [],
      "source": [
        "BATCH_SIZE = 1"
      ]
    },
    {
      "cell_type": "code",
      "execution_count": null,
      "metadata": {
        "id": "QXsYpnwnf00c"
      },
      "outputs": [],
      "source": [
        "import pandas as pd\n",
        "molecules_rows = pd.read_csv(\"summary.csv\")"
      ]
    },
    {
      "cell_type": "code",
      "execution_count": null,
      "metadata": {
        "id": "oI76DYvd-XFR"
      },
      "outputs": [],
      "source": [
        "print(\"\\n\".join(list(set([i.split(\"_\")[0] for i in os.listdir(\"images\")]))))"
      ]
    },
    {
      "cell_type": "code",
      "execution_count": null,
      "metadata": {
        "id": "ONG3yHt9k2Lg"
      },
      "outputs": [],
      "source": []
    },
    {
      "cell_type": "code",
      "execution_count": null,
      "metadata": {
        "id": "KOBdK4giehsf"
      },
      "outputs": [],
      "source": [
        "import random\n",
        "converter = deepsmiles.Converter(rings=True, branches=True)\n",
        "cids = list(molecules_rows[\"cid\"])\n",
        "train_cids = [i for i in cids if not i in [286, 6587, 6562, 11203]]\n",
        "# val_cids = [\"a\"]\n",
        "val_cids = [286, 6587, 6562, 11203]\n",
        "\n",
        "train_names = [i for i in os.listdir(\"./images\") if int(i.split(\"_\")[0]) in train_cids]\n",
        "val_names = [i for i in os.listdir(\"./images\") if int(i.split(\"_\")[0]) in val_cids]\n",
        "from PIL import ImageOps\n",
        "\n",
        "def getitem(index, train=True):\n",
        "  ti = []\n",
        "  to = []\n",
        "  imgs = []\n",
        "\n",
        "  # train=FalseTAMADE WEISM TRAIN = FALSE!!!guaibude bunengfanhua shouzhima ghuainbbude val namehao zuibakouke azhiqianweismkeyile? jiushiyingweimeiyouyongnamesle\n",
        "  names = train_names if train else val_names\n",
        "  start = index*16\n",
        "  end =  (index+1)*16\n",
        "  end = len(names) if end>len(names) else end\n",
        "  # print(start, end)\n",
        "  for i in range(start, end):\n",
        "\n",
        "\n",
        "    name = random.choice([i for i in names])\n",
        "    # name = random.choice([i for i in os.listdir(\"./images\")]) #shetoudzikunhzhegegebuhaishisuijidemaguaibude\n",
        "\n",
        "    img = Image.open(f\"images/{name}\").convert(\"RGB\")\n",
        "    if train:\n",
        "      img = img.rotate(random.choice([0,90,180,270]), expand=0).resize((400,400))\n",
        "      if random.random()>0.5:\n",
        "        img = ImageOps.flip(img)\n",
        "      if random.random()>0.5:\n",
        "        img = ImageOps.mirror(img)\n",
        "      img.crop((random.random()*30,random.random()*30,400-random.random()*30,400-random.random()*30))\n",
        "    img = np.array(img.resize((400,400)), dtype=\"float32\")\n",
        "    if train:\n",
        "      # img[:,:,0] *= random.random()*0.2+0.9\n",
        "      img[:,:,1] *= random.random()*0.1+0.9\n",
        "      img[:,:,2] *= random.random()*0.1+0.9\n",
        "      img[:,:,:] *= random.random()*0.1+0.8\n",
        "    img = torch.tensor(np.array(img)).permute(2, 0, 1).to(torch.float32).to(device)\n",
        "    # if train:\n",
        "    #   # img+=torch.rand((3,400,400)).to(device)*50\n",
        "    #   for _ in range(30):\n",
        "    #     x,y = int(random.random()*380),int(random.random()*380)\n",
        "    #     img[:,x:x+20, y:y+20] = torch.rand((3,20,20))*250\n",
        "#  guoranhaishiyaoqudizokunduzikoue\n",
        "    # if train:\n",
        "      # img*=torch.round(torch.tanh(5*torch.rand((3,400,400)))).to(device)\n",
        "    # print(name)\n",
        "    # print(converte//r.encode(molecules_rows[molecules_rows[\"cid\"]==int(name.split(\"_\")[0])][\"canonicalsmiles\"].item()))\n",
        "    smiles = [transformer_.word_map[i] for i in converter.encode(molecules_rows[molecules_rows[\"cid\"]==int(name.split(\"_\")[0])][\"canonicalsmiles\"].item())]\n",
        "    ti.append([77] + smiles)\n",
        "    to.append(smiles + [78])\n",
        "    imgs.append(img)\n",
        "  return torch.stack(imgs), ti, to\n"
      ]
    },
    {
      "cell_type": "code",
      "execution_count": null,
      "metadata": {
        "id": "cTf4Es8m8bSg"
      },
      "outputs": [],
      "source": [
        "torch.stack([torch.tensor([1,2]) for i in range(10)])"
      ]
    },
    {
      "cell_type": "code",
      "execution_count": null,
      "metadata": {
        "id": "jWuHtPLbf2U4"
      },
      "outputs": [],
      "source": [
        "# print(\"\\n\".join([str(i) for i in df[\"cid\"].unique()]))"
      ]
    },
    {
      "cell_type": "code",
      "execution_count": null,
      "metadata": {
        "id": "rRZ56CuPWl7z"
      },
      "outputs": [],
      "source": [
        "def val():\n",
        "  global mod, val_names\n",
        "  np.random.shuffle(val_names)\n",
        "  running_loss = 0\n",
        "  mod = mod.train(False)  #forget to use =\n",
        "  # ids = os.listdir(\"images\")[:10]\n",
        "\n",
        "  valacc = []\n",
        "  start_index = i\n",
        "  image, text_in, text_out = getitem(0, train=False)\n",
        "\n",
        "  image = image.to(device)\n",
        "  text_out = pad_pack(text_out)[0].to(device)\n",
        "  padded_x = pad_pack(text_in)\n",
        "\n",
        "  xmask = triangle_mask(padded_x[1]).to(device)\n",
        "  text_in = padded_x[0].to(device)\n",
        "\n",
        "  outputs = mod(image, text_in, xmask)\n",
        "  loss = loss_fn(outputs, text_out)\n",
        "\n",
        "\n",
        "\n",
        "  running_loss += loss.item()\n",
        "  valacc.append(mask_acc(outputs.detach(), text_out).item())\n",
        "  mod = mod.train(True)\n",
        "  return running_loss, np.mean(valacc)\n"
      ]
    },
    {
      "cell_type": "code",
      "execution_count": null,
      "metadata": {
        "id": "6qj0C3t-3xY-"
      },
      "outputs": [],
      "source": [
        "mod = torch.load(\"eff_s_1_8010.pt\", map_location=device) #it is model not dict"
      ]
    },
    {
      "cell_type": "code",
      "execution_count": null,
      "metadata": {
        "id": "NzbIYm2OM-0y"
      },
      "outputs": [],
      "source": [
        "for i in mod.decoder.parameters():\n",
        "  i.require_grad = False\n",
        "for i in mod.encoder.eff[6:].parameters():\n",
        "  i.require_grad = False\n",
        "\n",
        "# for layers in mod.encoder.eff[:4]:\n",
        "#   for i in layers.parameters():\n",
        "#     i.require_grad = False"
      ]
    },
    {
      "cell_type": "code",
      "execution_count": null,
      "metadata": {
        "id": "jbWqOmWqsTL3"
      },
      "outputs": [],
      "source": [
        "torch.manual_seed(0)"
      ]
    },
    {
      "cell_type": "code",
      "execution_count": null,
      "metadata": {
        "id": "34QAyxV4uPq1"
      },
      "outputs": [],
      "source": [
        "# 都改回来了还是一样好？ 没有，开始变差了，数据增强有用？还是冻结 shetou mingbaileshizuihoudeyouzaid"
      ]
    },
    {
      "cell_type": "code",
      "execution_count": 183,
      "metadata": {
        "id": "0ywSwbOTtQFs"
      },
      "outputs": [],
      "source": [
        "def train(lr, T0, epoch, forzen, reload=False, split=1):\n",
        "  global mod\n",
        "  # lr = lr*split #oh why learning rate*4 this is why it trains much better, still need nigher learning rate zuibagankouke zhege haizaizheli a a banbenwanquanluanle\n",
        "  if reload:\n",
        "    mod = torch.load(\"eff_s_1_8010.pt\", map_location=device) #it is model not dict\n",
        "    if forzen:\n",
        "      for i in mod.parameters():\n",
        "        i.require_grad = True\n",
        "      for i in mod.decoder.parameters():\n",
        "        i.require_grad = False\n",
        "      for i in mod.encoder.parameters():\n",
        "        i.require_grad = False\n",
        "      # for i in mod.encoder.eff[-1:].parameters():\n",
        "      #   i.require_grad = True\n",
        "      for i in mod.encoder.projection.parameters(): #forgot about this forgrt to set oiit to false just checked history this is why\n",
        "        i.require_grad = True\n",
        "  losses = []\n",
        "  access = []\n",
        "  val_acc = []\n",
        "  optimizer = torch.optim.AdamW(\n",
        "    mod.parameters(),\n",
        "    lr=lr)\n",
        "  import pylab\n",
        "  scheduler = torch.optim.lr_scheduler.CosineAnnealingWarmRestarts(optimizer, T0)\n",
        "  running_loss = 0\n",
        "  for epoch in range(epoch):\n",
        "    np.random.shuffle(train_names)\n",
        "    mod.train(True)\n",
        "    # ids = [i for i in os.listdir(\"images\") if not i.startswith(\"638066\")]\n",
        "    # ids = os.listdir(\"images\")[10:]\n",
        "    # np.random.shuffle(ids)\n",
        "    for i in range(len(train_names)//(16*split)):#why set this and it be better or is it learning rate? it lower faster? hyper-parameter kunduzikouke gaile lenoslistdir dao trainnames cjiuhuichaoguo100?wtfmeiyouyunxingduzikunk\n",
        "      if i==None:\n",
        "        continue\n",
        "      start_index = i\n",
        "      image, text_in, text_out = getitem(i, True)\n",
        "\n",
        "      image = image.to(device) #mutli process cannot use cuda so moved here\n",
        "      # image = torch.permute(image, (0, 3, 1, 2))\n",
        "      text_out = pad_pack(text_out)[0].to(device)\n",
        "      padded_x = pad_pack(text_in)\n",
        "\n",
        "      xmask = triangle_mask(padded_x[1]).to(device)\n",
        "      text_in = padded_x[0].to(device)\n",
        "\n",
        "      optimizer.zero_grad()\n",
        "      outputs = mod(image, text_in, xmask)\n",
        "      #loss = loss_fn(outputs, text_outi) guaibude yyixiazinamegao\n",
        "      loss = loss_fn(outputs, text_out)\n",
        "\n",
        "      loss.backward()\n",
        "\n",
        "      optimizer.step()\n",
        "\n",
        "      running_loss += loss.item()\n",
        "      losses.append(loss.item())\n",
        "      access.append(mask_acc(outputs.detach(), text_out))\n",
        "\n",
        "      if i/(len(train_names)//(16*split))==0 or i/(len(train_names)//(16*split))==0.5:\n",
        "        val_acc.append(val()[1])\n",
        "        print(val_acc)\n",
        "        scheduler.step()\n",
        "    # print(optimizer.param_groups[0][\"lr\"])\n",
        "  pylab.plot([i.item() for i in access], label=\"Train\")\n",
        "  pylab.plot(np.arange(1, len(val_acc)+1)*(len(access)/len(val_acc)),val_acc,label=\"Val\")\n",
        "  pylab.legend()\n",
        "  pylab.show()\n",
        "  pylab.savefig(f\"{lr}_{T0}_{epoch}.png\")\n",
        "  return mod"
      ]
    },
    {
      "cell_type": "code",
      "execution_count": null,
      "metadata": {
        "id": "dmzz1ZUrLXco"
      },
      "outputs": [],
      "source": [
        "reversed_word_map_={}\n",
        "for i in reversed_word_map.keys():\n",
        "  reversed_word_map_[int(i)] = reversed_word_map[i]"
      ]
    },
    {
      "cell_type": "code",
      "execution_count": null,
      "metadata": {
        "id": "3caY3NyAK8gi"
      },
      "outputs": [],
      "source": [
        "np_map = np.array(list(reversed_word_map_.values()))\n",
        "for i in reversed_word_map_.keys():\n",
        "  np_map[i] = reversed_word_map_[i]"
      ]
    },
    {
      "cell_type": "code",
      "execution_count": null,
      "metadata": {
        "id": "oKW3Xwkwcitv"
      },
      "outputs": [],
      "source": [
        "def top_k_2d(m, k):\n",
        "  values, indices = torch.topk(m.flatten(), k)\n",
        "  return indices//m.shape[1], indices%m.shape[1]\n",
        "  # return indices//m.shape[0]-1, indices%m.shape[1]"
      ]
    },
    {
      "cell_type": "code",
      "execution_count": null,
      "metadata": {
        "id": "9xAkB6nPczJ2"
      },
      "outputs": [],
      "source": [
        "top_k_2d(torch.tensor([[0,1,4,12],\n",
        "                       [0,10,0,0]]),2)"
      ]
    },
    {
      "cell_type": "code",
      "execution_count": null,
      "metadata": {
        "id": "weogeFuCDrat"
      },
      "outputs": [],
      "source": [
        "#shetouexguaibudexianzaihaole xianzaishizhenggewenjianjiadounaquxunlianle  kunexhaishiyoufenkaide touuuyun"
      ]
    },
    {
      "cell_type": "code",
      "execution_count": 195,
      "metadata": {
        "colab": {
          "base_uri": "https://localhost:8080/",
          "height": 630
        },
        "id": "CmxWJMUeV-Ip",
        "outputId": "04244d51-c136-4381-aeae-4183fc69073e"
      },
      "outputs": [
        {
          "output_type": "stream",
          "name": "stdout",
          "text": [
            "[0.47428572177886963]\n",
            "[0.47428572177886963, 0.7430555820465088]\n",
            "[0.47428572177886963, 0.7430555820465088, 0.8742856979370117]\n",
            "[0.47428572177886963, 0.7430555820465088, 0.8742856979370117, 0.9216867685317993]\n",
            "[0.47428572177886963, 0.7430555820465088, 0.8742856979370117, 0.9216867685317993, 0.9505494236946106]\n",
            "[0.47428572177886963, 0.7430555820465088, 0.8742856979370117, 0.9216867685317993, 0.9505494236946106, 0.9440993666648865]\n",
            "[0.47428572177886963, 0.7430555820465088, 0.8742856979370117, 0.9216867685317993, 0.9505494236946106, 0.9440993666648865, 0.9364162087440491]\n",
            "[0.47428572177886963, 0.7430555820465088, 0.8742856979370117, 0.9216867685317993, 0.9505494236946106, 0.9440993666648865, 0.9364162087440491, 0.9496855139732361]\n",
            "[0.47428572177886963, 0.7430555820465088, 0.8742856979370117, 0.9216867685317993, 0.9505494236946106, 0.9440993666648865, 0.9364162087440491, 0.9496855139732361, 0.956250011920929]\n"
          ]
        },
        {
          "output_type": "display_data",
          "data": {
            "text/plain": [
              "<Figure size 640x480 with 1 Axes>"
            ],
            "image/png": "[encoded data removed]"
          },
          "metadata": {}
        },
        {
          "output_type": "display_data",
          "data": {
            "text/plain": [
              "<Figure size 640x480 with 0 Axes>"
            ]
          },
          "metadata": {}
        }
      ],
      "source": [
        "mod = train(0.0002, 10, 9,  True, reload=True)#duzikunhuxi xiaobatch size lianggejiuhaole chongxingtiaochaocanshushujuxieloukudnuzi"
      ]
    },
    {
      "cell_type": "code",
      "execution_count": null,
      "metadata": {
        "id": "wODBae6iirAY"
      },
      "outputs": [],
      "source": [
        "mod = torch.load(\"drive/MyDrive/CNO\", map_location=device)"
      ]
    },
    {
      "cell_type": "code",
      "execution_count": 197,
      "metadata": {
        "colab": {
          "base_uri": "https://localhost:8080/"
        },
        "id": "AzCea6KyjrDs",
        "outputId": "811e664e-8e42-475b-dac8-d32e33bd2ff6"
      },
      "outputs": [
        {
          "output_type": "stream",
          "name": "stdout",
          "text": [
            "\n",
            "<start>C1CCCOCC1<end><end><end><end><end>\n",
            "<start>C1CCOCC1<end><end><end><end><end><end>\n",
            "<start>C1CCCOC1<end><end><end><end><end><end>\n",
            "<start>C1CCOCCC1<end><end><end><end><end>\n",
            "<start>C1CCCCOC1<end><end><end><end><end>\n",
            "<start>C1=CCOCC1<end><end><end><end><end>\n",
            "<start>CCCOC<end><end><end><end><end><end><end><end>\n",
            "<start>1CCCOCCC1<end><end><end><end><end>\n",
            "<start>CC(C)COC<end><end><end><end><end><end>\n",
            "<start>C1CCC(OCC1)C<end>\n",
            "tensor([0.4315, 0.2564, 0.1073, 0.0424, 0.0171, 0.0156, 0.0107, 0.0100, 0.0067,\n",
            "        0.0023], device='cuda:0')\n"
          ]
        }
      ],
      "source": [
        "t = 1\n",
        "\n",
        "class SMILESGenerator(torch.nn.Module):\n",
        "  def __init__(self, encoder, decoder):\n",
        "    super().__init__()\n",
        "    self.encoder = encoder\n",
        "    self.decoder = decoder\n",
        "\n",
        "  def forward(self, images, text_in_, max_len, beam): #just changed beam=1 and it runs so beam cannot be random number???  yeah it has to been factor of 676, which is 2 2 13 13 but original paper did not use beam search\n",
        "    with torch.no_grad():\n",
        "      image_feature = []\n",
        "      for i in images:\n",
        "        image_feature.append(self.encoder(i))\n",
        "      image_feature = torch.stack(image_feature)\n",
        "      # print(image_feature.shape)\n",
        "      image_feature = image_feature.squeeze(1)\n",
        "      mem = gen.decoder.encoder(gen.decoder.encoder_dim(image_feature))\n",
        "      mem = torch.mean(mem, dim=0)\n",
        "      mem = mem.unsqueeze(0).repeat_interleave(beam, dim=0)\n",
        "      # return mem\n",
        "      top_n = torch.tensor(text_in_)\n",
        "      top_n_p = torch.tensor([0]).to(device)\n",
        "      for i in range(max_len):\n",
        "        padded_text, l = pad_pack(top_n)\n",
        "        padded_text = padded_text.to(device)\n",
        "        # print(padded_text)\n",
        "        out = torch.nn.functional.softmax(self.decoder.decoder(padded_text, mem, x_mask=triangle_mask(l).to(device))[:,-1,:].squeeze(dim=1), dim=1)\n",
        "        # pylab.plot(out[0])\n",
        "        # pylab.show()\n",
        "        if i>1:\n",
        "          for j in range(beam):\n",
        "            if top_n[j][-1]==78:\n",
        "              out[j]=torch.zeros(79)\n",
        "              out[j][78]=1\n",
        "\n",
        "        tmp_n = top_n_p.repeat((79,1)).T+torch.log(out)#forgot softymax\n",
        "        x, y = top_k_2d(tmp_n, beam)\n",
        "        new_top_n = []\n",
        "        new_top_n_p = []\n",
        "        # print(tmp_n)\n",
        "        for j in range(beam):\n",
        "          new_top_n.append(torch.cat((top_n[x[j]], y[j].cpu().unsqueeze(-1))))\n",
        "          new_top_n_p += [tmp_n[x[j], y[j]]]\n",
        "        top_n = new_top_n\n",
        "        top_n_p = torch.tensor(new_top_n_p).to(device)\n",
        "        # print(new_top_n_p)\n",
        "        count = 0\n",
        "        for i in top_n:\n",
        "          if 78 in i:\n",
        "            count+=1\n",
        "        if count==beam:\n",
        "          return top_n, top_n_p\n",
        "      return top_n, top_n_p\n",
        "mod = mod.eval()\n",
        "gen = SMILESGenerator(mod.encoder, mod.decoder) #fucking yeah why when I test using val it is wrong did not refresh, I fucking said how is that possible, so all the tuning is not usful\n",
        "img1 = torch.tensor(np.array(Image.open(\"w.jpg\").convert(\"RGB\").resize((400,400)))).unsqueeze(0).permute(0,3,1,2).to(device).to(torch.float32)\n",
        "# img2 = torch.tensor(np.array(Image.open(\"w.jpg\").convert(\"RGB\").resize((400,400)))).unsqueeze(0).permute(0,3,1,2).to(device).to(torch.float32)\n",
        "# img3 = torch.tensor(np.array(Image.open(\"e.jpg\").convert(\"RGB\").resize((400,400)))).unsqueeze(0).permute(0,3,1,2).to(device).to(torch.float32)\n",
        "gen = gen.train(False) #forgot gen=\n",
        "res = gen.forward([img1], [[77]], 100, 10)# got the right answer without beam but with beam it is not correct\n",
        "print()#duzikouke xianzxai\n",
        "for i in res[0]:\n",
        "  print(converter.decode(\"\".join([reversed_word_map_[i] for i in i.numpy()])))\n",
        "print(torch.exp(res[1]))"
      ]
    },
    {
      "cell_type": "code",
      "source": [],
      "metadata": {
        "id": "rZRSUHbAvpiJ"
      },
      "execution_count": null,
      "outputs": []
    },
    {
      "cell_type": "code",
      "source": [
        "torch.save(mod, \"drive/MyDrive/perfectslow2\")"
      ],
      "metadata": {
        "id": "Ysa7_ZuIee99"
      },
      "execution_count": 196,
      "outputs": []
    },
    {
      "cell_type": "markdown",
      "metadata": {
        "id": "d6WxuvktSj0D"
      },
      "source": [
        "summary: it was not working because always training = False,\n",
        "but why then after looping whole thing still not working\n",
        "unfreeze more layers\n",
        "not random\n",
        "all mistake was found by accident when trying to fix otehrs"
      ]
    },
    {
      "cell_type": "code",
      "execution_count": null,
      "metadata": {
        "id": "LvtkVpXZH1mW"
      },
      "outputs": [],
      "source": []
    },
    {
      "cell_type": "code",
      "execution_count": null,
      "metadata": {
        "id": "7wME0_wbHmpB"
      },
      "outputs": [],
      "source": [
        "#working again?wwtf"
      ]
    },
    {
      "cell_type": "code",
      "execution_count": null,
      "metadata": {
        "id": "jHZPN3p3Eh6u"
      },
      "outputs": [],
      "source": [
        "#zuibakunexxianzaiyoubuxingle?zhendeshixuanxue? kunwhyxianzaibuxshetouwhatthefuck weismyoubuxingle"
      ]
    },
    {
      "cell_type": "code",
      "execution_count": null,
      "metadata": {
        "id": "EqulfPvW_9Tq"
      },
      "outputs": [],
      "source": [
        "#wtf meiyoushuaxing cnashu daodishi zenmeggemeishuaxingfa xianzai doukeyi zuo a"
      ]
    },
    {
      "cell_type": "code",
      "execution_count": null,
      "metadata": {
        "id": "zBrA9jZ7gIWD"
      },
      "outputs": [],
      "source": [
        "res[0][0]"
      ]
    },
    {
      "cell_type": "code",
      "execution_count": null,
      "metadata": {
        "id": "i0eJW0BkdCBN"
      },
      "outputs": [],
      "source": [
        "def myeval(img_path):\n",
        "  global gen\n",
        "  img1 = torch.tensor(np.array(Image.open(img_path).convert(\"RGB\").resize((400,400)))).unsqueeze(0).permute(0,3,1,2).to(device).to(torch.float32)\n",
        "  gen = gen.train(False)\n",
        "  res = gen.forward([img1], [[77]], 100, 10)\n",
        "  ans = \"\"\n",
        "  for i in range(10):\n",
        "    ans+=converter.decode(\"\".join([reversed_word_map_[i.item()] for i in res[0][i]]))+\"\\n\"\n",
        "  return ans.replace(\"<start>\",\"\").replace(\"<end>\",\"\")"
      ]
    },
    {
      "cell_type": "code",
      "execution_count": null,
      "metadata": {
        "id": "vys4YljpdX10"
      },
      "outputs": [],
      "source": [
        "!wget file.weasoft.com/test.zip"
      ]
    },
    {
      "cell_type": "code",
      "execution_count": null,
      "metadata": {
        "id": "-oaYbYYAdd9F"
      },
      "outputs": [],
      "source": [
        "!unzip test.zip"
      ]
    },
    {
      "cell_type": "code",
      "execution_count": null,
      "metadata": {
        "id": "w4PiXe53dgcz"
      },
      "outputs": [],
      "source": [
        "print(\"\\n\".join(list(set([i.split(\"_\")[0] for i in os.listdir(\"test\")]))))"
      ]
    },
    {
      "cell_type": "code",
      "execution_count": null,
      "metadata": {
        "id": "BInZ-1LNeUuk"
      },
      "outputs": [],
      "source": [
        "ans.columns"
      ]
    },
    {
      "cell_type": "code",
      "execution_count": null,
      "metadata": {
        "id": "_yPxp2PofO9F"
      },
      "outputs": [],
      "source": [
        "print(myeval(\"2.jpg\"))"
      ]
    },
    {
      "cell_type": "code",
      "execution_count": null,
      "metadata": {
        "id": "CT9Q3Atvlg3M"
      },
      "outputs": [],
      "source": [
        "ans = {11203:\"CC(=C)Cl\", 286:\"C(C(=O)O)ON\", 6562: \"CC(=C)C=O\", 6587:\"CC[N+](=O)[O-]\"}"
      ]
    },
    {
      "cell_type": "code",
      "execution_count": null,
      "metadata": {
        "id": "cK6sU3tClAE-"
      },
      "outputs": [],
      "source": [
        "sequence_level = []\n",
        "for i in range(100):\n",
        "  prefix = random.choice([286, 6587, 6562, 11203])\n",
        "  name = random.choice([i for i in os.listdir(\"./images\") if i.startswith(str(prefix)+\"_\")])\n",
        "  predicted = myeval(\"images/\"+name)\n",
        "  sequence_level+=[ans[prefix]==predicted.replace(\"<start>\",\"\").replace(\"<end>\",\"\")]"
      ]
    },
    {
      "cell_type": "code",
      "execution_count": null,
      "metadata": {
        "id": "ZhR_GQuXmQgI"
      },
      "outputs": [],
      "source": [
        "np.sum(sequence_level)"
      ]
    },
    {
      "cell_type": "code",
      "execution_count": null,
      "metadata": {
        "id": "vJMEL_xgeI4z"
      },
      "outputs": [],
      "source": [
        "ans = pd.read_csv(\"test_set.csv\")\n",
        "for i in os.listdir(\"test\"):\n",
        "  if i.startswith(\"2569\"):\n",
        "    continue\n",
        "  correct = ans[ans[\"cid\"]==int(i.split(\"_\")[0])][\"canonicalsmiles\"].item()\n",
        "  predicted = myeval(\"test/\"+i)\n",
        "  print(correct, predicted)"
      ]
    },
    {
      "cell_type": "markdown",
      "metadata": {
        "id": "27YVhJHgcVnv"
      },
      "source": [
        "\n",
        "\n",
        "```\n",
        "In [1]: import base64\n",
        "   ...: import pandas as pd\n",
        "   ...: import os\n",
        "   ...: import random\n",
        "   ...: df = pd.read_csv(\"test.csv\")\n",
        "   ...: os.makedirs(\"test\",exist_ok=1)\n",
        "   ...: def save_img(id):\n",
        "   ...:   row = df[df[\"id\"]==id]\n",
        "   ...:   print(row[\"image\"])\n",
        "   ...:   with open(f\"test/{row['cid'].item()}_{str(random.random()).split('.')[1]}.png\", \"wb\") as fh:\n",
        "   ...:       fh.write(base64.decodebytes(bytes(row[\"image\"].item().replace(\"data:image/png;base64,\",\"\"), \"utf-8\")))\n",
        "```\n",
        "\n"
      ]
    },
    {
      "cell_type": "code",
      "execution_count": null,
      "metadata": {
        "id": "F-02ExuLNdah"
      },
      "outputs": [],
      "source": [
        "# if i use res there is error, so the problem is at res"
      ]
    },
    {
      "cell_type": "code",
      "execution_count": null,
      "metadata": {
        "id": "1yCeclc_NjP0"
      },
      "outputs": [],
      "source": [
        "# res.shape, meiyou unsquezze"
      ]
    },
    {
      "cell_type": "code",
      "execution_count": null,
      "metadata": {
        "id": "IgB2SZEQveee"
      },
      "outputs": [],
      "source": [
        "mod = mod.eval()\n",
        "x = torch.tensor([[77,  4],\n",
        "        [77, 15]])\n",
        "padded_text, l = pad_pack(x)\n",
        "img_f = mod.encoder(img1)\n",
        "lat = mod.decoder.encoder(mod.decoder.encoder_dim(img_f))\n",
        "lat = lat.repeat_interleave(2, dim=0)\n",
        "pylab.plot(torch.nn.functional.softmax(mod.decoder.decoder(padded_text, res, x_mask=triangle_mask(l).to(device))[:,-1,:].squeeze(dim=1), dim=1)[0].detach().numpy())"
      ]
    },
    {
      "cell_type": "code",
      "execution_count": null,
      "metadata": {
        "id": "23wK6WbEL1DM"
      },
      "outputs": [],
      "source": [
        "mod = mod.eval()\n",
        "x = torch.tensor([[77,  4]])\n",
        "padded_text, l = pad_pack(x)\n",
        "img_f = mod.encoder(img1)\n",
        "lat = mod.decoder.encoder(mod.decoder.encoder_dim(img_f))\n",
        "lat = lat.repeat_interleave(1, dim=0)\n",
        "pylab.plot(torch.nn.functional.softmax(mod.decoder.decoder(padded_text, lat, triangle_mask(l).to(device))[0,-1,:]).detach().numpy())"
      ]
    },
    {
      "cell_type": "code",
      "execution_count": null,
      "metadata": {
        "id": "s1Sk3UpV5hEO"
      },
      "outputs": [],
      "source": [
        "mod = mod.eval()#same still diff means not batch\n",
        "\n",
        "x = torch.tensor([[77,5]])\n",
        "padded_text, l = pad_pack(x)\n",
        "pylab.plot(mod(img1, padded_text, triangle_mask(l).to(device))[0,-1,:].detach().numpy())"
      ]
    },
    {
      "cell_type": "code",
      "execution_count": null,
      "metadata": {
        "id": "XGMAlM0wnRTd"
      },
      "outputs": [],
      "source": [
        "#not everything combined and top k this way it will always pick all C"
      ]
    },
    {
      "cell_type": "code",
      "execution_count": null,
      "metadata": {
        "id": "PZG4_BCcmk6O"
      },
      "outputs": [],
      "source": []
    },
    {
      "cell_type": "code",
      "execution_count": null,
      "metadata": {
        "id": "-ex4_IiPn6iu"
      },
      "outputs": [],
      "source": [
        "# gen.train(False)#why train false jiu zhengquehenduo dengdenggaihuiquyeshia\n",
        "# kesouhlong zhijie load lai yucejiushi zheyang hlong yuanlai shi meiyou train hao? meiyou chongxingruan gen=? chouwei aaawhy henhuang meiyisi\n",
        "pylab.rcParams[\"figure.figsize\"] = (15,3)\n",
        "gen.train(False)\n",
        "res = gen.forward(torch.tensor(np.array(Image.open(\"2.jpg\").convert(\"RGB\").resize((400,400)))).unsqueeze(0).permute(0,3,1,2).to(device).to(torch.float32), [[77]], 100, 1)\n",
        "for str_ in res:\n",
        "  print(converter.decode(\"\".join([reversed_word_map_[i] for i in str_])\n",
        "  ))\n"
      ]
    },
    {
      "cell_type": "code",
      "execution_count": null,
      "metadata": {
        "id": "P0nrTc44NWmD"
      },
      "outputs": [],
      "source": [
        "converter.encode(\"C(N)O\")"
      ]
    },
    {
      "cell_type": "code",
      "execution_count": null,
      "metadata": {
        "id": "7uPbjREjRLt6"
      },
      "outputs": [],
      "source": [
        "torch.save(mod, \"drive/MyDrive/perfect\")"
      ]
    },
    {
      "cell_type": "code",
      "execution_count": null,
      "metadata": {
        "id": "Ysf3J98niPHL"
      },
      "outputs": [],
      "source": [
        "mod = torch.load(\"drive/MyDrive/CNO\")"
      ]
    },
    {
      "cell_type": "code",
      "execution_count": null,
      "metadata": {
        "id": "LODvLzwGkF31"
      },
      "outputs": [],
      "source": [
        "image = torch.tensor(np.array(Image.open(\"c.jpg\").convert(\"RGB\").resize((400,400)))).unsqueeze(0).permute(0,3,1,2).to(device).to(torch.float32)\n",
        "\n",
        "image = image.to(device)\n",
        "padded_x = pad_pack([[77]])\n",
        "\n",
        "xmask = triangle_mask(padded_x[1]).to(device)\n",
        "text_in = padded_x[0].to(device)\n",
        "\n",
        "outputs = mod(image, text_in, xmask)"
      ]
    },
    {
      "cell_type": "code",
      "execution_count": null,
      "metadata": {
        "id": "wwGP53EZldk3"
      },
      "outputs": [],
      "source": [
        "pylab.plot(torch.nn.Softmax()(outputs[0][0]).cpu().detach().numpy())"
      ]
    },
    {
      "cell_type": "code",
      "execution_count": null,
      "metadata": {
        "id": "PYkJx7ujliMM"
      },
      "outputs": [],
      "source": []
    },
    {
      "cell_type": "code",
      "execution_count": null,
      "metadata": {
        "id": "r5ettgCsliQj"
      },
      "outputs": [],
      "source": [
        "Image.open(\"d.jpg\")"
      ]
    },
    {
      "cell_type": "code",
      "execution_count": null,
      "metadata": {
        "id": "wmu7KOJHpTDp"
      },
      "outputs": [],
      "source": []
    },
    {
      "cell_type": "code",
      "execution_count": null,
      "metadata": {
        "id": "934LZSA1pBQF"
      },
      "outputs": [],
      "source": [
        "Image.open(\"images/a.jpg\")"
      ]
    },
    {
      "cell_type": "code",
      "execution_count": null,
      "metadata": {
        "id": "Jd1qjT-1QIAq"
      },
      "outputs": [],
      "source": [
        "#for and save aaa GED\n",
        "train(0.00004, 0.95, 30, 6)\n"
      ]
    },
    {
      "cell_type": "code",
      "execution_count": null,
      "metadata": {
        "id": "idywloeoXlAG"
      },
      "outputs": [],
      "source": [
        "mod = torch.load(\"good_one.pt\")"
      ]
    },
    {
      "cell_type": "code",
      "execution_count": null,
      "metadata": {
        "id": "70FXySsLXCIh"
      },
      "outputs": [],
      "source": [
        "torch.save(mod, \"good_one.pt\")"
      ]
    },
    {
      "cell_type": "code",
      "execution_count": null,
      "metadata": {
        "id": "20t4SXP-XSgI"
      },
      "outputs": [],
      "source": [
        "!cp good_one.pt drive/MyDrive/"
      ]
    },
    {
      "cell_type": "code",
      "execution_count": null,
      "metadata": {
        "id": "BG87eRUgXNUr"
      },
      "outputs": [],
      "source": [
        "!ls -l good_one* -h"
      ]
    },
    {
      "cell_type": "code",
      "execution_count": null,
      "metadata": {
        "id": "TkWefNTXcvHT"
      },
      "outputs": [],
      "source": [
        "# 12361!! finallly works bieren kajnw o"
      ]
    },
    {
      "cell_type": "code",
      "execution_count": null,
      "metadata": {
        "id": "NltJ4ypRV4V5"
      },
      "outputs": [],
      "source": [
        "text_in"
      ]
    },
    {
      "cell_type": "code",
      "execution_count": null,
      "metadata": {
        "id": "4rcHVFTYUkui"
      },
      "outputs": [],
      "source": [
        "pylab.imshow(image[5].permute(1,2,0).cpu()/255)"
      ]
    },
    {
      "cell_type": "code",
      "execution_count": null,
      "metadata": {
        "id": "ILFCucsXWhNY"
      },
      "outputs": [],
      "source": [
        "pylab.imshow(image[3].permute(1,2,0).cpu()/255)\n"
      ]
    },
    {
      "cell_type": "code",
      "execution_count": null,
      "metadata": {
        "id": "sqs6Cw7NM16M"
      },
      "outputs": [],
      "source": [
        "train(0.00004, 0.7, 6)\n",
        "# No black out"
      ]
    },
    {
      "cell_type": "code",
      "execution_count": null,
      "metadata": {
        "id": "tMYqNnqur-Vn"
      },
      "outputs": [],
      "source": [
        "#This time very well how???????\n",
        "torch.seed()"
      ]
    },
    {
      "cell_type": "code",
      "execution_count": null,
      "metadata": {
        "id": "_4BiFGdkrYD-"
      },
      "outputs": [],
      "source": [
        "res = np.array([i.item() for i in access[350:]])"
      ]
    },
    {
      "cell_type": "code",
      "execution_count": null,
      "metadata": {
        "id": "Er5kDvoR3jXN"
      },
      "outputs": [],
      "source": [
        "np.sum(res==1)/len(res)"
      ]
    },
    {
      "cell_type": "code",
      "execution_count": null,
      "metadata": {
        "id": "E7voFa94afTq"
      },
      "outputs": [],
      "source": [
        "pylab.plot([i.item() for i in access], label=\"Train\")\n",
        "pylab.plot(np.arange(len(val_acc))*(len(access)/len(val_acc)),val_acc,label=\"Val\")\n",
        "pylab.legend()"
      ]
    },
    {
      "cell_type": "code",
      "execution_count": null,
      "metadata": {
        "id": "NyD6COrvJxyw"
      },
      "outputs": [],
      "source": [
        "image.requires_grad_()\n",
        "outputs = mod(image, text_in, xmask)\n",
        "loss = loss_fn(outputs, text_out)\n",
        "loss.backward()"
      ]
    },
    {
      "cell_type": "code",
      "execution_count": null,
      "metadata": {
        "id": "oP87C89GK049"
      },
      "outputs": [],
      "source": [
        "img = image[0].permute(1,2,0).detach().cpu()\n",
        "pylab.imshow(img/torch.max(img))"
      ]
    },
    {
      "cell_type": "code",
      "execution_count": null,
      "metadata": {
        "id": "I_b4lFzDKV33"
      },
      "outputs": [],
      "source": [
        "ans = image.grad[0].permute(1,2,0).cpu()\n",
        "ans = (ans-torch.mean(ans))/torch.std(ans)\n",
        "pylab.imshow(torch.sum(((ans)), dim=-1), cmap=\"gray\")"
      ]
    },
    {
      "cell_type": "code",
      "execution_count": null,
      "metadata": {
        "id": "Bu6bP34PhREB"
      },
      "outputs": [],
      "source": [
        "mod.decoder.layer[0].attn2"
      ]
    }
  ],
  "metadata": {
    "accelerator": "GPU",
    "colab": {
      "provenance": [],
      "mount_file_id": "1ZKySVPazmI9T_1qaNKM5j4nhBMoENArm",
      "authorship_tag": "ABX9TyPRTnBeeEzQms/FRnhzosh3",
      "include_colab_link": true
    },
    "kernelspec": {
      "display_name": "Python 3",
      "name": "python3"
    },
    "language_info": {
      "name": "python"
    }
  },
  "nbformat": 4,
  "nbformat_minor": 0
}