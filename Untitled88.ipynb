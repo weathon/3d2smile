{
  "nbformat": 4,
  "nbformat_minor": 0,
  "metadata": {
    "colab": {
      "provenance": [],
      "mount_file_id": "1YyzsLRuL2Uhtu0spy_x2BwBo6StgJYJl",
      "authorship_tag": "ABX9TyNy2K8ti0mFqXa5vOBiKzGa",
      "include_colab_link": true
    },
    "kernelspec": {
      "name": "python3",
      "display_name": "Python 3"
    },
    "language_info": {
      "name": "python"
    }
  },
  "cells": [
    {
      "cell_type": "markdown",
      "metadata": {
        "id": "view-in-github",
        "colab_type": "text"
      },
      "source": [
        "<a href=\"https://colab.research.google.com/github/weathon/3d2smile/blob/main/Untitled88.ipynb\" target=\"_parent\"><img src=\"https://colab.research.google.com/assets/colab-badge.svg\" alt=\"Open In Colab\"/></a>"
      ]
    },
    {
      "cell_type": "code",
      "execution_count": null,
      "metadata": {
        "id": "sb3OLK1qUWtW"
      },
      "outputs": [],
      "source": [
        "\n",
        "\n",
        "\"\"\"## Model Definition\"\"\"\n",
        "\n",
        "import tensorflow as tf\n",
        "import numpy as np\n",
        "from PIL import Image\n",
        "import pylab\n",
        "\n",
        "CHANNELS = [64, 64, 128, 256, 512]\n",
        "RES_NUMBER = 4\n",
        "EMBEDING_DIM =1024\n",
        "HEADS = 16\n",
        "DECODER_NUM = 1\n",
        "\n",
        "class ResNetBlock(tf.keras.layers.Layer):\n",
        "  def __init__(self, channel1, channel2, name):\n",
        "    super().__init__(name=name)\n",
        "    self.Conv2D = tf.keras.Sequential([\n",
        "        tf.keras.layers.Conv2D(channel1, (3,3), padding=\"same\", strides = 2),\n",
        "        tf.keras.layers.BatchNormalization(),\n",
        "        tf.keras.layers.ReLU(),\n",
        "        tf.keras.layers.Conv2D(channel2, (3,3), padding=\"same\"),\n",
        "        tf.keras.layers.BatchNormalization()\n",
        "    ])\n",
        "    self.project =  tf.keras.layers.Conv2D(channel2, (1,1), name=\"image_projection\", strides = 2)\n",
        "    self.relu = tf.keras.layers.ReLU()\n",
        "\n",
        "  def call(self, images):\n",
        "    x = self.Conv2D(images)\n",
        "    images = self.project(images)\n",
        "    return self.relu(x+images)\n",
        "\n",
        "class PosEncoding(tf.keras.layers.Layer):\n",
        "  def __init__(self, max_length):\n",
        "    super().__init__()\n",
        "    self.max_length = max_length\n",
        "    self.Embeding =  tf.keras.layers.Embedding(max_length, EMBEDING_DIM, input_length=max_length)\n",
        "\n",
        "  def call(self, x):\n",
        "    tags = tf.range(self.max_length)\n",
        "    return self.Embeding(tags[tf.newaxis,:]) + x\n",
        "\n",
        "\n",
        "class ImageEncoder(tf.keras.layers.Layer):\n",
        "  def __init__(self):\n",
        "    super().__init__()\n",
        "    self.conv2D_7 = tf.keras.layers.Conv2D(CHANNELS[0], (7, 7), padding=\"same\", strides = 2)\n",
        "    self.pooling = tf.keras.layers.MaxPooling2D(pool_size=(3,3), strides=2)\n",
        "    self.ResBlocks = []\n",
        "    for i in range(RES_NUMBER):\n",
        "      self.ResBlocks.append(ResNetBlock(CHANNELS[i+1], CHANNELS[i+1]*2, name=f\"resblock_{i}\"))\n",
        "    self.flatten = tf.keras.layers.Reshape((49,1024))\n",
        "    self.img_pos_encoding = PosEncoding(49)\n",
        "    self.attention = tf.keras.layers.Attention()\n",
        "\n",
        "  def call(self, images):\n",
        "    images = self.conv2D_7(images)\n",
        "    images = self.pooling(images)\n",
        "    for block in self.ResBlocks:\n",
        "      images = block(images)\n",
        "    images = self.flatten(images)\n",
        "    images = self.img_pos_encoding(images)\n",
        "    return images #self.attention([images, images, images])\n",
        "\n",
        "  # def model(self):\n",
        "  #     x = tf.keras.layers.Input(shape=(400, 400, 3))\n",
        "  #     return tf.keras.Model(inputs=[x], outputs=self.call(x))\n",
        "  # https://stackoverflow.com/questions/55235212/model-summary-cant-print-output-shape-while-using-subclass-model\n",
        "\n",
        "class AddNorm(tf.keras.layers.Layer):\n",
        "  def __init__(self):\n",
        "    super().__init__()\n",
        "    self.norm = tf.keras.layers.LayerNormalization()\n",
        "\n",
        "  def call(self, x, y):\n",
        "    return self.norm(x+y)\n",
        "\n",
        "\n",
        "class TextEncoder(tf.keras.layers.Layer):\n",
        "  def __init__(self, num_token, max_length, first_layer, name=\"\"):\n",
        "    if name == \"\":\n",
        "      super().__init__()\n",
        "    else:\n",
        "      super().__init__(name=name)\n",
        "    self.first_layer = first_layer\n",
        "    self.num_token, self.max_length = num_token, max_length\n",
        "    self.pos_encoding = PosEncoding(max_length) #added one above already\n",
        "    self.Embeding =  tf.keras.layers.Embedding(num_token, EMBEDING_DIM, input_length=max_length)\n",
        "    self.attention = tf.keras.layers.MultiHeadAttention(HEADS, 1024, dropout=0.3)\n",
        "    self.add_and_norm = AddNorm()\n",
        "\n",
        "  def call(self, x):\n",
        "    if self.first_layer:\n",
        "      x = self.Embeding(x)\n",
        "      x = self.pos_encoding(x)\n",
        "    attention_score = self.attention(x, x, use_causal_mask=1)\n",
        "    return self.add_and_norm(attention_score, x)\n",
        "\n",
        "class CrossAttention(tf.keras.layers.Layer):\n",
        "  def __init__(self, num_token):\n",
        "    super().__init__()\n",
        "    self.MultiHeadAttention = tf.keras.layers.MultiHeadAttention(HEADS, 1024, dropout=0.3)\n",
        "\n",
        "  def call(self, image_features, texts):\n",
        "    return self.MultiHeadAttention(value=image_features, query=texts)\n",
        "\n",
        "class Decoder(tf.keras.layers.Layer):\n",
        "  def __init__(self, num_token, max_length):\n",
        "    super().__init__()\n",
        "    # self.TextEncoder = TextEncoder(num_token, max_length)\n",
        "\n",
        "    # input = tf.keras.layers.Input(shape=(400, 400, 3))\n",
        "    self.ImageEncoder = ImageEncoder()\n",
        "    #  tf.keras.Model(inputs=[input], outputs=ImageEncoder().call(input))\n",
        "\n",
        "    # # input2 = tf.keras.layers.Input(shape=(100, 500))\n",
        "    # #tf.keras.Model(inputs=[input2], outputs=TextEncoder(100, 500).call(input2))\n",
        "    # input2 = tf.keras.layers.Input(shape=(500))\n",
        "    # self.TextEncoder = tf.keras.Model(inputs=[input2], outputs=TextEncoder(100, 500).call(input2))\n",
        "\n",
        "    self.CrossAttentions = []\n",
        "    self.add_and_norm1s = []\n",
        "    self.add_and_norm2s = []\n",
        "    self.MLPs = []\n",
        "    self.TextEncoders = []\n",
        "\n",
        "\n",
        "    for i in range(DECODER_NUM):\n",
        "      self.TextEncoders.append(TextEncoder(num_token, max_length, i==0))\n",
        "      self.CrossAttentions.append(CrossAttention(num_token))\n",
        "      self.add_and_norm1s.append(AddNorm())\n",
        "      self.add_and_norm2s.append(AddNorm())\n",
        "      self.MLPs.append(tf.keras.Sequential([\n",
        "          tf.keras.layers.Dense(2048, activation=\"relu\"),\n",
        "          tf.keras.layers.Dense(1024, activation=\"relu\"),\n",
        "          tf.keras.layers.Dropout(0.1)], name=f\"MLP_{i}\"))\n",
        "\n",
        "    self.DenseWithSoftmax = tf.keras.Sequential(\n",
        "        [tf.keras.layers.Dense(num_token),\n",
        "        tf.keras.layers.Dense(num_token, activation=\"softmax\")], name=\"linear_and_softmax\")\n",
        "\n",
        "  def call(self, images, texts):\n",
        "    images = self.ImageEncoder(images)\n",
        "    for i in range(DECODER_NUM):\n",
        "      texts = self.TextEncoders[i](texts)\n",
        "      features = self.CrossAttentions[i](images, texts)\n",
        "      features = self.add_and_norm1s[i](features, texts)\n",
        "      texts = self.add_and_norm2s[i](self.MLPs[i](features), features)\n",
        "      # text = self.add_and_norm2s[i](self.MLPs[i](features), features)\n",
        "    return self.DenseWithSoftmax(texts)\n",
        "\n",
        "model = Decoder(100, 500)\n",
        "input1 = tf.keras.layers.Input(shape=(400, 400, 3))\n",
        "input2 = tf.keras.layers.Input(shape=(500)) #input is NOT onehot\n",
        "model =  tf.keras.Model(inputs=[input1, input2], outputs=model.call(input1, input2))\n",
        "model.summary(expand_nested=1)\n",
        "#tf.keras.utils.plot_model(model)\n",
        "\n",
        "#tf.keras.utils.plot_model(model, expand_nested=1, rankdir=\"LR\") #https://stackoverflow.com/questions/62337528/how-to-plot-machine-learning-model-horizontally\n",
        "\n",
        "#itf.keras.utils.plot_model(model) #https://stackoverflow.com/questions/62337528/how-to-plot-machine-learning-model-horizontally\n",
        "\n",
        "\"\"\"## Data Pre-processing\n",
        "\n",
        "### Text\n",
        "\"\"\"\n",
        "\n",
        "import os\n",
        "try:\n",
        "  import google.colab\n",
        "  IN_COLAB = True\n",
        "except:\n",
        "  IN_COLAB = False\n",
        "\n",
        "\n",
        "import os\n",
        "\n",
        "import pandas as pd\n",
        "\n",
        "csv = pd.read_csv(\"80k.csv\")\n",
        "\n",
        "csv.columns\n",
        "#kk fucking eifaxian iupacname\n",
        "\n",
        "def valid_iupac(i):\n",
        "  try:\n",
        "    return (iupac_tokenizer(i)!=None)\n",
        "  except:\n",
        "    return (False)\n",
        "\n",
        "cids = csv[\"cid\"]\n",
        "\n",
        "Ys = {}\n",
        "invalid_cid = []\n",
        "for i in cids.values:\n",
        "  try:\n",
        "    tmp = iupac_tokenizer(csv[csv[\"cid\"] == i][\"iupacname\"].values[0])\n",
        "    if not tmp == None:\n",
        "      Ys[i] = tmp\n",
        "    else:\n",
        "      invalid_cid.append(i)\n",
        "\n",
        "  except:\n",
        "    invalid_cid.append(i)\n",
        "\n",
        "len(invalid_cid)\n",
        "\n",
        "Ys_in = {}\n",
        "Ys_out = {}\n",
        "tokens = []\n",
        "max_length = 0\n",
        "for i in Ys.keys():\n",
        "  # Ys_in[i] = \"😘\" + Ys[i]\n",
        "  # Ys_out[i] = Ys[i] + \"😢\"\n",
        "  tokens.extend(Ys[i])\n",
        "  max_length = max(max_length, len(Ys[i]))\n",
        "\n",
        "\n",
        "tokens = [\"🍜\",\"😘\",\"😢\"]+list(set(tokens))\n",
        "\n",
        "def str_to_tokens(a: str):\n",
        "  return [tokens.index(i) for i in a]\n",
        "\n",
        "for i in Ys.keys():\n",
        "  t = str_to_tokens(Ys[i])\n",
        "  # Ys_in[i] = [1] + t + ([0] * (max_length-len(t)))\n",
        "  Ys_in[i] =  ([0] * (max_length-len(t))) + [1] + t\n",
        "  Ys_out[i] = ([0] * (max_length-len(t))) + t + [2]\n",
        "max_length += 1\n",
        "\n",
        "len(Ys_in[list(Ys.keys())[1]]), max_length\n",
        "\n",
        "\"\"\"### Image\"\"\"\n",
        "\n",
        "# No processing at this point\n",
        "\n",
        "invalid_cid = set(invalid_cid)\n",
        "\n",
        "\"\"\"## Pipeline\"\"\"\n",
        "\n",
        "# https://medium.com/analytics-vidhya/write-your-own-custom-data-generator-for-tensorflow-keras-1252b64e41c3\n",
        "class CustomDataGen(tf.keras.utils.Sequence):\n",
        "    def __init__(self, batch_size, training):\n",
        "      self.batch_size = batch_size\n",
        "      self.dir_ = os.listdir(\"/arc/project/st-dushan20-1/rendered/rendered\")\n",
        "      self.dir = []\n",
        "      for i in self.dir_:\n",
        "        if not int(i.split(\"_\")[0]) in invalid_cid:\n",
        "          self.dir.append(i)\n",
        "      np.random.shuffle(self.dir)\n",
        "      self.ids = np.array(set([i.split(\"_\")[0] for i in self.dir]))\n",
        "      self.offset = self.dir[:-2048] if training else self.dir[2048:]\n",
        "\n",
        "    def on_epoch_end(self):\n",
        "        np.random.shuffle(self.dir)\n",
        "\n",
        "    def __getitem__(self, index_):\n",
        "        start_index = index_ * self.batch_size\n",
        "        Xs_img = []\n",
        "        Xs_text = []\n",
        "        y = [] #This is slow, rewrite later\n",
        "        for _ in range(self.batch_size):\n",
        "          index = start_index + _\n",
        "          try:\n",
        "            id = int(self.dir[index].split(\"_\")[0])\n",
        "          except:\n",
        "            break\n",
        "          index = start_index + _\n",
        "          img = np.array(Image.open(f\"/arc/project/st-dushan20-1/rendered/rendered/{self.dir[index]}\").rotate(np.random.uniform(0,360), expand = 1).resize((400,400)), dtype=\"float32\")\n",
        "          np.random.uniform(size=img.shape)*20\n",
        "          img += noise\n",
        "          Xs_img.append(img)\n",
        "          Xs_text.append(Ys_in[id])\n",
        "          y.append(Ys_out[id])\n",
        "        return [np.array(Xs_img), np.array(Xs_text)], np.array(y)\n",
        "\n",
        "    def __len__(self):\n",
        "        return len(self.dir)//self.batch_size//30\n",
        "\n",
        "img = np.array(Image.open(f\"/arc/project/st-dushan20-1/rendered/rendered/10011914_0.jpg\").rotate(np.random.uniform(0,180)), dtype=\"float32\")\n",
        "noise = np.random.uniform(size=img.shape)*20\n",
        "#pylab.imshow(np.array(noise+img, dtype=\"uint8\"))\n",
        "\n",
        "for i in os.listdir(\"/arc/project/st-dushan20-1/rendered/rendered\"):\n",
        "  if not \"_\" in i:\n",
        "    print(\"P\")\n",
        "\n",
        "gen = CustomDataGen(256, 1)\n",
        "gen.__getitem__(1)\n",
        "\n",
        "\"\"\"## Training\"\"\"\n",
        "\n",
        "model = Decoder(len(tokens), max_length)\n",
        "#input1 = tf.keras.layers.Input(shape=(400, 400, 3))\n",
        "#input2 = tf.keras.layers.Input(shape=(max_length)) #input is NOT onehot\n",
        "#model =  tf.keras.Model(inputs=[input1, input2], outputs=model.call(input1, input2))\n",
        "#model.summary(expand_nested=1)\n",
        "\n",
        "def predict(model, img_id):\n",
        "    seq = np.array([1]+[0]*(max_length-1))\n",
        "    pred = model([np.array([np.array(Image.open(f\"/arc/project/st-dushan20-1/rendered/rendered/{img_id}_0.jpg\"), dtype=\"float32\")]), np.array([seq])])[0]\n",
        "    return \"\".join([tokens[tf.argmax(i)] for i in pred])\n",
        "\n",
        "img_id = 10011914\n",
        "print(predict(model, 10011914))\n",
        "#pylab.imshow(Image.open(f\"/arc/project/st-dushan20-1/rendered/rendered/{10011914}_1.jpg\"))\n",
        "\n",
        "# https://www.tensorflow.org/tutorials/text/image_captioning\n",
        "# https://keras.io/api/losses/probabilistic_losses/#categorical_crossentropy-function\n",
        "# https://arxiv.org/pdf/1706.03762.pdf\n",
        "# https://towardsdatascience.com/what-is-label-smoothing-108debd7ef06\n",
        "cce = tf.keras.losses.CategoricalCrossentropy(reduction=tf.keras.losses.Reduction.NONE, label_smoothing=0.1)\n",
        "\n",
        "token_count = len(tokens)\n",
        "def masked_loss(labels, preds):\n",
        "  loss = cce(tf.one_hot(labels, token_count), preds)\n",
        "  mask = tf.cast(labels != 0, dtype=loss.dtype)\n",
        "  return tf.math.reduce_sum(loss*mask)/tf.math.reduce_sum(mask)\n",
        "\n",
        "def masked_acc(labels, preds):\n",
        "  pred = tf.cast(tf.argmax(preds, axis=-1), tf.float32)\n",
        "  mask = tf.cast(labels != 0, tf.float32)\n",
        "  labels = tf.cast(labels, tf.float32)\n",
        "  match_case = tf.cast(labels == pred, tf.float32)\n",
        "  return tf.math.reduce_sum(match_case*mask)/tf.math.reduce_sum(mask)\n",
        "\n",
        "model.compile(optimizer=tf.keras.optimizers.Adam(),\n",
        "          loss=masked_loss,metrics=[masked_acc])\n",
        "\n",
        "class my_callback(tf.keras.callbacks.Callback):\n",
        "  def on_epoch_end(self, epoch, logs={}):\n",
        "    old_lr = self.model.optimizer.lr.read_value()\n",
        "    new_lr = old_lr * 0.95\n",
        "    print(\"\\nepoch: {}   lr: {} -> {}\".format(epoch, old_lr, new_lr))\n",
        "    print(predict(self.model, 10011914))\n",
        "    self.model.optimizer.lr.assign(new_lr)\n",
        "\n",
        "  # def on_batch_end(self, batch, logs=None):\n",
        "  #   old_lr = self.model.optimizer.lr.read_value()\n",
        "  #   new_lr = old_lr * 0.999995\n",
        "  #   self.model.optimizer.lr.assign(new_lr)\n",
        "import datetime\n",
        "log_dir = \"logs/fit/\" + datetime.datetime.now().strftime(\"%Y%m%d-%H%M%S\")\n",
        "tensorboard_callback = tf.keras.callbacks.TensorBoard(log_dir=log_dir, histogram_freq=1)\n",
        "\n",
        "\n",
        "train = CustomDataGen(64, 1)\n",
        "val = CustomDataGen(64, 0)\n",
        "# model.fit(train, validation_data=val, epochs=5, callbacks=[my_callback(), tensorboard_callback])"
      ]
    },
    {
      "cell_type": "code",
      "source": [
        "token_count = len(tokens)\n",
        "def masked_loss(labels, preds):\n",
        "  loss = cce(tf.one_hot(labels, token_count), preds)\n",
        "  mask = tf.cast(labels != 0, dtype=loss.dtype)\n",
        "  return tf.math.reduce_sum(loss*mask)/tf.math.reduce_sum(mask)\n",
        "\n",
        "def masked_acc(labels, preds):\n",
        "  pred = tf.cast(tf.argmax(preds, axis=-1), tf.float32)\n",
        "  mask = tf.cast(labels != 0, tf.float32)\n",
        "  labels = tf.cast(labels, tf.float32)\n",
        "  match_case = tf.cast(labels == pred, tf.float32)\n",
        "  return tf.math.reduce_sum(match_case*mask)/tf.math.reduce_sum(mask)\n",
        "\n",
        "model.compile(optimizer=tf.keras.optimizers.Adam(),\n",
        "          loss=masked_loss,metrics=[masked_acc])"
      ],
      "metadata": {
        "id": "8TYYqkYbcIns"
      },
      "execution_count": null,
      "outputs": []
    },
    {
      "cell_type": "code",
      "source": [
        "freq = [0] * len(tokens)\n",
        "for i in Ys_in.keys():\n",
        "  for j in Ys[i]:\n",
        "    freq[tokens.index(j)]+=1"
      ],
      "metadata": {
        "id": "QZq8b3QGWQqE"
      },
      "execution_count": null,
      "outputs": []
    },
    {
      "cell_type": "code",
      "source": [
        "# reverse_freq = 1/(np.array(freq))\n",
        "#softmax\n",
        "freq = freq+1\n",
        "reverse_freq = 1/(freq)#1+(-np.exp(freq)/np.sum(np.exp(freq)))\n",
        "weights=(len(tokens)*reverse_freq/np.sum(reverse_freq))**3\n",
        "#freq is so simlar to a Mass Spec\n",
        "#and this is so simlar to a HPLC or IR?"
      ],
      "metadata": {
        "id": "vxCYQasTYd32"
      },
      "execution_count": 82,
      "outputs": []
    },
    {
      "cell_type": "code",
      "source": [],
      "metadata": {
        "id": "mSyffbRujRzL"
      },
      "execution_count": null,
      "outputs": []
    },
    {
      "cell_type": "code",
      "source": [
        "freq"
      ],
      "metadata": {
        "id": "iuCW1NA5bdl3"
      },
      "execution_count": null,
      "outputs": []
    },
    {
      "cell_type": "code",
      "source": [
        "np.nan_to_num([np.nan], nan=0)"
      ],
      "metadata": {
        "colab": {
          "base_uri": "https://localhost:8080/"
        },
        "id": "6tVIl73-al5e",
        "outputId": "51c5e0d6-fd1b-4fa4-808f-1dfca7c56e59"
      },
      "execution_count": null,
      "outputs": [
        {
          "output_type": "execute_result",
          "data": {
            "text/plain": [
              "array([0.])"
            ]
          },
          "metadata": {},
          "execution_count": 47
        }
      ]
    },
    {
      "cell_type": "code",
      "source": [],
      "metadata": {
        "id": "gmbaaaMBUvVB"
      },
      "execution_count": null,
      "outputs": []
    },
    {
      "cell_type": "code",
      "source": [
        "import os\n",
        "os.system(\"cp drive/MyDrive/80k.zip .\")\n",
        "os.system(\"cp drive/MyDrive/80k.csv .\")\n",
        "os.system(\"unzip 80k.zip\")\n"
      ],
      "metadata": {
        "colab": {
          "base_uri": "https://localhost:8080/"
        },
        "id": "Bmu8KscoUitx",
        "outputId": "95c9803e-7b50-4c73-b7a6-64ff61e106b3"
      },
      "execution_count": null,
      "outputs": [
        {
          "output_type": "execute_result",
          "data": {
            "text/plain": [
              "0"
            ]
          },
          "metadata": {},
          "execution_count": 7
        }
      ]
    },
    {
      "cell_type": "code",
      "source": [
        "import pandas as pd\n",
        "\n",
        "csv = pd.read_csv(\"80k.csv\")\n",
        "\n",
        "\n",
        "def valid_iupac(i):\n",
        "  try:\n",
        "    return (iupac_tokenizer(i)!=None)\n",
        "  except:\n",
        "    return (False)\n",
        "\n",
        "cids = csv[\"cid\"]\n",
        "valid_iupacs = []\n",
        "Ys = {}\n",
        "invalid_cid = []\n",
        "for i in cids.values:\n",
        "  try:\n",
        "    tmp = iupac_tokenizer(csv[csv[\"cid\"] == i][\"iupacname\"].values[0])\n",
        "    if not tmp == None:\n",
        "      Ys[i] = tmp\n",
        "      valid_iupacs.append(i)\n",
        "    else:\n",
        "      invalid_cid.append(i)\n",
        "\n",
        "  except:\n",
        "    invalid_cid.append(i)"
      ],
      "metadata": {
        "id": "Us1fwz1iU03P"
      },
      "execution_count": null,
      "outputs": []
    },
    {
      "cell_type": "code",
      "source": [
        "tokens = {}\n",
        "max_length = 0\n",
        "t = []\n",
        "\n",
        "for i in Ys.keys():\n",
        "  t.extend(Ys[i])\n",
        "\n",
        "for i in t:\n",
        "  try:\n",
        "    tokens[i]+=1\n",
        "  except:\n",
        "    tokens[i] = 0"
      ],
      "metadata": {
        "id": "IyoRIafnWRsD"
      },
      "execution_count": null,
      "outputs": []
    },
    {
      "cell_type": "code",
      "source": [],
      "metadata": {
        "id": "MgeVipoEWkfU"
      },
      "execution_count": null,
      "outputs": []
    },
    {
      "cell_type": "code",
      "source": [],
      "metadata": {
        "colab": {
          "base_uri": "https://localhost:8080/",
          "height": 447
        },
        "id": "XufnF1r-XISv",
        "outputId": "f287a134-6728-4eca-88c4-9a1ee24f3fab"
      },
      "execution_count": null,
      "outputs": [
        {
          "output_type": "execute_result",
          "data": {
            "text/plain": [
              "<BarContainer object of 363 artists>"
            ]
          },
          "metadata": {},
          "execution_count": 20
        },
        {
          "output_type": "display_data",
          "data": {
            "text/plain": [
              "<Figure size 640x480 with 1 Axes>"
            ],
            "image/png": "[encoded data removed]"
          },
          "metadata": {}
        }
      ]
    },
    {
      "cell_type": "code",
      "source": [
        "# class_weight\n",
        "model.compile(optimizer=tf.keras.optimizers.Adam(),\n",
        "          loss=masked_loss,metrics=[masked_acc], class_weight=reverse_freq)"
      ],
      "metadata": {
        "colab": {
          "base_uri": "https://localhost:8080/",
          "height": 363
        },
        "id": "K7_L7WS6WRS6",
        "outputId": "9d7ad6c3-b45d-4fee-8564-1a94903da908"
      },
      "execution_count": null,
      "outputs": [
        {
          "output_type": "error",
          "ename": "TypeError",
          "evalue": "ignored",
          "traceback": [
            "\u001b[0;31m---------------------------------------------------------------------------\u001b[0m",
            "\u001b[0;31mTypeError\u001b[0m                                 Traceback (most recent call last)",
            "\u001b[0;32m<ipython-input-70-e8e1874c5ff4>\u001b[0m in \u001b[0;36m<cell line: 2>\u001b[0;34m()\u001b[0m\n\u001b[1;32m      1\u001b[0m \u001b[0;31m# class_weight\u001b[0m\u001b[0;34m\u001b[0m\u001b[0;34m\u001b[0m\u001b[0m\n\u001b[0;32m----> 2\u001b[0;31m model.compile(optimizer=tf.keras.optimizers.Adam(),\n\u001b[0m\u001b[1;32m      3\u001b[0m           loss=masked_loss,metrics=[masked_acc], class_weight=reverse_freq)\n",
            "\u001b[0;32m/usr/local/lib/python3.10/dist-packages/keras/utils/traceback_utils.py\u001b[0m in \u001b[0;36merror_handler\u001b[0;34m(*args, **kwargs)\u001b[0m\n\u001b[1;32m     68\u001b[0m             \u001b[0;31m# To get the full stack trace, call:\u001b[0m\u001b[0;34m\u001b[0m\u001b[0;34m\u001b[0m\u001b[0m\n\u001b[1;32m     69\u001b[0m             \u001b[0;31m# `tf.debugging.disable_traceback_filtering()`\u001b[0m\u001b[0;34m\u001b[0m\u001b[0;34m\u001b[0m\u001b[0m\n\u001b[0;32m---> 70\u001b[0;31m             \u001b[0;32mraise\u001b[0m \u001b[0me\u001b[0m\u001b[0;34m.\u001b[0m\u001b[0mwith_traceback\u001b[0m\u001b[0;34m(\u001b[0m\u001b[0mfiltered_tb\u001b[0m\u001b[0;34m)\u001b[0m \u001b[0;32mfrom\u001b[0m \u001b[0;32mNone\u001b[0m\u001b[0;34m\u001b[0m\u001b[0;34m\u001b[0m\u001b[0m\n\u001b[0m\u001b[1;32m     71\u001b[0m         \u001b[0;32mfinally\u001b[0m\u001b[0;34m:\u001b[0m\u001b[0;34m\u001b[0m\u001b[0;34m\u001b[0m\u001b[0m\n\u001b[1;32m     72\u001b[0m             \u001b[0;32mdel\u001b[0m \u001b[0mfiltered_tb\u001b[0m\u001b[0;34m\u001b[0m\u001b[0;34m\u001b[0m\u001b[0m\n",
            "\u001b[0;32m/usr/local/lib/python3.10/dist-packages/keras/engine/training.py\u001b[0m in \u001b[0;36m_validate_compile\u001b[0;34m(self, optimizer, metrics, **kwargs)\u001b[0m\n\u001b[1;32m   3595\u001b[0m         \u001b[0minvalid_kwargs\u001b[0m \u001b[0;34m=\u001b[0m \u001b[0mset\u001b[0m\u001b[0;34m(\u001b[0m\u001b[0mkwargs\u001b[0m\u001b[0;34m)\u001b[0m \u001b[0;34m-\u001b[0m \u001b[0;34m{\u001b[0m\u001b[0;34m\"sample_weight_mode\"\u001b[0m\u001b[0;34m}\u001b[0m\u001b[0;34m\u001b[0m\u001b[0;34m\u001b[0m\u001b[0m\n\u001b[1;32m   3596\u001b[0m         \u001b[0;32mif\u001b[0m \u001b[0minvalid_kwargs\u001b[0m\u001b[0;34m:\u001b[0m\u001b[0;34m\u001b[0m\u001b[0;34m\u001b[0m\u001b[0m\n\u001b[0;32m-> 3597\u001b[0;31m             raise TypeError(\n\u001b[0m\u001b[1;32m   3598\u001b[0m                 \u001b[0;34m\"Invalid keyword argument(s) in `compile()`: \"\u001b[0m\u001b[0;34m\u001b[0m\u001b[0;34m\u001b[0m\u001b[0m\n\u001b[1;32m   3599\u001b[0m                 \u001b[0;34mf\"{(invalid_kwargs,)}. Valid keyword arguments include \"\u001b[0m\u001b[0;34m\u001b[0m\u001b[0;34m\u001b[0m\u001b[0m\n",
            "\u001b[0;31mTypeError\u001b[0m: Invalid keyword argument(s) in `compile()`: ({'class_weight'},). Valid keyword arguments include \"cloning\", \"experimental_run_tf_function\", \"distribute\", \"target_tensors\", or \"sample_weight_mode\"."
          ]
        }
      ]
    }
  ]
}