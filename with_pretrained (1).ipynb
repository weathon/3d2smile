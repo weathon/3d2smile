{
  "cells": [
    {
      "cell_type": "markdown",
      "metadata": {
        "id": "z5ITeA6EKkAF"
      },
      "source": [
        "# Libs"
      ]
    },
    {
      "cell_type": "code",
      "execution_count": 1,
      "metadata": {
        "id": "h8yuMz1k_xej"
      },
      "outputs": [],
      "source": [
        "# git clone https://github.com/sergsb/IUPAC2Struct.git\n",
        "# pip install graphviz\n",
        "# pip install torchview\n",
        "# pip install torchinfo\n",
        "# pip install torchviz\n",
        "# !pip3 install pandas\n",
        "# !pip3 install tqdm"
      ]
    },
    {
      "cell_type": "code",
      "execution_count": 2,
      "metadata": {
        "id": "3ApJFGgEHvGr"
      },
      "outputs": [
        {
          "name": "stderr",
          "output_type": "stream",
          "text": [
            "/arc/project/st-dushan20-1/tensorflow-gpu/lib/python3.6/site-packages/tqdm/auto.py:22: TqdmWarning: IProgress not found. Please update jupyter and ipywidgets. See https://ipywidgets.readthedocs.io/en/stable/user_install.html\n",
            "  from .autonotebook import tqdm as notebook_tqdm\n"
          ]
        }
      ],
      "source": [
        "import torch\n",
        "import os\n",
        "import numpy as np\n",
        "import pylab\n",
        "import pandas\n",
        "import sys\n",
        "from PIL import Image"
      ]
    },
    {
      "cell_type": "code",
      "execution_count": 3,
      "metadata": {
        "id": "CPm75AN7KwuT"
      },
      "outputs": [],
      "source": [
        "try:\n",
        "  import google.colab\n",
        "  IN_COLAB = True\n",
        "except:\n",
        "  IN_COLAB = False\n",
        "\n",
        "if IN_COLAB:\n",
        "    HOME_DIR = \"/content\"\n",
        "else:\n",
        "    HOME_DIR = \"/arc/project/st-dushan20-1/rendered\""
      ]
    },
    {
      "cell_type": "code",
      "execution_count": 4,
      "metadata": {
        "id": "9AZq2vcKKp1T"
      },
      "outputs": [],
      "source": [
        "sys.path.append(\"/home/wg25r/with_pretrain/IUPAC2Struct\")"
      ]
    },
    {
      "cell_type": "code",
      "execution_count": 5,
      "metadata": {
        "id": "7zTUvAf2LIvE"
      },
      "outputs": [
        {
          "name": "stderr",
          "output_type": "stream",
          "text": [
            "/arc/project/st-dushan20-1/tensorflow-gpu/lib/python3.6/site-packages/torch/serialization.py:671: SourceChangeWarning: source code of class 'torch.nn.parallel.data_parallel.DataParallel' has changed. you can retrieve the original source code by accessing the object's source attribute or set `torch.nn.Module.dump_patches = True` and use the patch tool to revert the changes.\n",
            "  warnings.warn(msg, SourceChangeWarning)\n",
            "/arc/project/st-dushan20-1/tensorflow-gpu/lib/python3.6/site-packages/torch/serialization.py:671: SourceChangeWarning: source code of class 'transformer.Transformer' has changed. you can retrieve the original source code by accessing the object's source attribute or set `torch.nn.Module.dump_patches = True` and use the patch tool to revert the changes.\n",
            "  warnings.warn(msg, SourceChangeWarning)\n",
            "/arc/project/st-dushan20-1/tensorflow-gpu/lib/python3.6/site-packages/torch/serialization.py:671: SourceChangeWarning: source code of class 'torch.nn.modules.container.ModuleList' has changed. you can retrieve the original source code by accessing the object's source attribute or set `torch.nn.Module.dump_patches = True` and use the patch tool to revert the changes.\n",
            "  warnings.warn(msg, SourceChangeWarning)\n",
            "/arc/project/st-dushan20-1/tensorflow-gpu/lib/python3.6/site-packages/torch/serialization.py:671: SourceChangeWarning: source code of class 'transformer.EncoderLayer' has changed. you can retrieve the original source code by accessing the object's source attribute or set `torch.nn.Module.dump_patches = True` and use the patch tool to revert the changes.\n",
            "  warnings.warn(msg, SourceChangeWarning)\n",
            "/arc/project/st-dushan20-1/tensorflow-gpu/lib/python3.6/site-packages/torch/serialization.py:671: SourceChangeWarning: source code of class 'transformer.MultiHeadAttention' has changed. you can retrieve the original source code by accessing the object's source attribute or set `torch.nn.Module.dump_patches = True` and use the patch tool to revert the changes.\n",
            "  warnings.warn(msg, SourceChangeWarning)\n",
            "/arc/project/st-dushan20-1/tensorflow-gpu/lib/python3.6/site-packages/torch/serialization.py:671: SourceChangeWarning: source code of class 'torch.nn.modules.linear.Linear' has changed. you can retrieve the original source code by accessing the object's source attribute or set `torch.nn.Module.dump_patches = True` and use the patch tool to revert the changes.\n",
            "  warnings.warn(msg, SourceChangeWarning)\n",
            "/arc/project/st-dushan20-1/tensorflow-gpu/lib/python3.6/site-packages/torch/serialization.py:671: SourceChangeWarning: source code of class 'torch.nn.modules.dropout.Dropout' has changed. you can retrieve the original source code by accessing the object's source attribute or set `torch.nn.Module.dump_patches = True` and use the patch tool to revert the changes.\n",
            "  warnings.warn(msg, SourceChangeWarning)\n",
            "/arc/project/st-dushan20-1/tensorflow-gpu/lib/python3.6/site-packages/torch/serialization.py:671: SourceChangeWarning: source code of class 'transformer.MLP' has changed. you can retrieve the original source code by accessing the object's source attribute or set `torch.nn.Module.dump_patches = True` and use the patch tool to revert the changes.\n",
            "  warnings.warn(msg, SourceChangeWarning)\n",
            "/arc/project/st-dushan20-1/tensorflow-gpu/lib/python3.6/site-packages/torch/serialization.py:671: SourceChangeWarning: source code of class 'transformer.Decoder' has changed. you can retrieve the original source code by accessing the object's source attribute or set `torch.nn.Module.dump_patches = True` and use the patch tool to revert the changes.\n",
            "  warnings.warn(msg, SourceChangeWarning)\n",
            "/arc/project/st-dushan20-1/tensorflow-gpu/lib/python3.6/site-packages/torch/serialization.py:671: SourceChangeWarning: source code of class 'transformer.DecoderLayer' has changed. you can retrieve the original source code by accessing the object's source attribute or set `torch.nn.Module.dump_patches = True` and use the patch tool to revert the changes.\n",
            "  warnings.warn(msg, SourceChangeWarning)\n",
            "/arc/project/st-dushan20-1/tensorflow-gpu/lib/python3.6/site-packages/torch/serialization.py:671: SourceChangeWarning: source code of class 'torch.nn.modules.sparse.Embedding' has changed. you can retrieve the original source code by accessing the object's source attribute or set `torch.nn.Module.dump_patches = True` and use the patch tool to revert the changes.\n",
            "  warnings.warn(msg, SourceChangeWarning)\n",
            "/arc/project/st-dushan20-1/tensorflow-gpu/lib/python3.6/site-packages/torch/serialization.py:671: SourceChangeWarning: source code of class 'transformer.PositionalEncoding' has changed. you can retrieve the original source code by accessing the object's source attribute or set `torch.nn.Module.dump_patches = True` and use the patch tool to revert the changes.\n",
            "  warnings.warn(msg, SourceChangeWarning)\n"
          ]
        }
      ],
      "source": [
        "if torch.cuda.is_available():\n",
        "    device = torch.device('cuda:0')\n",
        "else:\n",
        "    device = torch.device('cpu')\n",
        "\n",
        "if IN_COLAB:\n",
        "    os.system('cp drive/MyDrive/WWVSB/iupac2smiles_model.pt .')\n",
        "\n",
        "M = torch.load(f\"iupac2smiles_model.pt\", map_location=device)\n",
        "M.device = device"
      ]
    },
    {
      "cell_type": "code",
      "execution_count": 6,
      "metadata": {
        "colab": {
          "base_uri": "https://localhost:8080/"
        },
        "id": "2YEUiZAALMjD",
        "outputId": "b4375cf8-fd8d-4a1f-bb7c-147ab38eae4f"
      },
      "outputs": [
        {
          "data": {
            "text/plain": [
              "[27, 27, 8, 23, 38, 9, 37, 54, 14, 54, 54, 54, 8, 38, 9, 54, 54, 14]"
            ]
          },
          "execution_count": 6,
          "metadata": {},
          "output_type": "execute_result"
        }
      ],
      "source": [
        "M.tgt_model.encode(\"CC(=O)Nc1ccc(O)cc1\")"
      ]
    },
    {
      "cell_type": "code",
      "execution_count": 7,
      "metadata": {
        "id": "kGBgp-IELV8T"
      },
      "outputs": [],
      "source": [
        "smiles_tokenlizer = M.tgt_model.encode"
      ]
    },
    {
      "cell_type": "markdown",
      "metadata": {
        "id": "M6E20RUMJLFP"
      },
      "source": [
        "# Data Processing"
      ]
    },
    {
      "cell_type": "code",
      "execution_count": 8,
      "metadata": {
        "id": "O1oqSyv1JSBX"
      },
      "outputs": [],
      "source": [
        "# if IN_COLAB:\n",
        "#   if not \"80k\" in \"\".join(os.listdir(\"/content\")):\n",
        "#     os.system(\"cp drive/MyDrive/80k.zip .\")\n",
        "#     os.system(\"cp drive/MyDrive/80k.csv .\")\n",
        "#     os.system(\"unzip 80k.zip\")\n",
        "#     HOME_DIR = \"/content\"\n",
        "# else:\n",
        "#   if not \"80k\" in \"\".join(os.listdir(\"/arc/project/st-dushan20-1/rendered\")):\n",
        "#     os.system(\"wget file.weasoft.com/80k.zip\")\n",
        "#     os.system(\"wget http://file.weasoft.com/80k.csv\")\n",
        "#     os.system(\"unzip 80k.zip\")\n",
        "#     HOME_DIR = \"/arc/project/st-dushan20-1/rendered\"\n"
      ]
    },
    {
      "cell_type": "code",
      "execution_count": 9,
      "metadata": {
        "colab": {
          "base_uri": "https://localhost:8080/"
        },
        "id": "rcmQxVtjJwA1",
        "outputId": "404b4405-3570-4820-ac43-8d55926b5466"
      },
      "outputs": [],
      "source": [
        "import os\n",
        "ids = [i.split(\"_\")[0] for i in os.listdir(\"/arc/project/st-dushan20-1/rendered/rendered\")]\n",
        "\n",
        "# with open(\"ids.txt\", \"w\") as f:\n",
        "#     f.write(\"\\n\".join(list(set(ids))))\n",
        "\n"
      ]
    },
    {
      "cell_type": "code",
      "execution_count": 10,
      "metadata": {},
      "outputs": [
        {
          "data": {
            "text/plain": [
              "Index(['cid', 'cmpdname', 'cmpdsynonym', 'mw', 'mf', 'polararea', 'complexity',\n",
              "       'xlogp', 'heavycnt', 'hbonddonor', 'hbondacc', 'rotbonds', 'inchi',\n",
              "       'isosmiles', 'canonicalsmiles', 'inchikey', 'iupacname', 'exactmass',\n",
              "       'monoisotopicmass', 'charge', 'covalentunitcnt', 'isotopeatomcnt',\n",
              "       'totalatomstereocnt', 'definedatomstereocnt', 'undefinedatomstereocnt',\n",
              "       'totalbondstereocnt', 'definedbondstereocnt', 'undefinedbondstereocnt',\n",
              "       'pclidcnt', 'gpidcnt', 'gpfamilycnt', 'neighbortype', 'meshheadings',\n",
              "       'annothits', 'annothitcnt', 'aids', 'cidcdate', 'sidsrcname', 'depcatg',\n",
              "       'annotation'],\n",
              "      dtype='object')"
            ]
          },
          "execution_count": 10,
          "metadata": {},
          "output_type": "execute_result"
        }
      ],
      "source": [
        "import pandas as pd\n",
        "csv = pd.read_csv(\"/home/wg25r/colab/80k.csv\")\n",
        "cids = csv[\"cid\"]\n",
        "csv.columns"
      ]
    },
    {
      "cell_type": "code",
      "execution_count": 11,
      "metadata": {},
      "outputs": [
        {
          "data": {
            "text/plain": [
              "79368"
            ]
          },
          "execution_count": 11,
          "metadata": {},
          "output_type": "execute_result"
        }
      ],
      "source": [
        "len(cids)"
      ]
    },
    {
      "cell_type": "code",
      "execution_count": 12,
      "metadata": {
        "id": "rcv_YUPfMJup"
      },
      "outputs": [],
      "source": [
        "\n",
        "Ys = {}\n",
        "invalid_cids = []\n",
        "for i in cids.values:\n",
        "    tmp = smiles_tokenlizer(csv[csv[\"cid\"] == i][\"canonicalsmiles\"].values[0])\n",
        "    if not tmp == None:\n",
        "      Ys[i] = tmp\n",
        "    else:\n",
        "      smiles_tokenlizer.append(i)"
      ]
    },
    {
      "cell_type": "code",
      "execution_count": 13,
      "metadata": {
        "id": "EY0Vb-37LmUL"
      },
      "outputs": [],
      "source": [
        "# if len(invalid_cids) == 0:\n",
        "#   print(\"OOHH\")"
      ]
    },
    {
      "cell_type": "code",
      "execution_count": 14,
      "metadata": {
        "id": "18OLQ2quPx4i"
      },
      "outputs": [],
      "source": [
        "example_in = Image.open(f\"{HOME_DIR}/rendered/6912034_0.jpg\")\n",
        "example_out = csv[csv[\"cid\"]==6912034][\"canonicalsmiles\"].values[0]"
      ]
    },
    {
      "cell_type": "code",
      "execution_count": 15,
      "metadata": {
        "colab": {
          "base_uri": "https://localhost:8080/",
          "height": 35
        },
        "id": "rMaoGQcqQE4x",
        "outputId": "0f65d598-3384-47f0-87eb-5b34dd1a7553"
      },
      "outputs": [
        {
          "data": {
            "text/plain": [
              "'CC(=O)C'"
            ]
          },
          "execution_count": 15,
          "metadata": {},
          "output_type": "execute_result"
        }
      ],
      "source": [
        "example_out"
      ]
    },
    {
      "cell_type": "code",
      "execution_count": 16,
      "metadata": {
        "colab": {
          "base_uri": "https://localhost:8080/",
          "height": 35
        },
        "id": "LZMYTdkHL1M7",
        "outputId": "841a56b2-6812-4081-ffba-ddaf70504bdd"
      },
      "outputs": [
        {
          "data": {
            "text/plain": [
              "'CC(=O)C'"
            ]
          },
          "execution_count": 16,
          "metadata": {},
          "output_type": "execute_result"
        }
      ],
      "source": [
        "M.tgt_model.decode(Ys[6912034])"
      ]
    },
    {
      "cell_type": "code",
      "execution_count": 17,
      "metadata": {
        "colab": {
          "base_uri": "https://localhost:8080/",
          "height": 447
        },
        "id": "0qdKCP30J9jV",
        "outputId": "00603314-f8b0-4fc2-dbc1-d1267f788b06"
      },
      "outputs": [
        {
          "data": {
            "text/plain": [
              "[<matplotlib.lines.Line2D at 0x2aaafb4785c0>]"
            ]
          },
          "execution_count": 17,
          "metadata": {},
          "output_type": "execute_result"
        },
        {
          "data": {
            "image/png": "[encoded data removed]",
            "text/plain": [
              "<Figure size 432x288 with 1 Axes>"
            ]
          },
          "metadata": {
            "needs_background": "light"
          },
          "output_type": "display_data"
        }
      ],
      "source": [
        "freq = [1] * 72\n",
        "for i in Ys.keys():\n",
        "  for j in Ys[i]:\n",
        "    freq[j]+=1\n",
        "\n",
        "reverse_freq = 1/np.array(freq)\n",
        "pylab.plot(freq)"
      ]
    },
    {
      "cell_type": "code",
      "execution_count": 18,
      "metadata": {
        "colab": {
          "base_uri": "https://localhost:8080/"
        },
        "id": "afmBgg2OL6tx",
        "outputId": "22ac65cb-4f08-448d-a26b-c6b0d26a0f34"
      },
      "outputs": [
        {
          "data": {
            "text/plain": [
              "(1.0, 9.272954661551446e-05)"
            ]
          },
          "execution_count": 18,
          "metadata": {},
          "output_type": "execute_result"
        }
      ],
      "source": [
        "reverse_freq_ = reverse_freq**0.73\n",
        "scales = np.mean(reverse_freq_)\n",
        "np.mean(reverse_freq_/scales), np.min(reverse_freq_/scales)"
      ]
    },
    {
      "cell_type": "code",
      "execution_count": 19,
      "metadata": {
        "colab": {
          "base_uri": "https://localhost:8080/",
          "height": 447
        },
        "id": "BhotsWcyKcNt",
        "outputId": "47e2c398-32a5-4860-f8e5-0973ba4f4878"
      },
      "outputs": [
        {
          "data": {
            "text/plain": [
              "[<matplotlib.lines.Line2D at 0x2aaafb4f6668>]"
            ]
          },
          "execution_count": 19,
          "metadata": {},
          "output_type": "execute_result"
        },
        {
          "data": {
            "image/png": "[encoded data removed]",
            "text/plain": [
              "<Figure size 432x288 with 1 Axes>"
            ]
          },
          "metadata": {
            "needs_background": "light"
          },
          "output_type": "display_data"
        }
      ],
      "source": [
        "pylab.plot(reverse_freq_/scales)"
      ]
    },
    {
      "cell_type": "code",
      "execution_count": 20,
      "metadata": {
        "id": "kpL7nkOaMgno"
      },
      "outputs": [],
      "source": [
        "weights = torch.tensor(reverse_freq_/scales).to(device)"
      ]
    },
    {
      "cell_type": "markdown",
      "metadata": {
        "id": "3ropUGNpMaWQ"
      },
      "source": [
        "# Model\n"
      ]
    },
    {
      "cell_type": "code",
      "execution_count": 21,
      "metadata": {
        "colab": {
          "base_uri": "https://localhost:8080/",
          "height": 490
        },
        "id": "BAjiWuU_MboG",
        "outputId": "7d523239-c095-4563-83ec-dde42e9dcd86"
      },
      "outputs": [
        {
          "name": "stderr",
          "output_type": "stream",
          "text": [
            "Clipping input data to the valid range for imshow with RGB data ([0..1] for floats or [0..255] for integers).\n"
          ]
        },
        {
          "data": {
            "text/plain": [
              "<matplotlib.image.AxesImage at 0x2aaafb592ef0>"
            ]
          },
          "execution_count": 21,
          "metadata": {},
          "output_type": "execute_result"
        },
        {
          "data": {
            "image/png": "[encoded data removed]",
            "text/plain": [
              "<Figure size 432x288 with 1 Axes>"
            ]
          },
          "metadata": {
            "needs_background": "light"
          },
          "output_type": "display_data"
        }
      ],
      "source": [
        "class ResNetBlock(torch.nn.Module):\n",
        "  def __init__(self, in_channels, out_channels, size, downsampling=True):\n",
        "    super().__init__()\n",
        "    self.Conv2D = torch.nn.Sequential(\n",
        "        torch.nn.Conv2d(in_channels, out_channels, (3,3), stride=2 if downsampling else 1, padding=(3 if size%2==0 else 2) if downsampling else 2),\n",
        "        torch.nn.BatchNorm2d(out_channels),\n",
        "        torch.nn.ReLU(),\n",
        "        torch.nn.Conv2d(out_channels, out_channels, (3,3)),\n",
        "        torch.nn.BatchNorm2d(out_channels),\n",
        "    )\n",
        "    self.project = torch.nn.Conv2d(in_channels, out_channels, (1,1))\n",
        "    self.pooling = torch.nn.AvgPool2d((2,2)) if downsampling else torch.nn.Identity()\n",
        "    self.relu = torch.nn.ReLU()\n",
        "  def forward(self, images):\n",
        "    x = self.Conv2D(images)\n",
        "    images = self.pooling(self.project(images))\n",
        "    return self.relu(x+images)\n",
        "resblock = ResNetBlock(3,12,400, 0)\n",
        "inp_img = torch.permute(torch.tensor(np.expand_dims(example_in, 0).astype(\"float32\")), (0,3,1,2))\n",
        "oup = resblock(inp_img)[:,-3:,:,:]\n",
        "pylab.imshow(torch.permute(oup, (0,2,3,1)).cpu().detach().numpy()[0])"
      ]
    },
    {
      "cell_type": "code",
      "execution_count": 22,
      "metadata": {
        "colab": {
          "base_uri": "https://localhost:8080/"
        },
        "id": "hfox5CWOR8aE",
        "outputId": "3342f885-46b5-47f9-cf48-a28a2bbb2219"
      },
      "outputs": [
        {
          "data": {
            "text/plain": [
              "torch.Size([1, 3, 400, 400])"
            ]
          },
          "execution_count": 22,
          "metadata": {},
          "output_type": "execute_result"
        }
      ],
      "source": [
        "torch.permute(torch.tensor(np.expand_dims(example_in, 0).astype(\"float32\")), (0,3,1,2)).size()"
      ]
    },
    {
      "cell_type": "code",
      "execution_count": 23,
      "metadata": {
        "colab": {
          "base_uri": "https://localhost:8080/"
        },
        "id": "nTG6F8JOYFlT",
        "outputId": "eea61155-9a98-4879-89d9-f48c2b27f8fb"
      },
      "outputs": [
        {
          "data": {
            "text/plain": [
              "torch.Size([1, 64, 160000])"
            ]
          },
          "execution_count": 23,
          "metadata": {},
          "output_type": "execute_result"
        }
      ],
      "source": [
        "t = torch.randn(1,64,400,400)\n",
        "torch.flatten(t)\n",
        "torch.flatten(t, start_dim=2,end_dim=3).shape"
      ]
    },
    {
      "cell_type": "code",
      "execution_count": 24,
      "metadata": {
        "id": "Qye90vJw99vS"
      },
      "outputs": [],
      "source": [
        "def positional_encoding(pos, i):\n",
        "  if i%2==0:\n",
        "    return np.sin(pos/1000**(2*i/512))\n",
        "  else:\n",
        "    return np.cos(pos/1000**(2*i/512))\n"
      ]
    },
    {
      "cell_type": "code",
      "execution_count": 25,
      "metadata": {
        "colab": {
          "base_uri": "https://localhost:8080/",
          "height": 447
        },
        "id": "5sNA74mo-Saq",
        "outputId": "9b1151bb-5c6c-4da3-a2f0-a1b32b26efcf"
      },
      "outputs": [
        {
          "data": {
            "text/plain": [
              "[<matplotlib.lines.Line2D at 0x2aaafd5560f0>]"
            ]
          },
          "execution_count": 25,
          "metadata": {},
          "output_type": "execute_result"
        },
        {
          "data": {
            "image/png": "[encoded data removed]",
            "text/plain": [
              "<Figure size 432x288 with 1 Axes>"
            ]
          },
          "metadata": {
            "needs_background": "light"
          },
          "output_type": "display_data"
        }
      ],
      "source": [
        "tmp = []\n",
        "for i in range(144):\n",
        "  tmp.append(positional_encoding(10, i))\n",
        "pylab.plot(tmp)"
      ]
    },
    {
      "cell_type": "code",
      "execution_count": 26,
      "metadata": {
        "id": "7qfnGU9PWGwn"
      },
      "outputs": [],
      "source": [
        "class ImageEncoder(torch.nn.Module):\n",
        "  def __init__(self, channels_list, heads, dropout, orginal_size):\n",
        "    super().__init__()\n",
        "    self.conv2d = torch.nn.Sequential(\n",
        "        # torch.nn.Conv2d(3, 32, (7, 7), stride=3),\n",
        "        # torch.nn.AvgPool2d((3,3), padding=1)\n",
        "        torch.nn.Conv2d(3, 64, (7, 7), stride=2, padding=1),\n",
        "        torch.nn.MaxPool2d((3, 3), stride=2)\n",
        "    ).to(device)\n",
        "\n",
        "    self.resnet_blocks = []\n",
        "    for i in range(len(channels_list)-1):\n",
        "      self.resnet_blocks.append(ResNetBlock(channels_list[i], channels_list[i], size=66//(2**i)).to(device))\n",
        "      self.resnet_blocks.append(ResNetBlock(channels_list[i], channels_list[i+1], size=66//(2**i), downsampling=0).to(device)) #gangcai self not defined\n",
        "\n",
        "    self.mlp = torch.nn.Sequential(\n",
        "        torch.nn.Linear(512,800),\n",
        "        torch.nn.GELU(),\n",
        "        torch.nn.Dropout(0.2),\n",
        "        torch.nn.Linear(800, 512),\n",
        "        torch.nn.GELU(),\n",
        "    ).to(device)\n",
        "    self.posem = torch.nn.Embedding(144, 512).to(device)\n",
        "    self.mha = torch.nn.MultiheadAttention(channels_list[-1], heads, dropout = 0.1).to(device)\n",
        "    self.norm = torch.nn.BatchNorm1d(144).to(device)\n",
        "\n",
        "  def forward(self, images):\n",
        "    features = self.conv2d(images)\n",
        "    for f in self.resnet_blocks:\n",
        "      features = f(features)\n",
        "    features = torch.flatten(features, start_dim=2, end_dim=3)\n",
        "    features = torch.permute(features, (0, 2, 1))\n",
        "    ran = torch.arange(0, 144)\n",
        "    pos = self.posem(ran.to(device).unsqueeze(0))\n",
        "    features = pos + features\n",
        "    att = self.mha(features, features, features, need_weights=False)[0]\n",
        "    return self.norm(self.mlp(att) + features)\n",
        "\n"
      ]
    },
    {
      "cell_type": "code",
      "execution_count": 27,
      "metadata": {
        "id": "W_yQXETC4Aso"
      },
      "outputs": [],
      "source": [
        "# posem = torch.nn.Embedding(36, 512)\n",
        "# posem(torch.range(0, 36).unsqueeze(1))"
      ]
    },
    {
      "cell_type": "code",
      "execution_count": 28,
      "metadata": {
        "colab": {
          "base_uri": "https://localhost:8080/"
        },
        "id": "mf72lcreXHXc",
        "outputId": "2dc82a67-46dd-448e-95f3-824fdc6d8adc"
      },
      "outputs": [
        {
          "data": {
            "text/plain": [
              "torch.Size([1, 144, 512])"
            ]
          },
          "execution_count": 28,
          "metadata": {},
          "output_type": "execute_result"
        }
      ],
      "source": [
        "NUM_HEADS = 8\n",
        "CHANNELS = [64, 128, 256, 512]\n",
        "DROPOUT = 0.2\n",
        "inp_img = inp_img.to(device)\n",
        "encoder = ImageEncoder(CHANNELS, NUM_HEADS, DROPOUT, 400)\n",
        "encoder(inp_img).shape"
      ]
    },
    {
      "cell_type": "code",
      "execution_count": 29,
      "metadata": {
        "colab": {
          "base_uri": "https://localhost:8080/"
        },
        "id": "mSOW82wLje_j",
        "outputId": "d1c18bee-b11b-4fbb-ef01-be26fa2ed7cd"
      },
      "outputs": [
        {
          "data": {
            "text/plain": [
              "1954624"
            ]
          },
          "execution_count": 29,
          "metadata": {},
          "output_type": "execute_result"
        }
      ],
      "source": [
        "sum(p.numel() for p in encoder.parameters())"
      ]
    },
    {
      "cell_type": "code",
      "execution_count": 30,
      "metadata": {
        "id": "9dJ-B1oNdNTm"
      },
      "outputs": [],
      "source": [
        "# from torchinfo import summary\n",
        "# summary(encoder, (1,3,400,400), depth=10)"
      ]
    },
    {
      "cell_type": "code",
      "execution_count": 31,
      "metadata": {
        "id": "Ozo8Eyvn6hHD"
      },
      "outputs": [],
      "source": [
        "# from torchview import draw_graph"
      ]
    },
    {
      "cell_type": "code",
      "execution_count": 32,
      "metadata": {
        "id": "FWEgEfvK6vv-"
      },
      "outputs": [],
      "source": [
        "# import graphviz\n",
        "# graphviz.set_jupyter_format('png')\n",
        "# encoder.to(device)\n",
        "# model_graph = draw_graph(encoder, input_size=(1, 3, 400, 400), depth=5, device=device)\n",
        "# # model_graph.visual_graph"
      ]
    },
    {
      "cell_type": "markdown",
      "metadata": {
        "id": "t7qYoChlkQip"
      },
      "source": [
        "# Connect with pretrained\n"
      ]
    },
    {
      "cell_type": "code",
      "execution_count": 33,
      "metadata": {
        "id": "etzBYtUnkU2y"
      },
      "outputs": [],
      "source": [
        "def subsequent_mask(tgt_mask):\n",
        "    size = tgt_mask.size(-1)\n",
        "    return tgt_mask.to(torch.uint8) & torch.tril(torch.ones(1,size,size, dtype=torch.uint8)).to(tgt_mask.device)\n",
        "\n",
        "def pad_pack(sequences):\n",
        "    maxlen = max(map(len, sequences))\n",
        "    batch = torch.LongTensor(len(sequences),maxlen).fill_(0)\n",
        "    for i,x in enumerate(sequences):\n",
        "        batch[i,:len(x)] = torch.LongTensor(x)\n",
        "    return batch\n",
        "\n",
        "def find_first_working(x):\n",
        "  for i in x:\n",
        "    if i<=71:\n",
        "      return i\n"
      ]
    },
    {
      "cell_type": "code",
      "execution_count": 34,
      "metadata": {
        "colab": {
          "base_uri": "https://localhost:8080/"
        },
        "id": "PlOwZ8Bck4HJ",
        "outputId": "86868c72-aace-44a6-d278-f711639d9042"
      },
      "outputs": [
        {
          "name": "stderr",
          "output_type": "stream",
          "text": [
            "/arc/project/st-dushan20-1/tensorflow-gpu/lib/python3.6/site-packages/ipykernel_launcher.py:2: UserWarning: To copy construct from a tensor, it is recommended to use sourceTensor.clone().detach() or sourceTensor.clone().detach().requires_grad_(True), rather than torch.tensor(sourceTensor).\n",
            "  \n"
          ]
        },
        {
          "data": {
            "text/plain": [
              "(10, 512)"
            ]
          },
          "execution_count": 34,
          "metadata": {},
          "output_type": "execute_result"
        }
      ],
      "source": [
        "inp = M.src_model.encode(\"N-(4-hydroxyphenyl)acetamide\")\n",
        "src = torch.tensor(pad_pack([inp]), device=(M.device))\n",
        "src_mask = (src != 0).unsqueeze(-2).to(M.device)#.shape\n",
        "latent = M.T.encoder(M.T.src_embedder(src), (src != 0).unsqueeze(-2).to(M.device))\n",
        "l = latent.to(torch.device(\"cpu\"))\n",
        "l.cpu().detach().numpy()[0].shape"
      ]
    },
    {
      "cell_type": "code",
      "execution_count": 35,
      "metadata": {
        "id": "-FIduYubkZu8"
      },
      "outputs": [],
      "source": [
        "padded_tgt = pad_pack([[2]]).to(M.device)\n",
        "empty_start = M.T.tgt_embedder(padded_tgt)"
      ]
    },
    {
      "cell_type": "code",
      "execution_count": 36,
      "metadata": {
        "id": "qW1DXfXOuDkh"
      },
      "outputs": [],
      "source": [
        "inp_img = inp_img.to(device)"
      ]
    },
    {
      "cell_type": "code",
      "execution_count": 37,
      "metadata": {
        "colab": {
          "base_uri": "https://localhost:8080/"
        },
        "id": "9PBJFBlLu1rX",
        "outputId": "dca8a23b-6097-47f7-9b67-3e508133e120"
      },
      "outputs": [
        {
          "data": {
            "text/plain": [
              "False"
            ]
          },
          "execution_count": 37,
          "metadata": {},
          "output_type": "execute_result"
        }
      ],
      "source": [
        "inp_img.is_cuda"
      ]
    },
    {
      "cell_type": "code",
      "execution_count": 38,
      "metadata": {
        "id": "lAYA64o5uHJI"
      },
      "outputs": [],
      "source": [
        "encoder = encoder.to(device)"
      ]
    },
    {
      "cell_type": "code",
      "execution_count": 39,
      "metadata": {
        "id": "Jd2aO18WukCQ"
      },
      "outputs": [],
      "source": [
        "encoder = encoder.to(device)"
      ]
    },
    {
      "cell_type": "code",
      "execution_count": 40,
      "metadata": {
        "colab": {
          "base_uri": "https://localhost:8080/"
        },
        "id": "DTV-JYxsurxX",
        "outputId": "508e936c-fd1f-4dff-c715-5b0b79c81b09"
      },
      "outputs": [
        {
          "data": {
            "text/plain": [
              "False"
            ]
          },
          "execution_count": 40,
          "metadata": {},
          "output_type": "execute_result"
        }
      ],
      "source": [
        "next(M.T.decoder.parameters()).is_cuda"
      ]
    },
    {
      "cell_type": "code",
      "execution_count": 41,
      "metadata": {
        "id": "K4ugwGJBjeL0"
      },
      "outputs": [],
      "source": [
        "latent = encoder(inp_img)\n",
        "src_mask = (torch.zeros(len(latent[0]))).unsqueeze(-2).to(M.device)#.shape\n",
        "out = M.T.decoder(empty_start, latent, src_mask, subsequent_mask((padded_tgt != 0).unsqueeze(-2)))"
      ]
    },
    {
      "cell_type": "code",
      "execution_count": 42,
      "metadata": {
        "colab": {
          "base_uri": "https://localhost:8080/",
          "height": 380
        },
        "id": "TneB6GCGnuUr",
        "outputId": "7d978e5b-4af7-4163-eda8-6933ac3090d3"
      },
      "outputs": [
        {
          "name": "stdout",
          "output_type": "stream",
          "text": [
            "torch.Size([1, 2, 72])\n"
          ]
        },
        {
          "data": {
            "text/plain": [
              "'C#'"
            ]
          },
          "execution_count": 42,
          "metadata": {},
          "output_type": "execute_result"
        }
      ],
      "source": [
        "# Test for teaching forcing\n",
        "# forcing = pad_pack([[2]+M.tgt_model.encode(\"CC(=O)Nc1ccc(O)cc\")]).to(M.device)\n",
        "forcing = pad_pack([[2,0]]).to(device)\n",
        "forcing_start = M.T.tgt_embedder(forcing).to(device)\n",
        "\n",
        "latent = encoder(inp_img)\n",
        "src_mask = torch.ones(144).unsqueeze(-2).to(device)\n",
        "out = M.T.decoder(forcing_start, latent, src_mask, subsequent_mask((forcing != 0).unsqueeze(-2)))\n",
        "# out = M.T.decoder(forcing_start, l, src_mask, subsequent_mask((forcing != 0).unsqueeze(-2)))\n",
        "out = M.T.generator(out)\n",
        "print (out.shape)\n",
        "ans = []\n",
        "for i in range(2):\n",
        "  ans.append(torch.sort(out[0], dim=1,\n",
        "                        descending=True)[1].cpu().detach().numpy()[i][0])\n",
        "M.tgt_model.decode(ans)"
      ]
    },
    {
      "cell_type": "code",
      "execution_count": 43,
      "metadata": {
        "id": "X_bkcC5c4EmG"
      },
      "outputs": [],
      "source": [
        "# https://pytorch.org/tutorials/beginner/transfer_learning_tutorial.html\n",
        "\n",
        "for i in M.T.decoder.parameters():\n",
        "  i.requires_grad = False\n",
        "\n",
        "for i in M.T.generator.parameters():\n",
        "  i.requires_grad = False"
      ]
    },
    {
      "cell_type": "code",
      "execution_count": 44,
      "metadata": {
        "colab": {
          "base_uri": "https://localhost:8080/"
        },
        "id": "WjievIiBFj0d",
        "outputId": "92383f81-932f-4e98-85fe-9a47a44df9ef"
      },
      "outputs": [
        {
          "data": {
            "text/plain": [
              "0"
            ]
          },
          "execution_count": 44,
          "metadata": {},
          "output_type": "execute_result"
        }
      ],
      "source": [
        "sum(p.numel() for p in M.T.decoder.parameters() if p.requires_grad)"
      ]
    },
    {
      "cell_type": "code",
      "execution_count": 45,
      "metadata": {
        "id": "g9--kazs49Lq"
      },
      "outputs": [],
      "source": [
        "class Image2SMILES(torch.nn.Module):\n",
        "  def __init__(self, encoder, embeding, decoder, generator):\n",
        "    super().__init__()\n",
        "    self.encoder = encoder\n",
        "    self.embeding = embeding\n",
        "    self.decoder = decoder\n",
        "    self.generator = generator\n",
        "\n",
        "  def forward (self, image, text_in):\n",
        "    image_feature = self.encoder(image)\n",
        "    paded = pad_pack(text_in).to(device)\n",
        "    embedded = self.embeding(paded)\n",
        "    out = self.decoder(embedded, image_feature,\n",
        "                       torch.ones(144).unsqueeze(-2).to(M.device), #ones?\n",
        "                       subsequent_mask((paded != 0)\n",
        "                       .unsqueeze(-2)))\n",
        "    out = self.generator(out)\n",
        "    return out"
      ]
    },
    {
      "cell_type": "code",
      "execution_count": 46,
      "metadata": {
        "id": "bLLhmAq_AUrV"
      },
      "outputs": [],
      "source": [
        "class SMILESGenerator(torch.nn.Module):\n",
        "  def __init__(self, encoder, embeding, decoder, generator, max_len):\n",
        "    super().__init__()\n",
        "    self.encoder = encoder\n",
        "    self.embeding = embeding\n",
        "    self.decoder = decoder\n",
        "    self.generator = generator\n",
        "    self.max_len = max_len\n",
        "\n",
        "  def forward (self, image, text_in):\n",
        "    image_feature = self.encoder(image)\n",
        "    for i in range(self.max_len):\n",
        "      paded = pad_pack(text_in).to(device)\n",
        "      embedded = self.embeding(paded)\n",
        "      out = self.decoder(embedded, image_feature,\n",
        "                        torch.ones(144).unsqueeze(-2).to(M.device),\n",
        "                        subsequent_mask((paded != 0)\n",
        "                        .unsqueeze(-2)))\n",
        "      out = self.generator(out)\n",
        "      next = torch.sort(out, descending=True)[1][0,0].cpu().detach().numpy()[0] #forgot descending\n",
        "      if next == 3:\n",
        "        break\n",
        "      text_in[0] += [next]\n",
        "      # print(text_in)\n",
        "    return M.tgt_model.decode(text_in[0])\n"
      ]
    },
    {
      "cell_type": "code",
      "execution_count": 47,
      "metadata": {
        "id": "NsErNlKWLIU4"
      },
      "outputs": [],
      "source": [
        "model = Image2SMILES(encoder.to(device),\n",
        "    M.T.tgt_embedder.to(device),\n",
        "             M.T.decoder.to(device), M.T.generator.to(device))"
      ]
    },
    {
      "cell_type": "code",
      "execution_count": 48,
      "metadata": {
        "id": "V_nztT0SA2bF"
      },
      "outputs": [],
      "source": [
        "gen = SMILESGenerator(encoder,\n",
        "    M.T.tgt_embedder,\n",
        "             M.T.decoder, M.T.generator, 10)"
      ]
    },
    {
      "cell_type": "code",
      "execution_count": 49,
      "metadata": {
        "colab": {
          "base_uri": "https://localhost:8080/"
        },
        "id": "aaa6Q7N-EFh0",
        "outputId": "982d7e7c-1630-4bd8-c443-55561c4f7dbd"
      },
      "outputs": [
        {
          "data": {
            "text/plain": [
              "tensor(11)"
            ]
          },
          "execution_count": 49,
          "metadata": {},
          "output_type": "execute_result"
        }
      ],
      "source": [
        "torch.argmax(model(inp_img, [[2, 0]])[0,0])"
      ]
    },
    {
      "cell_type": "code",
      "execution_count": 50,
      "metadata": {
        "colab": {
          "base_uri": "https://localhost:8080/",
          "height": 35
        },
        "id": "AGxLhbxdEaki",
        "outputId": "be0034bf-e158-4df3-9611-a92ba65756fa"
      },
      "outputs": [
        {
          "data": {
            "text/plain": [
              "'C][@]@N/@n'"
            ]
          },
          "execution_count": 50,
          "metadata": {},
          "output_type": "execute_result"
        }
      ],
      "source": [
        "gen(inp_img, [[2]])"
      ]
    },
    {
      "cell_type": "code",
      "execution_count": 51,
      "metadata": {
        "id": "EtMu3ynZDmB7"
      },
      "outputs": [],
      "source": [
        "def softmax(x):\n",
        "  t = np.exp(x)\n",
        "  return t/np.sum(t)"
      ]
    },
    {
      "cell_type": "code",
      "execution_count": 52,
      "metadata": {
        "colab": {
          "base_uri": "https://localhost:8080/",
          "height": 447
        },
        "id": "_HSOkByEAJtH",
        "outputId": "51d246b8-4385-4358-d1b4-7246d90b6f1e"
      },
      "outputs": [
        {
          "data": {
            "text/plain": [
              "[<matplotlib.lines.Line2D at 0x2aaaff8a8d68>]"
            ]
          },
          "execution_count": 52,
          "metadata": {},
          "output_type": "execute_result"
        },
        {
          "data": {
            "image/png": "[encoded data removed]",
            "text/plain": [
              "<Figure size 432x288 with 1 Axes>"
            ]
          },
          "metadata": {
            "needs_background": "light"
          },
          "output_type": "display_data"
        }
      ],
      "source": [
        "pylab.plot(softmax(model(inp_img, [[2, 0]])[0][0].cpu().detach().numpy()))"
      ]
    },
    {
      "cell_type": "code",
      "execution_count": 53,
      "metadata": {
        "colab": {
          "base_uri": "https://localhost:8080/",
          "height": 35
        },
        "id": "J9ZBKvGoDvPy",
        "outputId": "09ea404e-b020-4b7b-c0ed-162ff87c7879"
      },
      "outputs": [
        {
          "data": {
            "text/plain": [
              "'N'"
            ]
          },
          "execution_count": 53,
          "metadata": {},
          "output_type": "execute_result"
        }
      ],
      "source": [
        "M.tgt_model.decode([37])"
      ]
    },
    {
      "cell_type": "code",
      "execution_count": 54,
      "metadata": {
        "colab": {
          "base_uri": "https://localhost:8080/"
        },
        "id": "zUL3_0KTE181",
        "outputId": "a2cc5b1b-e353-4fb0-9a18-2cd994e9d018"
      },
      "outputs": [
        {
          "data": {
            "text/plain": [
              "25262152"
            ]
          },
          "execution_count": 54,
          "metadata": {},
          "output_type": "execute_result"
        }
      ],
      "source": [
        "sum(p.numel() for p in model. parameters() if not p.requires_grad)"
      ]
    },
    {
      "cell_type": "markdown",
      "metadata": {
        "id": "cKzJ8AccE2QM"
      },
      "source": [
        "# Training\n"
      ]
    },
    {
      "cell_type": "code",
      "execution_count": 55,
      "metadata": {},
      "outputs": [],
      "source": [
        "import torch\n",
        "# torch.gather(\n",
        "#     torch.tensor([0.,0.2,0.3,0.4,0.5]), 0, torch.tensor([[1,2,3]], dtype=torch.int64), \n",
        "# # )\n",
        "# w = torch.tensor([0.,0.2,0.3,0.4,0.5])\n",
        "# ind = torch.tensor([[1,2,3],[0,1,2\n",
        "# ]])\n",
        "# w[ind]"
      ]
    },
    {
      "cell_type": "code",
      "execution_count": 56,
      "metadata": {
        "id": "OwmD_bfpGxuH"
      },
      "outputs": [],
      "source": [
        "lf = torch.nn.CrossEntropyLoss(label_smoothing=0.1, reduction=\"none\")\n",
        "def loss_fn(pred, truth):\n",
        "  # jiaosuan xkou shuijiaoshi turanxiangdao wangjile weight\n",
        "  w = weights[truth]\n",
        "  mask = truth != 0\n",
        "  pred = pred.permute(0,2,1) #WHY\n",
        "  truth = torch.nn.functional.one_hot(truth, num_classes=72).type(torch.float32).permute(0,2,1)\n",
        "  l = lf(pred, truth) * w\n",
        "  return torch.sum(mask*l)/torch.sum(mask)"
      ]
    },
    {
      "cell_type": "code",
      "execution_count": 57,
      "metadata": {
        "id": "6cDfMsedBG3I"
      },
      "outputs": [],
      "source": [
        "def saveloss(loss_list):\n",
        "  pylab.scatter(np.arange(len(loss_list)), loss_list)\n",
        "  pylab.plot(np.arange(len(loss_list)), loss_list)\n",
        "  pylab.savefig(\"loss.jpg\")\n",
        "  with open(\"loss.txt\",\"a\") as f:\n",
        "    f.write(\"\\n\".join([str(i) for i in loss_list]))"
      ]
    },
    {
      "cell_type": "code",
      "execution_count": 58,
      "metadata": {
        "colab": {
          "base_uri": "https://localhost:8080/"
        },
        "id": "ecMTsgaoFKV1",
        "outputId": "241059c5-b698-4ac0-eb66-1e93eff8d64a"
      },
      "outputs": [
        {
          "data": {
            "text/plain": [
              "25262152"
            ]
          },
          "execution_count": 58,
          "metadata": {},
          "output_type": "execute_result"
        }
      ],
      "source": [
        "sum(p.numel() for p in model.parameters() if not p.requires_grad)"
      ]
    },
    {
      "cell_type": "code",
      "execution_count": 59,
      "metadata": {
        "colab": {
          "base_uri": "https://localhost:8080/"
        },
        "id": "4UY8eIUtOOtH",
        "outputId": "2661e6f1-2083-4953-ed2b-92cc17647138"
      },
      "outputs": [
        {
          "data": {
            "text/plain": [
              "256"
            ]
          },
          "execution_count": 59,
          "metadata": {},
          "output_type": "execute_result"
        }
      ],
      "source": [
        "import pickle\n",
        "with open(\"Ys.pkl\",\"wb\") as f:\n",
        "  pickle.dump(Ys, f)\n",
        "os.system(\"cp Ys.pkl drive/MyDrive/\")"
      ]
    },
    {
      "cell_type": "code",
      "execution_count": 60,
      "metadata": {
        "colab": {
          "base_uri": "https://localhost:8080/",
          "height": 430
        },
        "id": "LRojMPmiBzNQ",
        "outputId": "75e6987e-d1f7-4248-cd37-d3188a6a6764"
      },
      "outputs": [
        {
          "data": {
            "image/png": "[encoded data removed]",
            "text/plain": [
              "<Figure size 432x288 with 1 Axes>"
            ]
          },
          "metadata": {
            "needs_background": "light"
          },
          "output_type": "display_data"
        }
      ],
      "source": [
        "_ = list(map(lambda x: np.exp(-0.1*x)+np.random.normal()*0.001*x, list(range(100))))\n",
        "saveloss(_)"
      ]
    },
    {
      "cell_type": "code",
      "execution_count": 61,
      "metadata": {
        "colab": {
          "base_uri": "https://localhost:8080/"
        },
        "id": "ZbTaSobFGH_n",
        "outputId": "735f09ce-53d2-4c08-8a1e-52d16c0dc928"
      },
      "outputs": [
        {
          "name": "stdout",
          "output_type": "stream",
          "text": [
            "Started\n"
          ]
        }
      ],
      "source": [
        "\n",
        "BATCH_SIZE = 32\n",
        "files = os.listdir(f\"{HOME_DIR}/rendered/\")\n",
        "import multiprocessing, threading\n",
        "import queue\n",
        "import time\n",
        "# data_reader, trainer = multiprocessing.Pipe()\n",
        "buffer = queue.Queue(maxsize=10) #need maxsize=10, otherwise put will also block\n",
        "start_index = 0\n",
        "\n",
        "def process_single(arg):\n",
        "    _, start_index = arg\n",
        "    index = start_index + _\n",
        "    try:\n",
        "      id = int(files[index].split(\"_\")[0])\n",
        "    except:\n",
        "      return\n",
        "    index = start_index + _\n",
        "    img = np.array(Image.open(f\"{HOME_DIR}/rendered/{files[index]}\"), dtype=\"float32\")\n",
        "    # img = np.array(Image.open(f\"rendered/{files[index]}\").rotate(np.random.uniform(0,360), expand = 1).resize((400,400)), dtype=\"float32\")\n",
        "    # noise = np.random.uniform(size=img.shape)*20\n",
        "    # img += noise\n",
        "    return img, [2] + Ys[id], Ys[id] + [3]\n",
        "    # Xs_img.append(img)\n",
        "    # Xs_text.append([2] + Ys[id])\n",
        "    # y.append(Ys[id] + [3])\n",
        "\n",
        "def getitem(index):\n",
        "  start_index = index * BATCH_SIZE\n",
        "  Xs_img = []\n",
        "  Xs_text = []\n",
        "  y = [] #This is slow, rewrite later\n",
        "\n",
        "  pool = multiprocessing.Pool()\n",
        "  ans = pool.map(process_single, zip(range(BATCH_SIZE), [start_index]*BATCH_SIZE))\n",
        "  pool.close()\n",
        "\n",
        "  Xs_img = [i[0] for i in ans]\n",
        "  Xs_text = [i[1] for i in ans]\n",
        "  y = [i[2] for i in ans]\n",
        "  Xs_img = torch.permute(torch.tensor(np.array(Xs_img)), (0,3,1,2))\n",
        "  buffer.put(([Xs_img, pad_pack(Xs_text)], pad_pack(y)))\n",
        "\n",
        "p = threading.Thread(target=getitem, args=(0,)) #It says threading no process, did i used the wrong li\n",
        "p.start()\n",
        "print(\"Started\")\n",
        "# buffer.get()"
      ]
    },
    {
      "cell_type": "code",
      "execution_count": 62,
      "metadata": {
        "colab": {
          "base_uri": "https://localhost:8080/"
        },
        "id": "-Xx1goV6b9e-",
        "outputId": "0996bac9-7c72-441b-b465-710c91ff5502"
      },
      "outputs": [
        {
          "data": {
            "text/plain": [
              "[1, 1, 1]"
            ]
          },
          "execution_count": 62,
          "metadata": {},
          "output_type": "execute_result"
        }
      ],
      "source": [
        "t = [[1,'a','b'],\n",
        "     [1,'a','b'],\n",
        "     [1,'a','b']]\n",
        "col_1 = [i[0] for i in t] #gpt\n",
        "col_1"
      ]
    },
    {
      "cell_type": "code",
      "execution_count": 63,
      "metadata": {
        "colab": {
          "base_uri": "https://localhost:8080/"
        },
        "id": "8trZbne4bG8o",
        "outputId": "d7d9cdde-1ec7-4805-fd2f-e74b0f820907"
      },
      "outputs": [
        {
          "data": {
            "text/plain": [
              "(1, 0)"
            ]
          },
          "execution_count": 63,
          "metadata": {},
          "output_type": "execute_result"
        }
      ],
      "source": [
        "next(zip([1,2,3],[0,0,0]))"
      ]
    },
    {
      "cell_type": "code",
      "execution_count": 64,
      "metadata": {
        "colab": {
          "base_uri": "https://localhost:8080/"
        },
        "id": "AZoyXQSRZTVR",
        "outputId": "42eec766-587c-4040-eac9-48e68fea9c56"
      },
      "outputs": [
        {
          "data": {
            "text/plain": [
              "[2, 3, 5, 6, 8, 9]"
            ]
          },
          "execution_count": 64,
          "metadata": {},
          "output_type": "execute_result"
        }
      ],
      "source": [
        "# https://superfastpython.com/multiprocessing-pool-for-loop/\n",
        "# naoziyunle def douwnagjiel\n",
        "def task(x):\n",
        "  return x+1 if x%3!=0 else None\n",
        "\n",
        "pool = multiprocessing.Pool()\n",
        "ans = pool.map(task, range(10))\n",
        "pool.close()\n",
        "list(filter(lambda x: not x is None, ans))"
      ]
    },
    {
      "cell_type": "code",
      "execution_count": 65,
      "metadata": {
        "colab": {
          "base_uri": "https://localhost:8080/"
        },
        "id": "17_brFvfXvVk",
        "outputId": "fa0c82f4-32ea-4ab5-ceeb-07f969334019"
      },
      "outputs": [
        {
          "data": {
            "text/plain": [
              "False"
            ]
          },
          "execution_count": 65,
          "metadata": {},
          "output_type": "execute_result"
        }
      ],
      "source": [
        "p = threading.Thread(target=getitem, args=(0,)) #FUCK I KNOW because here is proess touyunchaojieks\n",
        "# p = multiprocessing.Process(target=getitem, args=(0,)) #FUCK I KNOW because here is proess touyunchaojieks\n",
        "p.start()\n",
        "p.join()\n",
        "buffer.empty()"
      ]
    },
    {
      "cell_type": "code",
      "execution_count": 69,
      "metadata": {
        "colab": {
          "base_uri": "https://localhost:8080/",
          "height": 431
        },
        "id": "KrpDDJ2jE3Hs",
        "outputId": "7aff3226-2237-4a4d-867a-d0fd9569b4f9"
      },
      "outputs": [],
      "source": [
        "# https://pytorch.org/tutorials/beginner/introyt/trainingyt.html\n",
        "\n",
        "optimizer = torch.optim.Adam(model.parameters(), lr=0.001)\n",
        "# scheduler = torch.optim.lr_scheduler.ExponentialLR(optimizer, gamma=0.9)\n",
        "scheduler = torch.optim.lr_scheduler.ReduceLROnPlateau(optimizer, factor=0.5)\n",
        "\n",
        "\n",
        "loss_list = []\n",
        "model.to(device)\n",
        "\n",
        "#empty queue\n",
        "while not buffer.empty():\n",
        "  buffer.get()\n",
        "\n",
        "p = threading.Thread(target=getitem, args=(0,))\n",
        "p.start()\n",
        "p.join()\n",
        "\n",
        "for epoch in range(30):\n",
        "  np.random.shuffle(files)\n",
        "  print('EPOCH {}:'.format(epoch + 1))\n",
        "  model.train(True)\n",
        "  # running_loss = 0.\n",
        "  last_loss = 0.\n",
        "  for i in range(len(files)//BATCH_SIZE):\n",
        "    if i != len(files)//BATCH_SIZE - 1:\n",
        "      p = threading.Thread(target=getitem, args=(i+1,))\n",
        "      p.start()\n",
        "\n",
        "    loaded = not buffer.empty()\n",
        "    if not loaded:\n",
        "      print(\"WARNING: reading too slow\")\n",
        "      pass\n",
        "\n",
        "    (image, text_in), text_out = buffer.get(block=True)\n",
        "    # if not loaded:\n",
        "    #   print(\"Loaded\")\n",
        "\n",
        "    image = image.to(device)\n",
        "    text_out = text_out.to(device)\n",
        "    optimizer.zero_grad()\n",
        "    outputs = model(image, text_in)\n",
        "    loss = loss_fn(outputs, text_out)\n",
        "    loss.backward()\n",
        "\n",
        "    optimizer.step()\n",
        "\n",
        "    # running_loss += loss.item()\n",
        "    # if i%3 == 2:\n",
        "    print(f\"Training loss: {loss.item()}\") #first time loss is small because it is dived by 10 where there is only 1\n",
        "    loss_list.append(loss.item())\n",
        "    saveloss(loss_list)\n",
        "\n",
        "    if i%20 == 0:\n",
        "      print(f\"Example Output: {gen(inp_img, [[2]])}\")\n",
        "    if i%30 == 29:\n",
        "      scheduler.step()\n",
        "      print(f\"New learning rate: {optimizer.param_groups[0]['lr']}\")"
      ]
    }
  ],
  "metadata": {
    "accelerator": "GPU",
    "colab": {
      "gpuType": "T4",
      "provenance": []
    },
    "kernelspec": {
      "display_name": "Python 3",
      "name": "python3"
    },
    "language_info": {
      "codemirror_mode": {
        "name": "ipython",
        "version": 3
      },
      "file_extension": ".py",
      "mimetype": "text/x-python",
      "name": "python",
      "nbconvert_exporter": "python",
      "pygments_lexer": "ipython3",
      "version": "3.6.13"
    }
  },
  "nbformat": 4,
  "nbformat_minor": 0
}
