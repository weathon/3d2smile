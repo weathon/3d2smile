{
  "nbformat": 4,
  "nbformat_minor": 0,
  "metadata": {
    "colab": {
      "provenance": [],
      "authorship_tag": "ABX9TyO9f18cxZmRK5QbPvXoKb5m",
      "include_colab_link": true
    },
    "kernelspec": {
      "name": "python3",
      "display_name": "Python 3"
    },
    "language_info": {
      "name": "python"
    }
  },
  "cells": [
    {
      "cell_type": "markdown",
      "metadata": {
        "id": "view-in-github",
        "colab_type": "text"
      },
      "source": [
        "<a href=\"https://colab.research.google.com/github/weathon/3d2smile/blob/main/Assignment_2.ipynb\" target=\"_parent\"><img src=\"https://colab.research.google.com/assets/colab-badge.svg\" alt=\"Open In Colab\"/></a>"
      ]
    },
    {
      "cell_type": "code",
      "execution_count": 1,
      "metadata": {
        "id": "_kUGOMLh_sDe"
      },
      "outputs": [],
      "source": [
        "import pandas as pd\n",
        "import numpy as np"
      ]
    },
    {
      "cell_type": "code",
      "source": [
        "df = pd.read_excel(\"data (2).xlsx\")"
      ],
      "metadata": {
        "id": "kK3fKi2F_34V"
      },
      "execution_count": 7,
      "outputs": []
    },
    {
      "cell_type": "code",
      "source": [
        "treatment_names = df.iloc[2].tolist()[3:]"
      ],
      "metadata": {
        "id": "sugBzv8QA-rY"
      },
      "execution_count": 22,
      "outputs": []
    },
    {
      "cell_type": "code",
      "source": [
        "ans = dict.fromkeys(treatment_names, [])\n",
        "for i in treatment_names:\n",
        "  ans[i].append(i)\n",
        "ans[\"Drip\"]"
      ],
      "metadata": {
        "colab": {
          "base_uri": "https://localhost:8080/"
        },
        "id": "vBrJh-hUCBHM",
        "outputId": "8b5f8a8d-9451-40c6-ae35-9d861ed605bc"
      },
      "execution_count": 59,
      "outputs": [
        {
          "output_type": "execute_result",
          "data": {
            "text/plain": [
              "['Drip',\n",
              " 'Drip',\n",
              " 'Drip',\n",
              " 'Drip',\n",
              " 'Drip',\n",
              " 'Drip',\n",
              " 'Steam',\n",
              " 'Steam',\n",
              " 'Steam',\n",
              " 'Drip',\n",
              " 'Drip',\n",
              " 'Drip',\n",
              " 'Drip',\n",
              " 'Drip',\n",
              " 'Drip',\n",
              " 'Drip',\n",
              " 'Drip',\n",
              " 'Drip',\n",
              " 'Drip',\n",
              " 'Drip',\n",
              " 'Drip',\n",
              " 'Steam',\n",
              " 'Steam',\n",
              " 'Steam',\n",
              " 'Drip',\n",
              " 'Drip',\n",
              " 'Drip',\n",
              " 'Drip',\n",
              " 'Drip',\n",
              " 'Drip',\n",
              " 'Drip',\n",
              " 'Drip',\n",
              " 'Drip',\n",
              " 'Drip',\n",
              " 'Drip',\n",
              " 'Drip',\n",
              " 'Press',\n",
              " 'Press',\n",
              " 'Press',\n",
              " 'Drip',\n",
              " 'Drip',\n",
              " 'Drip',\n",
              " 'Press',\n",
              " 'Press',\n",
              " 'Press',\n",
              " 'Drip',\n",
              " 'Drip',\n",
              " 'Drip',\n",
              " 'Press',\n",
              " 'Press',\n",
              " 'Press',\n",
              " 'Instant',\n",
              " 'Instant',\n",
              " 'Instant',\n",
              " \"Drip'\",\n",
              " \"Drip'\",\n",
              " \"Drip'\",\n",
              " 'Press',\n",
              " 'Press',\n",
              " 'Press',\n",
              " 'Drip',\n",
              " 'Drip',\n",
              " 'Drip',\n",
              " 'Press',\n",
              " 'Press',\n",
              " 'Press',\n",
              " 'Drip',\n",
              " 'Drip',\n",
              " 'Drip',\n",
              " 'Press',\n",
              " 'Press',\n",
              " 'Press',\n",
              " 'Drip',\n",
              " 'Drip',\n",
              " 'Drip',\n",
              " 'Press',\n",
              " 'Press',\n",
              " 'Press',\n",
              " 'Drip',\n",
              " 'Drip',\n",
              " 'Drip',\n",
              " 'Press',\n",
              " 'Press',\n",
              " 'Press']"
            ]
          },
          "metadata": {},
          "execution_count": 59
        }
      ]
    },
    {
      "cell_type": "code",
      "source": [
        "df = pd.read_excel(\"data (2).xlsx\", skiprows=8)"
      ],
      "metadata": {
        "id": "eaYsaa8ADDf-"
      },
      "execution_count": 33,
      "outputs": []
    }
  ]
}