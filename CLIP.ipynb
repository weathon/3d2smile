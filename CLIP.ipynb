{
  "nbformat": 4,
  "nbformat_minor": 0,
  "metadata": {
    "colab": {
      "provenance": [],
      "authorship_tag": "ABX9TyNxQeywxilHSo/MCO9t9QAa",
      "include_colab_link": true
    },
    "kernelspec": {
      "name": "python3",
      "display_name": "Python 3"
    },
    "language_info": {
      "name": "python"
    }
  },
  "cells": [
    {
      "cell_type": "markdown",
      "metadata": {
        "id": "view-in-github",
        "colab_type": "text"
      },
      "source": [
        "<a href=\"https://colab.research.google.com/github/weathon/3d2smile/blob/main/CLIP.ipynb\" target=\"_parent\"><img src=\"https://colab.research.google.com/assets/colab-badge.svg\" alt=\"Open In Colab\"/></a>"
      ]
    },
    {
      "cell_type": "code",
      "execution_count": 2,
      "metadata": {
        "colab": {
          "base_uri": "https://localhost:8080/"
        },
        "id": "mSca7Mhr6jDw",
        "outputId": "c084acfb-9357-43be-b342-bd447fc09425"
      },
      "outputs": [
        {
          "output_type": "stream",
          "name": "stdout",
          "text": [
            "Requirement already satisfied: rdkit in /usr/local/lib/python3.10/dist-packages (2023.9.1)\n",
            "Collecting deepsmiles\n",
            "  Downloading deepsmiles-1.0.1-py2.py3-none-any.whl (12 kB)\n",
            "Requirement already satisfied: numpy in /usr/local/lib/python3.10/dist-packages (from rdkit) (1.23.5)\n",
            "Requirement already satisfied: Pillow in /usr/local/lib/python3.10/dist-packages (from rdkit) (9.4.0)\n",
            "Installing collected packages: deepsmiles\n",
            "Successfully installed deepsmiles-1.0.1\n"
          ]
        }
      ],
      "source": [
        "!pip install rdkit deepsmiles"
      ]
    },
    {
      "cell_type": "code",
      "source": [
        "!pip3 install torchinfo"
      ],
      "metadata": {
        "colab": {
          "base_uri": "https://localhost:8080/"
        },
        "id": "jjAZy009FDAw",
        "outputId": "6dcc6d37-17eb-4ba2-8bb5-9faffbcbc400"
      },
      "execution_count": 8,
      "outputs": [
        {
          "output_type": "stream",
          "name": "stdout",
          "text": [
            "Collecting torchinfo\n",
            "  Downloading torchinfo-1.8.0-py3-none-any.whl (23 kB)\n",
            "Installing collected packages: torchinfo\n",
            "Successfully installed torchinfo-1.8.0\n"
          ]
        }
      ]
    },
    {
      "cell_type": "code",
      "source": [
        "!pip install tqdm boto3 requests regex sentencepiece sacremoses huggingface_hub"
      ],
      "metadata": {
        "id": "whM53DC59lsc"
      },
      "execution_count": null,
      "outputs": []
    },
    {
      "cell_type": "code",
      "source": [
        "!pip install transformers -U"
      ],
      "metadata": {
        "id": "xpjziEIj-RUE"
      },
      "execution_count": null,
      "outputs": []
    },
    {
      "cell_type": "code",
      "source": [
        "!wget http://file.weasoft.com/80k.csv"
      ],
      "metadata": {
        "id": "80SwiXs47kKh"
      },
      "execution_count": null,
      "outputs": []
    },
    {
      "cell_type": "code",
      "source": [
        "import rdkit\n",
        "from rdkit import Chem\n",
        "from rdkit.Chem import Draw\n",
        "import deepsmiles\n",
        "import numpy as np\n",
        "import pylab\n",
        "converter = deepsmiles.Converter(rings=True, branches=True)\n",
        "def deepsmiles_to_img(ds):\n",
        "   img = np.array(Draw.MolToImage(Chem.MolFromSmiles(converter.decode(ds)), size=(400,400)).convert(\"L\", dither=None).convert(\"RGB\"))\n",
        "   img = np.where(img<253, 0, 1) * img\n",
        "   return img\n",
        "\n",
        "def smiles_to_img(smiles):\n",
        "  return deepsmiles_to_img(converter.encode(smiles))"
      ],
      "metadata": {
        "id": "9vZQ-QwH7Cl7"
      },
      "execution_count": 1,
      "outputs": []
    },
    {
      "cell_type": "code",
      "source": [
        "import pandas\n",
        "csv = pandas.read_csv(\"80k.csv\")"
      ],
      "metadata": {
        "id": "gaMfVTeD7paR"
      },
      "execution_count": 2,
      "outputs": []
    },
    {
      "cell_type": "code",
      "source": [
        "# prompt: convert all the data in canonicalsmiles column using converter.encode function and store them in a new array\n",
        "\n",
        "smiles_arr = []\n",
        "for smiles in csv['canonicalsmiles']:\n",
        "  smiles_arr.append(converter.encode(smiles))\n"
      ],
      "metadata": {
        "id": "8Goup-zJ7sn4"
      },
      "execution_count": 3,
      "outputs": []
    },
    {
      "cell_type": "code",
      "source": [
        "import torch\n",
        "import torchvision"
      ],
      "metadata": {
        "id": "lOiE2zhc7-2K"
      },
      "execution_count": 4,
      "outputs": []
    },
    {
      "cell_type": "code",
      "source": [
        "image_encoder = torchvision.models.efficientnet_v2_l(weights=\"DEFAULT\")"
      ],
      "metadata": {
        "id": "ygJXHcB59QId"
      },
      "execution_count": 47,
      "outputs": []
    },
    {
      "cell_type": "code",
      "source": [
        "smiles_encoder = torch.hub.load('huggingface/pytorch-transformers', 'model', 'bert-large-uncased')"
      ],
      "metadata": {
        "colab": {
          "base_uri": "https://localhost:8080/"
        },
        "id": "TTL2J1gH9bYs",
        "outputId": "6e0a9172-7a84-4ea3-e3ce-dfacf7cd872b"
      },
      "execution_count": 10,
      "outputs": [
        {
          "output_type": "stream",
          "name": "stderr",
          "text": [
            "Using cache found in /root/.cache/torch/hub/huggingface_pytorch-transformers_main\n"
          ]
        }
      ]
    },
    {
      "cell_type": "code",
      "source": [
        "chars = list(set(\"\".join(smiles_arr)))"
      ],
      "metadata": {
        "id": "ia8WxeXuDT7B"
      },
      "execution_count": 11,
      "outputs": []
    },
    {
      "cell_type": "code",
      "source": [
        "tokens = dict.fromkeys(chars)\n",
        "for i, char in enumerate(chars):\n",
        "  tokens[char] = i"
      ],
      "metadata": {
        "id": "iVBrXIuoDnls"
      },
      "execution_count": 12,
      "outputs": []
    },
    {
      "cell_type": "code",
      "source": [
        "reversed_mapping = {}\n",
        "for i, char in enumerate(chars):\n",
        "  reversed_mapping[i] = char"
      ],
      "metadata": {
        "id": "jqVtQJ1BD0wc"
      },
      "execution_count": 13,
      "outputs": []
    },
    {
      "cell_type": "code",
      "source": [
        "for i, smiles in enumerate(smiles_arr):\n",
        "  smiles_arr[i] = [len(chars)]+[tokens[char] for char in smiles]"
      ],
      "metadata": {
        "id": "-eRRT795D-RU"
      },
      "execution_count": 14,
      "outputs": []
    },
    {
      "cell_type": "code",
      "source": [
        "image_encoder = image_encoder.features"
      ],
      "metadata": {
        "id": "0HRH727VFGNo"
      },
      "execution_count": null,
      "outputs": []
    },
    {
      "cell_type": "code",
      "source": [
        "image_encoder.classifier = torch.nn.Linear(1280, 1024)"
      ],
      "metadata": {
        "id": "uEjyIYZCHPhs"
      },
      "execution_count": 54,
      "outputs": []
    },
    {
      "cell_type": "code",
      "source": [
        "import torchinfo\n",
        "torchinfo.summary(image_encoder, (1, 3, 224, 224))"
      ],
      "metadata": {
        "id": "K13HidmpFc5E"
      },
      "execution_count": null,
      "outputs": []
    },
    {
      "cell_type": "code",
      "source": [
        "import torchinfo\n",
        "smiles_encoder(torch.tensor([[1,2,3]])).last_hidden_state[:,0,:].flatten()"
      ],
      "metadata": {
        "colab": {
          "base_uri": "https://localhost:8080/"
        },
        "id": "So_Q09TmFYH4",
        "outputId": "8f09c11b-81cc-4c83-8feb-3adfe0ccafec"
      },
      "execution_count": 53,
      "outputs": [
        {
          "output_type": "execute_result",
          "data": {
            "text/plain": [
              "torch.Size([1, 1024])"
            ]
          },
          "metadata": {},
          "execution_count": 53
        }
      ]
    },
    {
      "cell_type": "code",
      "source": [],
      "metadata": {
        "id": "Tai_er_DFB-5"
      },
      "execution_count": null,
      "outputs": []
    },
    {
      "cell_type": "code",
      "source": [
        "CEL = torch.nn.CrossEntropyLoss()\n",
        "class CL(torch.nn.Module):\n",
        "  def __init__(self, image_encoder, smiles_encoder):\n",
        "    super().__init__()\n",
        "    self.image_encoder = image_encoder\n",
        "    self.smiles_encoder = smiles_encoder\n",
        "    self.smiles_proj = torch.nn.Linear(1024, 1024)\n",
        "    # https://discuss.pytorch.org/t/how-could-i-create-a-module-with-learnable-parameters/28115\n",
        "    self.t = torch.nn.Parameter(torch.randn(1))\n",
        "    self.t.requires_grad = True\n",
        "  def forward(self, image, smiles):\n",
        "    image_embedding = self.image_encoder(image)\n",
        "    image_embedding = torch.flatten(image_embedding, start_dim=2, end_dim=3)\n",
        "    smiles_embedding = self.smiles_encoder(smiles).last_hidden_state[:,0,:]\n",
        "    smiles_embedding = self.smiles_proj(smiles_embedding)\n",
        "    n = smiles_embedding.shape()[0]\n",
        "    a = torch.broadcast_to(image_embedding, (n, n, -1))\n",
        "    b = torch.broadcast_to(smiles_embedding, (n, n, -1)).permute(1,0,2)\n",
        "    logits = torch.nn.functional.cosine_similarity(a, b, dim=-1) * torch.exp(self.t)\n",
        "    return logits"
      ],
      "metadata": {
        "id": "dIS65qvSEbtn"
      },
      "execution_count": 95,
      "outputs": []
    },
    {
      "cell_type": "code",
      "source": [
        "reversed_mapping[29] = \"\"\n",
        "reversed_mapping[30] = \"\""
      ],
      "metadata": {
        "id": "I9S-SHBAOhRu"
      },
      "execution_count": 113,
      "outputs": []
    },
    {
      "cell_type": "code",
      "source": [
        "model = CL(image_encoder, smiles_encoder)\n",
        "optimizer = torch.optim.AdamW(model.parameters(), lr=0.0003)\n",
        "\n",
        "scheduler = torch.optim.lr_scheduler.ExponentialLR(optimizer, gamma=0.99987)\n",
        "\n",
        "for EPOCH in range(30):\n",
        "  n = 5\n",
        "  for i in range(0, len(smiles_arr), n):\n",
        "    images_list = []\n",
        "    smiles_list = []\n",
        "    maxlen = 0\n",
        "    for j in range(n):\n",
        "        image = deepsmiles_to_img(\"\".join([reversed_mapping[_] for _ in smiles_arr[i+j]]))\n",
        "        image = torch.tensor(image).permute(2,0,1)\n",
        "        images_list.append(image)\n",
        "        smiles_list.append(smiles_arr[i+j])\n",
        "        maxlen = max(maxlen, len(smiles_arr[i+j]))\n",
        "    for j in range(n):\n",
        "      smiles_list[j] += [30] * (maxlen - len(smiles_list[j]))\n",
        "\n",
        "    images_list = torch.stack(images_list).to(torch.float32)\n",
        "    smiles_list = torch.tensor(smiles_list, dtype=torch.int16)\n",
        "    print(images_list.shape)\n",
        "    print(smiles_list.shape)\n",
        "\n",
        "    optimizer.zero_grad()\n",
        "    logits = model(images_list, smiles_list)\n",
        "\n",
        "    labels = torch.arange(n)\n",
        "    loss_i = CEL(logits, labels)\n",
        "    loss_t = CEL(logits.T, labels)\n",
        "    loss = (loss_i + loss_t)/2\n",
        "    loss.backward()\n",
        "    optimizer.step()"
      ],
      "metadata": {
        "colab": {
          "base_uri": "https://localhost:8080/"
        },
        "id": "GaVeEiiUJr6k",
        "outputId": "4a1af8d6-5929-4d27-e480-bbc452c67790"
      },
      "execution_count": null,
      "outputs": [
        {
          "output_type": "stream",
          "name": "stdout",
          "text": [
            "torch.Size([5, 3, 400, 400])\n",
            "torch.Size([5, 24])\n"
          ]
        }
      ]
    },
    {
      "cell_type": "code",
      "source": [
        "torch.tensor(_).unsqueeze(0).shape"
      ],
      "metadata": {
        "colab": {
          "base_uri": "https://localhost:8080/"
        },
        "id": "fWXs7yMHNYDj",
        "outputId": "f3c93e52-f594-4846-c056-852ab65cfaa8"
      },
      "execution_count": 93,
      "outputs": [
        {
          "output_type": "execute_result",
          "data": {
            "text/plain": [
              "torch.Size([1, 400, 400, 3])"
            ]
          },
          "metadata": {},
          "execution_count": 93
        }
      ]
    }
  ]
}