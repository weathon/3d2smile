{
  "nbformat": 4,
  "nbformat_minor": 0,
  "metadata": {
    "colab": {
      "provenance": [],
      "mount_file_id": "1QyswmFpDOafdCi7qQgarEsNtNefHhs-D",
      "authorship_tag": "ABX9TyO2cyLRI1dqdeg4zyJYoPBN",
      "include_colab_link": true
    },
    "kernelspec": {
      "name": "python3",
      "display_name": "Python 3"
    },
    "language_info": {
      "name": "python"
    }
  },
  "cells": [
    {
      "cell_type": "markdown",
      "metadata": {
        "id": "view-in-github",
        "colab_type": "text"
      },
      "source": [
        "<a href=\"https://colab.research.google.com/github/weathon/3d2smile/blob/main/Untitled84.ipynb\" target=\"_parent\"><img src=\"https://colab.research.google.com/assets/colab-badge.svg\" alt=\"Open In Colab\"/></a>"
      ]
    },
    {
      "cell_type": "code",
      "execution_count": 1,
      "metadata": {
        "id": "jgd4WeOQYMUf"
      },
      "outputs": [],
      "source": [
        "# https://www.tensorflow.org/tutorials/text/image_captioning"
      ]
    },
    {
      "cell_type": "code",
      "source": [
        "import tensorflow as tf\n",
        "import numpy as np\n",
        "from PIL import Image\n",
        "import pylab"
      ],
      "metadata": {
        "id": "mgQYZ2-pYlwz"
      },
      "execution_count": 2,
      "outputs": []
    },
    {
      "cell_type": "code",
      "source": [
        "CHANNELS = [64, 64, 128, 256, 512]\n",
        "RES_NUMBER = 4\n",
        "\n",
        "\n",
        "class ResNetBlock(tf.keras.layers.Layer):\n",
        "  def __init__(self, channel1, channel2, name):\n",
        "    super().__init__(name=name)\n",
        "    self.Conv2D = tf.keras.Sequential([\n",
        "        tf.keras.layers.Conv2D(channel1, (3,3), padding=\"same\", strides = 2),\n",
        "        tf.keras.layers.BatchNormalization(),\n",
        "        tf.keras.layers.ReLU(),\n",
        "        tf.keras.layers.Conv2D(channel2, (3,3), padding=\"same\"),\n",
        "        tf.keras.layers.BatchNormalization()\n",
        "    ])\n",
        "    self.project =  tf.keras.layers.Conv2D(channel2, (1,1), name=\"image_projection\", strides = 2)\n",
        "    self.relu = tf.keras.layers.ReLU()\n",
        "\n",
        "  def call(self, images):\n",
        "    x = self.Conv2D(images)\n",
        "    images = self.project(images)\n",
        "    return self.relu(x+images)\n",
        "\n",
        "class ImageEncoder(tf.keras.Model):\n",
        "  def __init__(self):\n",
        "    super().__init__()\n",
        "    self.conv2D_7 = tf.keras.layers.Conv2D(CHANNELS[0], (7, 7), padding=\"same\", strides = 2)\n",
        "    self.pooling = tf.keras.layers.MaxPooling2D(pool_size=(3,3), strides=2)\n",
        "    self.ResBlocks = []\n",
        "    for i in range(RES_NUMBER):\n",
        "      self.ResBlocks.append(ResNetBlock(CHANNELS[i+1], CHANNELS[i+1]*2, name=f\"resblock_{i}\"))\n",
        "    self.flatten = tf.keras.layers.Reshape((49,1024))\n",
        "    self.attention = tf.keras.layers.Attention()\n",
        "\n",
        "  def call(self, images):\n",
        "    images = self.conv2D_7(images)\n",
        "    images = self.pooling(images)\n",
        "    for block in self.ResBlocks:\n",
        "      images = block(images)\n",
        "    images = self.flatten(images)\n",
        "    return self.attention([images, images, images])\n",
        "\n",
        "  # def model(self):\n",
        "  #     x = tf.keras.layers.Input(shape=(400, 400, 3))\n",
        "  #     return tf.keras.Model(inputs=[x], outputs=self.call(x))\n",
        "  # https://stackoverflow.com/questions/55235212/model-summary-cant-print-output-shape-while-using-subclass-model"
      ],
      "metadata": {
        "id": "sV6crwYoZeM-"
      },
      "execution_count": 93,
      "outputs": []
    },
    {
      "cell_type": "code",
      "source": [
        "print(np.array([\n",
        "        [\n",
        "         [1,2,3] ,[3,4,5]\n",
        "        ],\n",
        "        [\n",
        "         [5,6,8] ,[7,8,50]\n",
        "        ],\n",
        "    ]).shape)\n",
        "tf.keras.layers.Reshape((4,3))(\n",
        "[    [\n",
        "        [[\n",
        "         [1,2,3] ,[3,4,5]\n",
        "        ]],\n",
        "        [[\n",
        "         [5,6,8] ,[7,8,50]\n",
        "        ]],\n",
        "    ]]\n",
        ")\n"
      ],
      "metadata": {
        "id": "3iFDbuRjNHOQ"
      },
      "execution_count": null,
      "outputs": []
    },
    {
      "cell_type": "code",
      "source": [
        "encoder = ImageEncoder()\n",
        "input = tf.keras.layers.Input(shape=(400, 400, 3))\n",
        "model =  tf.keras.Model(inputs=[input], outputs=encoder.call(input))\n",
        "model.summary(expand_nested=1)\n",
        "tf.keras.utils.plot_model(model, expand_nested=1)"
      ],
      "metadata": {
        "id": "wPhtBsPWJ3m9"
      },
      "execution_count": null,
      "outputs": []
    },
    {
      "cell_type": "code",
      "source": [
        "block = ResNetBlock(8, 8, name=\"block9\")\n",
        "input = tf.keras.layers.Input(shape=(400, 400, 3))\n",
        "model =  tf.keras.Model(inputs=[input], outputs=block.call(input))\n",
        "model.summary(expand_nested=1)\n",
        "tf.keras.utils.plot_model(model, expand_nested=1)"
      ],
      "metadata": {
        "id": "rKYpiuJAOTsE"
      },
      "execution_count": null,
      "outputs": []
    }
  ]
}