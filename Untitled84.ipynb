{
  "nbformat": 4,
  "nbformat_minor": 0,
  "metadata": {
    "colab": {
      "provenance": [],
      "mount_file_id": "1QyswmFpDOafdCi7qQgarEsNtNefHhs-D",
      "authorship_tag": "ABX9TyMRkS7UOPqT2s1eYONJxkaZ",
      "include_colab_link": true
    },
    "kernelspec": {
      "name": "python3",
      "display_name": "Python 3"
    },
    "language_info": {
      "name": "python"
    }
  },
  "cells": [
    {
      "cell_type": "markdown",
      "metadata": {
        "id": "view-in-github",
        "colab_type": "text"
      },
      "source": [
        "<a href=\"https://colab.research.google.com/github/weathon/3d2smile/blob/main/Untitled84.ipynb\" target=\"_parent\"><img src=\"https://colab.research.google.com/assets/colab-badge.svg\" alt=\"Open In Colab\"/></a>"
      ]
    },
    {
      "cell_type": "code",
      "execution_count": null,
      "metadata": {
        "id": "jgd4WeOQYMUf"
      },
      "outputs": [],
      "source": [
        "# https://www.tensorflow.org/tutorials/text/image_captioning"
      ]
    },
    {
      "cell_type": "code",
      "source": [
        "import tensorflow as tf\n",
        "import numpy as np\n",
        "from PIL import Image\n",
        "import pylab"
      ],
      "metadata": {
        "id": "mgQYZ2-pYlwz"
      },
      "execution_count": null,
      "outputs": []
    },
    {
      "cell_type": "code",
      "source": [
        "CHANNELS = [64, 64, 128, 256, 512]\n",
        "RES_NUMBER = 4\n",
        "LSTM_UNITS = 1024\n",
        "EMBEDING_DIM = 128\n",
        "HEADS = 8"
      ],
      "metadata": {
        "id": "n83-IihPSwkW"
      },
      "execution_count": 105,
      "outputs": []
    },
    {
      "cell_type": "code",
      "source": [
        "class ResNetBlock(tf.keras.layers.Layer):\n",
        "  def __init__(self, channel1, channel2, name):\n",
        "    super().__init__(name=name)\n",
        "    self.Conv2D = tf.keras.Sequential([\n",
        "        tf.keras.layers.Conv2D(channel1, (3,3), padding=\"same\", strides = 2),\n",
        "        tf.keras.layers.BatchNormalization(),\n",
        "        tf.keras.layers.ReLU(),\n",
        "        tf.keras.layers.Conv2D(channel2, (3,3), padding=\"same\"),\n",
        "        tf.keras.layers.BatchNormalization()\n",
        "    ])\n",
        "    self.project =  tf.keras.layers.Conv2D(channel2, (1,1), name=\"image_projection\", strides = 2)\n",
        "    self.relu = tf.keras.layers.ReLU()\n",
        "\n",
        "  def call(self, images):\n",
        "    x = self.Conv2D(images)\n",
        "    images = self.project(images)\n",
        "    return self.relu(x+images)\n",
        "\n",
        "class ImageEncoder(tf.keras.layers.Layer):\n",
        "  def __init__(self):\n",
        "    super().__init__()\n",
        "    self.conv2D_7 = tf.keras.layers.Conv2D(CHANNELS[0], (7, 7), padding=\"same\", strides = 2)\n",
        "    self.pooling = tf.keras.layers.MaxPooling2D(pool_size=(3,3), strides=2)\n",
        "    self.ResBlocks = []\n",
        "    for i in range(RES_NUMBER):\n",
        "      self.ResBlocks.append(ResNetBlock(CHANNELS[i+1], CHANNELS[i+1]*2, name=f\"resblock_{i}\"))\n",
        "    self.flatten = tf.keras.layers.Reshape((49,1024))\n",
        "    self.attention = tf.keras.layers.Attention()\n",
        "\n",
        "  def call(self, images):\n",
        "    images = self.conv2D_7(images)\n",
        "    images = self.pooling(images)\n",
        "    for block in self.ResBlocks:\n",
        "      images = block(images)\n",
        "    images = self.flatten(images)\n",
        "    return self.attention([images, images, images])\n",
        "\n",
        "  # def model(self):\n",
        "  #     x = tf.keras.layers.Input(shape=(400, 400, 3))\n",
        "  #     return tf.keras.Model(inputs=[x], outputs=self.call(x))\n",
        "  # https://stackoverflow.com/questions/55235212/model-summary-cant-print-output-shape-while-using-subclass-model"
      ],
      "metadata": {
        "id": "sV6crwYoZeM-"
      },
      "execution_count": 99,
      "outputs": []
    },
    {
      "cell_type": "code",
      "source": [
        "class RNNEncoding(tf.keras.layers.Layer):\n",
        "  def __init__(self, num_token, max_length, name=\"\"):\n",
        "    if name == \"\":\n",
        "      super().__init__()\n",
        "    else:\n",
        "      super().__init__(name=name)\n",
        "    self.num_token, self.max_length = num_token, max_length\n",
        "    self.Embeding =  tf.keras.layers.Embedding(num_token, EMBEDING_DIM, input_length=max_length+1)\n",
        "    self.LSTM1 =  tf.keras.layers.LSTM(LSTM_UNITS, return_sequences=1)\n",
        "    self.LSTM2 =  tf.keras.layers.LSTM(LSTM_UNITS, return_sequences=1)\n",
        "\n",
        "  def call(self, x):\n",
        "    return self.LSTM1(self.LSTM2(self.Embeding(x)))\n",
        "\n",
        "class CrossAttention(tf.keras.layers.Layer):\n",
        "  def __init__(self, num_token):\n",
        "    super().__init__()\n",
        "\n",
        "    self.MultiHeadAttention = tf.keras.layers.MultiHeadAttention(HEADS, 1024, dropout=0.1)\n",
        "    self.MLP = tf.keras.Sequential(\n",
        "        [tf.keras.layers.Dense(num_token, activation=\"relu\"),\n",
        "        tf.keras.layers.Dense(num_token, activation=\"relu\"),\n",
        "        tf.keras.layers.Dense(num_token, activation=\"softmax\")])\n",
        "\n",
        "  def call(self, image_features, texts):\n",
        "    return self.MLP(self.MultiHeadAttention(value=image_features, key=image_features, query=texts))\n",
        "\n",
        "class Captioner(tf.keras.Model):\n",
        "  def __init__(self, num_token, max_length):\n",
        "    super().__init__()\n",
        "\n",
        "\n"
      ],
      "metadata": {
        "id": "tczJDrZZSC2S"
      },
      "execution_count": 114,
      "outputs": []
    },
    {
      "cell_type": "code",
      "source": [],
      "metadata": {
        "id": "DXDHD55yZTDC"
      },
      "execution_count": null,
      "outputs": []
    },
    {
      "cell_type": "code",
      "source": [
        "encoder = CrossAttention(100)\n",
        "input1 = tf.keras.layers.Input(shape=(79, 1024))\n",
        "input2 = tf.keras.layers.Input(shape=(80, 1024))\n",
        "model =  tf.keras.Model(inputs=[input1, input2], outputs=encoder.call(input1, input2))\n",
        "model.summary(expand_nested=1)\n",
        "tf.keras.utils.plot_model(model, expand_nested=1)"
      ],
      "metadata": {
        "id": "wPhtBsPWJ3m9",
        "colab": {
          "base_uri": "https://localhost:8080/",
          "height": 1000
        },
        "outputId": "ce71629b-ad6b-4b10-9840-a95569570c4f"
      },
      "execution_count": 122,
      "outputs": [
        {
          "output_type": "stream",
          "name": "stdout",
          "text": [
            "Model: \"model_15\"\n",
            "__________________________________________________________________________________________________\n",
            " Layer (type)                   Output Shape         Param #     Connected to                     \n",
            "==================================================================================================\n",
            " input_27 (InputLayer)          [(None, 80, 1024)]   0           []                               \n",
            "                                                                                                  \n",
            " input_26 (InputLayer)          [(None, 79, 1024)]   0           []                               \n",
            "                                                                                                  \n",
            " multi_head_attention_8 (MultiH  (None, 80, 1024)    33580032    ['input_27[0][0]',               \n",
            " eadAttention)                                                    'input_26[0][0]',               \n",
            "                                                                  'input_26[0][0]']               \n",
            "                                                                                                  \n",
            " sequential_133 (Sequential)    (None, 80, 100)      122700      ['multi_head_attention_8[0][0]'] \n",
            "|¯¯¯¯¯¯¯¯¯¯¯¯¯¯¯¯¯¯¯¯¯¯¯¯¯¯¯¯¯¯¯¯¯¯¯¯¯¯¯¯¯¯¯¯¯¯¯¯¯¯¯¯¯¯¯¯¯¯¯¯¯¯¯¯¯¯¯¯¯¯¯¯¯¯¯¯¯¯¯¯¯¯¯¯¯¯¯¯¯¯¯¯¯¯¯¯|\n",
            "| dense_15 (Dense)             (None, 80, 100)      102500      []                               |\n",
            "|                                                                                                |\n",
            "| dense_16 (Dense)             (None, 80, 100)      10100       []                               |\n",
            "|                                                                                                |\n",
            "| dense_17 (Dense)             (None, 80, 100)      10100       []                               |\n",
            "¯¯¯¯¯¯¯¯¯¯¯¯¯¯¯¯¯¯¯¯¯¯¯¯¯¯¯¯¯¯¯¯¯¯¯¯¯¯¯¯¯¯¯¯¯¯¯¯¯¯¯¯¯¯¯¯¯¯¯¯¯¯¯¯¯¯¯¯¯¯¯¯¯¯¯¯¯¯¯¯¯¯¯¯¯¯¯¯¯¯¯¯¯¯¯¯¯¯\n",
            "==================================================================================================\n",
            "Total params: 33,702,732\n",
            "Trainable params: 33,702,732\n",
            "Non-trainable params: 0\n",
            "__________________________________________________________________________________________________\n"
          ]
        },
        {
          "output_type": "execute_result",
          "data": {
            "image/png": "[encoded data removed]",
            "text/plain": [
              "<IPython.core.display.Image object>"
            ]
          },
          "metadata": {},
          "execution_count": 122
        }
      ]
    }
  ]
}