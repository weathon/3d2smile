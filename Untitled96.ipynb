{
  "cells": [
    {
      "cell_type": "markdown",
      "metadata": {
        "id": "view-in-github",
        "colab_type": "text"
      },
      "source": [
        "<a href=\"https://colab.research.google.com/github/weathon/3d2smile/blob/main/Untitled96.ipynb\" target=\"_parent\"><img src=\"https://colab.research.google.com/assets/colab-badge.svg\" alt=\"Open In Colab\"/></a>"
      ]
    },
    {
      "cell_type": "code",
      "execution_count": 1,
      "metadata": {
        "colab": {
          "base_uri": "https://localhost:8080/"
        },
        "id": "QzGADGuJBqYI",
        "outputId": "2e9a0175-7e26-46c9-b1a0-568b58f8f448"
      },
      "outputs": [
        {
          "output_type": "stream",
          "name": "stdout",
          "text": [
            "Collecting torchinfo\n",
            "  Downloading torchinfo-1.8.0-py3-none-any.whl (23 kB)\n",
            "Installing collected packages: torchinfo\n",
            "Successfully installed torchinfo-1.8.0\n"
          ]
        }
      ],
      "source": [
        "!pip install torchinfo\n",
        "import torch, torchinfo"
      ]
    },
    {
      "cell_type": "code",
      "execution_count": 2,
      "metadata": {
        "colab": {
          "base_uri": "https://localhost:8080/"
        },
        "id": "RKVi1UA8DOCR",
        "outputId": "e8a4c452-eb38-48c9-e31d-8578b47bd30a"
      },
      "outputs": [
        {
          "output_type": "stream",
          "name": "stdout",
          "text": [
            "--2023-08-05 05:17:12--  https://zenodo.org/record/7624994/files/models.zip?download=1\n",
            "Resolving zenodo.org (zenodo.org)... 188.185.124.72\n",
            "Connecting to zenodo.org (zenodo.org)|188.185.124.72|:443... connected.\n",
            "HTTP request sent, awaiting response... 200 OK\n",
            "Length: 424795077 (405M) [application/octet-stream]\n",
            "Saving to: ‘models.zip?download=1’\n",
            "\n",
            "models.zip?download 100%[===================>] 405.12M  23.7MB/s    in 27s     \n",
            "\n",
            "2023-08-05 05:17:41 (14.9 MB/s) - ‘models.zip?download=1’ saved [424795077/424795077]\n",
            "\n"
          ]
        }
      ],
      "source": [
        "!wget https://zenodo.org/record/7624994/files/models.zip?download=1"
      ]
    },
    {
      "cell_type": "code",
      "execution_count": 3,
      "metadata": {
        "colab": {
          "base_uri": "https://localhost:8080/"
        },
        "id": "FrowPebsUkus",
        "outputId": "d5c101d2-b84a-4942-aa03-4e0ca8339dc3"
      },
      "outputs": [
        {
          "output_type": "stream",
          "name": "stdout",
          "text": [
            "Archive:  models.zip?download=1\n",
            "   creating: DECIMER_model/\n",
            "  inflating: DECIMER_model/.DS_Store  \n",
            "  inflating: __MACOSX/DECIMER_model/._.DS_Store  \n",
            "   creating: DECIMER_model/variables/\n",
            "  inflating: DECIMER_model/saved_model.pb  \n",
            "   creating: DECIMER_model/assets/\n",
            "  inflating: DECIMER_model/variables/variables.data-00000-of-00001  \n",
            "  inflating: DECIMER_model/variables/variables.index  \n",
            "  inflating: DECIMER_model/assets/.DS_Store  \n",
            "  inflating: __MACOSX/DECIMER_model/assets/._.DS_Store  \n",
            "  inflating: DECIMER_model/assets/max_length.pkl  \n",
            "  inflating: DECIMER_model/assets/tokenizer_SMILES.pkl  \n"
          ]
        }
      ],
      "source": [
        "!unzip models.zip\\?download\\=1"
      ]
    },
    {
      "cell_type": "code",
      "source": [
        "!git clone https://github.com/Kohulan/DECIMER-Image_Transformer.git"
      ],
      "metadata": {
        "colab": {
          "base_uri": "https://localhost:8080/"
        },
        "id": "D3OKQUvaIKJ-",
        "outputId": "0d495e34-e145-4c6a-832f-e8fd8b0d17cb"
      },
      "execution_count": 4,
      "outputs": [
        {
          "output_type": "stream",
          "name": "stdout",
          "text": [
            "Cloning into 'DECIMER-Image_Transformer'...\n",
            "remote: Enumerating objects: 1397, done.\u001b[K\n",
            "remote: Counting objects: 100% (442/442), done.\u001b[K\n",
            "remote: Compressing objects: 100% (238/238), done.\u001b[K\n",
            "remote: Total 1397 (delta 266), reused 331 (delta 194), pack-reused 955\u001b[K\n",
            "Receiving objects: 100% (1397/1397), 25.04 MiB | 13.52 MiB/s, done.\n",
            "Resolving deltas: 100% (763/763), done.\n"
          ]
        }
      ]
    },
    {
      "cell_type": "code",
      "source": [
        "!pip install pystow"
      ],
      "metadata": {
        "colab": {
          "base_uri": "https://localhost:8080/"
        },
        "id": "5WQFkDA_Iv7u",
        "outputId": "e6d86e7c-a94e-4386-955d-ce6e8037d875"
      },
      "execution_count": 7,
      "outputs": [
        {
          "output_type": "stream",
          "name": "stdout",
          "text": [
            "Collecting pystow\n",
            "  Downloading pystow-0.5.0-py3-none-any.whl (37 kB)\n",
            "Requirement already satisfied: click in /usr/local/lib/python3.10/dist-packages (from pystow) (8.1.6)\n",
            "Requirement already satisfied: requests in /usr/local/lib/python3.10/dist-packages (from pystow) (2.27.1)\n",
            "Requirement already satisfied: tqdm in /usr/local/lib/python3.10/dist-packages (from pystow) (4.65.0)\n",
            "Requirement already satisfied: urllib3<1.27,>=1.21.1 in /usr/local/lib/python3.10/dist-packages (from requests->pystow) (1.26.16)\n",
            "Requirement already satisfied: certifi>=2017.4.17 in /usr/local/lib/python3.10/dist-packages (from requests->pystow) (2023.7.22)\n",
            "Requirement already satisfied: charset-normalizer~=2.0.0 in /usr/local/lib/python3.10/dist-packages (from requests->pystow) (2.0.12)\n",
            "Requirement already satisfied: idna<4,>=2.5 in /usr/local/lib/python3.10/dist-packages (from requests->pystow) (3.4)\n",
            "Installing collected packages: pystow\n",
            "Successfully installed pystow-0.5.0\n"
          ]
        }
      ]
    },
    {
      "cell_type": "code",
      "source": [
        "!pip install efficientnet"
      ],
      "metadata": {
        "colab": {
          "base_uri": "https://localhost:8080/"
        },
        "id": "GKx26RQiIz1F",
        "outputId": "0376fa91-981f-422a-fa7c-47c2e3889ad4"
      },
      "execution_count": 9,
      "outputs": [
        {
          "output_type": "stream",
          "name": "stdout",
          "text": [
            "Collecting efficientnet\n",
            "  Downloading efficientnet-1.1.1-py3-none-any.whl (18 kB)\n",
            "Collecting keras-applications<=1.0.8,>=1.0.7 (from efficientnet)\n",
            "  Downloading Keras_Applications-1.0.8-py3-none-any.whl (50 kB)\n",
            "\u001b[2K     \u001b[90m━━━━━━━━━━━━━━━━━━━━━━━━━━━━━━━━━━━━━━━━\u001b[0m \u001b[32m50.7/50.7 kB\u001b[0m \u001b[31m2.3 MB/s\u001b[0m eta \u001b[36m0:00:00\u001b[0m\n",
            "\u001b[?25hRequirement already satisfied: scikit-image in /usr/local/lib/python3.10/dist-packages (from efficientnet) (0.19.3)\n",
            "Requirement already satisfied: numpy>=1.9.1 in /usr/local/lib/python3.10/dist-packages (from keras-applications<=1.0.8,>=1.0.7->efficientnet) (1.22.4)\n",
            "Requirement already satisfied: h5py in /usr/local/lib/python3.10/dist-packages (from keras-applications<=1.0.8,>=1.0.7->efficientnet) (3.8.0)\n",
            "Requirement already satisfied: scipy>=1.4.1 in /usr/local/lib/python3.10/dist-packages (from scikit-image->efficientnet) (1.10.1)\n",
            "Requirement already satisfied: networkx>=2.2 in /usr/local/lib/python3.10/dist-packages (from scikit-image->efficientnet) (3.1)\n",
            "Requirement already satisfied: pillow!=7.1.0,!=7.1.1,!=8.3.0,>=6.1.0 in /usr/local/lib/python3.10/dist-packages (from scikit-image->efficientnet) (9.4.0)\n",
            "Requirement already satisfied: imageio>=2.4.1 in /usr/local/lib/python3.10/dist-packages (from scikit-image->efficientnet) (2.25.1)\n",
            "Requirement already satisfied: tifffile>=2019.7.26 in /usr/local/lib/python3.10/dist-packages (from scikit-image->efficientnet) (2023.7.18)\n",
            "Requirement already satisfied: PyWavelets>=1.1.1 in /usr/local/lib/python3.10/dist-packages (from scikit-image->efficientnet) (1.4.1)\n",
            "Requirement already satisfied: packaging>=20.0 in /usr/local/lib/python3.10/dist-packages (from scikit-image->efficientnet) (23.1)\n",
            "Installing collected packages: keras-applications, efficientnet\n",
            "Successfully installed efficientnet-1.1.1 keras-applications-1.0.8\n"
          ]
        }
      ]
    },
    {
      "cell_type": "code",
      "source": [
        "!pip install tensorflow_addons"
      ],
      "metadata": {
        "colab": {
          "base_uri": "https://localhost:8080/"
        },
        "id": "-Lsk0IKhI9WW",
        "outputId": "5b96156f-323b-436f-a079-6148873012cf"
      },
      "execution_count": 12,
      "outputs": [
        {
          "output_type": "stream",
          "name": "stdout",
          "text": [
            "Collecting tensorflow_addons\n",
            "  Downloading tensorflow_addons-0.21.0-cp310-cp310-manylinux_2_17_x86_64.manylinux2014_x86_64.whl (612 kB)\n",
            "\u001b[2K     \u001b[90m━━━━━━━━━━━━━━━━━━━━━━━━━━━━━━━━━━━━━━━\u001b[0m \u001b[32m612.1/612.1 kB\u001b[0m \u001b[31m6.3 MB/s\u001b[0m eta \u001b[36m0:00:00\u001b[0m\n",
            "\u001b[?25hRequirement already satisfied: packaging in /usr/local/lib/python3.10/dist-packages (from tensorflow_addons) (23.1)\n",
            "Collecting typeguard<3.0.0,>=2.7 (from tensorflow_addons)\n",
            "  Downloading typeguard-2.13.3-py3-none-any.whl (17 kB)\n",
            "Installing collected packages: typeguard, tensorflow_addons\n",
            "Successfully installed tensorflow_addons-0.21.0 typeguard-2.13.3\n"
          ]
        }
      ]
    },
    {
      "cell_type": "code",
      "source": [
        "!pip install pillow_heif"
      ],
      "metadata": {
        "colab": {
          "base_uri": "https://localhost:8080/"
        },
        "id": "XYQklMu8JBii",
        "outputId": "f0d00b12-9f6b-4a7c-a3aa-4e2ae2597fea"
      },
      "execution_count": 14,
      "outputs": [
        {
          "output_type": "stream",
          "name": "stdout",
          "text": [
            "Collecting pillow_heif\n",
            "  Downloading pillow_heif-0.12.0-cp310-cp310-manylinux_2_17_x86_64.manylinux2014_x86_64.whl (7.4 MB)\n",
            "\u001b[2K     \u001b[90m━━━━━━━━━━━━━━━━━━━━━━━━━━━━━━━━━━━━━━━━\u001b[0m \u001b[32m7.4/7.4 MB\u001b[0m \u001b[31m15.0 MB/s\u001b[0m eta \u001b[36m0:00:00\u001b[0m\n",
            "\u001b[?25hRequirement already satisfied: pillow>=8.4.0 in /usr/local/lib/python3.10/dist-packages (from pillow_heif) (9.4.0)\n",
            "Installing collected packages: pillow_heif\n",
            "Successfully installed pillow_heif-0.12.0\n"
          ]
        }
      ]
    },
    {
      "cell_type": "code",
      "source": [
        "!wget https://zenodo.org/record/7624994/files/DECIMER_512_checkpoints.zip?download=1"
      ],
      "metadata": {
        "colab": {
          "base_uri": "https://localhost:8080/"
        },
        "id": "4NpYzH_sObE5",
        "outputId": "6cc2c97a-61ea-440d-aa4a-c11e0c6a1ba7"
      },
      "execution_count": 33,
      "outputs": [
        {
          "output_type": "stream",
          "name": "stdout",
          "text": [
            "--2023-08-05 05:44:25--  https://zenodo.org/record/7624994/files/DECIMER_512_checkpoints.zip?download=1\n",
            "Resolving zenodo.org (zenodo.org)... 188.185.124.72\n",
            "Connecting to zenodo.org (zenodo.org)|188.185.124.72|:443... connected.\n",
            "HTTP request sent, awaiting response... 200 OK\n",
            "Length: 1238813390 (1.2G) [application/octet-stream]\n",
            "Saving to: ‘DECIMER_512_checkpoints.zip?download=1’\n",
            "\n",
            "DECIMER_512_checkpo 100%[===================>]   1.15G  23.8MB/s    in 52s     \n",
            "\n",
            "2023-08-05 05:45:18 (22.8 MB/s) - ‘DECIMER_512_checkpoints.zip?download=1’ saved [1238813390/1238813390]\n",
            "\n"
          ]
        }
      ]
    },
    {
      "cell_type": "code",
      "source": [
        "!unzip DECIMER_512_checkpoints.zip?download=1"
      ],
      "metadata": {
        "colab": {
          "base_uri": "https://localhost:8080/"
        },
        "id": "9vnU4i8WOo0R",
        "outputId": "4c27b530-6c92-4c44-be26-13499909bb55"
      },
      "execution_count": 34,
      "outputs": [
        {
          "output_type": "stream",
          "name": "stdout",
          "text": [
            "Archive:  DECIMER_512_checkpoints.zip?download=1\n",
            "   creating: DECIMER_512_checkpoints/\n",
            "  inflating: DECIMER_512_checkpoints/checkpoint  \n",
            "  inflating: __MACOSX/DECIMER_512_checkpoints/._checkpoint  \n",
            "  inflating: DECIMER_512_checkpoints/ckpt-1.data-00000-of-00001  \n",
            "  inflating: DECIMER_512_checkpoints/ckpt-1.index  \n"
          ]
        }
      ]
    },
    {
      "cell_type": "code",
      "source": [
        "import tensorflow as tf\n",
        "import sys\n",
        "sys.path.append(\"/content/DECIMER-Image_Transformer\")\n",
        "import pickle\n",
        "import DECIMER.Efficient_Net_encoder as Efficient_Net_encoder\n",
        "import DECIMER.Transformer_decoder as Transformer_decoder\n",
        "import DECIMER.config as config\n",
        "import DECIMER.utils as utils\n",
        "\n",
        "print(tf.__version__)\n",
        "\n",
        "# Set GPU\n",
        "os.environ[\"CUDA_VISIBLE_DEVICES\"] = \"0\"\n",
        "gpus = tf.config.experimental.list_physical_devices(\"GPU\")\n",
        "for gpu in gpus:\n",
        "    tf.config.experimental.set_memory_growth(gpu, True)\n",
        "\n",
        "# load assets\n",
        "tokenizer = pickle.load(open(\"/content/DECIMER_model/assets/tokenizer_SMILES.pkl\", \"rb\"))\n",
        "max_length = pickle.load(open(\"/content/DECIMER_model/assets/max_length.pkl\", \"rb\"))\n",
        "\n",
        "# Image parameters\n",
        "IMG_EMB_DIM = (16, 16, 512)\n",
        "IMG_EMB_DIM = (IMG_EMB_DIM[0] * IMG_EMB_DIM[1], IMG_EMB_DIM[2])\n",
        "IMG_SHAPE = (512, 512, 3)\n",
        "PE_INPUT = IMG_EMB_DIM[0]\n",
        "IMG_SEQ_LEN, IMG_EMB_DEPTH = IMG_EMB_DIM\n",
        "D_MODEL = 512\n",
        "\n",
        "# Network parameters\n",
        "N_LAYERS = 6\n",
        "D_MODEL = 512\n",
        "D_FF = 2048\n",
        "N_HEADS = 8\n",
        "DROPOUT_RATE = 0.1\n",
        "\n",
        "# Misc\n",
        "MAX_LEN = max_length\n",
        "VOCAB_LEN = len(tokenizer.word_index)\n",
        "PE_OUTPUT = MAX_LEN\n",
        "TARGET_V_SIZE = VOCAB_LEN\n",
        "REPLICA_BATCH_SIZE = 1\n",
        "\n",
        "\n",
        "# Config Encoder\n",
        "PREPROCESSING_FN = tf.keras.applications.efficientnet.preprocess_input\n",
        "BB_FN = Efficient_Net_encoder.get_efficientnetv2_backbone\n",
        "\n",
        "# Config Model\n",
        "testing_config = config.Config()\n",
        "\n",
        "testing_config.initialize_encoder_config(\n",
        "    image_embedding_dim=IMG_EMB_DIM,\n",
        "    preprocessing_fn=PREPROCESSING_FN,\n",
        "    backbone_fn=BB_FN,\n",
        "    image_shape=IMG_SHAPE,\n",
        "    do_permute=IMG_EMB_DIM[1] < IMG_EMB_DIM[0],\n",
        ")\n",
        "testing_config.initialize_transformer_config(\n",
        "    vocab_len=VOCAB_LEN,\n",
        "    max_len=MAX_LEN,\n",
        "    n_transformer_layers=N_LAYERS,\n",
        "    transformer_d_dff=D_FF,\n",
        "    transformer_n_heads=N_HEADS,\n",
        "    image_embedding_dim=D_MODEL,\n",
        ")\n",
        "\n"
      ],
      "metadata": {
        "colab": {
          "base_uri": "https://localhost:8080/"
        },
        "id": "IKNa3zl_OjW5",
        "outputId": "374d325d-9ab0-4a90-8ede-9a8e257bcae7"
      },
      "execution_count": 66,
      "outputs": [
        {
          "output_type": "stream",
          "name": "stdout",
          "text": [
            "2.12.0\n"
          ]
        }
      ]
    },
    {
      "cell_type": "code",
      "source": [
        "# Prepare model\n",
        "optimizer, encoder, transformer = config.prepare_models(\n",
        "    encoder_config=testing_config.encoder_config,\n",
        "    transformer_config=testing_config.transformer_config,\n",
        "    replica_batch_size=REPLICA_BATCH_SIZE,\n",
        "    verbose=0,\n",
        ")\n",
        "\n",
        "# Load trained model checkpoint\n",
        "checkpoint_path = \"/content/DECIMER_512_checkpoints/checkpoint\"\n",
        "ckpt = tf.train.Checkpoint(\n",
        "    encoder=encoder, transformer=transformer, optimizer=optimizer\n",
        ")\n",
        "\n",
        "ckpt_manager = tf.train.CheckpointManager(ckpt, checkpoint_path, max_to_keep=50)\n",
        "if ckpt_manager.latest_checkpoint:\n",
        "    ckpt.restore(tf.train.latest_checkpoint(checkpoint_path))\n",
        "    start_epoch = int(ckpt_manager.latest_checkpoint.split(\"-\")[-1])\n",
        "\n"
      ],
      "metadata": {
        "id": "aKrEq2SeOmpZ"
      },
      "execution_count": 61,
      "outputs": []
    },
    {
      "cell_type": "code",
      "source": [
        "def detokenize_output(predicted_array):\n",
        "    outputs = [tokenizer.index_word[i] for i in predicted_array[0].numpy()]\n",
        "    prediction = (\n",
        "        \"\".join([str(elem) for elem in outputs])\n",
        "        .replace(\"<start>\", \"\")\n",
        "        .replace(\"<end>\", \"\")\n",
        "    )\n",
        "\n",
        "    return prediction\n",
        "\n",
        "\n",
        "def tokenize(SMILES):\n",
        "  ans = []\n",
        "  for i in SMILES:\n",
        "    ans.append(tokenizer.word_index[i])\n",
        "  return ans"
      ],
      "metadata": {
        "id": "l-vVPJTaOnqC"
      },
      "execution_count": 86,
      "outputs": []
    },
    {
      "cell_type": "code",
      "source": [
        "tokenize(\"CC(=O)Nc1ccc(cc1)O\")"
      ],
      "metadata": {
        "colab": {
          "base_uri": "https://localhost:8080/"
        },
        "id": "4sZcsJwMTlh6",
        "outputId": "12bc8fb6-eaec-403c-a2ac-b0dd62eccbcf"
      },
      "execution_count": 90,
      "outputs": [
        {
          "output_type": "execute_result",
          "data": {
            "text/plain": [
              "[2, 2, 4, 3, 6, 5, 7, 2, 8, 2, 2, 2, 4, 2, 2, 8, 5, 6]"
            ]
          },
          "metadata": {},
          "execution_count": 90
        }
      ]
    },
    {
      "cell_type": "code",
      "source": [
        "loaded_fried = tf.saved_model.load(\"/content/DECIMER_model\")"
      ],
      "metadata": {
        "id": "bPbp_xfNPgxh"
      },
      "execution_count": 93,
      "outputs": []
    },
    {
      "cell_type": "code",
      "source": [
        "import PIL.Image as Image\n",
        "utils.decoder(detokenize_output(loaded_fried(config.decode_image(\"A.png\"))))\n",
        "# loaded_fried(tf.constant(np.array(Image.open(\"caffeine.png\").convert(\"RGB\").resize((512,512))), dtype=\"float32\"))"
      ],
      "metadata": {
        "colab": {
          "base_uri": "https://localhost:8080/",
          "height": 36
        },
        "id": "rFCKGXJCXtyL",
        "outputId": "582c1428-4bab-4850-9868-2c442199cc71"
      },
      "execution_count": 112,
      "outputs": [
        {
          "output_type": "execute_result",
          "data": {
            "text/plain": [
              "'CC(=O)NC1=CC=C(C=C1)O'"
            ],
            "application/vnd.google.colaboratory.intrinsic+json": {
              "type": "string"
            }
          },
          "metadata": {},
          "execution_count": 112
        }
      ]
    },
    {
      "cell_type": "code",
      "source": [
        "loaded_fried(config.decode_image(\"A.png\"))"
      ],
      "metadata": {
        "colab": {
          "base_uri": "https://localhost:8080/"
        },
        "id": "hzn0wXwbcw3F",
        "outputId": "7344d1b7-a057-4c7b-ee71-23756385bf28"
      },
      "execution_count": 134,
      "outputs": [
        {
          "output_type": "execute_result",
          "data": {
            "text/plain": [
              "<tf.Tensor: shape=(1, 23), dtype=int32, numpy=\n",
              "array([[13,  2,  2,  4,  3,  6,  5,  7,  2,  8,  3,  2,  2,  3,  2,  4,\n",
              "         2,  3,  2,  8,  5,  6, 14]], dtype=int32)>"
            ]
          },
          "metadata": {},
          "execution_count": 134
        }
      ]
    },
    {
      "cell_type": "code",
      "source": [
        "res = transformer(tf.constant([(tokenize(\"CC(=O)Nc1ccc(cc1)\".replace(\"c\",\"C\")))]), np.zeros((1,256, D_MODEL)), training=False)"
      ],
      "metadata": {
        "id": "JTfPZ0Dhc3RG"
      },
      "execution_count": 137,
      "outputs": []
    },
    {
      "cell_type": "code",
      "source": [
        "utils.decoder(detokenize_output((tf.cast(tf.argmax(res, axis=-1), tf.int32))))"
      ],
      "metadata": {
        "colab": {
          "base_uri": "https://localhost:8080/",
          "height": 36
        },
        "id": "hPTfUToUdAa_",
        "outputId": "1703bb91-cb63-413f-e1ac-ef20eafcdd67"
      },
      "execution_count": 140,
      "outputs": [
        {
          "output_type": "execute_result",
          "data": {
            "text/plain": [
              "'AlAlAlCAlAlCAlAlAlAlAlAlAlAlAlC'"
            ],
            "application/vnd.google.colaboratory.intrinsic+json": {
              "type": "string"
            }
          },
          "metadata": {},
          "execution_count": 140
        }
      ]
    },
    {
      "cell_type": "code",
      "source": [
        "import numpy as np\n",
        "# https://github.com/Kohulan/DECIMER-Image_Transformer/blob/master/DECIMER/Repack_model.py\n",
        "res = transformer(tf.constant([(tokenize(\"C\".replace(\"c\",\"C\")))]), np.zeros((1,256, D_MODEL)))[:,-1,:]\n",
        "utils.decoder(detokenize_output((tf.cast(tf.argmax([res], axis=-1), tf.int32))))"
      ],
      "metadata": {
        "colab": {
          "base_uri": "https://localhost:8080/",
          "height": 36
        },
        "id": "o4nfqaf8QdaB",
        "outputId": "b4316043-6aea-4858-fbb7-efbc31eb69c7"
      },
      "execution_count": 164,
      "outputs": [
        {
          "output_type": "execute_result",
          "data": {
            "text/plain": [
              "'K'"
            ],
            "application/vnd.google.colaboratory.intrinsic+json": {
              "type": "string"
            }
          },
          "metadata": {},
          "execution_count": 164
        }
      ]
    },
    {
      "cell_type": "code",
      "source": [
        "tf.saved_model.save(transformer, \"decoder2\")"
      ],
      "metadata": {
        "id": "eSdl7OJ-fff6"
      },
      "execution_count": null,
      "outputs": []
    },
    {
      "cell_type": "code",
      "source": [
        "transformer.save(\"decoder\")"
      ],
      "metadata": {
        "id": "doMCUxlMdzSg"
      },
      "execution_count": null,
      "outputs": []
    },
    {
      "cell_type": "code",
      "source": [
        "# import tensorflow as tf\n",
        "# import tf2onnx\n",
        "# import onnx\n",
        "\n",
        "# model = transformer\n",
        "\n",
        "# input_signature = [tf.TensorSpec([10], tf.int32, name='x'), tf.TensorSpec([1, 256, 512], tf.float32, name='enc_output')]\n",
        "# # Use from_function for tf functions\n",
        "# onnx_model, _ = tf2onnx.convert.from_keras(model, input_signature, opset=13)\n",
        "# onnx.save(onnx_model, \"dst/path/model.onnx\")"
      ],
      "metadata": {
        "id": "ZaKWB_NTeSX6"
      },
      "execution_count": 172,
      "outputs": []
    },
    {
      "cell_type": "code",
      "source": [
        "!python -m tf2onnx.convert --saved-model /content/decoder2 --output model.onnx"
      ],
      "metadata": {
        "colab": {
          "base_uri": "https://localhost:8080/"
        },
        "id": "ue8m18krf7YD",
        "outputId": "d436a954-c9ae-4635-9a1d-07c0ea3ca728"
      },
      "execution_count": 1,
      "outputs": [
        {
          "output_type": "stream",
          "name": "stdout",
          "text": [
            "2023-08-05 07:01:37.081938: I tensorflow/core/platform/cpu_feature_guard.cc:182] This TensorFlow binary is optimized to use available CPU instructions in performance-critical operations.\n",
            "To enable the following instructions: AVX2 FMA, in other operations, rebuild TensorFlow with the appropriate compiler flags.\n",
            "2023-08-05 07:01:38.915615: W tensorflow/compiler/tf2tensorrt/utils/py_utils.cc:38] TF-TRT Warning: Could not find TensorRT\n",
            "/usr/lib/python3.10/runpy.py:126: RuntimeWarning: 'tf2onnx.convert' found in sys.modules after import of package 'tf2onnx', but prior to execution of 'tf2onnx.convert'; this may result in unpredictable behaviour\n",
            "  warn(RuntimeWarning(msg))\n",
            "2023-08-05 07:01:42,420 - WARNING - '--tag' not specified for saved_model. Using --tag serve\n",
            "2023-08-05 07:01:47,426 - INFO - Signatures found in model: [serving_default].\n",
            "2023-08-05 07:01:47,426 - WARNING - '--signature_def' not specified, using first signature: serving_default\n",
            "2023-08-05 07:01:47,426 - INFO - Output names: ['output_1']\n",
            "2023-08-05 07:01:47.463709: I tensorflow/core/grappler/devices.cc:66] Number of eligible GPUs (core count >= 8, compute capability >= 0.0): 0\n",
            "2023-08-05 07:01:47.464039: I tensorflow/core/grappler/clusters/single_machine.cc:358] Starting new session\n",
            "2023-08-05 07:01:52.612082: I tensorflow/core/grappler/devices.cc:66] Number of eligible GPUs (core count >= 8, compute capability >= 0.0): 0\n",
            "2023-08-05 07:01:52.612247: I tensorflow/core/grappler/clusters/single_machine.cc:358] Starting new session\n",
            "2023-08-05 07:01:54,189 - INFO - Using tensorflow=2.12.0, onnx=1.14.0, tf2onnx=1.14.0/8f8d49\n",
            "2023-08-05 07:01:54,189 - INFO - Using opset <onnx, 15>\n",
            "2023-08-05 07:01:54.703306: I tensorflow/compiler/mlir/mlir_graph_optimization_pass.cc:353] MLIR V1 optimization pass is not enabled\n",
            "2023-08-05 07:01:54.716145: I tensorflow/core/common_runtime/executor.cc:1197] [/device:CPU:0] (DEBUG INFO) Executor start aborting (this does not indicate an error and you can ignore this message): INVALID_ARGUMENT: You must feed a value for placeholder tensor 'StatefulPartitionedCall/decoder_4/strided_slice_1/stack_2' with dtype int32\n",
            "\t [[{{node StatefulPartitionedCall/decoder_4/strided_slice_1/stack_2}}]]\n",
            "2023-08-05 07:01:54,756 - INFO - Computed 1 values for constant folding\n",
            "2023-08-05 07:01:55,164 - INFO - folding node using tf type=StridedSlice, name=StatefulPartitionedCall/decoder_4/strided_slice_1\n",
            "2023-08-05 07:01:55,799 - INFO - Optimizing ONNX model\n",
            "2023-08-05 07:02:00,379 - INFO - After optimization: Cast -154 (279->125), Concat -108 (170->62), Const -1213 (1294->81), Gather -84 (123->39), GlobalAveragePool +36 (0->36), Identity -20 (20->0), ReduceMean -36 (36->0), ReduceProd -122 (122->0), Reshape -35 (170->135), Shape -35 (85->50), Squeeze -12 (24->12), Unsqueeze -302 (302->0)\n",
            "2023-08-05 07:02:00,524 - INFO - \n",
            "2023-08-05 07:02:00,524 - INFO - Successfully converted TensorFlow model /content/decoder2 to ONNX\n",
            "2023-08-05 07:02:00,524 - INFO - Model inputs: ['args_0', 'args_1']\n",
            "2023-08-05 07:02:00,524 - INFO - Model outputs: ['output_1']\n",
            "2023-08-05 07:02:00,524 - INFO - ONNX model is saved at model.onnx\n"
          ]
        }
      ]
    },
    {
      "cell_type": "code",
      "source": [
        "# import torch\n",
        "\n",
        "# # Load the exported Tensorflow model into PyTorch\n",
        "# model = torch.jit.load(\"/content/decoder2/saved_model.pb\")"
      ],
      "metadata": {
        "id": "6Z4OYI0lfQeC"
      },
      "execution_count": null,
      "outputs": []
    },
    {
      "cell_type": "code",
      "source": [
        "import onnx\n",
        "model = onnx.load(\"model.onnx\")"
      ],
      "metadata": {
        "id": "s8UiOLiLga9k"
      },
      "execution_count": 5,
      "outputs": []
    },
    {
      "cell_type": "code",
      "source": [
        "onnx.checker.check_model(model)"
      ],
      "metadata": {
        "id": "UuA-FysWgeXD"
      },
      "execution_count": 6,
      "outputs": []
    },
    {
      "cell_type": "code",
      "source": [
        "print(onnx.helper.printable_graph(model.graph))"
      ],
      "metadata": {
        "id": "UmN7tGjdglzy"
      },
      "execution_count": null,
      "outputs": []
    },
    {
      "cell_type": "code",
      "source": [
        "!pip install onnx2pytorch"
      ],
      "metadata": {
        "colab": {
          "base_uri": "https://localhost:8080/"
        },
        "id": "7gH-dQW5hHE9",
        "outputId": "ab691616-2b9d-43f3-bb20-c3ead6d45bb3"
      },
      "execution_count": 8,
      "outputs": [
        {
          "output_type": "stream",
          "name": "stdout",
          "text": [
            "Requirement already satisfied: pip in /usr/local/lib/python3.10/dist-packages (23.1.2)\n",
            "Collecting install\n",
            "  Downloading install-1.3.5-py3-none-any.whl (3.2 kB)\n",
            "Collecting onnx2pytorch\n",
            "  Downloading onnx2pytorch-0.4.1-py3-none-any.whl (44 kB)\n",
            "\u001b[2K     \u001b[90m━━━━━━━━━━━━━━━━━━━━━━━━━━━━━━━━━━━━━━━━\u001b[0m \u001b[32m44.9/44.9 kB\u001b[0m \u001b[31m1.7 MB/s\u001b[0m eta \u001b[36m0:00:00\u001b[0m\n",
            "\u001b[?25hRequirement already satisfied: torch>=1.4.0 in /usr/local/lib/python3.10/dist-packages (from onnx2pytorch) (2.0.1+cu118)\n",
            "Requirement already satisfied: onnx>=1.6.0 in /usr/local/lib/python3.10/dist-packages (from onnx2pytorch) (1.14.0)\n",
            "Requirement already satisfied: torchvision>=0.9.0 in /usr/local/lib/python3.10/dist-packages (from onnx2pytorch) (0.15.2+cu118)\n",
            "Requirement already satisfied: numpy in /usr/local/lib/python3.10/dist-packages (from onnx>=1.6.0->onnx2pytorch) (1.22.4)\n",
            "Requirement already satisfied: protobuf>=3.20.2 in /usr/local/lib/python3.10/dist-packages (from onnx>=1.6.0->onnx2pytorch) (3.20.3)\n",
            "Requirement already satisfied: typing-extensions>=3.6.2.1 in /usr/local/lib/python3.10/dist-packages (from onnx>=1.6.0->onnx2pytorch) (4.7.1)\n",
            "Requirement already satisfied: filelock in /usr/local/lib/python3.10/dist-packages (from torch>=1.4.0->onnx2pytorch) (3.12.2)\n",
            "Requirement already satisfied: sympy in /usr/local/lib/python3.10/dist-packages (from torch>=1.4.0->onnx2pytorch) (1.11.1)\n",
            "Requirement already satisfied: networkx in /usr/local/lib/python3.10/dist-packages (from torch>=1.4.0->onnx2pytorch) (3.1)\n",
            "Requirement already satisfied: jinja2 in /usr/local/lib/python3.10/dist-packages (from torch>=1.4.0->onnx2pytorch) (3.1.2)\n",
            "Requirement already satisfied: triton==2.0.0 in /usr/local/lib/python3.10/dist-packages (from torch>=1.4.0->onnx2pytorch) (2.0.0)\n",
            "Requirement already satisfied: cmake in /usr/local/lib/python3.10/dist-packages (from triton==2.0.0->torch>=1.4.0->onnx2pytorch) (3.25.2)\n",
            "Requirement already satisfied: lit in /usr/local/lib/python3.10/dist-packages (from triton==2.0.0->torch>=1.4.0->onnx2pytorch) (16.0.6)\n",
            "Requirement already satisfied: requests in /usr/local/lib/python3.10/dist-packages (from torchvision>=0.9.0->onnx2pytorch) (2.27.1)\n",
            "Requirement already satisfied: pillow!=8.3.*,>=5.3.0 in /usr/local/lib/python3.10/dist-packages (from torchvision>=0.9.0->onnx2pytorch) (9.4.0)\n",
            "Requirement already satisfied: MarkupSafe>=2.0 in /usr/local/lib/python3.10/dist-packages (from jinja2->torch>=1.4.0->onnx2pytorch) (2.1.3)\n",
            "Requirement already satisfied: urllib3<1.27,>=1.21.1 in /usr/local/lib/python3.10/dist-packages (from requests->torchvision>=0.9.0->onnx2pytorch) (1.26.16)\n",
            "Requirement already satisfied: certifi>=2017.4.17 in /usr/local/lib/python3.10/dist-packages (from requests->torchvision>=0.9.0->onnx2pytorch) (2023.7.22)\n",
            "Requirement already satisfied: charset-normalizer~=2.0.0 in /usr/local/lib/python3.10/dist-packages (from requests->torchvision>=0.9.0->onnx2pytorch) (2.0.12)\n",
            "Requirement already satisfied: idna<4,>=2.5 in /usr/local/lib/python3.10/dist-packages (from requests->torchvision>=0.9.0->onnx2pytorch) (3.4)\n",
            "Requirement already satisfied: mpmath>=0.19 in /usr/local/lib/python3.10/dist-packages (from sympy->torch>=1.4.0->onnx2pytorch) (1.3.0)\n",
            "Installing collected packages: install, onnx2pytorch\n",
            "Successfully installed install-1.3.5 onnx2pytorch-0.4.1\n"
          ]
        }
      ]
    },
    {
      "cell_type": "code",
      "source": [
        "import onnx\n",
        "from onnx2pytorch import ConvertModel\n",
        "\n",
        "onnx_model = onnx.load(\"model.onnx\")\n",
        "pytorch_model = ConvertModel(onnx_model)"
      ],
      "metadata": {
        "colab": {
          "base_uri": "https://localhost:8080/"
        },
        "id": "IFTjtgephbQd",
        "outputId": "65c84152-3751-4114-8203-a789dfd29d2d"
      },
      "execution_count": 9,
      "outputs": [
        {
          "output_type": "stream",
          "name": "stderr",
          "text": [
            "/usr/local/lib/python3.10/dist-packages/onnx2pytorch/convert/operations.py:154: UserWarning: The given NumPy array is not writable, and PyTorch does not support non-writable tensors. This means writing to this tensor will result in undefined behavior. You may want to copy the array to protect its data or make it writable before converting it to a tensor. This type of warning will be suppressed for the rest of this program. (Triggered internally at ../torch/csrc/utils/tensor_numpy.cpp:206.)\n",
            "  weight = torch.from_numpy(numpy_helper.to_array(params[0]))\n"
          ]
        }
      ]
    },
    {
      "cell_type": "code",
      "source": [
        "import torchinfo\n",
        "torchinfo.summary(pytorch_model)"
      ],
      "metadata": {
        "colab": {
          "base_uri": "https://localhost:8080/"
        },
        "id": "rUX_fKz2hfLu",
        "outputId": "1d614b6f-2e78-4f1a-ef4b-ac607c24d570"
      },
      "execution_count": 12,
      "outputs": [
        {
          "output_type": "execute_result",
          "data": {
            "text/plain": [
              "=================================================================\n",
              "Layer (type:depth-idx)                   Param #\n",
              "=================================================================\n",
              "ConvertModel                             --\n",
              "├─Cast: 1-1                              --\n",
              "├─Shape: 1-2                             --\n",
              "├─Cast: 1-3                              --\n",
              "├─Gather: 1-4                            --\n",
              "├─Reshape: 1-5                           --\n",
              "├─Linear: 1-6                            262,144\n",
              "├─Linear: 1-7                            262,144\n",
              "├─Linear: 1-8                            262,144\n",
              "├─Linear: 1-9                            262,144\n",
              "├─Linear: 1-10                           262,144\n",
              "├─Linear: 1-11                           262,144\n",
              "├─Linear: 1-12                           262,144\n",
              "├─Linear: 1-13                           262,144\n",
              "├─Linear: 1-14                           262,144\n",
              "├─Linear: 1-15                           262,144\n",
              "├─Linear: 1-16                           262,144\n",
              "├─Linear: 1-17                           262,144\n",
              "├─Cast: 1-18                             --\n",
              "├─Reshape: 1-19                          --\n",
              "├─Reshape: 1-20                          --\n",
              "├─Reshape: 1-21                          --\n",
              "├─Reshape: 1-22                          --\n",
              "├─Reshape: 1-23                          --\n",
              "├─Reshape: 1-24                          --\n",
              "├─Gather: 1-25                           --\n",
              "├─mul: 1-26                              --\n",
              "├─Shape: 1-27                            --\n",
              "├─Cast: 1-28                             --\n",
              "├─Slice: 1-29                            --\n",
              "├─Cast: 1-30                             --\n",
              "├─Cast: 1-31                             --\n",
              "├─Gather: 1-32                           --\n",
              "├─Cast: 1-33                             --\n",
              "├─Reshape: 1-34                          --\n",
              "├─Linear: 1-35                           262,144\n",
              "├─Reshape: 1-36                          --\n",
              "├─Transpose: 1-37                        --\n",
              "├─Linear: 1-38                           262,144\n",
              "├─Reshape: 1-39                          --\n",
              "├─Add: 1-40                              --\n",
              "├─Reshape: 1-41                          --\n",
              "├─Transpose: 1-42                        --\n",
              "├─Shape: 1-43                            --\n",
              "├─Cast: 1-44                             --\n",
              "├─Slice: 1-45                            --\n",
              "├─Squeeze: 1-46                          --\n",
              "├─Cast: 1-47                             --\n",
              "├─mul: 1-48                              --\n",
              "├─Transpose: 1-49                        --\n",
              "├─Linear: 1-50                           262,144\n",
              "├─Reshape: 1-51                          --\n",
              "├─Add: 1-52                              --\n",
              "├─Reshape: 1-53                          --\n",
              "├─Transpose: 1-54                        --\n",
              "├─MatMul: 1-55                           --\n",
              "├─Div: 1-56                              --\n",
              "├─Softmax: 1-57                          --\n",
              "├─MatMul: 1-58                           --\n",
              "├─Transpose: 1-59                        --\n",
              "├─Reshape: 1-60                          --\n",
              "├─Shape: 1-61                            --\n",
              "├─Cast: 1-62                             --\n",
              "├─Gather: 1-63                           --\n",
              "├─Cast: 1-64                             --\n",
              "├─Reshape: 1-65                          --\n",
              "├─Linear: 1-66                           262,144\n",
              "├─Reshape: 1-67                          --\n",
              "├─Add: 1-68                              --\n",
              "├─GlobalAveragePool: 1-69                --\n",
              "├─mul: 1-70                              --\n",
              "├─mul: 1-71                              --\n",
              "├─GlobalAveragePool: 1-72                --\n",
              "├─Add: 1-73                              --\n",
              "├─mul: 1-74                              --\n",
              "├─mul: 1-75                              --\n",
              "├─mul: 1-76                              --\n",
              "├─mul: 1-77                              --\n",
              "├─mul: 1-78                              --\n",
              "├─mul: 1-79                              --\n",
              "├─Add: 1-80                              --\n",
              "├─Shape: 1-81                            --\n",
              "├─Cast: 1-82                             --\n",
              "├─Slice: 1-83                            --\n",
              "├─Cast: 1-84                             --\n",
              "├─Cast: 1-85                             --\n",
              "├─Reshape: 1-86                          --\n",
              "├─Transpose: 1-87                        --\n",
              "├─Gather: 1-88                           --\n",
              "├─Cast: 1-89                             --\n",
              "├─Reshape: 1-90                          --\n",
              "├─Linear: 1-91                           262,144\n",
              "├─Reshape: 1-92                          --\n",
              "├─Add: 1-93                              --\n",
              "├─Reshape: 1-94                          --\n",
              "├─Transpose: 1-95                        --\n",
              "├─Add: 1-96                              --\n",
              "├─Add: 1-97                              --\n",
              "├─Add: 1-98                              --\n",
              "├─Add: 1-99                              --\n",
              "├─Add: 1-100                             --\n",
              "├─Add: 1-101                             --\n",
              "├─Reshape: 1-102                         --\n",
              "├─Transpose: 1-103                       --\n",
              "├─Shape: 1-104                           --\n",
              "├─Cast: 1-105                            --\n",
              "├─Slice: 1-106                           --\n",
              "├─Squeeze: 1-107                         --\n",
              "├─Cast: 1-108                            --\n",
              "├─mul: 1-109                             --\n",
              "├─Transpose: 1-110                       --\n",
              "├─MatMul: 1-111                          --\n",
              "├─Div: 1-112                             --\n",
              "├─Softmax: 1-113                         --\n",
              "├─MatMul: 1-114                          --\n",
              "├─Transpose: 1-115                       --\n",
              "├─Reshape: 1-116                         --\n",
              "├─Shape: 1-117                           --\n",
              "├─Cast: 1-118                            --\n",
              "├─Gather: 1-119                          --\n",
              "├─Cast: 1-120                            --\n",
              "├─Reshape: 1-121                         --\n",
              "├─Linear: 1-122                          262,144\n",
              "├─Reshape: 1-123                         --\n",
              "├─Add: 1-124                             --\n",
              "├─GlobalAveragePool: 1-125               --\n",
              "├─mul: 1-126                             --\n",
              "├─mul: 1-127                             --\n",
              "├─GlobalAveragePool: 1-128               --\n",
              "├─Add: 1-129                             --\n",
              "├─mul: 1-130                             --\n",
              "├─mul: 1-131                             --\n",
              "├─mul: 1-132                             --\n",
              "├─mul: 1-133                             --\n",
              "├─mul: 1-134                             --\n",
              "├─mul: 1-135                             --\n",
              "├─Add: 1-136                             --\n",
              "├─Shape: 1-137                           --\n",
              "├─Cast: 1-138                            --\n",
              "├─Gather: 1-139                          --\n",
              "├─Cast: 1-140                            --\n",
              "├─Reshape: 1-141                         --\n",
              "├─Linear: 1-142                          1,048,576\n",
              "├─Reshape: 1-143                         --\n",
              "├─ReLU: 1-144                            --\n",
              "├─Shape: 1-145                           --\n",
              "├─Cast: 1-146                            --\n",
              "├─Gather: 1-147                          --\n",
              "├─Cast: 1-148                            --\n",
              "├─Reshape: 1-149                         --\n",
              "├─Linear: 1-150                          1,048,576\n",
              "├─Reshape: 1-151                         --\n",
              "├─Add: 1-152                             --\n",
              "├─GlobalAveragePool: 1-153               --\n",
              "├─mul: 1-154                             --\n",
              "├─mul: 1-155                             --\n",
              "├─GlobalAveragePool: 1-156               --\n",
              "├─Add: 1-157                             --\n",
              "├─mul: 1-158                             --\n",
              "├─mul: 1-159                             --\n",
              "├─mul: 1-160                             --\n",
              "├─mul: 1-161                             --\n",
              "├─mul: 1-162                             --\n",
              "├─mul: 1-163                             --\n",
              "├─Add: 1-164                             --\n",
              "├─Shape: 1-165                           --\n",
              "├─Cast: 1-166                            --\n",
              "├─Slice: 1-167                           --\n",
              "├─Cast: 1-168                            --\n",
              "├─Cast: 1-169                            --\n",
              "├─Gather: 1-170                          --\n",
              "├─Cast: 1-171                            --\n",
              "├─Reshape: 1-172                         --\n",
              "├─Linear: 1-173                          262,144\n",
              "├─Reshape: 1-174                         --\n",
              "├─Transpose: 1-175                       --\n",
              "├─Linear: 1-176                          262,144\n",
              "├─Reshape: 1-177                         --\n",
              "├─Add: 1-178                             --\n",
              "├─Reshape: 1-179                         --\n",
              "├─Transpose: 1-180                       --\n",
              "├─Shape: 1-181                           --\n",
              "├─Cast: 1-182                            --\n",
              "├─Slice: 1-183                           --\n",
              "├─Squeeze: 1-184                         --\n",
              "├─Cast: 1-185                            --\n",
              "├─mul: 1-186                             --\n",
              "├─Transpose: 1-187                       --\n",
              "├─Linear: 1-188                          262,144\n",
              "├─Reshape: 1-189                         --\n",
              "├─Add: 1-190                             --\n",
              "├─Reshape: 1-191                         --\n",
              "├─Transpose: 1-192                       --\n",
              "├─MatMul: 1-193                          --\n",
              "├─Div: 1-194                             --\n",
              "├─Softmax: 1-195                         --\n",
              "├─MatMul: 1-196                          --\n",
              "├─Transpose: 1-197                       --\n",
              "├─Reshape: 1-198                         --\n",
              "├─Shape: 1-199                           --\n",
              "├─Cast: 1-200                            --\n",
              "├─Gather: 1-201                          --\n",
              "├─Cast: 1-202                            --\n",
              "├─Reshape: 1-203                         --\n",
              "├─Linear: 1-204                          262,144\n",
              "├─Reshape: 1-205                         --\n",
              "├─Add: 1-206                             --\n",
              "├─GlobalAveragePool: 1-207               --\n",
              "├─mul: 1-208                             --\n",
              "├─mul: 1-209                             --\n",
              "├─GlobalAveragePool: 1-210               --\n",
              "├─Add: 1-211                             --\n",
              "├─mul: 1-212                             --\n",
              "├─mul: 1-213                             --\n",
              "├─mul: 1-214                             --\n",
              "├─mul: 1-215                             --\n",
              "├─mul: 1-216                             --\n",
              "├─mul: 1-217                             --\n",
              "├─Add: 1-218                             --\n",
              "├─Shape: 1-219                           --\n",
              "├─Cast: 1-220                            --\n",
              "├─Slice: 1-221                           --\n",
              "├─Cast: 1-222                            --\n",
              "├─Cast: 1-223                            --\n",
              "├─Reshape: 1-224                         --\n",
              "├─Transpose: 1-225                       --\n",
              "├─Reshape: 1-226                         --\n",
              "├─Transpose: 1-227                       --\n",
              "├─Shape: 1-228                           --\n",
              "├─Cast: 1-229                            --\n",
              "├─Slice: 1-230                           --\n",
              "├─Squeeze: 1-231                         --\n",
              "├─Cast: 1-232                            --\n",
              "├─mul: 1-233                             --\n",
              "├─Transpose: 1-234                       --\n",
              "├─Gather: 1-235                          --\n",
              "├─Cast: 1-236                            --\n",
              "├─Reshape: 1-237                         --\n",
              "├─Linear: 1-238                          262,144\n",
              "├─Reshape: 1-239                         --\n",
              "├─Add: 1-240                             --\n",
              "├─Reshape: 1-241                         --\n",
              "├─Transpose: 1-242                       --\n",
              "├─MatMul: 1-243                          --\n",
              "├─Div: 1-244                             --\n",
              "├─Softmax: 1-245                         --\n",
              "├─MatMul: 1-246                          --\n",
              "├─Transpose: 1-247                       --\n",
              "├─Reshape: 1-248                         --\n",
              "├─Shape: 1-249                           --\n",
              "├─Cast: 1-250                            --\n",
              "├─Gather: 1-251                          --\n",
              "├─Cast: 1-252                            --\n",
              "├─Reshape: 1-253                         --\n",
              "├─Linear: 1-254                          262,144\n",
              "├─Reshape: 1-255                         --\n",
              "├─Add: 1-256                             --\n",
              "├─GlobalAveragePool: 1-257               --\n",
              "├─mul: 1-258                             --\n",
              "├─mul: 1-259                             --\n",
              "├─GlobalAveragePool: 1-260               --\n",
              "├─Add: 1-261                             --\n",
              "├─mul: 1-262                             --\n",
              "├─mul: 1-263                             --\n",
              "├─mul: 1-264                             --\n",
              "├─mul: 1-265                             --\n",
              "├─mul: 1-266                             --\n",
              "├─mul: 1-267                             --\n",
              "├─Add: 1-268                             --\n",
              "├─Shape: 1-269                           --\n",
              "├─Cast: 1-270                            --\n",
              "├─Gather: 1-271                          --\n",
              "├─Cast: 1-272                            --\n",
              "├─Reshape: 1-273                         --\n",
              "├─Linear: 1-274                          1,048,576\n",
              "├─Reshape: 1-275                         --\n",
              "├─ReLU: 1-276                            --\n",
              "├─Shape: 1-277                           --\n",
              "├─Cast: 1-278                            --\n",
              "├─Gather: 1-279                          --\n",
              "├─Cast: 1-280                            --\n",
              "├─Reshape: 1-281                         --\n",
              "├─Linear: 1-282                          1,048,576\n",
              "├─Reshape: 1-283                         --\n",
              "├─Add: 1-284                             --\n",
              "├─GlobalAveragePool: 1-285               --\n",
              "├─mul: 1-286                             --\n",
              "├─mul: 1-287                             --\n",
              "├─GlobalAveragePool: 1-288               --\n",
              "├─Add: 1-289                             --\n",
              "├─mul: 1-290                             --\n",
              "├─mul: 1-291                             --\n",
              "├─mul: 1-292                             --\n",
              "├─mul: 1-293                             --\n",
              "├─mul: 1-294                             --\n",
              "├─mul: 1-295                             --\n",
              "├─Add: 1-296                             --\n",
              "├─Reshape: 1-297                         --\n",
              "├─Linear: 1-298                          262,144\n",
              "├─Linear: 1-299                          262,144\n",
              "├─Linear: 1-300                          262,144\n",
              "├─Shape: 1-301                           --\n",
              "├─Cast: 1-302                            --\n",
              "├─Slice: 1-303                           --\n",
              "├─Cast: 1-304                            --\n",
              "├─Cast: 1-305                            --\n",
              "├─Reshape: 1-306                         --\n",
              "├─Transpose: 1-307                       --\n",
              "├─Gather: 1-308                          --\n",
              "├─Cast: 1-309                            --\n",
              "├─Reshape: 1-310                         --\n",
              "├─Add: 1-311                             --\n",
              "├─Reshape: 1-312                         --\n",
              "├─Transpose: 1-313                       --\n",
              "├─Shape: 1-314                           --\n",
              "├─Cast: 1-315                            --\n",
              "├─Slice: 1-316                           --\n",
              "├─Squeeze: 1-317                         --\n",
              "├─Cast: 1-318                            --\n",
              "├─mul: 1-319                             --\n",
              "├─Transpose: 1-320                       --\n",
              "├─Reshape: 1-321                         --\n",
              "├─Add: 1-322                             --\n",
              "├─Reshape: 1-323                         --\n",
              "├─Transpose: 1-324                       --\n",
              "├─MatMul: 1-325                          --\n",
              "├─Div: 1-326                             --\n",
              "├─Softmax: 1-327                         --\n",
              "├─MatMul: 1-328                          --\n",
              "├─Transpose: 1-329                       --\n",
              "├─Reshape: 1-330                         --\n",
              "├─Shape: 1-331                           --\n",
              "├─Cast: 1-332                            --\n",
              "├─Gather: 1-333                          --\n",
              "├─Cast: 1-334                            --\n",
              "├─Reshape: 1-335                         --\n",
              "├─Linear: 1-336                          262,144\n",
              "├─Reshape: 1-337                         --\n",
              "├─Add: 1-338                             --\n",
              "├─GlobalAveragePool: 1-339               --\n",
              "├─mul: 1-340                             --\n",
              "├─mul: 1-341                             --\n",
              "├─GlobalAveragePool: 1-342               --\n",
              "├─Add: 1-343                             --\n",
              "├─mul: 1-344                             --\n",
              "├─mul: 1-345                             --\n",
              "├─mul: 1-346                             --\n",
              "├─mul: 1-347                             --\n",
              "├─mul: 1-348                             --\n",
              "├─mul: 1-349                             --\n",
              "├─Add: 1-350                             --\n",
              "├─Shape: 1-351                           --\n",
              "├─Cast: 1-352                            --\n",
              "├─Slice: 1-353                           --\n",
              "├─Cast: 1-354                            --\n",
              "├─Cast: 1-355                            --\n",
              "├─Reshape: 1-356                         --\n",
              "├─Transpose: 1-357                       --\n",
              "├─Reshape: 1-358                         --\n",
              "├─Transpose: 1-359                       --\n",
              "├─Shape: 1-360                           --\n",
              "├─Cast: 1-361                            --\n",
              "├─Slice: 1-362                           --\n",
              "├─Squeeze: 1-363                         --\n",
              "├─Cast: 1-364                            --\n",
              "├─mul: 1-365                             --\n",
              "├─Transpose: 1-366                       --\n",
              "├─Gather: 1-367                          --\n",
              "├─Cast: 1-368                            --\n",
              "├─Reshape: 1-369                         --\n",
              "├─Linear: 1-370                          262,144\n",
              "├─Reshape: 1-371                         --\n",
              "├─Add: 1-372                             --\n",
              "├─Reshape: 1-373                         --\n",
              "├─Transpose: 1-374                       --\n",
              "├─MatMul: 1-375                          --\n",
              "├─Div: 1-376                             --\n",
              "├─Softmax: 1-377                         --\n",
              "├─MatMul: 1-378                          --\n",
              "├─Transpose: 1-379                       --\n",
              "├─Reshape: 1-380                         --\n",
              "├─Shape: 1-381                           --\n",
              "├─Cast: 1-382                            --\n",
              "├─Gather: 1-383                          --\n",
              "├─Cast: 1-384                            --\n",
              "├─Reshape: 1-385                         --\n",
              "├─Linear: 1-386                          262,144\n",
              "├─Reshape: 1-387                         --\n",
              "├─Add: 1-388                             --\n",
              "├─GlobalAveragePool: 1-389               --\n",
              "├─mul: 1-390                             --\n",
              "├─mul: 1-391                             --\n",
              "├─GlobalAveragePool: 1-392               --\n",
              "├─Add: 1-393                             --\n",
              "├─mul: 1-394                             --\n",
              "├─mul: 1-395                             --\n",
              "├─mul: 1-396                             --\n",
              "├─mul: 1-397                             --\n",
              "├─mul: 1-398                             --\n",
              "├─mul: 1-399                             --\n",
              "├─Add: 1-400                             --\n",
              "├─Shape: 1-401                           --\n",
              "├─Cast: 1-402                            --\n",
              "├─Gather: 1-403                          --\n",
              "├─Cast: 1-404                            --\n",
              "├─Reshape: 1-405                         --\n",
              "├─Linear: 1-406                          1,048,576\n",
              "├─Reshape: 1-407                         --\n",
              "├─ReLU: 1-408                            --\n",
              "├─Shape: 1-409                           --\n",
              "├─Cast: 1-410                            --\n",
              "├─Gather: 1-411                          --\n",
              "├─Cast: 1-412                            --\n",
              "├─Reshape: 1-413                         --\n",
              "├─Linear: 1-414                          1,048,576\n",
              "├─Reshape: 1-415                         --\n",
              "├─Add: 1-416                             --\n",
              "├─GlobalAveragePool: 1-417               --\n",
              "├─mul: 1-418                             --\n",
              "├─mul: 1-419                             --\n",
              "├─GlobalAveragePool: 1-420               --\n",
              "├─Add: 1-421                             --\n",
              "├─mul: 1-422                             --\n",
              "├─mul: 1-423                             --\n",
              "├─mul: 1-424                             --\n",
              "├─mul: 1-425                             --\n",
              "├─mul: 1-426                             --\n",
              "├─mul: 1-427                             --\n",
              "├─Add: 1-428                             --\n",
              "├─Shape: 1-429                           --\n",
              "├─Cast: 1-430                            --\n",
              "├─Slice: 1-431                           --\n",
              "├─Cast: 1-432                            --\n",
              "├─Cast: 1-433                            --\n",
              "├─Gather: 1-434                          --\n",
              "├─Cast: 1-435                            --\n",
              "├─Reshape: 1-436                         --\n",
              "├─Linear: 1-437                          262,144\n",
              "├─Reshape: 1-438                         --\n",
              "├─Transpose: 1-439                       --\n",
              "├─Linear: 1-440                          262,144\n",
              "├─Reshape: 1-441                         --\n",
              "├─Add: 1-442                             --\n",
              "├─Reshape: 1-443                         --\n",
              "├─Transpose: 1-444                       --\n",
              "├─Shape: 1-445                           --\n",
              "├─Cast: 1-446                            --\n",
              "├─Slice: 1-447                           --\n",
              "├─Squeeze: 1-448                         --\n",
              "├─Cast: 1-449                            --\n",
              "├─mul: 1-450                             --\n",
              "├─Transpose: 1-451                       --\n",
              "├─Linear: 1-452                          262,144\n",
              "├─Reshape: 1-453                         --\n",
              "├─Add: 1-454                             --\n",
              "├─Reshape: 1-455                         --\n",
              "├─Transpose: 1-456                       --\n",
              "├─MatMul: 1-457                          --\n",
              "├─Div: 1-458                             --\n",
              "├─Softmax: 1-459                         --\n",
              "├─MatMul: 1-460                          --\n",
              "├─Transpose: 1-461                       --\n",
              "├─Reshape: 1-462                         --\n",
              "├─Shape: 1-463                           --\n",
              "├─Cast: 1-464                            --\n",
              "├─Gather: 1-465                          --\n",
              "├─Cast: 1-466                            --\n",
              "├─Reshape: 1-467                         --\n",
              "├─Linear: 1-468                          262,144\n",
              "├─Reshape: 1-469                         --\n",
              "├─Add: 1-470                             --\n",
              "├─GlobalAveragePool: 1-471               --\n",
              "├─mul: 1-472                             --\n",
              "├─mul: 1-473                             --\n",
              "├─GlobalAveragePool: 1-474               --\n",
              "├─Add: 1-475                             --\n",
              "├─mul: 1-476                             --\n",
              "├─mul: 1-477                             --\n",
              "├─mul: 1-478                             --\n",
              "├─mul: 1-479                             --\n",
              "├─mul: 1-480                             --\n",
              "├─mul: 1-481                             --\n",
              "├─Add: 1-482                             --\n",
              "├─Shape: 1-483                           --\n",
              "├─Cast: 1-484                            --\n",
              "├─Slice: 1-485                           --\n",
              "├─Cast: 1-486                            --\n",
              "├─Cast: 1-487                            --\n",
              "├─Reshape: 1-488                         --\n",
              "├─Transpose: 1-489                       --\n",
              "├─Reshape: 1-490                         --\n",
              "├─Transpose: 1-491                       --\n",
              "├─Shape: 1-492                           --\n",
              "├─Cast: 1-493                            --\n",
              "├─Slice: 1-494                           --\n",
              "├─Squeeze: 1-495                         --\n",
              "├─Cast: 1-496                            --\n",
              "├─mul: 1-497                             --\n",
              "├─Transpose: 1-498                       --\n",
              "├─Gather: 1-499                          --\n",
              "├─Cast: 1-500                            --\n",
              "├─Reshape: 1-501                         --\n",
              "├─Linear: 1-502                          262,144\n",
              "├─Reshape: 1-503                         --\n",
              "├─Add: 1-504                             --\n",
              "├─Reshape: 1-505                         --\n",
              "├─Transpose: 1-506                       --\n",
              "├─MatMul: 1-507                          --\n",
              "├─Div: 1-508                             --\n",
              "├─Softmax: 1-509                         --\n",
              "├─MatMul: 1-510                          --\n",
              "├─Transpose: 1-511                       --\n",
              "├─Reshape: 1-512                         --\n",
              "├─Shape: 1-513                           --\n",
              "├─Cast: 1-514                            --\n",
              "├─Gather: 1-515                          --\n",
              "├─Cast: 1-516                            --\n",
              "├─Reshape: 1-517                         --\n",
              "├─Linear: 1-518                          262,144\n",
              "├─Reshape: 1-519                         --\n",
              "├─Add: 1-520                             --\n",
              "├─GlobalAveragePool: 1-521               --\n",
              "├─mul: 1-522                             --\n",
              "├─mul: 1-523                             --\n",
              "├─GlobalAveragePool: 1-524               --\n",
              "├─Add: 1-525                             --\n",
              "├─mul: 1-526                             --\n",
              "├─mul: 1-527                             --\n",
              "├─mul: 1-528                             --\n",
              "├─mul: 1-529                             --\n",
              "├─mul: 1-530                             --\n",
              "├─mul: 1-531                             --\n",
              "├─Add: 1-532                             --\n",
              "├─Shape: 1-533                           --\n",
              "├─Cast: 1-534                            --\n",
              "├─Gather: 1-535                          --\n",
              "├─Cast: 1-536                            --\n",
              "├─Reshape: 1-537                         --\n",
              "├─Linear: 1-538                          1,048,576\n",
              "├─Reshape: 1-539                         --\n",
              "├─ReLU: 1-540                            --\n",
              "├─Shape: 1-541                           --\n",
              "├─Cast: 1-542                            --\n",
              "├─Gather: 1-543                          --\n",
              "├─Cast: 1-544                            --\n",
              "├─Reshape: 1-545                         --\n",
              "├─Linear: 1-546                          1,048,576\n",
              "├─Reshape: 1-547                         --\n",
              "├─Add: 1-548                             --\n",
              "├─GlobalAveragePool: 1-549               --\n",
              "├─mul: 1-550                             --\n",
              "├─mul: 1-551                             --\n",
              "├─GlobalAveragePool: 1-552               --\n",
              "├─Add: 1-553                             --\n",
              "├─mul: 1-554                             --\n",
              "├─mul: 1-555                             --\n",
              "├─mul: 1-556                             --\n",
              "├─mul: 1-557                             --\n",
              "├─mul: 1-558                             --\n",
              "├─mul: 1-559                             --\n",
              "├─Add: 1-560                             --\n",
              "├─Reshape: 1-561                         --\n",
              "├─Linear: 1-562                          262,144\n",
              "├─Linear: 1-563                          262,144\n",
              "├─Linear: 1-564                          262,144\n",
              "├─Shape: 1-565                           --\n",
              "├─Cast: 1-566                            --\n",
              "├─Slice: 1-567                           --\n",
              "├─Cast: 1-568                            --\n",
              "├─Cast: 1-569                            --\n",
              "├─Reshape: 1-570                         --\n",
              "├─Transpose: 1-571                       --\n",
              "├─Gather: 1-572                          --\n",
              "├─Cast: 1-573                            --\n",
              "├─Reshape: 1-574                         --\n",
              "├─Add: 1-575                             --\n",
              "├─Reshape: 1-576                         --\n",
              "├─Transpose: 1-577                       --\n",
              "├─Shape: 1-578                           --\n",
              "├─Cast: 1-579                            --\n",
              "├─Slice: 1-580                           --\n",
              "├─Squeeze: 1-581                         --\n",
              "├─Cast: 1-582                            --\n",
              "├─mul: 1-583                             --\n",
              "├─Transpose: 1-584                       --\n",
              "├─Reshape: 1-585                         --\n",
              "├─Add: 1-586                             --\n",
              "├─Reshape: 1-587                         --\n",
              "├─Transpose: 1-588                       --\n",
              "├─MatMul: 1-589                          --\n",
              "├─Div: 1-590                             --\n",
              "├─Softmax: 1-591                         --\n",
              "├─MatMul: 1-592                          --\n",
              "├─Transpose: 1-593                       --\n",
              "├─Reshape: 1-594                         --\n",
              "├─Shape: 1-595                           --\n",
              "├─Cast: 1-596                            --\n",
              "├─Gather: 1-597                          --\n",
              "├─Cast: 1-598                            --\n",
              "├─Reshape: 1-599                         --\n",
              "├─Linear: 1-600                          262,144\n",
              "├─Reshape: 1-601                         --\n",
              "├─Add: 1-602                             --\n",
              "├─GlobalAveragePool: 1-603               --\n",
              "├─mul: 1-604                             --\n",
              "├─mul: 1-605                             --\n",
              "├─GlobalAveragePool: 1-606               --\n",
              "├─Add: 1-607                             --\n",
              "├─mul: 1-608                             --\n",
              "├─mul: 1-609                             --\n",
              "├─mul: 1-610                             --\n",
              "├─mul: 1-611                             --\n",
              "├─mul: 1-612                             --\n",
              "├─mul: 1-613                             --\n",
              "├─Add: 1-614                             --\n",
              "├─Shape: 1-615                           --\n",
              "├─Cast: 1-616                            --\n",
              "├─Slice: 1-617                           --\n",
              "├─Cast: 1-618                            --\n",
              "├─Cast: 1-619                            --\n",
              "├─Reshape: 1-620                         --\n",
              "├─Transpose: 1-621                       --\n",
              "├─Reshape: 1-622                         --\n",
              "├─Transpose: 1-623                       --\n",
              "├─Shape: 1-624                           --\n",
              "├─Cast: 1-625                            --\n",
              "├─Slice: 1-626                           --\n",
              "├─Squeeze: 1-627                         --\n",
              "├─Cast: 1-628                            --\n",
              "├─mul: 1-629                             --\n",
              "├─Transpose: 1-630                       --\n",
              "├─Gather: 1-631                          --\n",
              "├─Cast: 1-632                            --\n",
              "├─Reshape: 1-633                         --\n",
              "├─Linear: 1-634                          262,144\n",
              "├─Reshape: 1-635                         --\n",
              "├─Add: 1-636                             --\n",
              "├─Reshape: 1-637                         --\n",
              "├─Transpose: 1-638                       --\n",
              "├─MatMul: 1-639                          --\n",
              "├─Div: 1-640                             --\n",
              "├─Softmax: 1-641                         --\n",
              "├─MatMul: 1-642                          --\n",
              "├─Transpose: 1-643                       --\n",
              "├─Reshape: 1-644                         --\n",
              "├─Shape: 1-645                           --\n",
              "├─Cast: 1-646                            --\n",
              "├─Gather: 1-647                          --\n",
              "├─Cast: 1-648                            --\n",
              "├─Reshape: 1-649                         --\n",
              "├─Linear: 1-650                          262,144\n",
              "├─Reshape: 1-651                         --\n",
              "├─Add: 1-652                             --\n",
              "├─GlobalAveragePool: 1-653               --\n",
              "├─mul: 1-654                             --\n",
              "├─mul: 1-655                             --\n",
              "├─GlobalAveragePool: 1-656               --\n",
              "├─Add: 1-657                             --\n",
              "├─mul: 1-658                             --\n",
              "├─mul: 1-659                             --\n",
              "├─mul: 1-660                             --\n",
              "├─mul: 1-661                             --\n",
              "├─mul: 1-662                             --\n",
              "├─mul: 1-663                             --\n",
              "├─Add: 1-664                             --\n",
              "├─Shape: 1-665                           --\n",
              "├─Cast: 1-666                            --\n",
              "├─Gather: 1-667                          --\n",
              "├─Cast: 1-668                            --\n",
              "├─Reshape: 1-669                         --\n",
              "├─Linear: 1-670                          1,048,576\n",
              "├─Reshape: 1-671                         --\n",
              "├─ReLU: 1-672                            --\n",
              "├─Shape: 1-673                           --\n",
              "├─Cast: 1-674                            --\n",
              "├─Gather: 1-675                          --\n",
              "├─Cast: 1-676                            --\n",
              "├─Reshape: 1-677                         --\n",
              "├─Linear: 1-678                          1,048,576\n",
              "├─Reshape: 1-679                         --\n",
              "├─Add: 1-680                             --\n",
              "├─GlobalAveragePool: 1-681               --\n",
              "├─mul: 1-682                             --\n",
              "├─mul: 1-683                             --\n",
              "├─GlobalAveragePool: 1-684               --\n",
              "├─Add: 1-685                             --\n",
              "├─mul: 1-686                             --\n",
              "├─mul: 1-687                             --\n",
              "├─mul: 1-688                             --\n",
              "├─mul: 1-689                             --\n",
              "├─mul: 1-690                             --\n",
              "├─mul: 1-691                             --\n",
              "├─Add: 1-692                             --\n",
              "├─Reshape: 1-693                         --\n",
              "├─Linear: 1-694                          262,144\n",
              "├─Linear: 1-695                          262,144\n",
              "├─Linear: 1-696                          262,144\n",
              "├─Shape: 1-697                           --\n",
              "├─Cast: 1-698                            --\n",
              "├─Slice: 1-699                           --\n",
              "├─Cast: 1-700                            --\n",
              "├─Cast: 1-701                            --\n",
              "├─Reshape: 1-702                         --\n",
              "├─Transpose: 1-703                       --\n",
              "├─Gather: 1-704                          --\n",
              "├─Cast: 1-705                            --\n",
              "├─Reshape: 1-706                         --\n",
              "├─Add: 1-707                             --\n",
              "├─Reshape: 1-708                         --\n",
              "├─Transpose: 1-709                       --\n",
              "├─Shape: 1-710                           --\n",
              "├─Cast: 1-711                            --\n",
              "├─Slice: 1-712                           --\n",
              "├─Squeeze: 1-713                         --\n",
              "├─Cast: 1-714                            --\n",
              "├─mul: 1-715                             --\n",
              "├─Transpose: 1-716                       --\n",
              "├─Reshape: 1-717                         --\n",
              "├─Add: 1-718                             --\n",
              "├─Reshape: 1-719                         --\n",
              "├─Transpose: 1-720                       --\n",
              "├─MatMul: 1-721                          --\n",
              "├─Div: 1-722                             --\n",
              "├─Softmax: 1-723                         --\n",
              "├─MatMul: 1-724                          --\n",
              "├─Transpose: 1-725                       --\n",
              "├─Reshape: 1-726                         --\n",
              "├─Shape: 1-727                           --\n",
              "├─Cast: 1-728                            --\n",
              "├─Gather: 1-729                          --\n",
              "├─Cast: 1-730                            --\n",
              "├─Reshape: 1-731                         --\n",
              "├─Linear: 1-732                          262,144\n",
              "├─Reshape: 1-733                         --\n",
              "├─Add: 1-734                             --\n",
              "├─GlobalAveragePool: 1-735               --\n",
              "├─mul: 1-736                             --\n",
              "├─mul: 1-737                             --\n",
              "├─GlobalAveragePool: 1-738               --\n",
              "├─Add: 1-739                             --\n",
              "├─mul: 1-740                             --\n",
              "├─mul: 1-741                             --\n",
              "├─mul: 1-742                             --\n",
              "├─mul: 1-743                             --\n",
              "├─mul: 1-744                             --\n",
              "├─mul: 1-745                             --\n",
              "├─Add: 1-746                             --\n",
              "├─Shape: 1-747                           --\n",
              "├─Cast: 1-748                            --\n",
              "├─Slice: 1-749                           --\n",
              "├─Cast: 1-750                            --\n",
              "├─Cast: 1-751                            --\n",
              "├─Reshape: 1-752                         --\n",
              "├─Transpose: 1-753                       --\n",
              "├─Reshape: 1-754                         --\n",
              "├─Transpose: 1-755                       --\n",
              "├─Shape: 1-756                           --\n",
              "├─Cast: 1-757                            --\n",
              "├─Slice: 1-758                           --\n",
              "├─Squeeze: 1-759                         --\n",
              "├─Cast: 1-760                            --\n",
              "├─mul: 1-761                             --\n",
              "├─Transpose: 1-762                       --\n",
              "├─Gather: 1-763                          --\n",
              "├─Cast: 1-764                            --\n",
              "├─Reshape: 1-765                         --\n",
              "├─Linear: 1-766                          262,144\n",
              "├─Reshape: 1-767                         --\n",
              "├─Add: 1-768                             --\n",
              "├─Reshape: 1-769                         --\n",
              "├─Transpose: 1-770                       --\n",
              "├─MatMul: 1-771                          --\n",
              "├─Div: 1-772                             --\n",
              "├─Softmax: 1-773                         --\n",
              "├─MatMul: 1-774                          --\n",
              "├─Transpose: 1-775                       --\n",
              "├─Reshape: 1-776                         --\n",
              "├─Shape: 1-777                           --\n",
              "├─Cast: 1-778                            --\n",
              "├─Gather: 1-779                          --\n",
              "├─Cast: 1-780                            --\n",
              "├─Reshape: 1-781                         --\n",
              "├─Linear: 1-782                          262,144\n",
              "├─Reshape: 1-783                         --\n",
              "├─Add: 1-784                             --\n",
              "├─GlobalAveragePool: 1-785               --\n",
              "├─mul: 1-786                             --\n",
              "├─mul: 1-787                             --\n",
              "├─GlobalAveragePool: 1-788               --\n",
              "├─Add: 1-789                             --\n",
              "├─mul: 1-790                             --\n",
              "├─mul: 1-791                             --\n",
              "├─mul: 1-792                             --\n",
              "├─mul: 1-793                             --\n",
              "├─mul: 1-794                             --\n",
              "├─mul: 1-795                             --\n",
              "├─Add: 1-796                             --\n",
              "├─Shape: 1-797                           --\n",
              "├─Cast: 1-798                            --\n",
              "├─Gather: 1-799                          --\n",
              "├─Cast: 1-800                            --\n",
              "├─Reshape: 1-801                         --\n",
              "├─Linear: 1-802                          1,048,576\n",
              "├─Reshape: 1-803                         --\n",
              "├─ReLU: 1-804                            --\n",
              "├─Shape: 1-805                           --\n",
              "├─Cast: 1-806                            --\n",
              "├─Gather: 1-807                          --\n",
              "├─Cast: 1-808                            --\n",
              "├─Reshape: 1-809                         --\n",
              "├─Linear: 1-810                          1,048,576\n",
              "├─Reshape: 1-811                         --\n",
              "├─Add: 1-812                             --\n",
              "├─GlobalAveragePool: 1-813               --\n",
              "├─mul: 1-814                             --\n",
              "├─mul: 1-815                             --\n",
              "├─GlobalAveragePool: 1-816               --\n",
              "├─Add: 1-817                             --\n",
              "├─mul: 1-818                             --\n",
              "├─mul: 1-819                             --\n",
              "├─mul: 1-820                             --\n",
              "├─mul: 1-821                             --\n",
              "├─mul: 1-822                             --\n",
              "├─mul: 1-823                             --\n",
              "├─Add: 1-824                             --\n",
              "├─Shape: 1-825                           --\n",
              "├─Cast: 1-826                            --\n",
              "├─Gather: 1-827                          --\n",
              "├─Cast: 1-828                            --\n",
              "├─Reshape: 1-829                         --\n",
              "├─Linear: 1-830                          64,000\n",
              "├─Reshape: 1-831                         --\n",
              "=================================================================\n",
              "Total params: 25,229,824\n",
              "Trainable params: 25,229,824\n",
              "Non-trainable params: 0\n",
              "================================================================="
            ]
          },
          "metadata": {},
          "execution_count": 12
        }
      ]
    },
    {
      "cell_type": "code",
      "source": [],
      "metadata": {
        "id": "wdi4Fq0eiH6F"
      },
      "execution_count": null,
      "outputs": []
    }
  ],
  "metadata": {
    "colab": {
      "provenance": [],
      "authorship_tag": "ABX9TyPlUCVwdn6Eo8m9QICbdCuY",
      "include_colab_link": true
    },
    "kernelspec": {
      "display_name": "Python 3",
      "name": "python3"
    },
    "language_info": {
      "name": "python"
    }
  },
  "nbformat": 4,
  "nbformat_minor": 0
}