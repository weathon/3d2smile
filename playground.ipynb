{
  "nbformat": 4,
  "nbformat_minor": 0,
  "metadata": {
    "colab": {
      "provenance": [],
      "authorship_tag": "ABX9TyO2xMXzwsNlggSuRSqgoFEn",
      "include_colab_link": true
    },
    "kernelspec": {
      "name": "python3",
      "display_name": "Python 3"
    },
    "language_info": {
      "name": "python"
    }
  },
  "cells": [
    {
      "cell_type": "markdown",
      "metadata": {
        "id": "view-in-github",
        "colab_type": "text"
      },
      "source": [
        "<a href=\"https://colab.research.google.com/github/weathon/3d2smile/blob/main/playground.ipynb\" target=\"_parent\"><img src=\"https://colab.research.google.com/assets/colab-badge.svg\" alt=\"Open In Colab\"/></a>"
      ]
    },
    {
      "cell_type": "code",
      "execution_count": 29,
      "metadata": {
        "id": "DhdFqoLa6_g9",
        "colab": {
          "base_uri": "https://localhost:8080/",
          "height": 299
        },
        "outputId": "3fd211a0-7e70-489d-ef95-ba5258afe963"
      },
      "outputs": [
        {
          "output_type": "stream",
          "name": "stdout",
          "text": [
            "500\n",
            "500\n",
            "500\n"
          ]
        },
        {
          "output_type": "error",
          "ename": "KeyboardInterrupt",
          "evalue": "ignored",
          "traceback": [
            "\u001b[0;31m---------------------------------------------------------------------------\u001b[0m",
            "\u001b[0;31mKeyboardInterrupt\u001b[0m                         Traceback (most recent call last)",
            "\u001b[0;32m<ipython-input-29-63c4762eb477>\u001b[0m in \u001b[0;36m<cell line: 11>\u001b[0;34m()\u001b[0m\n\u001b[1;32m     15\u001b[0m   \u001b[0mp\u001b[0m \u001b[0;34m=\u001b[0m \u001b[0mmultiprocessing\u001b[0m\u001b[0;34m.\u001b[0m\u001b[0mProcess\u001b[0m\u001b[0;34m(\u001b[0m\u001b[0mtarget\u001b[0m\u001b[0;34m=\u001b[0m\u001b[0mgetitem\u001b[0m\u001b[0;34m,\u001b[0m \u001b[0margs\u001b[0m\u001b[0;34m=\u001b[0m\u001b[0;34m(\u001b[0m\u001b[0mstr\u001b[0m\u001b[0;34m(\u001b[0m\u001b[0;36m0\u001b[0m\u001b[0;34m)\u001b[0m\u001b[0;34m,\u001b[0m\u001b[0;34m)\u001b[0m\u001b[0;34m)\u001b[0m\u001b[0;34m\u001b[0m\u001b[0;34m\u001b[0m\u001b[0m\n\u001b[1;32m     16\u001b[0m   \u001b[0mp\u001b[0m\u001b[0;34m.\u001b[0m\u001b[0mstart\u001b[0m\u001b[0;34m(\u001b[0m\u001b[0;34m)\u001b[0m\u001b[0;34m\u001b[0m\u001b[0;34m\u001b[0m\u001b[0m\n\u001b[0;32m---> 17\u001b[0;31m   \u001b[0mtime\u001b[0m\u001b[0;34m.\u001b[0m\u001b[0msleep\u001b[0m\u001b[0;34m(\u001b[0m\u001b[0;36m2\u001b[0m\u001b[0;34m)\u001b[0m\u001b[0;34m\u001b[0m\u001b[0;34m\u001b[0m\u001b[0m\n\u001b[0m\u001b[1;32m     18\u001b[0m \u001b[0;34m\u001b[0m\u001b[0m\n\u001b[1;32m     19\u001b[0m \u001b[0;31m#understood, there was none at the begining\u001b[0m\u001b[0;34m\u001b[0m\u001b[0;34m\u001b[0m\u001b[0m\n",
            "\u001b[0;31mKeyboardInterrupt\u001b[0m: "
          ]
        }
      ],
      "source": [
        "import time, multiprocessing\n",
        "\n",
        "end1, end2 = multiprocessing.Pipe()\n",
        "def getitem(index):\n",
        "  # print(f\"reading {index}\")\n",
        "  time.sleep(1)\n",
        "  end2.send(500)\n",
        "  # print(f\"sent\")\n",
        "\n",
        "getitem(-1) #undeerstood, the get item return none and it is saved, why my brain is not working today\n",
        "for i in range(10):\n",
        "  if not end1.poll():\n",
        "    print(\"WARNING: reading too slow\")\n",
        "  print(end1.recv())\n",
        "  p = multiprocessing.Process(target=getitem, args=(str(0),))\n",
        "  p.start()\n",
        "  time.sleep(2)\n",
        "\n",
        "#understood, there was none at the begining"
      ]
    },
    {
      "cell_type": "code",
      "source": [
        "end1.recv() # confirmed, ther eis a none after first send"
      ],
      "metadata": {
        "id": "mAVQwTrNHy-o"
      },
      "execution_count": null,
      "outputs": []
    },
    {
      "cell_type": "code",
      "source": [
        "import time, multiprocessing\n",
        "\n",
        "end1, end2 = multiprocessing.Pipe()\n",
        "def getitem(index):\n",
        "  print(f\"reading {index}\")\n",
        "  end2.send(500)\n",
        "  print(f\"sent\")\n",
        "p = multiprocessing.Process(target=getitem, args=(str(0),))\n",
        "p.start()"
      ],
      "metadata": {
        "colab": {
          "base_uri": "https://localhost:8080/"
        },
        "id": "TV5ymqy1G00a",
        "outputId": "9e20d1fb-3f08-4cd5-d376-3a33c0cc12d1"
      },
      "execution_count": null,
      "outputs": [
        {
          "output_type": "stream",
          "name": "stdout",
          "text": [
            "reading 0\n",
            "sent\n"
          ]
        }
      ]
    },
    {
      "cell_type": "code",
      "source": [
        "end1.recv()"
      ],
      "metadata": {
        "colab": {
          "base_uri": "https://localhost:8080/"
        },
        "id": "VFnC1xE5G5FZ",
        "outputId": "d680fb6b-d3c6-4002-f240-9bacb5413f17"
      },
      "execution_count": null,
      "outputs": [
        {
          "output_type": "execute_result",
          "data": {
            "text/plain": [
              "500"
            ]
          },
          "metadata": {},
          "execution_count": 13
        }
      ]
    },
    {
      "cell_type": "code",
      "source": [
        "# # https://www.velotio.com/engineering-blog/async-features-in-python#:~:text=An%20async%20function%20uses%20the,Tasks%20as%20a%20Future%20object. guanjietongdautui\n",
        "# import asyncio\n",
        "# async def read_file(a):\n",
        "#   print(f\"reading {a}\")\n",
        "#   await asyncio.sleep(1)\n",
        "#   print(f\"finished reading {a}\")\n",
        "#   return a\n",
        "\n",
        "# async def main():\n",
        "#     taskA = asyncio.create_task(read_file('taskA'))\n",
        "#     await asyncio.wait([taskA])\n",
        "\n",
        "# asyncio.run(main())"
      ],
      "metadata": {
        "id": "i67YCh5uDF-i"
      },
      "execution_count": null,
      "outputs": []
    },
    {
      "cell_type": "code",
      "source": [
        "history = \"\"\"EPOCH 1:\n",
        "Example Output: CCCCCCCCCC\n",
        "Training loss: 1.5056668996810914\n",
        "Training loss: 1.4905302405357361\n",
        "Example Output: CCCCCCCCCC\n",
        "Training loss: 1.49205322265625\n",
        "Training loss: 1.4885518193244933\n",
        "Example Output: CCCCCCCCCC\n",
        "Training loss: 1.5008455276489259\n",
        "Training loss: 1.4929023861885071\n",
        "Example Output: CCCCCCCCCC\n",
        "Training loss: 1.494894516468048\n",
        "Training loss: 1.4789785146713257\n",
        "Example Output: CCCCCCCCCC\n",
        "Training loss: 1.488943600654602\n",
        "Training loss: 1.484151554107666\n",
        "Example Output: CCCCCCCCCC\n",
        "Training loss: 1.4896686792373657\n",
        "Training loss: 1.503781497478485\n",
        "Example Output: CCCCCCCCCC\n",
        "Training loss: 1.4692835450172423\n",
        "Training loss: 1.464872145652771\n",
        "Example Output: CCCCCCCCCC\n",
        "Training loss: 1.4660223007202149\n",
        "Training loss: 1.4931326627731323\n",
        "Example Output: CCCCCCCCCC\n",
        "Training loss: 1.4711901903152467\n",
        "Training loss: 1.476701033115387\n",
        "Example Output: CCCCCCCCCC\n",
        "Training loss: 1.4786455750465393\n",
        "Training loss: 1.4790977716445923\n",
        "Example Output: CCCCCCCCCC\n",
        "Training loss: 1.481420111656189\n",
        "Training loss: 1.4735169410705566\n",
        "Example Output: CCCCCCCCCC\n",
        "Training loss: 1.4758571982383728\n",
        "Training loss: 1.4726030230522156\n",
        "Example Output: CCCCCCCCCC\n",
        "Training loss: 1.4592734098434448\n",
        "Training loss: 1.4628987789154053\n",
        "Example Output: CCCCCCCCCC\n",
        "Training loss: 1.477398157119751\n",
        "Training loss: 1.4911863207817078\n",
        "Example Output: CCCCCCCCCC\n",
        "Training loss: 1.491250228881836\n",
        "Training loss: 1.490499484539032\n",
        "Example Output: CCCCCCCCCC\n",
        "Training loss: 1.464557445049286\n",
        "Training loss: 1.466812801361084\n",
        "Example Output: CCCCCCCCCC\n",
        "Training loss: 1.4771416544914246\n",
        "Training loss: 1.4645928740501404\n",
        "Example Output: CCCCCCCCCC\n",
        "Training loss: 1.4568310379981995\n",
        "Training loss: 1.4547734618186952\n",
        "Example Output: CCCCCCCCCC\n",
        "Training loss: 1.4676785588264465\n",
        "Training loss: 1.4772716641426087\n",
        "Example Output: CCCCCCCCCC\n",
        "Training loss: 1.4706100344657898\n",
        "Training loss: 1.4558680176734924\n",
        "Example Output: CCCCCCCCCC\n",
        "Training loss: 1.4647307991981506\n",
        "Training loss: 1.4571103930473328\n",
        "Example Output: CCCCCCCCCC\n",
        "Training loss: 1.4480185627937316\n",
        "Training loss: 1.458189356327057\n",
        "Example Output: CCCCCCCCCC\n",
        "Training loss: 1.439108169078827\n",
        "Training loss: 1.450178587436676\n",
        "Example Output: CCCCCCCCCC\n",
        "Training loss: 1.4518282532691955\n",
        "Training loss: 1.4555275440216064\n",
        "Example Output: CCCCCCCCCC\n",
        "Training loss: 1.4526208639144897\n",
        "Training loss: 1.448076355457306\n",
        "Example Output: CCCCCCCCCC\n",
        "Training loss: 1.4476839303970337\n",
        "Training loss: 1.4393787503242492\n",
        "Example Output: CCCCCCCCCC\n",
        "Training loss: 1.4393077969551087\n",
        "Training loss: 1.4492653369903565\n",
        "Example Output: CCCCCCCCCC\n",
        "Training loss: 1.4372838139533997\n",
        "Training loss: 1.4633198142051698\n",
        "Example Output: CCCCCCCCCC\n",
        "Training loss: 1.4578147411346436\n",
        "Training loss: 1.4395763754844666\n",
        "Example Output: CCCCCCCCCC\n",
        "Training loss: 1.4424136281013489\n",
        "Training loss: 1.4423179864883422\n",
        "Example Output: CCCCCCCCCC\n",
        "Training loss: 1.4378762364387512\n",
        "Training loss: 1.4503512382507324\n",
        "Example Output: CCCCCCCCCC\n",
        "Training loss: 1.4397329688072205\n",
        "Training loss: 1.4558201670646667\n",
        "Example Output: CCCCCCCCCC\n",
        "Training loss: 1.4427222967147828\n",
        "Training loss: 1.4437400221824646\n",
        "Example Output: CCCCCCCCCC\n",
        "Training loss: 1.4442493677139283\n",
        "Training loss: 1.4452995181083679\n",
        "Example Output: CCCCCCCCCC\n",
        "Training loss: 1.4192635893821717\n",
        "Training loss: 1.4459753513336182\n",
        "Example Output: CCCCCCCCCC\"\"\"\n",
        "history = [float(i.split(\":\")[1]) for i in history.split(\"\\n\") if \"loss\" in i ]\n",
        "import pylab\n",
        "import numpy as np\n",
        "pylab.scatter(np.arange(len(history)), history)\n",
        "pylab.plot(np.arange(len(history)), history)"
      ],
      "metadata": {
        "colab": {
          "base_uri": "https://localhost:8080/",
          "height": 448
        },
        "id": "3CxoibOs9dj6",
        "outputId": "45d095ee-34ab-42d9-b92b-6041308c2bec"
      },
      "execution_count": null,
      "outputs": [
        {
          "output_type": "execute_result",
          "data": {
            "text/plain": [
              "[<matplotlib.lines.Line2D at 0x7d89654c5240>]"
            ]
          },
          "metadata": {},
          "execution_count": 48
        },
        {
          "output_type": "display_data",
          "data": {
            "text/plain": [
              "<Figure size 640x480 with 1 Axes>"
            ],
            "image/png": "[encoded data removed]"
          },
          "metadata": {}
        }
      ]
    }
  ]
}