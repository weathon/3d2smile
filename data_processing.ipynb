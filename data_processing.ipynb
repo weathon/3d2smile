{
  "nbformat": 4,
  "nbformat_minor": 0,
  "metadata": {
    "colab": {
      "provenance": [],
      "authorship_tag": "ABX9TyMDgcw6jbvXg60/Jgy9P0ya",
      "include_colab_link": true
    },
    "kernelspec": {
      "name": "python3",
      "display_name": "Python 3"
    },
    "language_info": {
      "name": "python"
    }
  },
  "cells": [
    {
      "cell_type": "markdown",
      "metadata": {
        "id": "view-in-github",
        "colab_type": "text"
      },
      "source": [
        "<a href=\"https://colab.research.google.com/github/weathon/3d2smile/blob/main/data_processing.ipynb\" target=\"_parent\"><img src=\"https://colab.research.google.com/assets/colab-badge.svg\" alt=\"Open In Colab\"/></a>"
      ]
    },
    {
      "cell_type": "code",
      "execution_count": 1,
      "metadata": {
        "colab": {
          "base_uri": "https://localhost:8080/"
        },
        "id": "G42IswH0FwtP",
        "outputId": "ee0defd7-5057-4cc1-afd3-3ba2147c32d1"
      },
      "outputs": [
        {
          "output_type": "stream",
          "name": "stdout",
          "text": [
            "Successfully installed Mako-1.3.3 alembic-1.13.1 aniso8601-9.0.1 docker-7.0.0 docker-pycreds-0.4.0 gitdb-4.0.11 gitpython-3.1.43 graphene-3.3 graphql-core-3.2.3 graphql-relay-3.2.0 gunicorn-22.0.0 mlflow-2.12.2 querystring-parser-1.2.4 sentry-sdk-2.1.1 setproctitle-1.3.3 smmap-5.0.1 wandb-0.17.0\n"
          ]
        }
      ],
      "source": [
        "!pip install wandb[importers]"
      ]
    },
    {
      "cell_type": "code",
      "source": [
        "import wandb\n",
        "wandb.login()"
      ],
      "metadata": {
        "colab": {
          "base_uri": "https://localhost:8080/",
          "height": 121
        },
        "id": "d56wUUZWFzqc",
        "outputId": "a8471e3c-0497-4358-a8b6-87ca052c329d"
      },
      "execution_count": 2,
      "outputs": [
        {
          "output_type": "display_data",
          "data": {
            "text/plain": [
              "<IPython.core.display.Javascript object>"
            ],
            "application/javascript": [
              "\n",
              "        window._wandbApiKey = new Promise((resolve, reject) => {\n",
              "            function loadScript(url) {\n",
              "            return new Promise(function(resolve, reject) {\n",
              "                let newScript = document.createElement(\"script\");\n",
              "                newScript.onerror = reject;\n",
              "                newScript.onload = resolve;\n",
              "                document.body.appendChild(newScript);\n",
              "                newScript.src = url;\n",
              "            });\n",
              "            }\n",
              "            loadScript(\"https://cdn.jsdelivr.net/npm/postmate/build/postmate.min.js\").then(() => {\n",
              "            const iframe = document.createElement('iframe')\n",
              "            iframe.style.cssText = \"width:0;height:0;border:none\"\n",
              "            document.body.appendChild(iframe)\n",
              "            const handshake = new Postmate({\n",
              "                container: iframe,\n",
              "                url: 'https://wandb.ai/authorize'\n",
              "            });\n",
              "            const timeout = setTimeout(() => reject(\"Couldn't auto authenticate\"), 5000)\n",
              "            handshake.then(function(child) {\n",
              "                child.on('authorize', data => {\n",
              "                    clearTimeout(timeout)\n",
              "                    resolve(data)\n",
              "                });\n",
              "            });\n",
              "            })\n",
              "        });\n",
              "    "
            ]
          },
          "metadata": {}
        },
        {
          "output_type": "stream",
          "name": "stderr",
          "text": [
            "\u001b[34m\u001b[1mwandb\u001b[0m: Logging into wandb.ai. (Learn how to deploy a W&B server locally: https://wandb.me/wandb-server)\n",
            "\u001b[34m\u001b[1mwandb\u001b[0m: You can find your API key in your browser here: https://wandb.ai/authorize\n",
            "wandb: Paste an API key from your profile and hit enter, or press ctrl+c to quit:"
          ]
        },
        {
          "name": "stdout",
          "output_type": "stream",
          "text": [
            " ··········\n"
          ]
        },
        {
          "output_type": "stream",
          "name": "stderr",
          "text": [
            "\u001b[34m\u001b[1mwandb\u001b[0m: Appending key for api.wandb.ai to your netrc file: /root/.netrc\n"
          ]
        },
        {
          "output_type": "execute_result",
          "data": {
            "text/plain": [
              "True"
            ]
          },
          "metadata": {},
          "execution_count": 2
        }
      ]
    },
    {
      "cell_type": "code",
      "source": [
        "import pandas as pd\n",
        "import wandb\n",
        "api = wandb.Api()\n",
        "\n",
        "# Project is specified by <entity/project-name>\n",
        "sweep = api.sweep(\"3dsmile/thesis sweep/sweep/4ulbfopv\")\n"
      ],
      "metadata": {
        "colab": {
          "base_uri": "https://localhost:8080/"
        },
        "id": "OamD_74LGy7_",
        "outputId": "3af84155-5396-4601-a14d-2faa095b05ac"
      },
      "execution_count": 15,
      "outputs": [
        {
          "output_type": "execute_result",
          "data": {
            "text/plain": [
              "['LEGACY_QUERY',\n",
              " 'QUERY',\n",
              " '__class__',\n",
              " '__delattr__',\n",
              " '__dict__',\n",
              " '__dir__',\n",
              " '__doc__',\n",
              " '__eq__',\n",
              " '__format__',\n",
              " '__ge__',\n",
              " '__getattr__',\n",
              " '__getattribute__',\n",
              " '__gt__',\n",
              " '__hash__',\n",
              " '__init__',\n",
              " '__init_subclass__',\n",
              " '__le__',\n",
              " '__lt__',\n",
              " '__module__',\n",
              " '__ne__',\n",
              " '__new__',\n",
              " '__reduce__',\n",
              " '__reduce_ex__',\n",
              " '__repr__',\n",
              " '__setattr__',\n",
              " '__sizeof__',\n",
              " '__str__',\n",
              " '__subclasshook__',\n",
              " '__weakref__',\n",
              " '_attrs',\n",
              " '_entity',\n",
              " '_repr_html_',\n",
              " 'best_run',\n",
              " 'client',\n",
              " 'config',\n",
              " 'display',\n",
              " 'entity',\n",
              " 'expected_run_count',\n",
              " 'get',\n",
              " 'id',\n",
              " 'load',\n",
              " 'name',\n",
              " 'order',\n",
              " 'path',\n",
              " 'project',\n",
              " 'runs',\n",
              " 'snake_to_camel',\n",
              " 'to_html',\n",
              " 'url',\n",
              " 'username']"
            ]
          },
          "metadata": {},
          "execution_count": 15
        }
      ]
    },
    {
      "cell_type": "code",
      "source": [
        "runs = sweep.runs\n",
        "# data = [i.history() for i in runs]\n",
        "len(runs)"
      ],
      "metadata": {
        "colab": {
          "base_uri": "https://localhost:8080/"
        },
        "id": "R-fH_CsQIkuO",
        "outputId": "15b9da66-eb6d-4990-cd8f-b0fd949e3310"
      },
      "execution_count": 51,
      "outputs": [
        {
          "output_type": "execute_result",
          "data": {
            "text/plain": [
              "799"
            ]
          },
          "metadata": {},
          "execution_count": 51
        }
      ]
    },
    {
      "cell_type": "code",
      "source": [
        "history = [run.history() for run in runs]"
      ],
      "metadata": {
        "id": "COsMyU-RIztr"
      },
      "execution_count": null,
      "outputs": []
    },
    {
      "cell_type": "code",
      "source": [
        "top1_mean = [run[\"top1\"].mean() for  run in history]\n",
        "top1_std = [run[\"top1\"].std() for run in history]\n",
        "topn_mean = [run[\"topn\"].mean() for  run in history]\n",
        "topn_std = [run[\"topn\"].std() for  run in history]"
      ],
      "metadata": {
        "id": "BvBuS5H1eCSY"
      },
      "execution_count": 86,
      "outputs": []
    },
    {
      "cell_type": "code",
      "source": [
        "data = {\n",
        "    'top1_mean': top1_mean,\n",
        "    'topn_mean': topn_mean,\n",
        "    'top1_std': top1_std,\n",
        "    'topn_std': topn_std\n",
        "}\n",
        "\n",
        "import pickle\n",
        "# Save the dictionary to a pickle file\n",
        "with open('sweep.pkl', 'wb') as f:\n",
        "    pickle.dump(data, f)\n",
        "\n"
      ],
      "metadata": {
        "id": "ULmX2zwdNEnt"
      },
      "execution_count": 87,
      "outputs": []
    },
    {
      "cell_type": "code",
      "source": [
        "data = []\n",
        "for i in range(len(top1_mean)):\n",
        "  data.append({\n",
        "      \"top1_mean\":top1_mean[i],\n",
        "      \"topn_mean\":topn_mean[i],\n",
        "      \"top1_std\":top1_std[i],\n",
        "      \"topn_std\":topn_std[i],\n",
        "      \"beam\": runs[i].config[\"beam\"],\n",
        "      \"alpha\": runs[i].config[\"alpha\"],\n",
        "      \"nImages\": runs[i].config[\"nImages\"],\n",
        "      \"temp\": runs[i].config[\"temp\"],\n",
        "  })"
      ],
      "metadata": {
        "id": "zdZ-_XkBR3bR"
      },
      "execution_count": 88,
      "outputs": []
    },
    {
      "cell_type": "code",
      "source": [
        "df = pd.DataFrame(data)"
      ],
      "metadata": {
        "id": "xzajQQ0gT_Xr"
      },
      "execution_count": 89,
      "outputs": []
    },
    {
      "cell_type": "code",
      "source": [
        "df.to_csv(\"inf_sweep.csv\")"
      ],
      "metadata": {
        "id": "ZndNXLohUBqS"
      },
      "execution_count": 90,
      "outputs": []
    },
    {
      "cell_type": "code",
      "source": [
        "import numpy as np\n",
        "np.max(df.query(f\"nImages=={1} & beam=={1}\")[\"top1_mean\"]).item()"
      ],
      "metadata": {
        "colab": {
          "base_uri": "https://localhost:8080/"
        },
        "id": "vUUObdGrfAaS",
        "outputId": "61977499-740f-4d5e-f321-09b67f52bbe4"
      },
      "execution_count": 91,
      "outputs": [
        {
          "output_type": "execute_result",
          "data": {
            "text/plain": [
              "15.95"
            ]
          },
          "metadata": {},
          "execution_count": 91
        }
      ]
    },
    {
      "cell_type": "code",
      "source": [
        "arr1 = []\n",
        "for nImages in range(1,4):\n",
        "  arr1.append([np.max(df.query(f\"nImages=={nImages} & beam=={beam}\")[\"top1_mean\"]).item() for beam in range(1,6)])\n"
      ],
      "metadata": {
        "id": "2MV6IoPceXPk"
      },
      "execution_count": 92,
      "outputs": []
    },
    {
      "cell_type": "code",
      "source": [
        "arr = []\n",
        "for nImages in range(1,4):\n",
        "  arr.append([np.max(df.query(f\"nImages=={nImages} & beam=={beam}\")[\"topn_mean\"]).item() for beam in range(1,6)])\n",
        "\n",
        "import seaborn as sns\n",
        "sns.heatmap(np.array(arr)/20, annot=True)"
      ],
      "metadata": {
        "colab": {
          "base_uri": "https://localhost:8080/",
          "height": 447
        },
        "id": "ao1lKe7TfITS",
        "outputId": "afb4b89a-151c-413c-86d8-2a5214e413c7"
      },
      "execution_count": 102,
      "outputs": [
        {
          "output_type": "execute_result",
          "data": {
            "text/plain": [
              "<Axes: >"
            ]
          },
          "metadata": {},
          "execution_count": 102
        },
        {
          "output_type": "display_data",
          "data": {
            "text/plain": [
              "<Figure size 640x480 with 2 Axes>"
            ],
            "image/png": "[encoded data removed]"
          },
          "metadata": {}
        }
      ]
    }
  ]
}