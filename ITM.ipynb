{
  "nbformat": 4,
  "nbformat_minor": 0,
  "metadata": {
    "colab": {
      "provenance": [],
      "gpuType": "V100",
      "authorship_tag": "ABX9TyPUS/0vF/8wYbOgQeGpUm8v",
      "include_colab_link": true
    },
    "kernelspec": {
      "name": "python3",
      "display_name": "Python 3"
    },
    "language_info": {
      "name": "python"
    },
    "accelerator": "GPU"
  },
  "cells": [
    {
      "cell_type": "markdown",
      "metadata": {
        "id": "view-in-github",
        "colab_type": "text"
      },
      "source": [
        "<a href=\"https://colab.research.google.com/github/weathon/3d2smile/blob/main/ITM.ipynb\" target=\"_parent\"><img src=\"https://colab.research.google.com/assets/colab-badge.svg\" alt=\"Open In Colab\"/></a>"
      ]
    },
    {
      "cell_type": "code",
      "execution_count": 1,
      "metadata": {
        "id": "yx9l03x7a-vq"
      },
      "outputs": [],
      "source": [
        "# !pip install rdkit deepsmiles\n",
        "# !pip3 install torchinfo\n",
        "# !pip install tqdm boto3 requests regex sentencepiece sacremoses huggingface_hub\n",
        "# !wget http://file.weasoft.com/80k.csv\n",
        "# !pip install transformers -U"
      ]
    },
    {
      "cell_type": "code",
      "source": [
        "import rdkit\n",
        "from rdkit import Chem\n",
        "from rdkit.Chem import Draw\n",
        "import deepsmiles\n",
        "import numpy as np\n",
        "import pylab\n",
        "converter = deepsmiles.Converter(rings=True, branches=True)\n",
        "def deepsmiles_to_img(ds):\n",
        "   img = np.array(Draw.MolToImage(Chem.MolFromSmiles(converter.decode(ds)), size=(400,400)).convert(\"L\", dither=None).convert(\"RGB\"))\n",
        "   img = np.where(img<253, 0, 1) * img\n",
        "   return img\n",
        "\n",
        "def smiles_to_img(smiles):\n",
        "  return deepsmiles_to_img(converter.encode(smiles))\n",
        "import torch\n",
        "if torch.cuda.is_available():\n",
        "  device = torch.device('cuda:0')\n",
        "else:\n",
        "  device = torch.device('cpu')"
      ],
      "metadata": {
        "id": "pjjuor65bCnW"
      },
      "execution_count": 2,
      "outputs": []
    },
    {
      "cell_type": "code",
      "source": [
        "import pandas\n",
        "csv = pandas.read_csv(\"80k.csv\")\n",
        "\n",
        "smiles_arr = []\n",
        "for smiles in csv['canonicalsmiles']:\n",
        "  smiles_arr.append(converter.encode(smiles))"
      ],
      "metadata": {
        "id": "y8M7a7upbE11"
      },
      "execution_count": 3,
      "outputs": []
    },
    {
      "cell_type": "code",
      "source": [
        "smiles_encoder = torch.hub.load('huggingface/pytorch-transformers', 'model', 'bert-base-uncased')"
      ],
      "metadata": {
        "colab": {
          "base_uri": "https://localhost:8080/"
        },
        "id": "dYz9P5RHbbBZ",
        "outputId": "aa4e43ad-3eec-4644-9d2a-f9846aee322b"
      },
      "execution_count": 4,
      "outputs": [
        {
          "output_type": "stream",
          "name": "stderr",
          "text": [
            "Using cache found in /root/.cache/torch/hub/huggingface_pytorch-transformers_main\n"
          ]
        }
      ]
    },
    {
      "cell_type": "code",
      "source": [
        "import torchvision\n",
        "image_encoder = torchvision.models.swin_s(weights='DEFAULT')"
      ],
      "metadata": {
        "id": "crK6sA47cbPl"
      },
      "execution_count": 5,
      "outputs": []
    },
    {
      "cell_type": "code",
      "source": [
        "import torchinfo\n",
        "image_encoder.norm = torch.nn.Identity()\n",
        "image_encoder.permute = torch.nn.Identity()\n",
        "image_encoder.avgpool = torch.nn.Identity()\n",
        "image_encoder.flatten = torch.nn.Flatten(-3, -2)\n",
        "\n",
        "image_encoder.head = torch.nn.Identity()\n",
        "# torchinfo.summary(image_encoder, input_size=(1, 3, 400, 400))"
      ],
      "metadata": {
        "id": "apZrQET3cjEA"
      },
      "execution_count": 6,
      "outputs": []
    },
    {
      "cell_type": "code",
      "source": [
        "image_encoder(torch.rand(1, 3, 400, 400)).shape"
      ],
      "metadata": {
        "colab": {
          "base_uri": "https://localhost:8080/"
        },
        "id": "GJ6-GN65fXRB",
        "outputId": "f5540070-2493-414e-eae6-6957b6375156"
      },
      "execution_count": 7,
      "outputs": [
        {
          "output_type": "execute_result",
          "data": {
            "text/plain": [
              "torch.Size([1, 169, 768])"
            ]
          },
          "metadata": {},
          "execution_count": 7
        }
      ]
    },
    {
      "cell_type": "code",
      "source": [
        "smiles_encoder.pooler = torch.nn.Identity()\n",
        "# torchinfo.summary(smiles_encoder, input_data=torch.ones(1, 128, dtype=torch.int32))"
      ],
      "metadata": {
        "id": "sebmyOu_eASp"
      },
      "execution_count": 8,
      "outputs": []
    },
    {
      "cell_type": "code",
      "source": [
        "smiles_encoder(torch.zeros(1,128, dtype=torch.int32)).last_hidden_state.shape"
      ],
      "metadata": {
        "colab": {
          "base_uri": "https://localhost:8080/"
        },
        "id": "V-IBYvN4fdY4",
        "outputId": "bb61633e-706b-44e7-e3fa-3f83ebc7ed16"
      },
      "execution_count": 9,
      "outputs": [
        {
          "output_type": "stream",
          "name": "stderr",
          "text": [
            "We strongly recommend passing in an `attention_mask` since your input_ids may be padded. See https://huggingface.co/docs/transformers/troubleshooting#incorrect-output-when-padding-tokens-arent-masked.\n"
          ]
        },
        {
          "output_type": "execute_result",
          "data": {
            "text/plain": [
              "torch.Size([1, 128, 768])"
            ]
          },
          "metadata": {},
          "execution_count": 9
        }
      ]
    },
    {
      "cell_type": "code",
      "source": [
        "chars = list(set(\"\".join(smiles_arr)))\n",
        "tokens = dict.fromkeys(chars)\n",
        "for i, char in enumerate(chars):\n",
        "  tokens[char] = i\n",
        "reversed_mapping = {}\n",
        "for i, char in enumerate(chars):\n",
        "  reversed_mapping[i] = char\n",
        "for i, smiles in enumerate(smiles_arr):\n",
        "  smiles_arr[i] = [tokens[char] for char in smiles]"
      ],
      "metadata": {
        "id": "VjcR4BCQbjNg"
      },
      "execution_count": 10,
      "outputs": []
    },
    {
      "cell_type": "code",
      "source": [
        "# https://youtu.be/ug8YvZOjOCE?t=2692\n",
        "class CL(torch.nn.Module):\n",
        "  def __init__(self, maxlen):\n",
        "    super().__init__()\n",
        "    self.image_encoder = image_encoder.to(device)\n",
        "    self.smiles_encoder = smiles_encoder.to(device)\n",
        "    self.smiles_proj = torch.nn.Linear(768, 512).to(device)\n",
        "    self.pos1 = torch.nn.Embedding(13*13, 768).to(device)\n",
        "    self.pos2 = torch.nn.Embedding(maxlen, 768).to(device)\n",
        "    self.modal = torch.nn.Embedding(2, 768).to(device)\n",
        "    self.i_begin = torch.nn.Embedding(1, 768).to(device)\n",
        "    self.t_begin = torch.nn.Embedding(1, 768).to(device)\n",
        "    self.fusion = torch.nn.Sequential(\n",
        "        torch.nn.TransformerEncoderLayer(d_model=768, nhead=8, dim_feedforward=512, dropout=0.1, batch_first=True).to(device),\n",
        "        torch.nn.TransformerEncoderLayer(d_model=768, nhead=8, dim_feedforward=512, dropout=0.1, batch_first=True).to(device),\n",
        "        torch.nn.TransformerEncoderLayer(d_model=768, nhead=8, dim_feedforward=512, dropout=0.1, batch_first=True).to(device),\n",
        "        torch.nn.TransformerEncoderLayer(d_model=768, nhead=8, dim_feedforward=512, dropout=0.1, batch_first=True).to(device),\n",
        "    ).to(device)\n",
        "    self.head = torch.nn.Linear(768, 30).to(device)\n",
        "  def forward(self, image, smiles):\n",
        "    # print(self.i_begin(torch.tensor(0)).unsqueeze(0).unsqueeze(0).repeat(image.shape[0],1,1).shape)\n",
        "    image_embedding = self.image_encoder(image)\n",
        "    smiles_embedding = self.smiles_encoder(smiles, attention_mask=(smiles!=30)).last_hidden_state\n",
        "    pos_image = self.pos1(torch.arange(13*13).to(device))\n",
        "    m_i = self.modal(torch.zeros(image_embedding.shape[1], dtype=torch.int32).to(device))\n",
        "    image_embedding = image_embedding + pos_image + m_i\n",
        "    pos_txt = self.pos2(torch.arange(smiles_embedding.shape[1]).to(device))\n",
        "    m_t = self.modal(torch.ones(smiles_embedding.shape[1], dtype=torch.int32).to(device))\n",
        "    smiles_embedding = smiles_embedding + pos_txt + m_t\n",
        "    seq = torch.cat([self.i_begin(torch.tensor(0).to(device)).unsqueeze(0).unsqueeze(0).repeat(image.shape[0],1,1), image_embedding, self.i_begin(torch.tensor(0).to(device)).unsqueeze(0).unsqueeze(0).repeat(image.shape[0],1,1), smiles_embedding], dim=1)\n",
        "    src_mask = torch.cat([torch.ones(image.shape[0], image_embedding.shape[1]+2).to(device),(smiles!=30)], dim=-1)\n",
        "    for i in self.fusion:\n",
        "      seq = i(seq, src_key_padding_mask =src_mask) #src_mask should be the key mask duzikuneyunedkoukekun\n",
        "    return self.head(seq[:,image_embedding.shape[1]+2:,:])\n",
        "# CL(512)(torch.rand(2, 3, 400, 400), torch.zeros(2,128, dtype=torch.int32))"
      ],
      "metadata": {
        "id": "eE41myMyfKzX"
      },
      "execution_count": 11,
      "outputs": []
    },
    {
      "cell_type": "code",
      "source": [
        "reversed_mapping[29] = \"\"\n",
        "reversed_mapping[30] = \"\""
      ],
      "metadata": {
        "id": "XGu1I4aHwC8S"
      },
      "execution_count": 12,
      "outputs": []
    },
    {
      "cell_type": "code",
      "source": [
        "import random\n",
        "model = CL(max([len(i) for i in smiles_arr])).to(device)\n",
        "optimizer = torch.optim.AdamW(model.parameters(), lr=0.0003)\n",
        "\n",
        "scheduler = torch.optim.lr_scheduler.ExponentialLR(optimizer, gamma=0.99987)\n",
        "L = torch.nn.CrossEntropyLoss(reduction=\"none\")\n",
        "\n",
        "n = 4\n",
        "losses = []\n",
        "for EPOCH in range(30):\n",
        "  for i in range(0, len(smiles_arr), n):\n",
        "    images_list = []\n",
        "    smiles_list = []\n",
        "    masked_smiles_list = []\n",
        "    maxlen = 0\n",
        "    for j in range(n):\n",
        "        image = deepsmiles_to_img(\"\".join([reversed_mapping[_] for _ in smiles_arr[i+j]]))\n",
        "        image = torch.tensor(image).permute(2,0,1)\n",
        "        images_list.append(image)\n",
        "        smiles_list.append(smiles_arr[i+j])\n",
        "        masked_smiles_list.append(smiles_arr[i+j][:])\n",
        "        masked_smiles_list[-1][random.randint(0, len(masked_smiles_list))] = 31\n",
        "        masked_smiles_list[-1][random.randint(0, len(masked_smiles_list))] = 31\n",
        "        masked_smiles_list[-1][random.randint(0, len(masked_smiles_list))] = 31\n",
        "        maxlen = max(maxlen, len(smiles_arr[i+j]))\n",
        "\n",
        "    for j in range(n):\n",
        "      smiles_list[j] += [30] * (maxlen - len(smiles_list[j]))\n",
        "      masked_smiles_list[j] += [30] * (maxlen - len(masked_smiles_list[j]))\n",
        "\n",
        "    images_list = torch.stack(images_list).to(torch.float32)\n",
        "    smiles_list = torch.tensor(smiles_list, dtype=torch.int32).to(device)\n",
        "    masked_smiles_list = torch.tensor(masked_smiles_list, dtype=torch.int32).to(device)\n",
        "\n",
        "    optimizer.zero_grad()\n",
        "    logits = model(images_list.to(device), masked_smiles_list.to(device)).permute(0,2,1)\n",
        "    # print(logits.shape, smiles_list.shape)\n",
        "    loss = torch.mean(L(logits, smiles_list.to(torch.int64))*(masked_smiles_list==31))\n",
        "    loss.backward()\n",
        "    optimizer.step()\n",
        "    losses.append(loss.detach().cpu().item())\n",
        "    # print(i)\n",
        "    if i%500 == 0:\n",
        "      pylab.plot(losses)\n",
        "      pylab.show()"
      ],
      "metadata": {
        "colab": {
          "base_uri": "https://localhost:8080/",
          "height": 430
        },
        "id": "BmA7hk-dpFr4",
        "outputId": "8ab1eb63-a248-4f14-9c31-09ebc0e9e569"
      },
      "execution_count": null,
      "outputs": [
        {
          "output_type": "display_data",
          "data": {
            "text/plain": [
              "<Figure size 640x480 with 1 Axes>"
            ],
            "image/png": "[encoded data removed]"
          },
          "metadata": {}
        }
      ]
    },
    {
      "cell_type": "code",
      "source": [
        "logits.shape"
      ],
      "metadata": {
        "colab": {
          "base_uri": "https://localhost:8080/"
        },
        "id": "zLr9c00V6Bh6",
        "outputId": "3c3e7660-cb9f-4856-a95a-303df7976d96"
      },
      "execution_count": 23,
      "outputs": [
        {
          "output_type": "execute_result",
          "data": {
            "text/plain": [
              "torch.Size([4, 21, 30])"
            ]
          },
          "metadata": {},
          "execution_count": 23
        }
      ]
    },
    {
      "cell_type": "code",
      "source": [
        "(masked_smiles_list==31).repeat(1,1,30)"
      ],
      "metadata": {
        "colab": {
          "base_uri": "https://localhost:8080/"
        },
        "id": "xWGo84HO50t3",
        "outputId": "792b0746-ff31-4885-ea2a-43b1f8429a6a"
      },
      "execution_count": 19,
      "outputs": [
        {
          "output_type": "execute_result",
          "data": {
            "text/plain": [
              "tensor([[[ True,  True, False,  ..., False, False, False],\n",
              "         [False,  True,  True,  ..., False, False, False],\n",
              "         [ True,  True, False,  ..., False, False, False],\n",
              "         [ True,  True, False,  ..., False, False, False]]])"
            ]
          },
          "metadata": {},
          "execution_count": 19
        }
      ]
    },
    {
      "cell_type": "code",
      "source": [
        "smiles_list"
      ],
      "metadata": {
        "colab": {
          "base_uri": "https://localhost:8080/"
        },
        "id": "SvcEs0pr5WPa",
        "outputId": "f9ea3574-1154-45c1-e8aa-9c0c1cc8ef16"
      },
      "execution_count": 15,
      "outputs": [
        {
          "output_type": "execute_result",
          "data": {
            "text/plain": [
              "tensor([[14, 19, 14, 14, 19, 14, 14, 19, 14,  6, 13, 13,  3, 14, 14, 14, 14, 19,\n",
              "          4, 13,  4],\n",
              "        [14, 14, 14, 14, 14, 14,  4,  6, 13, 14,  4, 13, 13, 13,  4, 13, 13,  4,\n",
              "         13, 13,  4],\n",
              "        [14, 14, 19,  4, 13, 14,  4, 14, 10, 19,  4, 30, 30, 30, 30, 30, 30, 30,\n",
              "         30, 30, 30],\n",
              "        [14, 14,  4, 14, 14, 10, 14, 22, 13, 13, 14, 22, 30, 30, 30, 30, 30, 30,\n",
              "         30, 30, 30]], device='cuda:0', dtype=torch.int32)"
            ]
          },
          "metadata": {},
          "execution_count": 15
        }
      ]
    },
    {
      "cell_type": "code",
      "source": [
        "masked_smiles_list==31"
      ],
      "metadata": {
        "id": "xTRj5X3941cJ"
      },
      "execution_count": null,
      "outputs": []
    },
    {
      "cell_type": "code",
      "source": [
        "torch.nn.functional.binary_cross_entropy_with_logits(torch.tensor([0.1,0.2,0.3,0.4]), torch.tensor([1.0,1,1,1]))"
      ],
      "metadata": {
        "id": "B4RIb6H9xVu8"
      },
      "execution_count": null,
      "outputs": []
    }
  ]
}